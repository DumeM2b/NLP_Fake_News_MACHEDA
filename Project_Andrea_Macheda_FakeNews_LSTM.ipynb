{
 "cells": [
  {
   "cell_type": "markdown",
   "metadata": {},
   "source": [
    "# Rapport sur le Projet de Détection de Fake news Andrea MACHEDA\n",
    "\n",
    "Ce notebook présente un projet de détection de fake news en utilisant des techniques de traitement automatique du langage naturel (NLP).\n",
    "\n",
    "Le projet suit généralement les étapes suivantes :\n",
    "1. **Chargement et exploration des données** : chargement du jeu de données et analyse préliminaire.\n",
    "2. **Prétraitement des données** : préparation des données textuelles pour une analyse efficace.\n",
    "3. **Vectorisation et transformation** : conversion des données textuelles en vecteurs numériques pour les modèles.\n",
    "4. **Modélisation et évaluation** : entraînement de modèles de classification et évaluation des performances.\n"
   ]
  },
  {
   "cell_type": "markdown",
   "metadata": {},
   "source": [
    "### Chargement des données de Fake News\n",
    "\n",
    "Cette cellule charge les fichiers CSV contenant des articles classés comme faux ou vrais, puis en vérifie la structure.\n",
    "\n",
    "#### Détails des étapes :\n",
    "1. **Importation des bibliothèques** :\n",
    "   - `pandas` est importé pour la manipulation et l’analyse de données sous forme de tableaux.\n",
    "\n",
    "2. **Chargement des fichiers** :\n",
    "   - Les chemins des fichiers CSV `Fake.csv` et `True.csv` sont définis pour les articles classifiés comme faux ou vrais.\n",
    "   - Les fichiers sont ensuite chargés dans des DataFrames `fake_news_df` et `real_news_df`.\n",
    "\n",
    "3. **Inspection des données** :\n",
    "   - Les premières lignes de chaque DataFrame sont affichées pour vérifier la structure du contenu.\n",
    "   - La taille des jeux de données est vérifiée avec `.shape` pour observer la répartition entre articles faux et vrais."
   ]
  },
  {
   "cell_type": "code",
   "execution_count": 97,
   "metadata": {},
   "outputs": [
    {
     "name": "stdout",
     "output_type": "stream",
     "text": [
      "Requirement already satisfied: pandas in c:\\users\\deded\\documents\\inge3\\nlp\\project\\envfakenews\\lib\\site-packages (2.2.3)\n",
      "Requirement already satisfied: numpy>=1.22.4 in c:\\users\\deded\\documents\\inge3\\nlp\\project\\envfakenews\\lib\\site-packages (from pandas) (1.26.4)\n",
      "Requirement already satisfied: python-dateutil>=2.8.2 in c:\\users\\deded\\documents\\inge3\\nlp\\project\\envfakenews\\lib\\site-packages (from pandas) (2.9.0.post0)\n",
      "Requirement already satisfied: tzdata>=2022.7 in c:\\users\\deded\\documents\\inge3\\nlp\\project\\envfakenews\\lib\\site-packages (from pandas) (2024.2)\n",
      "Requirement already satisfied: pytz>=2020.1 in c:\\users\\deded\\documents\\inge3\\nlp\\project\\envfakenews\\lib\\site-packages (from pandas) (2024.2)\n",
      "Requirement already satisfied: six>=1.5 in c:\\users\\deded\\documents\\inge3\\nlp\\project\\envfakenews\\lib\\site-packages (from python-dateutil>=2.8.2->pandas) (1.16.0)\n"
     ]
    }
   ],
   "source": [
    "!pip install pandas"
   ]
  },
  {
   "cell_type": "code",
   "execution_count": 2,
   "metadata": {},
   "outputs": [
    {
     "data": {
      "text/plain": [
       "(                                               title  \\\n",
       " 0   Donald Trump Sends Out Embarrassing New Year’...   \n",
       " 1   Drunk Bragging Trump Staffer Started Russian ...   \n",
       " 2   Sheriff David Clarke Becomes An Internet Joke...   \n",
       " 3   Trump Is So Obsessed He Even Has Obama’s Name...   \n",
       " 4   Pope Francis Just Called Out Donald Trump Dur...   \n",
       " \n",
       "                                                 text subject  \\\n",
       " 0  Donald Trump just couldn t wish all Americans ...    News   \n",
       " 1  House Intelligence Committee Chairman Devin Nu...    News   \n",
       " 2  On Friday, it was revealed that former Milwauk...    News   \n",
       " 3  On Christmas day, Donald Trump announced that ...    News   \n",
       " 4  Pope Francis used his annual Christmas Day mes...    News   \n",
       " \n",
       "                 date  \n",
       " 0  December 31, 2017  \n",
       " 1  December 31, 2017  \n",
       " 2  December 30, 2017  \n",
       " 3  December 29, 2017  \n",
       " 4  December 25, 2017  ,\n",
       "                                                title  \\\n",
       " 0  As U.S. budget fight looms, Republicans flip t...   \n",
       " 1  U.S. military to accept transgender recruits o...   \n",
       " 2  Senior U.S. Republican senator: 'Let Mr. Muell...   \n",
       " 3  FBI Russia probe helped by Australian diplomat...   \n",
       " 4  Trump wants Postal Service to charge 'much mor...   \n",
       " \n",
       "                                                 text       subject  \\\n",
       " 0  WASHINGTON (Reuters) - The head of a conservat...  politicsNews   \n",
       " 1  WASHINGTON (Reuters) - Transgender people will...  politicsNews   \n",
       " 2  WASHINGTON (Reuters) - The special counsel inv...  politicsNews   \n",
       " 3  WASHINGTON (Reuters) - Trump campaign adviser ...  politicsNews   \n",
       " 4  SEATTLE/WASHINGTON (Reuters) - President Donal...  politicsNews   \n",
       " \n",
       "                  date  \n",
       " 0  December 31, 2017   \n",
       " 1  December 29, 2017   \n",
       " 2  December 31, 2017   \n",
       " 3  December 30, 2017   \n",
       " 4  December 29, 2017   ,\n",
       " (23481, 4),\n",
       " (21417, 4))"
      ]
     },
     "execution_count": 2,
     "metadata": {},
     "output_type": "execute_result"
    }
   ],
   "source": [
    "import pandas as pd\n",
    "\n",
    "# Charger les fichiers CSV\n",
    "fake_news_path = \"Fake.csv\"\n",
    "real_news_path = \"True.csv\"\n",
    "\n",
    "# Lire les deux fichiers\n",
    "fake_news_df = pd.read_csv(fake_news_path)\n",
    "real_news_df = pd.read_csv(real_news_path)\n",
    "\n",
    "# Afficher les premières lignes des deux fichiers pour inspecter la structure\n",
    "fake_news_df_head = fake_news_df.head()\n",
    "real_news_df_head = real_news_df.head()\n",
    "\n",
    "# Vérifier la taille des datasets\n",
    "fake_news_size = fake_news_df.shape\n",
    "real_news_size = real_news_df.shape\n",
    "\n",
    "fake_news_df_head, real_news_df_head, fake_news_size, real_news_size"
   ]
  },
  {
   "cell_type": "markdown",
   "metadata": {},
   "source": [
    "### Ajout de labels et fusion des datasets\n",
    "\n",
    "Cette cellule étiquette les articles selon leur véracité et combine les datasets.\n",
    "\n",
    "#### Détails des étapes :\n",
    "1. **Étiquetage des articles** :\n",
    "   - Une colonne `label` est ajoutée à chaque DataFrame : `0` pour les faux articles, `1` pour les vrais.\n",
    "\n",
    "2. **Fusion des datasets** :\n",
    "   - Les deux DataFrames sont fusionnés en un seul, `combined_news_df`, pour simplifier l’analyse.\n",
    "\n",
    "3. **Vérification de la fusion** :\n",
    "   - Un aperçu des premières lignes du DataFrame fusionné permet de confirmer que les labels et les données sont correctement intégrés.\n"
   ]
  },
  {
   "cell_type": "code",
   "execution_count": 3,
   "metadata": {},
   "outputs": [
    {
     "data": {
      "text/html": [
       "<div>\n",
       "<style scoped>\n",
       "    .dataframe tbody tr th:only-of-type {\n",
       "        vertical-align: middle;\n",
       "    }\n",
       "\n",
       "    .dataframe tbody tr th {\n",
       "        vertical-align: top;\n",
       "    }\n",
       "\n",
       "    .dataframe thead th {\n",
       "        text-align: right;\n",
       "    }\n",
       "</style>\n",
       "<table border=\"1\" class=\"dataframe\">\n",
       "  <thead>\n",
       "    <tr style=\"text-align: right;\">\n",
       "      <th></th>\n",
       "      <th>title</th>\n",
       "      <th>text</th>\n",
       "      <th>subject</th>\n",
       "      <th>date</th>\n",
       "      <th>label</th>\n",
       "    </tr>\n",
       "  </thead>\n",
       "  <tbody>\n",
       "    <tr>\n",
       "      <th>0</th>\n",
       "      <td>Donald Trump Sends Out Embarrassing New Year’...</td>\n",
       "      <td>Donald Trump just couldn t wish all Americans ...</td>\n",
       "      <td>News</td>\n",
       "      <td>December 31, 2017</td>\n",
       "      <td>0</td>\n",
       "    </tr>\n",
       "    <tr>\n",
       "      <th>1</th>\n",
       "      <td>Drunk Bragging Trump Staffer Started Russian ...</td>\n",
       "      <td>House Intelligence Committee Chairman Devin Nu...</td>\n",
       "      <td>News</td>\n",
       "      <td>December 31, 2017</td>\n",
       "      <td>0</td>\n",
       "    </tr>\n",
       "    <tr>\n",
       "      <th>2</th>\n",
       "      <td>Sheriff David Clarke Becomes An Internet Joke...</td>\n",
       "      <td>On Friday, it was revealed that former Milwauk...</td>\n",
       "      <td>News</td>\n",
       "      <td>December 30, 2017</td>\n",
       "      <td>0</td>\n",
       "    </tr>\n",
       "    <tr>\n",
       "      <th>3</th>\n",
       "      <td>Trump Is So Obsessed He Even Has Obama’s Name...</td>\n",
       "      <td>On Christmas day, Donald Trump announced that ...</td>\n",
       "      <td>News</td>\n",
       "      <td>December 29, 2017</td>\n",
       "      <td>0</td>\n",
       "    </tr>\n",
       "    <tr>\n",
       "      <th>4</th>\n",
       "      <td>Pope Francis Just Called Out Donald Trump Dur...</td>\n",
       "      <td>Pope Francis used his annual Christmas Day mes...</td>\n",
       "      <td>News</td>\n",
       "      <td>December 25, 2017</td>\n",
       "      <td>0</td>\n",
       "    </tr>\n",
       "    <tr>\n",
       "      <th>...</th>\n",
       "      <td>...</td>\n",
       "      <td>...</td>\n",
       "      <td>...</td>\n",
       "      <td>...</td>\n",
       "      <td>...</td>\n",
       "    </tr>\n",
       "    <tr>\n",
       "      <th>44892</th>\n",
       "      <td>North Korea shipments to Syria chemical arms a...</td>\n",
       "      <td>UNITED NATIONS (Reuters) - Two North Korean sh...</td>\n",
       "      <td>worldnews</td>\n",
       "      <td>August 21, 2017</td>\n",
       "      <td>1</td>\n",
       "    </tr>\n",
       "    <tr>\n",
       "      <th>44893</th>\n",
       "      <td>'Fully committed' NATO backs new U.S. approach...</td>\n",
       "      <td>BRUSSELS (Reuters) - NATO allies on Tuesday we...</td>\n",
       "      <td>worldnews</td>\n",
       "      <td>August 22, 2017</td>\n",
       "      <td>1</td>\n",
       "    </tr>\n",
       "    <tr>\n",
       "      <th>44894</th>\n",
       "      <td>LexisNexis withdrew two products from Chinese ...</td>\n",
       "      <td>LONDON (Reuters) - LexisNexis, a provider of l...</td>\n",
       "      <td>worldnews</td>\n",
       "      <td>August 22, 2017</td>\n",
       "      <td>1</td>\n",
       "    </tr>\n",
       "    <tr>\n",
       "      <th>44895</th>\n",
       "      <td>Minsk cultural hub becomes haven from authorities</td>\n",
       "      <td>MINSK (Reuters) - In the shadow of disused Sov...</td>\n",
       "      <td>worldnews</td>\n",
       "      <td>August 22, 2017</td>\n",
       "      <td>1</td>\n",
       "    </tr>\n",
       "    <tr>\n",
       "      <th>44896</th>\n",
       "      <td>Vatican upbeat on possibility of Pope Francis ...</td>\n",
       "      <td>MOSCOW (Reuters) - Vatican Secretary of State ...</td>\n",
       "      <td>worldnews</td>\n",
       "      <td>August 22, 2017</td>\n",
       "      <td>1</td>\n",
       "    </tr>\n",
       "  </tbody>\n",
       "</table>\n",
       "<p>44897 rows × 5 columns</p>\n",
       "</div>"
      ],
      "text/plain": [
       "                                                   title  \\\n",
       "0       Donald Trump Sends Out Embarrassing New Year’...   \n",
       "1       Drunk Bragging Trump Staffer Started Russian ...   \n",
       "2       Sheriff David Clarke Becomes An Internet Joke...   \n",
       "3       Trump Is So Obsessed He Even Has Obama’s Name...   \n",
       "4       Pope Francis Just Called Out Donald Trump Dur...   \n",
       "...                                                  ...   \n",
       "44892  North Korea shipments to Syria chemical arms a...   \n",
       "44893  'Fully committed' NATO backs new U.S. approach...   \n",
       "44894  LexisNexis withdrew two products from Chinese ...   \n",
       "44895  Minsk cultural hub becomes haven from authorities   \n",
       "44896  Vatican upbeat on possibility of Pope Francis ...   \n",
       "\n",
       "                                                    text    subject  \\\n",
       "0      Donald Trump just couldn t wish all Americans ...       News   \n",
       "1      House Intelligence Committee Chairman Devin Nu...       News   \n",
       "2      On Friday, it was revealed that former Milwauk...       News   \n",
       "3      On Christmas day, Donald Trump announced that ...       News   \n",
       "4      Pope Francis used his annual Christmas Day mes...       News   \n",
       "...                                                  ...        ...   \n",
       "44892  UNITED NATIONS (Reuters) - Two North Korean sh...  worldnews   \n",
       "44893  BRUSSELS (Reuters) - NATO allies on Tuesday we...  worldnews   \n",
       "44894  LONDON (Reuters) - LexisNexis, a provider of l...  worldnews   \n",
       "44895  MINSK (Reuters) - In the shadow of disused Sov...  worldnews   \n",
       "44896  MOSCOW (Reuters) - Vatican Secretary of State ...  worldnews   \n",
       "\n",
       "                    date  label  \n",
       "0      December 31, 2017      0  \n",
       "1      December 31, 2017      0  \n",
       "2      December 30, 2017      0  \n",
       "3      December 29, 2017      0  \n",
       "4      December 25, 2017      0  \n",
       "...                  ...    ...  \n",
       "44892   August 21, 2017       1  \n",
       "44893   August 22, 2017       1  \n",
       "44894   August 22, 2017       1  \n",
       "44895   August 22, 2017       1  \n",
       "44896   August 22, 2017       1  \n",
       "\n",
       "[44897 rows x 5 columns]"
      ]
     },
     "execution_count": 3,
     "metadata": {},
     "output_type": "execute_result"
    }
   ],
   "source": [
    "# Ajouter une colonne \"label\" à chaque dataset\n",
    "fake_news_df['label'] = 0  # Faux articles\n",
    "real_news_df['label'] = 1  # Vrais articles\n",
    "\n",
    "# Fusionner les deux datasets\n",
    "combined_news_df = pd.concat([fake_news_df, real_news_df], ignore_index=True)\n",
    "\n",
    "# Afficher quelques lignes du dataset combiné pour vérifier\n",
    "combined_news_df.head(-1)"
   ]
  },
  {
   "cell_type": "markdown",
   "metadata": {},
   "source": [
    "### Nettoyage et préparation du texte\n",
    "\n",
    "Cette cellule met en place une fonction pour nettoyer le texte, étape clé du prétraitement avant la modélisation.\n",
    "\n",
    "#### Détails des étapes :\n",
    "1. **Importation des modules nécessaires** :\n",
    "   - `nltk` est utilisé pour la tokenisation et la suppression des mots communs (stopwords).\n",
    "\n",
    "2. **Chargement des stopwords** :\n",
    "   - Les stopwords anglais sont téléchargés et chargés dans `stop_words` pour retirer les mots peu informatifs du texte.\n",
    "\n",
    "3. **Définition de `clean_text`** :\n",
    "   - La fonction nettoie chaque texte : met en minuscules, tokenise, et retire les stopwords et la ponctuation.\n",
    "\n",
    "4. **Application du nettoyage** :\n",
    "   - `clean_text` est appliquée à chaque article, avec le texte nettoyé stocké dans une nouvelle colonne `clean_text`.\n",
    "\n",
    "5. **Affichage d'un exemple** :\n",
    "   - Un texte est affiché avant et après nettoyage pour voir l’effet de la transformation."
   ]
  },
  {
   "cell_type": "code",
   "execution_count": 100,
   "metadata": {},
   "outputs": [
    {
     "name": "stdout",
     "output_type": "stream",
     "text": [
      "Requirement already satisfied: nltk in c:\\users\\deded\\documents\\inge3\\nlp\\project\\envfakenews\\lib\\site-packages (3.9.1)\n",
      "Requirement already satisfied: click in c:\\users\\deded\\documents\\inge3\\nlp\\project\\envfakenews\\lib\\site-packages (from nltk) (8.1.7)\n",
      "Requirement already satisfied: tqdm in c:\\users\\deded\\documents\\inge3\\nlp\\project\\envfakenews\\lib\\site-packages (from nltk) (4.66.5)\n",
      "Requirement already satisfied: joblib in c:\\users\\deded\\documents\\inge3\\nlp\\project\\envfakenews\\lib\\site-packages (from nltk) (1.4.2)\n",
      "Requirement already satisfied: regex>=2021.8.3 in c:\\users\\deded\\documents\\inge3\\nlp\\project\\envfakenews\\lib\\site-packages (from nltk) (2024.9.11)\n",
      "Requirement already satisfied: colorama in c:\\users\\deded\\documents\\inge3\\nlp\\project\\envfakenews\\lib\\site-packages (from click->nltk) (0.4.6)\n"
     ]
    }
   ],
   "source": [
    "!pip install nltk --upgrade"
   ]
  },
  {
   "cell_type": "code",
   "execution_count": 4,
   "metadata": {},
   "outputs": [
    {
     "name": "stderr",
     "output_type": "stream",
     "text": [
      "[nltk_data] Downloading package punkt to\n",
      "[nltk_data]     C:\\Users\\deded\\AppData\\Roaming\\nltk_data...\n",
      "[nltk_data]   Package punkt is already up-to-date!\n",
      "[nltk_data] Downloading package stopwords to\n",
      "[nltk_data]     C:\\Users\\deded\\AppData\\Roaming\\nltk_data...\n",
      "[nltk_data]   Package stopwords is already up-to-date!\n"
     ]
    },
    {
     "data": {
      "text/plain": [
       "('Donald Trump just couldn t wish all Americans a Happy New Year and leave it at that. Instead, he had to give a shout out to his enemies, haters and  the very dishonest fake news media.  The former reality show star had just one job to do and he couldn t do it. As our Country rapidly grows stronger and smarter, I want to wish all of my friends, supporters, enemies, haters, and even the very dishonest Fake News Media, a Happy and Healthy New Year,  President Angry Pants tweeted.  2018 will be a great year for America! As our Country rapidly grows stronger and smarter, I want to wish all of my friends, supporters, enemies, haters, and even the very dishonest Fake News Media, a Happy and Healthy New Year. 2018 will be a great year for America!  Donald J. Trump (@realDonaldTrump) December 31, 2017Trump s tweet went down about as welll as you d expect.What kind of president sends a New Year s greeting like this despicable, petty, infantile gibberish? Only Trump! His lack of decency won t even allow him to rise above the gutter long enough to wish the American citizens a happy new year!  Bishop Talbert Swan (@TalbertSwan) December 31, 2017no one likes you  Calvin (@calvinstowell) December 31, 2017Your impeachment would make 2018 a great year for America, but I ll also accept regaining control of Congress.  Miranda Yaver (@mirandayaver) December 31, 2017Do you hear yourself talk? When you have to include that many people that hate you you have to wonder? Why do the they all hate me?  Alan Sandoval (@AlanSandoval13) December 31, 2017Who uses the word Haters in a New Years wish??  Marlene (@marlene399) December 31, 2017You can t just say happy new year?  Koren pollitt (@Korencarpenter) December 31, 2017Here s Trump s New Year s Eve tweet from 2016.Happy New Year to all, including to my many enemies and those who have fought me and lost so badly they just don t know what to do. Love!  Donald J. Trump (@realDonaldTrump) December 31, 2016This is nothing new for Trump. He s been doing this for years.Trump has directed messages to his  enemies  and  haters  for New Year s, Easter, Thanksgiving, and the anniversary of 9/11. pic.twitter.com/4FPAe2KypA  Daniel Dale (@ddale8) December 31, 2017Trump s holiday tweets are clearly not presidential.How long did he work at Hallmark before becoming President?  Steven Goodine (@SGoodine) December 31, 2017He s always been like this . . . the only difference is that in the last few years, his filter has been breaking down.  Roy Schulze (@thbthttt) December 31, 2017Who, apart from a teenager uses the term haters?  Wendy (@WendyWhistles) December 31, 2017he s a fucking 5 year old  Who Knows (@rainyday80) December 31, 2017So, to all the people who voted for this a hole thinking he would change once he got into power, you were wrong! 70-year-old men don t change and now he s a year older.Photo by Andrew Burton/Getty Images.',\n",
       " ['donald',\n",
       "  'trump',\n",
       "  'wish',\n",
       "  'americans',\n",
       "  'happy',\n",
       "  'new',\n",
       "  'year',\n",
       "  'leave',\n",
       "  'instead',\n",
       "  'give',\n",
       "  'shout',\n",
       "  'enemies',\n",
       "  'haters',\n",
       "  'dishonest',\n",
       "  'fake',\n",
       "  'news',\n",
       "  'media',\n",
       "  'former',\n",
       "  'reality',\n",
       "  'show',\n",
       "  'star',\n",
       "  'one',\n",
       "  'job',\n",
       "  'country',\n",
       "  'rapidly',\n",
       "  'grows',\n",
       "  'stronger',\n",
       "  'smarter',\n",
       "  'want',\n",
       "  'wish',\n",
       "  'friends',\n",
       "  'supporters',\n",
       "  'enemies',\n",
       "  'haters',\n",
       "  'even',\n",
       "  'dishonest',\n",
       "  'fake',\n",
       "  'news',\n",
       "  'media',\n",
       "  'happy',\n",
       "  'healthy',\n",
       "  'new',\n",
       "  'year',\n",
       "  'president',\n",
       "  'angry',\n",
       "  'pants',\n",
       "  'tweeted',\n",
       "  '2018',\n",
       "  'great',\n",
       "  'year',\n",
       "  'america',\n",
       "  'country',\n",
       "  'rapidly',\n",
       "  'grows',\n",
       "  'stronger',\n",
       "  'smarter',\n",
       "  'want',\n",
       "  'wish',\n",
       "  'friends',\n",
       "  'supporters',\n",
       "  'enemies',\n",
       "  'haters',\n",
       "  'even',\n",
       "  'dishonest',\n",
       "  'fake',\n",
       "  'news',\n",
       "  'media',\n",
       "  'happy',\n",
       "  'healthy',\n",
       "  'new',\n",
       "  'year',\n",
       "  '2018',\n",
       "  'great',\n",
       "  'year',\n",
       "  'america',\n",
       "  'donald',\n",
       "  'j',\n",
       "  'trump',\n",
       "  '@realdonaldtrump',\n",
       "  'december',\n",
       "  '31',\n",
       "  '2017trump',\n",
       "  'tweet',\n",
       "  'went',\n",
       "  'welll',\n",
       "  'expect.what',\n",
       "  'kind',\n",
       "  'president',\n",
       "  'sends',\n",
       "  'new',\n",
       "  'year',\n",
       "  'greeting',\n",
       "  'like',\n",
       "  'despicable',\n",
       "  'petty',\n",
       "  'infantile',\n",
       "  'gibberish',\n",
       "  'trump',\n",
       "  'lack',\n",
       "  'decency',\n",
       "  'even',\n",
       "  'allow',\n",
       "  'rise',\n",
       "  'gutter',\n",
       "  'long',\n",
       "  'enough',\n",
       "  'wish',\n",
       "  'american',\n",
       "  'citizens',\n",
       "  'happy',\n",
       "  'new',\n",
       "  'year',\n",
       "  'bishop',\n",
       "  'talbert',\n",
       "  'swan',\n",
       "  '@talbertswan',\n",
       "  'december',\n",
       "  '31',\n",
       "  '2017no',\n",
       "  'one',\n",
       "  'likes',\n",
       "  'calvin',\n",
       "  '@calvinstowell',\n",
       "  'december',\n",
       "  '31',\n",
       "  '2017your',\n",
       "  'impeachment',\n",
       "  'would',\n",
       "  'make',\n",
       "  '2018',\n",
       "  'great',\n",
       "  'year',\n",
       "  'america',\n",
       "  'also',\n",
       "  'accept',\n",
       "  'regaining',\n",
       "  'control',\n",
       "  'congress',\n",
       "  'miranda',\n",
       "  'yaver',\n",
       "  '@mirandayaver',\n",
       "  'december',\n",
       "  '31',\n",
       "  '2017do',\n",
       "  'hear',\n",
       "  'talk',\n",
       "  'include',\n",
       "  'many',\n",
       "  'people',\n",
       "  'hate',\n",
       "  'wonder',\n",
       "  'hate',\n",
       "  'alan',\n",
       "  'sandoval',\n",
       "  '@alansandoval13',\n",
       "  'december',\n",
       "  '31',\n",
       "  '2017who',\n",
       "  'uses',\n",
       "  'word',\n",
       "  'haters',\n",
       "  'new',\n",
       "  'years',\n",
       "  'wish',\n",
       "  'marlene',\n",
       "  '@marlene399',\n",
       "  'december',\n",
       "  '31',\n",
       "  '2017you',\n",
       "  'say',\n",
       "  'happy',\n",
       "  'new',\n",
       "  'year',\n",
       "  'koren',\n",
       "  'pollitt',\n",
       "  '@korencarpenter',\n",
       "  'december',\n",
       "  '31',\n",
       "  '2017here',\n",
       "  'trump',\n",
       "  'new',\n",
       "  'year',\n",
       "  'eve',\n",
       "  'tweet',\n",
       "  '2016.happy',\n",
       "  'new',\n",
       "  'year',\n",
       "  'including',\n",
       "  'many',\n",
       "  'enemies',\n",
       "  'fought',\n",
       "  'lost',\n",
       "  'badly',\n",
       "  'know',\n",
       "  'love',\n",
       "  'donald',\n",
       "  'j',\n",
       "  'trump',\n",
       "  '@realdonaldtrump',\n",
       "  'december',\n",
       "  '31',\n",
       "  '2016this',\n",
       "  'nothing',\n",
       "  'new',\n",
       "  'trump',\n",
       "  'years.trump',\n",
       "  'directed',\n",
       "  'messages',\n",
       "  'enemies',\n",
       "  'haters',\n",
       "  'new',\n",
       "  'year',\n",
       "  'easter',\n",
       "  'thanksgiving',\n",
       "  'anniversary',\n",
       "  '9/11',\n",
       "  'pic.twitter.com/4fpae2kypa',\n",
       "  'daniel',\n",
       "  'dale',\n",
       "  '@ddale8',\n",
       "  'december',\n",
       "  '31',\n",
       "  '2017trump',\n",
       "  'holiday',\n",
       "  'tweets',\n",
       "  'clearly',\n",
       "  'presidential.how',\n",
       "  'long',\n",
       "  'work',\n",
       "  'hallmark',\n",
       "  'becoming',\n",
       "  'president',\n",
       "  'steven',\n",
       "  'goodine',\n",
       "  '@sgoodine',\n",
       "  'december',\n",
       "  '31',\n",
       "  '2017he',\n",
       "  'always',\n",
       "  'like',\n",
       "  '. . .',\n",
       "  'difference',\n",
       "  'last',\n",
       "  'years',\n",
       "  'filter',\n",
       "  'breaking',\n",
       "  'roy',\n",
       "  'schulze',\n",
       "  '@thbthttt',\n",
       "  'december',\n",
       "  '31',\n",
       "  '2017who',\n",
       "  'apart',\n",
       "  'teenager',\n",
       "  'uses',\n",
       "  'term',\n",
       "  'haters',\n",
       "  'wendy',\n",
       "  '@wendywhistles',\n",
       "  'december',\n",
       "  '31',\n",
       "  '2017he',\n",
       "  'fucking',\n",
       "  '5',\n",
       "  'year',\n",
       "  'old',\n",
       "  'knows',\n",
       "  '@rainyday80',\n",
       "  'december',\n",
       "  '31',\n",
       "  '2017so',\n",
       "  'people',\n",
       "  'voted',\n",
       "  'hole',\n",
       "  'thinking',\n",
       "  'would',\n",
       "  'change',\n",
       "  'got',\n",
       "  'power',\n",
       "  'wrong',\n",
       "  '70',\n",
       "  'year-old',\n",
       "  'men',\n",
       "  'change',\n",
       "  'year',\n",
       "  'older.photo',\n",
       "  'andrew',\n",
       "  'burton',\n",
       "  'getty',\n",
       "  'images'])"
      ]
     },
     "execution_count": 4,
     "metadata": {},
     "output_type": "execute_result"
    }
   ],
   "source": [
    "import nltk\n",
    "from nltk.corpus import stopwords\n",
    "from nltk.tokenize import TweetTokenizer\n",
    "import string\n",
    "\n",
    "# Télécharger les stopwords en français et anglais\n",
    "nltk.download('punkt')\n",
    "nltk.download('stopwords')\n",
    "\n",
    "# Obtenir les stopwords en anglais\n",
    "stop_words = stopwords.words('english')\n",
    "\n",
    "# Fonction de nettoyage de texte\n",
    "def clean_text(text):\n",
    "    tokenizer = TweetTokenizer()\n",
    "    text_token = tokenizer.tokenize(text.lower())\n",
    "    # Supprimer les stopwords et la ponctuation\n",
    "    text_token = [text_token for text_token in text_token if text_token not in stop_words and text_token not in string.punctuation]\n",
    "    # Rejoindre les mots nettoyés en une seule chaîne de caractères\n",
    "    return text_token\n",
    "\n",
    "# Appliquer le nettoyage du texte sur l'ensemble des articles\n",
    "combined_news_df['clean_text'] = combined_news_df['text'].apply(clean_text)\n",
    "\n",
    "# Afficher un exemple avant et après nettoyage\n",
    "example_before = combined_news_df['text'].iloc[0]\n",
    "example_after = combined_news_df['clean_text'].iloc[0]\n",
    "\n",
    "example_before, example_after\n"
   ]
  },
  {
   "cell_type": "code",
   "execution_count": 102,
   "metadata": {},
   "outputs": [
    {
     "data": {
      "text/html": [
       "<div>\n",
       "<style scoped>\n",
       "    .dataframe tbody tr th:only-of-type {\n",
       "        vertical-align: middle;\n",
       "    }\n",
       "\n",
       "    .dataframe tbody tr th {\n",
       "        vertical-align: top;\n",
       "    }\n",
       "\n",
       "    .dataframe thead th {\n",
       "        text-align: right;\n",
       "    }\n",
       "</style>\n",
       "<table border=\"1\" class=\"dataframe\">\n",
       "  <thead>\n",
       "    <tr style=\"text-align: right;\">\n",
       "      <th></th>\n",
       "      <th>title</th>\n",
       "      <th>text</th>\n",
       "      <th>subject</th>\n",
       "      <th>date</th>\n",
       "      <th>label</th>\n",
       "      <th>clean_text</th>\n",
       "    </tr>\n",
       "  </thead>\n",
       "  <tbody>\n",
       "    <tr>\n",
       "      <th>0</th>\n",
       "      <td>Donald Trump Sends Out Embarrassing New Year’...</td>\n",
       "      <td>Donald Trump just couldn t wish all Americans ...</td>\n",
       "      <td>News</td>\n",
       "      <td>December 31, 2017</td>\n",
       "      <td>0</td>\n",
       "      <td>[donald, trump, wish, americans, happy, new, y...</td>\n",
       "    </tr>\n",
       "    <tr>\n",
       "      <th>1</th>\n",
       "      <td>Drunk Bragging Trump Staffer Started Russian ...</td>\n",
       "      <td>House Intelligence Committee Chairman Devin Nu...</td>\n",
       "      <td>News</td>\n",
       "      <td>December 31, 2017</td>\n",
       "      <td>0</td>\n",
       "      <td>[house, intelligence, committee, chairman, dev...</td>\n",
       "    </tr>\n",
       "    <tr>\n",
       "      <th>2</th>\n",
       "      <td>Sheriff David Clarke Becomes An Internet Joke...</td>\n",
       "      <td>On Friday, it was revealed that former Milwauk...</td>\n",
       "      <td>News</td>\n",
       "      <td>December 30, 2017</td>\n",
       "      <td>0</td>\n",
       "      <td>[friday, revealed, former, milwaukee, sheriff,...</td>\n",
       "    </tr>\n",
       "    <tr>\n",
       "      <th>3</th>\n",
       "      <td>Trump Is So Obsessed He Even Has Obama’s Name...</td>\n",
       "      <td>On Christmas day, Donald Trump announced that ...</td>\n",
       "      <td>News</td>\n",
       "      <td>December 29, 2017</td>\n",
       "      <td>0</td>\n",
       "      <td>[christmas, day, donald, trump, announced, wou...</td>\n",
       "    </tr>\n",
       "    <tr>\n",
       "      <th>4</th>\n",
       "      <td>Pope Francis Just Called Out Donald Trump Dur...</td>\n",
       "      <td>Pope Francis used his annual Christmas Day mes...</td>\n",
       "      <td>News</td>\n",
       "      <td>December 25, 2017</td>\n",
       "      <td>0</td>\n",
       "      <td>[pope, francis, used, annual, christmas, day, ...</td>\n",
       "    </tr>\n",
       "    <tr>\n",
       "      <th>...</th>\n",
       "      <td>...</td>\n",
       "      <td>...</td>\n",
       "      <td>...</td>\n",
       "      <td>...</td>\n",
       "      <td>...</td>\n",
       "      <td>...</td>\n",
       "    </tr>\n",
       "    <tr>\n",
       "      <th>44892</th>\n",
       "      <td>North Korea shipments to Syria chemical arms a...</td>\n",
       "      <td>UNITED NATIONS (Reuters) - Two North Korean sh...</td>\n",
       "      <td>worldnews</td>\n",
       "      <td>August 21, 2017</td>\n",
       "      <td>1</td>\n",
       "      <td>[united, nations, reuters, two, north, korean,...</td>\n",
       "    </tr>\n",
       "    <tr>\n",
       "      <th>44893</th>\n",
       "      <td>'Fully committed' NATO backs new U.S. approach...</td>\n",
       "      <td>BRUSSELS (Reuters) - NATO allies on Tuesday we...</td>\n",
       "      <td>worldnews</td>\n",
       "      <td>August 22, 2017</td>\n",
       "      <td>1</td>\n",
       "      <td>[brussels, reuters, nato, allies, tuesday, wel...</td>\n",
       "    </tr>\n",
       "    <tr>\n",
       "      <th>44894</th>\n",
       "      <td>LexisNexis withdrew two products from Chinese ...</td>\n",
       "      <td>LONDON (Reuters) - LexisNexis, a provider of l...</td>\n",
       "      <td>worldnews</td>\n",
       "      <td>August 22, 2017</td>\n",
       "      <td>1</td>\n",
       "      <td>[london, reuters, lexisnexis, provider, legal,...</td>\n",
       "    </tr>\n",
       "    <tr>\n",
       "      <th>44895</th>\n",
       "      <td>Minsk cultural hub becomes haven from authorities</td>\n",
       "      <td>MINSK (Reuters) - In the shadow of disused Sov...</td>\n",
       "      <td>worldnews</td>\n",
       "      <td>August 22, 2017</td>\n",
       "      <td>1</td>\n",
       "      <td>[minsk, reuters, shadow, disused, soviet-era, ...</td>\n",
       "    </tr>\n",
       "    <tr>\n",
       "      <th>44896</th>\n",
       "      <td>Vatican upbeat on possibility of Pope Francis ...</td>\n",
       "      <td>MOSCOW (Reuters) - Vatican Secretary of State ...</td>\n",
       "      <td>worldnews</td>\n",
       "      <td>August 22, 2017</td>\n",
       "      <td>1</td>\n",
       "      <td>[moscow, reuters, vatican, secretary, state, c...</td>\n",
       "    </tr>\n",
       "  </tbody>\n",
       "</table>\n",
       "<p>44897 rows × 6 columns</p>\n",
       "</div>"
      ],
      "text/plain": [
       "                                                   title  \\\n",
       "0       Donald Trump Sends Out Embarrassing New Year’...   \n",
       "1       Drunk Bragging Trump Staffer Started Russian ...   \n",
       "2       Sheriff David Clarke Becomes An Internet Joke...   \n",
       "3       Trump Is So Obsessed He Even Has Obama’s Name...   \n",
       "4       Pope Francis Just Called Out Donald Trump Dur...   \n",
       "...                                                  ...   \n",
       "44892  North Korea shipments to Syria chemical arms a...   \n",
       "44893  'Fully committed' NATO backs new U.S. approach...   \n",
       "44894  LexisNexis withdrew two products from Chinese ...   \n",
       "44895  Minsk cultural hub becomes haven from authorities   \n",
       "44896  Vatican upbeat on possibility of Pope Francis ...   \n",
       "\n",
       "                                                    text    subject  \\\n",
       "0      Donald Trump just couldn t wish all Americans ...       News   \n",
       "1      House Intelligence Committee Chairman Devin Nu...       News   \n",
       "2      On Friday, it was revealed that former Milwauk...       News   \n",
       "3      On Christmas day, Donald Trump announced that ...       News   \n",
       "4      Pope Francis used his annual Christmas Day mes...       News   \n",
       "...                                                  ...        ...   \n",
       "44892  UNITED NATIONS (Reuters) - Two North Korean sh...  worldnews   \n",
       "44893  BRUSSELS (Reuters) - NATO allies on Tuesday we...  worldnews   \n",
       "44894  LONDON (Reuters) - LexisNexis, a provider of l...  worldnews   \n",
       "44895  MINSK (Reuters) - In the shadow of disused Sov...  worldnews   \n",
       "44896  MOSCOW (Reuters) - Vatican Secretary of State ...  worldnews   \n",
       "\n",
       "                    date  label  \\\n",
       "0      December 31, 2017      0   \n",
       "1      December 31, 2017      0   \n",
       "2      December 30, 2017      0   \n",
       "3      December 29, 2017      0   \n",
       "4      December 25, 2017      0   \n",
       "...                  ...    ...   \n",
       "44892   August 21, 2017       1   \n",
       "44893   August 22, 2017       1   \n",
       "44894   August 22, 2017       1   \n",
       "44895   August 22, 2017       1   \n",
       "44896   August 22, 2017       1   \n",
       "\n",
       "                                              clean_text  \n",
       "0      [donald, trump, wish, americans, happy, new, y...  \n",
       "1      [house, intelligence, committee, chairman, dev...  \n",
       "2      [friday, revealed, former, milwaukee, sheriff,...  \n",
       "3      [christmas, day, donald, trump, announced, wou...  \n",
       "4      [pope, francis, used, annual, christmas, day, ...  \n",
       "...                                                  ...  \n",
       "44892  [united, nations, reuters, two, north, korean,...  \n",
       "44893  [brussels, reuters, nato, allies, tuesday, wel...  \n",
       "44894  [london, reuters, lexisnexis, provider, legal,...  \n",
       "44895  [minsk, reuters, shadow, disused, soviet-era, ...  \n",
       "44896  [moscow, reuters, vatican, secretary, state, c...  \n",
       "\n",
       "[44897 rows x 6 columns]"
      ]
     },
     "execution_count": 102,
     "metadata": {},
     "output_type": "execute_result"
    }
   ],
   "source": [
    "combined_news_df.head(-1)"
   ]
  },
  {
   "cell_type": "markdown",
   "metadata": {},
   "source": [
    "### Préparation de la liste de documents\n",
    "\n",
    "Cette cellule crée une liste de tuples `(texte, label)` pour chaque article, facilitant les traitements futurs.\n",
    "\n",
    "#### Détails des étapes :\n",
    "- Un parcours de chaque ligne du DataFrame `combined_news_df` est effectué.\n",
    "- Chaque article nettoyé et son label sont ajoutés à une liste nommée `Documents`."
   ]
  },
  {
   "cell_type": "code",
   "execution_count": 5,
   "metadata": {},
   "outputs": [],
   "source": [
    "Documents = []\n",
    "for i in range(len(combined_news_df)-1):\n",
    "    Documents.append((combined_news_df['clean_text'].iloc[i],combined_news_df['label'].iloc[i]))"
   ]
  },
  {
   "cell_type": "code",
   "execution_count": 104,
   "metadata": {},
   "outputs": [
    {
     "name": "stdout",
     "output_type": "stream",
     "text": [
      "(['donald', 'trump', 'wish', 'americans', 'happy', 'new', 'year', 'leave', 'instead', 'give', 'shout', 'enemies', 'haters', 'dishonest', 'fake', 'news', 'media', 'former', 'reality', 'show', 'star', 'one', 'job', 'country', 'rapidly', 'grows', 'stronger', 'smarter', 'want', 'wish', 'friends', 'supporters', 'enemies', 'haters', 'even', 'dishonest', 'fake', 'news', 'media', 'happy', 'healthy', 'new', 'year', 'president', 'angry', 'pants', 'tweeted', '2018', 'great', 'year', 'america', 'country', 'rapidly', 'grows', 'stronger', 'smarter', 'want', 'wish', 'friends', 'supporters', 'enemies', 'haters', 'even', 'dishonest', 'fake', 'news', 'media', 'happy', 'healthy', 'new', 'year', '2018', 'great', 'year', 'america', 'donald', 'j', 'trump', '@realdonaldtrump', 'december', '31', '2017trump', 'tweet', 'went', 'welll', 'expect.what', 'kind', 'president', 'sends', 'new', 'year', 'greeting', 'like', 'despicable', 'petty', 'infantile', 'gibberish', 'trump', 'lack', 'decency', 'even', 'allow', 'rise', 'gutter', 'long', 'enough', 'wish', 'american', 'citizens', 'happy', 'new', 'year', 'bishop', 'talbert', 'swan', '@talbertswan', 'december', '31', '2017no', 'one', 'likes', 'calvin', '@calvinstowell', 'december', '31', '2017your', 'impeachment', 'would', 'make', '2018', 'great', 'year', 'america', 'also', 'accept', 'regaining', 'control', 'congress', 'miranda', 'yaver', '@mirandayaver', 'december', '31', '2017do', 'hear', 'talk', 'include', 'many', 'people', 'hate', 'wonder', 'hate', 'alan', 'sandoval', '@alansandoval13', 'december', '31', '2017who', 'uses', 'word', 'haters', 'new', 'years', 'wish', 'marlene', '@marlene399', 'december', '31', '2017you', 'say', 'happy', 'new', 'year', 'koren', 'pollitt', '@korencarpenter', 'december', '31', '2017here', 'trump', 'new', 'year', 'eve', 'tweet', '2016.happy', 'new', 'year', 'including', 'many', 'enemies', 'fought', 'lost', 'badly', 'know', 'love', 'donald', 'j', 'trump', '@realdonaldtrump', 'december', '31', '2016this', 'nothing', 'new', 'trump', 'years.trump', 'directed', 'messages', 'enemies', 'haters', 'new', 'year', 'easter', 'thanksgiving', 'anniversary', '9/11', 'pic.twitter.com/4fpae2kypa', 'daniel', 'dale', '@ddale8', 'december', '31', '2017trump', 'holiday', 'tweets', 'clearly', 'presidential.how', 'long', 'work', 'hallmark', 'becoming', 'president', 'steven', 'goodine', '@sgoodine', 'december', '31', '2017he', 'always', 'like', '. . .', 'difference', 'last', 'years', 'filter', 'breaking', 'roy', 'schulze', '@thbthttt', 'december', '31', '2017who', 'apart', 'teenager', 'uses', 'term', 'haters', 'wendy', '@wendywhistles', 'december', '31', '2017he', 'fucking', '5', 'year', 'old', 'knows', '@rainyday80', 'december', '31', '2017so', 'people', 'voted', 'hole', 'thinking', 'would', 'change', 'got', 'power', 'wrong', '70', 'year-old', 'men', 'change', 'year', 'older.photo', 'andrew', 'burton', 'getty', 'images'], 0)\n"
     ]
    }
   ],
   "source": [
    "print(Documents[0])"
   ]
  },
  {
   "cell_type": "code",
   "execution_count": 105,
   "metadata": {},
   "outputs": [
    {
     "data": {
      "text/plain": [
       "44897"
      ]
     },
     "execution_count": 105,
     "metadata": {},
     "output_type": "execute_result"
    }
   ],
   "source": [
    "len(Documents)"
   ]
  },
  {
   "cell_type": "markdown",
   "metadata": {},
   "source": [
    "### Analyse de la longueur des phrases\n",
    "\n",
    "Cette cellule crée une fonction pour obtenir des statistiques sur la longueur des phrases.\n",
    "\n",
    "#### Détails des étapes :\n",
    "1. **Définition de `get_Max_Min_length_Sent`** :\n",
    "   - La fonction calcule la longueur maximale et minimale des phrases et le nombre de phrases dépassant certains seuils de mots (10, 20, 30, etc.).\n",
    "\n",
    "2. **Calcul et affichage des résultats** :\n",
    "   - La fonction est appliquée à `Documents`, et les résultats de longueur sont affichés pour observer la distribution des longueurs de phrases."
   ]
  },
  {
   "cell_type": "code",
   "execution_count": 106,
   "metadata": {},
   "outputs": [
    {
     "name": "stdout",
     "output_type": "stream",
     "text": [
      "Max length sentence is : 4939 Min length sentence is : 0\n",
      "Sentence with less than 10 word  1055\n",
      "Sentence with more than 10 word  43782\n",
      "Sentence with more than 20 word  43236\n",
      "Sentence with more than 30 word  42688\n",
      "Sentence with more than 50 word  40413\n",
      "Sentence with more than 100 word  35231\n",
      "Sentence with more than 200 word  23596\n",
      "Sentence with more than 300 word  10985\n",
      "Sentence with more than 400 word  5914\n",
      "Sentence with more than 500 word  3184\n",
      "Sentence with more than 600 word  1637\n",
      "Sentence with more than 700 word  934\n",
      "Sentence with more than 800 word  574\n",
      "Sentence with more than 900 word  394\n"
     ]
    }
   ],
   "source": [
    "def get_Max_Min_length_Sent(Documents):\n",
    "    Max = 0\n",
    "    Min = 10\n",
    "    CountSup10 = 0\n",
    "    Countinf10 = 0\n",
    "    CountSup20 = 0\n",
    "    CountSup30 = 0\n",
    "    CountSup50 = 0\n",
    "    CountSup100 = 0\n",
    "    CountSup200 = 0\n",
    "    CountSup300 = 0\n",
    "    CountSup400 = 0\n",
    "    CountSup500 = 0\n",
    "    CountSup600 = 0\n",
    "    CountSup700 = 0\n",
    "    CountSup800 = 0\n",
    "    CountSup900 = 0 \n",
    "    for S,t in Documents:\n",
    "        if len(S) > Max:\n",
    "            Max = len(S)\n",
    "        if len(S) < Min :\n",
    "            Min = len(S)\n",
    "        if len(S) < 10:\n",
    "            Countinf10 +=1\n",
    "        if len(S) > 10:\n",
    "            CountSup10 +=1\n",
    "        if len(S) > 20:\n",
    "            CountSup20 +=1\n",
    "        if len(S) >30 :\n",
    "            CountSup30 +=1\n",
    "        if len(S) > 50:\n",
    "            CountSup50 +=1\n",
    "        if len(S) > 100:\n",
    "            CountSup100 +=1\n",
    "        if len(S) >200 :\n",
    "            CountSup200 +=1\n",
    "        if len(S) > 300:\n",
    "            CountSup300 +=1\n",
    "        if len(S) >400 :\n",
    "            CountSup400 +=1\n",
    "        if len(S) >500 :\n",
    "            CountSup500 +=1\n",
    "        if len(S) >600 :\n",
    "            CountSup600 +=1\n",
    "        if len(S) >700 :\n",
    "            CountSup700 +=1\n",
    "        if len(S) >800 :\n",
    "            CountSup800 +=1\n",
    "        if len(S) >900 :\n",
    "            CountSup900 +=1\n",
    "            \n",
    "    return Max,Min,Countinf10,CountSup10,CountSup20,CountSup30,CountSup50,CountSup100,CountSup200,CountSup300,CountSup400,CountSup500,CountSup600,CountSup700, CountSup800,CountSup900\n",
    "\n",
    "Max,Min,Countinf10,CountSup10,CountSup20,CountSup30,CountSup50,CountSup100,CountSup200,CountSup300,CountSup400,CountSup500,CountSup600,CountSup700,CountSup800,CountSup900 = get_Max_Min_length_Sent(Documents)\n",
    "print(\"Max length sentence is :\",Max,\"Min length sentence is :\",Min)\n",
    "print(\"Sentence with less than 10 word \",Countinf10)\n",
    "print(\"Sentence with more than 10 word \",CountSup10)\n",
    "print(\"Sentence with more than 20 word \",CountSup20)\n",
    "print(\"Sentence with more than 30 word \",CountSup30)\n",
    "print(\"Sentence with more than 50 word \",CountSup50)\n",
    "print(\"Sentence with more than 100 word \",CountSup100)\n",
    "print(\"Sentence with more than 200 word \",CountSup200)\n",
    "print(\"Sentence with more than 300 word \",CountSup300)\n",
    "print(\"Sentence with more than 400 word \",CountSup400)\n",
    "print(\"Sentence with more than 500 word \",CountSup500)\n",
    "print(\"Sentence with more than 600 word \",CountSup600)\n",
    "print(\"Sentence with more than 700 word \",CountSup700)\n",
    "print(\"Sentence with more than 800 word \",CountSup800)\n",
    "print(\"Sentence with more than 900 word \",CountSup900)"
   ]
  },
  {
   "cell_type": "markdown",
   "metadata": {},
   "source": [
    "### Filtrage des phrases courtes\n",
    "\n",
    "Cette cellule crée un sous-ensemble d'articles courts (entre 10 et 50 mots) avec un échantillonnage équilibré de chaque classe.\n",
    "\n",
    "#### Détails des étapes :\n",
    "- La boucle parcourt `Documents` pour sélectionner des phrases selon des critères de longueur (10 à 50 mots) et équilibre les articles faux (`label=0`) et vrais (`label=1`).\n",
    "- Ce sous-ensemble est stocké dans `Document_short` pour des analyses ciblées et nous réduis le temps de calcul."
   ]
  },
  {
   "cell_type": "code",
   "execution_count": 6,
   "metadata": {},
   "outputs": [],
   "source": [
    "Document_short = []\n",
    "compteur_fake = 0\n",
    "compteur_vrai = 0\n",
    "for S, t in Documents:\n",
    "    if compteur_fake < 1000 and t ==1 and len(S) <= 50 and len(S)>10:\n",
    "        Document_short.append((S,t))\n",
    "        compteur_fake+=1\n",
    "    if compteur_vrai < 1000 and t ==0 and len(S) <= 50 and len(S)>10:\n",
    "        Document_short.append((S,t))\n",
    "        compteur_vrai+=1\n",
    "    if compteur_vrai>=1000 and compteur_fake>1000:\n",
    "        break"
   ]
  },
  {
   "cell_type": "code",
   "execution_count": 108,
   "metadata": {},
   "outputs": [
    {
     "name": "stdout",
     "output_type": "stream",
     "text": [
      "2000\n"
     ]
    }
   ],
   "source": [
    "print(len(Document_short))"
   ]
  },
  {
   "cell_type": "code",
   "execution_count": 109,
   "metadata": {},
   "outputs": [
    {
     "name": "stdout",
     "output_type": "stream",
     "text": [
      "(['moscow', 'reuters', 'russian', 'deputy', 'foreign', 'minister', 'igor', 'morgulov', 'said', 'friday', 'russia', 'ready', 'sign', 'new', 'sanctions', 'north', 'korea', 'would', 'strangle', 'asian', 'country', 'economically', 'interfax', 'news', 'agency', 'reported', 'also', 'cited', 'saying', 'pressure', 'north', 'korea', 'approaching', 'red', 'line', 'u', 'security', 'guarantees', 'north', 'korea', 'could', 'subject', 'talks', 'pyongyang', 'united', 'states'], 1)\n"
     ]
    }
   ],
   "source": [
    "print(Document_short[-1])"
   ]
  },
  {
   "cell_type": "markdown",
   "metadata": {},
   "source": [
    "### Calcul des statistiques de vocabulaire\n",
    "\n",
    "Cette cellule analyse les statistiques lexicales de `Document_short`."
   ]
  },
  {
   "cell_type": "code",
   "execution_count": 110,
   "metadata": {},
   "outputs": [
    {
     "name": "stdout",
     "output_type": "stream",
     "text": [
      "Max length sentence is : 50 Min length sentence is : 10\n",
      "Sentence with less than 10 word  0\n",
      "Sentence with more than 10 word  2000\n",
      "Sentence with more than 20 word  1565\n",
      "Sentence with more than 30 word  1233\n",
      "Sentence with more than 50 word  0\n",
      "Sentence with more than 100 word  0\n",
      "Sentence with more than 200 word  0\n",
      "Sentence with more than 300 word  0\n",
      "Sentence with more than 400 word  0\n",
      "Sentence with more than 500 word  0\n",
      "Sentence with more than 600 word  0\n",
      "Sentence with more than 700 word  0\n",
      "Sentence with more than 800 word  0\n",
      "Sentence with more than 900 word  0\n"
     ]
    }
   ],
   "source": [
    "Max,Min,Countinf10,CountSup10,CountSup20,CountSup30,CountSup50,CountSup100,CountSup200,CountSup300,CountSup400,CountSup500,CountSup600,CountSup700,CountSup800,CountSup900 = get_Max_Min_length_Sent(Document_short)\n",
    "print(\"Max length sentence is :\",Max,\"Min length sentence is :\",Min)\n",
    "print(\"Sentence with less than 10 word \",Countinf10)\n",
    "print(\"Sentence with more than 10 word \",CountSup10)\n",
    "print(\"Sentence with more than 20 word \",CountSup20)\n",
    "print(\"Sentence with more than 30 word \",CountSup30)\n",
    "print(\"Sentence with more than 50 word \",CountSup50)\n",
    "print(\"Sentence with more than 100 word \",CountSup100)\n",
    "print(\"Sentence with more than 200 word \",CountSup200)\n",
    "print(\"Sentence with more than 300 word \",CountSup300)\n",
    "print(\"Sentence with more than 400 word \",CountSup400)\n",
    "print(\"Sentence with more than 500 word \",CountSup500)\n",
    "print(\"Sentence with more than 600 word \",CountSup600)\n",
    "print(\"Sentence with more than 700 word \",CountSup700)\n",
    "print(\"Sentence with more than 800 word \",CountSup800)\n",
    "print(\"Sentence with more than 900 word \",CountSup900)"
   ]
  },
  {
   "cell_type": "markdown",
   "metadata": {},
   "source": [
    "#### Détails des étapes :\n",
    "1. **Nombre total de mots** :\n",
    "   - Compte de tous les mots (tokens) dans les articles du sous-ensemble.\n",
    "\n",
    "2. **Nombre total de phrases** :\n",
    "   - Calcul du nombre d’articles dans `Document_short`.\n",
    "\n",
    "3. **Taille du vocabulaire** :\n",
    "   - Calcul des mots uniques dans l’ensemble.\n",
    "\n",
    "4. **Affichage des résultats** :\n",
    "   - Les résultats des statistiques lexicales sont affichés, montrant la diversité et la taille du vocabulaire.\n"
   ]
  },
  {
   "cell_type": "code",
   "execution_count": 111,
   "metadata": {},
   "outputs": [
    {
     "name": "stdout",
     "output_type": "stream",
     "text": [
      "Nombre de mots: 67461, Nombre de phrases: 2000, Vocabulaire unique: 9839\n"
     ]
    }
   ],
   "source": [
    "# Nombre total de mots (tokens)\n",
    "token_count = sum(len(sentence) for sentence,label in Document_short)\n",
    "\n",
    "# Nombre de phrases\n",
    "sentence_count = len(Document_short)\n",
    "\n",
    "# Taille du vocabulaire (mots uniques)\n",
    "vocab_size = len(set(word for sentence,label in Document_short for word in sentence))\n",
    "\n",
    "print(f\"Nombre de mots: {token_count}, Nombre de phrases: {sentence_count}, Vocabulaire unique: {vocab_size}\")"
   ]
  },
  {
   "cell_type": "code",
   "execution_count": 112,
   "metadata": {},
   "outputs": [],
   "source": [
    "timesteps = 50"
   ]
  },
  {
   "cell_type": "markdown",
   "metadata": {},
   "source": [
    "### Ajustement de la longueur des phrases\n",
    "\n",
    "Cette fonction ajuste la longueur des phrases pour un nombre de mots donné.\n",
    "\n",
    "#### Détails des étapes :\n",
    "- La fonction `fix_sentence_length` vérifie si chaque phrase a la longueur souhaitée.\n",
    "  - Si elle est plus longue, la phrase est tronquée.\n",
    "  - Si elle est plus courte, des vecteurs nuls sont ajoutés pour atteindre la longueur cible."
   ]
  },
  {
   "cell_type": "code",
   "execution_count": 7,
   "metadata": {},
   "outputs": [],
   "source": [
    "def fix_sentence_length(length,exemple):\n",
    "    if len(exemple) > length:\n",
    "        exemple = exemple[:length]\n",
    "    elif len(exemple) < length:\n",
    "        for i in range(length - len(exemple)):\n",
    "            listzeros = [0] * 300\n",
    "            exemple.append(listzeros)\n",
    "    return exemple"
   ]
  },
  {
   "cell_type": "code",
   "execution_count": 114,
   "metadata": {},
   "outputs": [
    {
     "name": "stdout",
     "output_type": "stream",
     "text": [
      "Requirement already satisfied: gensim in c:\\users\\deded\\documents\\inge3\\nlp\\project\\envfakenews\\lib\\site-packages (4.3.3)\n",
      "Requirement already satisfied: scipy<1.14.0,>=1.7.0 in c:\\users\\deded\\documents\\inge3\\nlp\\project\\envfakenews\\lib\\site-packages (from gensim) (1.13.1)\n",
      "Requirement already satisfied: numpy<2.0,>=1.18.5 in c:\\users\\deded\\documents\\inge3\\nlp\\project\\envfakenews\\lib\\site-packages (from gensim) (1.26.4)\n",
      "Requirement already satisfied: smart-open>=1.8.1 in c:\\users\\deded\\documents\\inge3\\nlp\\project\\envfakenews\\lib\\site-packages (from gensim) (7.0.5)\n",
      "Requirement already satisfied: wrapt in c:\\users\\deded\\documents\\inge3\\nlp\\project\\envfakenews\\lib\\site-packages (from smart-open>=1.8.1->gensim) (1.16.0)\n",
      "Note: you may need to restart the kernel to use updated packages.\n"
     ]
    }
   ],
   "source": [
    "%pip install --upgrade gensim\n"
   ]
  },
  {
   "cell_type": "markdown",
   "metadata": {},
   "source": [
    "### Ajustement de la longueur des phrases\n",
    "\n",
    "Cette fonction ajuste la longueur des phrases pour un nombre de mots donné.\n",
    "\n",
    "#### Détails des étapes :\n",
    "- La fonction `fix_sentence_length` vérifie si chaque phrase a la longueur souhaitée.\n",
    "  - Si elle est plus longue, la phrase est tronquée.\n",
    "  - Si elle est plus courte, des vecteurs nuls sont ajoutés pour atteindre la longueur cible."
   ]
  },
  {
   "cell_type": "code",
   "execution_count": 8,
   "metadata": {},
   "outputs": [
    {
     "name": "stdout",
     "output_type": "stream",
     "text": [
      "[ 0.23281045  0.5327054   0.74012685 -0.4887621   2.0807168  -1.1155511\n",
      " -0.5315077  -1.9431843   2.234028    2.703161    1.1177813   0.02905248\n",
      "  0.21070714  1.9382443   1.2528492  -1.8026518  -0.13854508 -1.4017253\n",
      " -0.35950163 -0.05284696  0.58037454 -2.3968966   1.9880937   1.8182299\n",
      " -0.86175424 -0.7211481   2.2100728   2.699373   -1.5158037   3.1730328\n",
      "  0.801161   -0.02764079 -1.0454835  -1.318213    0.5380213   0.82368165\n",
      "  1.7482004  -2.278125    0.6580233   0.3950606  -2.8754199  -1.0801975\n",
      " -2.2425385  -1.7259897  -0.93583274 -1.2854565  -0.9491048  -0.5542292\n",
      "  2.3097224   1.9607818   0.6677924   0.17518154  1.4233816  -0.5050408\n",
      " -0.83715916 -1.6461797  -1.5406033  -1.4386332   2.5780058   1.5684502\n",
      "  0.35574746 -3.0135567  -1.8497256   1.3683535   0.68578666  3.0614884\n",
      "  0.35793424 -0.1677385  -2.6648235  -0.64166343 -0.62161034 -0.16011728\n",
      " -0.24426554 -1.6766683  -0.9597722   1.9887573   1.2335188  -1.5782918\n",
      "  1.2268353  -0.638467   -1.4677867  -2.6186569   1.6226029  -2.5632617\n",
      "  0.89828825  0.5369896  -3.4050035   0.83508056  2.215561   -1.162088\n",
      " -1.057149   -0.18989398  0.74828374 -1.0605791   0.6410187  -0.71983343\n",
      " -0.14803474 -1.4653368  -1.5450767  -0.33388054  1.0700703   0.04044759\n",
      "  1.5206509  -0.7642174   1.3317921  -0.7034835   1.0231092   0.90144444\n",
      " -1.3830432  -0.55152076 -1.1547017   0.37205017  0.53356075 -0.94338804\n",
      " -1.2979895  -1.4169466   0.53094316 -0.7753509  -0.4783534  -3.4148128\n",
      "  0.10737433  1.5621221  -1.1536239  -0.6343955  -1.5482516  -1.366423\n",
      "  2.33092    -0.42702633 -0.5450695  -2.6030486  -0.74917096  3.859213\n",
      "  2.3355873   0.9666845   0.18589118  1.8024485  -0.7651133   1.1540365\n",
      " -1.0509557   1.2087474   0.44987345 -1.9082415  -0.2782587  -1.5460739\n",
      "  0.5127094  -0.28194836  1.5501128   0.09418947  1.0477144   0.4430347\n",
      "  0.3946954   0.01833032  1.440006    0.7918156   1.0002468  -1.1358397\n",
      " -1.474708    1.182892    1.2061857  -1.1158091   0.6031607   1.2940913\n",
      " -0.75325584 -0.53884315 -0.94082963  2.5396636   0.4610456   0.93847287\n",
      " -0.19123551 -1.187737   -3.4956632  -0.7948649  -1.0178854   0.2343003\n",
      " -0.87230265 -0.866901   -1.2194235  -0.23132968 -0.19592454  2.7705204\n",
      "  0.6560231   1.2711501  -0.90154976  1.7388217   0.7106059  -1.6154665\n",
      "  2.8759825  -0.6387555   0.6218341  -2.7622337   0.96906966  2.0310514\n",
      " -1.3169107   1.4470592   0.5586911  -0.35479522 -0.85630816  0.14109412\n",
      " -0.9756272   0.9593656   1.0514716  -0.7050647  -1.1923972  -2.2140276\n",
      "  0.9187833  -1.2454641   0.59529126  2.2800183   1.4545125   0.11417366\n",
      "  0.9970908   0.36590517 -1.2689464   0.97358394 -0.6069035  -0.9753515\n",
      " -1.0934626  -0.2981377   0.14931965  1.2783415  -0.21812296 -0.62218463\n",
      "  0.62520504 -1.6820935  -0.7354513   0.5205465  -0.9471958  -1.2567502\n",
      "  0.3372395  -1.0013217  -2.0978396   0.7039364   0.663562   -1.1300455\n",
      "  0.15050542 -0.7746164  -1.0349182   0.9411255   1.7634277  -2.336954\n",
      "  0.5500451   0.2917426  -0.26974455  0.6142112   0.40810698  0.2313923\n",
      "  1.1496558   0.71358085 -0.74575955 -0.5216991  -0.8132944  -1.3731558\n",
      "  0.16476332  0.39679337 -0.86432904 -0.49234524  0.10022143 -0.7940852\n",
      " -3.2598362   2.1236835   1.4969501   0.31328002  1.8043009  -0.47730026\n",
      "  1.2189223  -1.7577881   1.0952958  -1.549636    0.8200816   2.3286521\n",
      " -0.5313667  -2.555765    0.9501742   1.9571034  -1.8705243  -2.301074\n",
      "  0.68190616 -1.4096074  -1.2153465  -1.1857238  -0.25757346  1.0585994\n",
      " -1.5663352  -0.0696742   2.1606083  -0.93710876  1.0121979   1.0096724\n",
      "  0.33505762  1.3883469   0.27008945 -0.82283527 -1.5113268   0.14186418\n",
      "  0.2820565  -0.49325493 -2.0173466  -3.5159435  -0.8873524  -0.3937449 ]\n"
     ]
    }
   ],
   "source": [
    "from gensim.models import Word2Vec\n",
    "\n",
    "# Utilisez directement les listes de mots\n",
    "sentences = combined_news_df['clean_text'].tolist()  # Convertir en liste si nécessaire\n",
    "\n",
    "# Entraîner un modèle Word2Vec\n",
    "model_w2v = Word2Vec(sentences=sentences, vector_size=300, window=5, min_count=2, workers=4)\n",
    "\n",
    "# Sauvegarder le modèle pour une utilisation future\n",
    "model_w2v.save(\"word2vec_fake_news.model\")\n",
    "\n",
    "# Exemple d'embedding pour un mot particulier\n",
    "print(model_w2v.wv['news'])  # Embedding pour le mot \"news\"\n"
   ]
  },
  {
   "cell_type": "code",
   "execution_count": null,
   "metadata": {},
   "outputs": [
    {
     "name": "stdout",
     "output_type": "stream",
     "text": [
      "['donald', 'trump', 'wish', 'americans', 'happy', 'new', 'year', 'leave', 'instead', 'give', 'shout', 'enemies', 'haters', 'dishonest', 'fake', 'news', 'media', 'former', 'reality', 'show', 'star', 'one', 'job', 'country', 'rapidly', 'grows', 'stronger', 'smarter', 'want', 'wish', 'friends', 'supporters', 'enemies', 'haters', 'even', 'dishonest', 'fake', 'news', 'media', 'happy', 'healthy', 'new', 'year', 'president', 'angry', 'pants', 'tweeted', '2018', 'great', 'year', 'america', 'country', 'rapidly', 'grows', 'stronger', 'smarter', 'want', 'wish', 'friends', 'supporters', 'enemies', 'haters', 'even', 'dishonest', 'fake', 'news', 'media', 'happy', 'healthy', 'new', 'year', '2018', 'great', 'year', 'america', 'donald', 'j', 'trump', '@realdonaldtrump', 'december', '31', '2017trump', 'tweet', 'went', 'welll', 'expect.what', 'kind', 'president', 'sends', 'new', 'year', 'greeting', 'like', 'despicable', 'petty', 'infantile', 'gibberish', 'trump', 'lack', 'decency', 'even', 'allow', 'rise', 'gutter', 'long', 'enough', 'wish', 'american', 'citizens', 'happy', 'new', 'year', 'bishop', 'talbert', 'swan', '@talbertswan', 'december', '31', '2017no', 'one', 'likes', 'calvin', '@calvinstowell', 'december', '31', '2017your', 'impeachment', 'would', 'make', '2018', 'great', 'year', 'america', 'also', 'accept', 'regaining', 'control', 'congress', 'miranda', 'yaver', '@mirandayaver', 'december', '31', '2017do', 'hear', 'talk', 'include', 'many', 'people', 'hate', 'wonder', 'hate', 'alan', 'sandoval', '@alansandoval13', 'december', '31', '2017who', 'uses', 'word', 'haters', 'new', 'years', 'wish', 'marlene', '@marlene399', 'december', '31', '2017you', 'say', 'happy', 'new', 'year', 'koren', 'pollitt', '@korencarpenter', 'december', '31', '2017here', 'trump', 'new', 'year', 'eve', 'tweet', '2016.happy', 'new', 'year', 'including', 'many', 'enemies', 'fought', 'lost', 'badly', 'know', 'love', 'donald', 'j', 'trump', '@realdonaldtrump', 'december', '31', '2016this', 'nothing', 'new', 'trump', 'years.trump', 'directed', 'messages', 'enemies', 'haters', 'new', 'year', 'easter', 'thanksgiving', 'anniversary', '9/11', 'pic.twitter.com/4fpae2kypa', 'daniel', 'dale', '@ddale8', 'december', '31', '2017trump', 'holiday', 'tweets', 'clearly', 'presidential.how', 'long', 'work', 'hallmark', 'becoming', 'president', 'steven', 'goodine', '@sgoodine', 'december', '31', '2017he', 'always', 'like', '. . .', 'difference', 'last', 'years', 'filter', 'breaking', 'roy', 'schulze', '@thbthttt', 'december', '31', '2017who', 'apart', 'teenager', 'uses', 'term', 'haters', 'wendy', '@wendywhistles', 'december', '31', '2017he', 'fucking', '5', 'year', 'old', 'knows', '@rainyday80', 'december', '31', '2017so', 'people', 'voted', 'hole', 'thinking', 'would', 'change', 'got', 'power', 'wrong', '70', 'year-old', 'men', 'change', 'year', 'older.photo', 'andrew', 'burton', 'getty', 'images']\n"
     ]
    }
   ],
   "source": [
    "print(sentences[0])"
   ]
  },
  {
   "cell_type": "markdown",
   "metadata": {},
   "source": [
    "### Préparation de la liste des documents\n",
    "\n",
    "Cette cellule crée une liste `List_of_docs` avec uniquement les textes (sans les labels) pour chaque article dans `Document_short`.\n",
    "\n",
    "#### Détails des étapes :\n",
    "- Pour chaque tuple `(z, i)` dans `Document_short`, seul le texte `z` est ajouté à `List_of_docs`."
   ]
  },
  {
   "cell_type": "code",
   "execution_count": 9,
   "metadata": {},
   "outputs": [],
   "source": [
    "List_of_docs = []\n",
    "for z,i in Document_short:\n",
    "    List_of_docs.append(z)\n"
   ]
  },
  {
   "cell_type": "markdown",
   "metadata": {},
   "source": [
    "### Création du sac de mots\n",
    "\n",
    "Cette cellule construit un sac de mots (`Bag of Words`) en analysant la fréquence des mots dans `List_of_docs`.\n",
    "\n",
    "#### Détails des étapes :\n",
    "1. **Compilation des mots** :\n",
    "   - Tous les mots dans `List_of_docs` sont convertis en minuscules et ajoutés à une liste `all_words`.\n",
    "\n",
    "2. **Distribution de fréquence** :\n",
    "   - Les mots sont comptés via `FreqDist`, montrant les 300 mots les plus fréquents et le nombre total de mots uniques.\n",
    "   - Le résultat est retourné sous forme de dictionnaire `sac_de_mots`.\n"
   ]
  },
  {
   "cell_type": "code",
   "execution_count": 10,
   "metadata": {},
   "outputs": [
    {
     "name": "stdout",
     "output_type": "stream",
     "text": [
      "[('said', 1303), ('trump', 1279), ('reuters', 1039), ('u', 882), ('president', 758), ('washington', 747), ('’', 671), ('”', 645), ('“', 643), ('donald', 625), ('house', 559), ('white', 381), ('hillary', 381), ('would', 361), ('obama', 322), ('republican', 316), ('told', 278), ('thursday', 274), ('clinton', 264), ('news', 244), ('wednesday', 231), ('senate', 231), ('friday', 221), ('tuesday', 209), ('people', 206), ('state', 203), ('united', 202), ('statement', 183), ('states', 173), ('presidential', 173), ('new', 169), ('2016', 169), ('bill', 168), ('one', 166), ('monday', 161), ('reporters', 161), ('campaign', 155), ('russia', 143), ('vote', 143), ('like', 140), ('tax', 134), ('democratic', 134), ('secretary', 130), ('committee', 129), ('russian', 129), ('minister', 119), ('think', 118), ('administration', 118), ('candidate', 117), ('government', 113), ('week', 113), ('foreign', 113), ('former', 112), ('meeting', 112), ('election', 111), ('two', 111), ('barack', 110), ('party', 110), ('time', 109), ('security', 107), ('america', 106), ('senator', 104), ('get', 104), ('watch', 104), ('reported', 104), ('moscow', 104), ('video', 102), ('next', 100), ('great', 99), ('spokesman', 99), ('interview', 98), ('american', 97), ('also', 97), ('going', 96), ('asked', 96), ('nominee', 95), ('2017', 94), ('cnn', 94), ('twitter', 94), ('make', 94), ('legislation', 94), ('national', 93), ('fox', 93), ('president-elect', 93), ('department', 93), ('representatives', 92), ('conference', 91), ('support', 91), ('official', 89), ('country', 87), ('made', 86), ('congress', 85), ('last', 84), ('back', 83), ('know', 83), ('leader', 82), ('ryan', 82), ('way', 81), ('office', 80), ('first', 79), ('may', 79), ('federal', 77), ('director', 77), ('republicans', 76), ('leaders', 76), ('plan', 75), ('north', 75), ('democrats', 74), ('media', 74), ('paul', 74), ('could', 74), ('law', 74), ('saying', 73), ('americans', 73), ('agency', 73), ('speech', 70), ('right', 70), ('us', 70), ('want', 69), ('democrat', 69), ('healthcare', 69), ('need', 68), ('take', 68), ('fbi', 67), ('court', 67), ('speaking', 66), ('john', 66), ('day', 65), ('january', 65), ('say', 64), ('see', 64), ('press', 64), ('says', 64), ('sanders', 64), ('year', 62), ('political', 62), ('deal', 62), ('obamacare', 61), ('general', 61), ('york', 60), ('really', 59), ('called', 59), ('top', 59), ('iran', 59), ('china', 59), ('defense', 58), ('today', 58), ('every', 58), ('decision', 58), ('work', 58), ('speaker', 58), ('matter', 57), ('left', 57), ('intelligence', 57), ('whether', 56), ('meet', 56), ('good', 56), ('judge', 56), ('come', 55), ('question', 54), ('source', 54), ('mcconnell', 54), ('votes', 53), ('justice', 53), ('night', 53), ('citing', 53), ('much', 52), ('chairman', 52), ('group', 51), ('black', 51), ('many', 51), ('officials', 51), ('putin', 51), ('november', 51), ('debate', 51), ('spokeswoman', 51), ('conservative', 50), ('talks', 50), ('possible', 50), ('health', 50), ('well', 50), ('rally', 50), ('following', 50), ('saturday', 50), ('military', 50), ('mexico', 50), ('korea', 50), ('trade', 50), ('change', 49), ('chief', 49), ('even', 49), ('economic', 49), ('expected', 49), ('briefing', 49), ('vice', 48), ('team', 48), ('best', 48), ('2', 48), ('call', 48), ('policy', 48), ('prime', 48), ('go', 47), ('help', 47), ('real', 47), ('years', 47), ('man', 47), ('investigation', 46), ('police', 46), ('sunday', 46), ('@realdonaldtrump', 46), ('reform', 46), ('earlier', 46), ('city', 46), ('must', 45), ('still', 45), ('end', 45), ('pass', 45), ('nuclear', 45), ('agreement', 45), ('ministry', 45), ('special', 44), ('nations', 44), ('billion', 44), ('bernie', 44), ('senior', 44), ('visit', 44), ('tillerson', 44), ('members', 43), ('james', 43), ('truth', 43), ('job', 42), ('women', 42), ('comey', 42), ('comes', 42), ('post', 42), ('march', 42), ('another', 41), ('believe', 41), ('keep', 41), ('anyone', 41), ('attack', 41), ('20', 41), ('sanctions', 41), ('since', 40), ('woman', 40), ('love', 40), ('order', 40), ('supporters', 40), ('pretty', 40), ('better', 39), ('close', 39), ('part', 39), ('countries', 39), ('control', 39), ('representative', 39), ('according', 38), ('something', 38), ('big', 38), ('share', 38), ('head', 38), ('attorney', 38), ('adviser', 38), ('information', 38), ('comments', 38), ('deputy', 38), ('voted', 38), ('budget', 38), ('discuss', 37), ('give', 37), ('around', 37), ('nothing', 37), ('8', 37), ('governor', 37), ('fight', 37), ('pence', 36), ('report', 36), ('speak', 36), ('spicer', 36), ('syria', 36), ('program', 36), ('let', 36), ('yet', 36), ('move', 36), ('attacks', 36), ('including', 36), ('spoke', 35), ('guy', 35), ('money', 35), ('executive', 35), ('efforts', 35), ('world', 35), ('islamic', 35), ('pentagon', 35), ('terrorism', 34), ('ever', 34), ('free', 34), ('act', 34), ('mike', 34), ('put', 34), ('congressional', 34)]\n",
      "9839\n"
     ]
    }
   ],
   "source": [
    "from nltk import FreqDist\n",
    "\n",
    "def Bag_Of_Words(ListofTweets):\n",
    "    all_words = []\n",
    "    for m in ListofTweets:\n",
    "        for w in m:\n",
    "            all_words.append(w.lower())\n",
    "    all_words = FreqDist(all_words)\n",
    "    print(all_words.most_common(300))\n",
    "    print(len(all_words.keys()))\n",
    "    return all_words\n",
    "\n",
    "sac_de_mots = Bag_Of_Words(List_of_docs)"
   ]
  },
  {
   "cell_type": "markdown",
   "metadata": {},
   "source": [
    "### Filtrage des mots et récupération de leurs vecteurs\n",
    "\n",
    "Cette cellule filtre les mots du sac de mots et les associe à leurs vecteurs dans le modèle Word2Vec.\n",
    "\n",
    "#### Détails des étapes :\n",
    "1. **Initialisation d'un dictionnaire** :\n",
    "   - `mots_in_my_dict` est créé pour stocker chaque mot avec son vecteur.\n",
    "\n",
    "2. **Itération et filtrage** :\n",
    "   - Pour chaque mot dans `sac_de_mots`, les mots similaires dans le modèle Word2Vec sont trouvés et ajoutés à `mots_in_my_dict`.\n",
    "\n",
    "3. **Mise en correspondance des mots** :\n",
    "   - Si un mot est trouvé dans le vocabulaire Word2Vec, il est ajouté au dictionnaire avec son vecteur."
   ]
  },
  {
   "cell_type": "code",
   "execution_count": 11,
   "metadata": {},
   "outputs": [],
   "source": [
    "## Initialiser un dictionnaire pour stocker les mots filtrés et leurs vecteurs\n",
    "mots_in_my_dict = {}\n",
    "\n",
    "# Obtenir la liste des mots dans le modèle Word2Vec\n",
    "words = list(model_w2v.wv.key_to_index)\n",
    "\n",
    "# Itérer sur les éléments de sac_de_mots\n",
    "for i, k in sac_de_mots.items():\n",
    "    # Rechercher dans le vocabulaire Word2Vec les mots qui contiennent la sous-chaîne 'i'\n",
    "    strings_with_substring = [string for string in words if i in string]\n",
    "\n",
    "    # S'il y a des correspondances, ajouter la première correspondance à mots_in_my_dict\n",
    "    if len(strings_with_substring) > 0:\n",
    "        # Utiliser le mot correspondant directement comme clé\n",
    "        mots_in_my_dict[strings_with_substring[0]] = model_w2v.wv[strings_with_substring[0]]\n",
    "\n"
   ]
  },
  {
   "cell_type": "code",
   "execution_count": null,
   "metadata": {},
   "outputs": [
    {
     "data": {
      "text/plain": [
       "dict_keys(['donald', 'trump', 'thornberry', 'senator', 'bob', 'corker', 'president', 'quite', 'time', 'especially', 'since', 'message', 'disgraceful', 'response', 'deadly', 'racist', 'violence', 'charlottesville', 'virginia', 'offered', 'defense', 'neo-nazis', 'klansmen', 'white', 'supremacists', 'said', 'featured', 'image', 'via', 'chip', 'somodevilla', 'getty', 'images', 'much', 'say', 'giphy', 'killed', 'one', 'someone', 'goes', 'immigrants', 'receipts', '#debatenight', '#debates2016', '@giphy', 'september', '27', 'justin', 'sullivan', 'conservative', '45committee', 'new', 'video', 'year', 'celebrating', 'accomplishments', 'far', 'first', 'office', 'service', 'pence', 'incredible', 'tuesday', 'today', 'brian', 'baker', 'showcases', 'record', 'historic', 'tax', 'cuts', 'group', 'journalists', '2017', 'magazine', 'cnn', 'reports', 'three', 'members', 'legal', 'team', 'known', 'hired', 'special', 'counsel', 'robert', 'mueller', 'handle', 'russia', 'investigation', 'given', 'political', 'donations', 'almost', 'exclusively', 'democrats', 'according', 'analysis', 'federal', 'election', 'commission', 'records', 'hillary', 'clinton', 'continues', 'path', 'completely', 'total', 'denial', '#codecon', 'included', 'blah', 'sessions', 'spews', 'ridiculous', 'victimhood', 'embarrassing', 'nobody', 'https://www.youtube.com/watch?v=9_nkol4h0iuthis', 'woman', 'needs', 'government', 'woods', 'another', 'walk', 'catalan', 'dershowitz', 'schools', 'former', 'students', 'jeffrey', 'tobin', 'whether', 'subject', 'matter', 'crime', 'relations', 'jared', 'kushner', 'like', 'investigations', 'targeting', 'hoping', 'find', 'something', 'sound', 'carlson', 'bernstein', 'panel', 'delivering', 'commencement', 'speech', 'salman', 'material', 'coughing', 'benefits', 'believe', 'case', 'forgotten', 'notoriously', 'campaign', 'going', 'way', 'long', 'imagine', 'elected', 'listen', 'hacking', 'speeches', 'reason', 'thankful', 'win', 'https://www.youtube.com/watch?v=fxkceui0qxachoking', 'allies', 'else', 'yes', 'haha', 'caused', 'big', 'bongino', 'smoking', 'funny', 'lemon', 'countries', 'blame', 'incident', 'montana', 'republican', 'candidate', 'reporters', 'body-slammed', 'asking', 'question', 'went', 'left', 'determined', 'house', 'score', 'points.paris', 'dennard', 'back', 'paris', 'history', 'heated', 'discussions', 'great', 'job', 'scolded', 'paying', 'affairs', 'share', 'alliance', 'must', 'finally', 'contributed', 'meeting', 'financial', 'obligations', 'twenty-three', '28', 'nations', 'still', 'supposed', 'people', 'taxpayers', 'united', 'states', 'https://www.youtube.com/watch?v=nh5xehaeeaythis', 'true', 'style', 'blunt', 'telling', 'pay', 'family', 'horowitz', 'york', 'conference', 'privilege', 'asked', 'attendees', 'explain', 'whiteness', 'somebody', 'told', 'black', 'neighborhood', 'harlem', 'consumed', 'concerns', 'felt', 'would', 'admitted', 'accomplished', 'dreams', 'goals', 'definitely', 'think', 'case.so', 'obsessed', 'maxine', 'waters', 'made', 'appearance', 'cnbc', 'trying', 'push', 'term', 'kremlin', 'klan', 'tried', 'name', 'offenders', 'drew', 'blanket', 'naming', 'always', 'interesting', 'hearing', 'talking', 'points', 'lying', 'every', 'notice', 'anchors', 'repeatedly', 'end', 'might', 'want', 'stick', 'clever', 'services', 'committee', 'scary', 'tucker', 'nails', 'tonight', 'conditioned', 'accept', 'terrorism', 'never', 'happens', 'alarmed', 'commentary', 'talks', 'facts', 'change', 'european', 'demographics', 'changed', 'happening', 'terrorist', 'sympathizers', 'appease', 'terrorists', 'bend', 'backwards', 'best', 'commentaries', 'right', 'stand', 'michelle', 'obama', 'wearing', 'fashion', 'choices', 'overseas', 'trip', 'italy', 'latest', 'outfit', 'crossed', 'line', 'disrespectful', 'religious', 'guests', 'siena', 'cathedral', 'women', 'coverage', 'shoulders', 'upon', 'entry', 'rules', 'little', 'obamas', 'tuscany', 'stops', 'israeli', 'lady', 'sarah', 'netanyahu', 'place', 'testify', 'majority', 'israel', 'unlikely', 'media', 'love', 'intelligence', 'common', 'dinner.the', 'advice', 'reassurance', 'reflects', 'fondness', 'photo', 'joined', 'egypt', 'saudi', 'making', 'inaugurated', 'global', 'center', 'combating', 'extremist', 'appears', 'data', 'hub', 'monitoring', 'multiple', 'social', 'platforms', 'detecting', 'sentiments', 'countering', 'concerning', 'rhetoric', 'positive', 'messaging', 'kansas', 'cyber', 'commander', 'system', 'help', 'war', 'crisis', 'see', 'charles', 'payne', 'economist', 'elizabeth', 'peek', 'discuss', 'booming', 'economy', 'hateful', 'report', 'blue', 'blue-collar', 'jobs', 'maybe', 'sexy', 'main', 'mainstream', 'many', 'economists', 'market', '2013', 'correct', 'interest', 'american', 'feeling', 'keeps', 'focus', 'improving', 'steve', 'bannon', 'gets', 'knows', 'fuss', 'press', 'politicians', 'bring', 'down.bannon', 'deep', 'state', 'evil', 'within', 'trouble', 'need', 'take', 'country', 'back.please', '16:00', 'point', 'speaking', 'washington', 'get', 'better', 'worse', 'spokesman', 'firing', 'comey', 'listed', 'different', 'times', 'inept', 'undermined', 'clip', 'showed', 'inability', 'keep', 'politics', 'fbi', 'noted', 'clinton.carlson', 'says', 'overdue', 'power', 'secretary', 'sean', 'spicer', 'appeared', 'dobbs', 'give', 'set', 'explanatory', 'around', 'decision', 'fire', 'director', 'james', 'compilation', 'savage', 'moments', 'means', 'possible', 'honestly', 'ability', 'fearlessly', 'anyone', 'wolf', 'blitzer', 'target', 'really', 'posted', 'videos', 'enjoy', 'comebacks', 'treatment', 'watch', 'hilarious', 'british', 'friends', 'paul', 'joseph', 'watson', 'twitter', ':@', '@prisonplanet', 'brilliant', 'exposing', 'hypocrisy', 'pro-migrant', 'french', 'welcome', 'refugees', 'enthusiasm', 'suddenly', 'disappears', 'https://t.co/gqmwuzzoap', 'pic.twitter.com/dhh4r6hypk', 'may', '2015', 'dick', 'durbin', 'chat', 'nancy', 'pelosi', 'democratic', 'heroes', 'wade', 'play', 'sanders', 'box', 'troops', 'opposite', 'abortion', 'astronaut', 'peggy', 'whitson', 'innovations', 'space', 'drinking', 'urine', 'quickly', 'hahaha', 'relieved', 'brought', 'nasa', 'purpose', 'remember', 'turned', 'muslim', 'outreach', 'project', 'bizarre', 'wanted', 'make', 'muslims', 'feel', 'good', 'administrator', 'emboldened', 'explains', 'charged', 'head', 'attack', 'producers', 'saying', 'cannot', 'protecting', 'syria', 'babies', 'next', 'breath', 'close', 'doors', 'happened', 'shocked', 'baldwin', 'shut', 'guy', 'fast', 'enough', 'epic', 'laughable', 'news', 'network', 'approved', 'unreliable', 'comes', 'covering', 'leftist', 'propagandist', 'host', 'actually', 'viewers', 'important', 'story', 'fake', 'publication', 'post', 'evidence', 'spied', 'illegally', 'also', 'claimed', 'nothing', 'diversion', 'words', 'scandal', 'announcement', 'created', 'silence', 'angry', 'impeachment', 'leftists', 'free', 'charge.share', 'liberal', 'coast', 'california', 'least', 'liberals', 'across', 'calling', 'handy', 'succession', 'guidelines', 'faster', 'visual', 'explaining', 'options', '#winning', 'zinke', 'brandyburg', 'accompanied', 'podium', 'monday', 'announced', 'donating', 'salary', 'entire', 'headquarters', 'national', 'parks', 'pleasure', 'behalf', 'representatives', 'check', '78,333', 'interior', 'strong', 'superintendent', 'harpers', 'ferry', 'park', 'sites', 'said.https', ':/', 'www.youtube.com/watch?v=wraljumoagovia', 'immediately', 'fox', 'alert', 'details', '@adamhousley', 'sources', 'officials', 'unmasked', 'associates', 'high', 'pic.twitter.com/nowhuiidsb', '@foxandfriends', 'april', '30', 'senate', 'schumer', 'gorsuch', 'nominee', '60', 'votes', 'pic.twitter.com/1qmmzzskct', '@meetthepress', '2016', 'money', 'influence', 'buying', 'russians', 'relates', 'newt', 'gingrich', 'leave', 'executive', '@newtgingrich', '#sundayfutures', 'pic.twitter.com/niwt9blrzj', '@foxnews', 'gave', 'john', 'podesta', '35', 'millions', 'dollars', 'billion', 'rubles', 'advised', 'barack', 'pic.twitter.com/cf042xzleu', 'based', 'veterans', '@basedvet', 'march', '9:30', '100', 'block', 'independence', 'sw.the', 'driver', 'arrested', 'scene.police', 'officers', 'fired', 'shots', 'breaking', 'capitol', 'police', 'cruiser', 'struck', 'adding', 'suspected', 'custody', 'pic.twitter.com/0uw0wcj0bg', '29', '@rep_devinnunes', 'sure', '@thedemocrats', 'know', 'effective', 'getting', 'bottom', 'things', 'pic.twitter.com/q8rfnflhzc', 'manufacturing', 'coalition', 'department', 'scott', 'pruitt', 'abc', 'week', 'sunday', 'energy', 'sector', 'opportunity', 'order', 'designed', 'relax', 'regulations', 'plants', 'administration', 'review', 'fuel', 'efficiency', 'standards', 'carson', 'pro-growth', 'pro-environment', 'approach', 'said.read', 'nyp', 'called', 'probably', 'able', 'demonstrably', 'false', 'pic.twitter.com/3uco3z2umh', 'dinesh', 'souza', '@dineshdsouza', '26', '@realdonaldtrump', 'wants', '#maga', '#gutfeld', 'pic.twitter.com/owbdr9tsou', 'gab.ai/vandemataram', '@vande_mataram', 'light', 'failure', 'passed', 'health', 'care', 'fact', 'krauthammer', 'dismissed', 'idea', 'chuck', 'work', 'republicans', 'moving', 'toward', 'single-payer', 'increasingly', 'expects', 'entitlement', 'already', 'gop', 'bill', '24', 'rock', 'advocates', 'core', 'platform', 'silencing', 'voice', 'conservatives', 'nunes', 'dropped', 'bombshell', 'trump.london', 'lives', 'wounded', '40.meanwhile', 'https://twitter.com/ten_gop/status/844693397168283648if', 'thought', 'joke', 'possibly', 'aired', 'ludicrous', 'segment', 'dedicated', 'possibility', 'afraid', 'stairs', 'comedian', 'prejudice', 'puts', 'perspective', 'sasse', 'supreme', 'court', 'neil', 'role', 'declaration', 'interpreting', 'constitution', 'priceless', 'exchange', 'hancock', 'signed', 'bigly', 'pic.twitter.com/khzzj8qvdj', 'cruz', '@sentedcruz', '22', 'freedom', 'replied', 'surveillance', 'pamela', 'moore', '2017here', 'chairman', 'devin', 'entirety', 'period', '#comeyhearing', 'pic.twitter.com/yz6c76frz1', 'tennessee', '@ten_gop', 'incompetence', 'malice', 'immigration', '1990s', 'disaster', 'minutes', 'likely', 'described', 'jessica', 'vaughanhere', 'piece', 'h1b', 'visa', 'program', 'https://www.youtube.com/watch?v=vaykxcmdpo0', 'asks', 'robinson', 'bronkhorst', 'ceo', 'creative', 'budget', 'deficits', 'subsidizing', 'entertainment', 'rich', 'kind', 'artists', 'grain', 'thinking', 'queuing', 'handouts', 'strike', 'independent', 'back-and-forth', 'insider', 'clearly', 'clique', 'thursday', 'simendinger', 'briefing.instead', 'alexis', 'snarked', 'could', 'peter', 'please', 'well', 'hands', 'cookie', 'operatives', 'strategist', 'party', 'additional', 'pundit', 'advance', 'cause', 'justice', 'equality', 'https://www.youtube.com/watch?v=urceul19-cm', 'merkel', 'wiretapping', 'wikileaks', '@wikileaks', 'paid', '25', 'rate', 'socialist', 'bernie', '#nevertrumpers', '@greggutfeld', 'on-board', '#trumptrain', 'boston', 'bobblehead', '@dbloom451', '2014', 'catherine', 'herridge', 'exposes', 'dirty', 'tactics', 'secretive', 'efforts', 'undermine', 'ex-potus', 'martyrs', '#shadowgovernment', 'gone', 'lengthy', 'successor', '#obamagate', '#arrestobama', '#vault7', 'pic.twitter.com/dujnd1xxei', 'fraser', '@bfraser747', '12', 'snooping', 'dogged', 'music', 'glorifying', 'assassination', 'youth', 'listens', 'listening', 'let', 'face', 'toast', 'imam', 'spilling', 'beans', 'al-hijrah', 'conquer', 'difficult', 'screenshot', 'list', 'wrapsnet', 'happier', 'preet', 'bharara', 'attorney', 'charges', 'activists', 'authorities', 'sentenced', 'years', 'probation', '8', 'months', 'community', 'confinement', 'witch', 'hunt', 'revealing', 'film', 'dead', 'truth', 'radical', 'grassroots', 'gateway', 'took', 'kelly', 'dhs', 'commerce', 'mnuchin', 'treasury', 'shulkin', 'together', 'spouses', 'golf', 'club', 'cabinet', 'turkey', 'staff', 'senior', 'adviser', 'chief', 'reince', 'priebus', 'compared', 'debt', 'burden', 'increased', '320', 'inauguration', '8th', '2009', 'charter', 'comparison', 'physically', 'attacking', 'divergent', 'views', 'demanding', 'single', 'ideology', 'sadly', 'violent', 'agitators', 'movement', 'temper', 'tantrum', 'generation', 'lost', 'propaganda', 'army', 'disappointment', 'wrong', 'standard-bearer', 'rioters', 'manipulated', 'forces', 'regain', '#jobsreport', \"here's\", 'bringing', 'keeping', 'promises', '#flashbackfriday', 'pic.twitter.com/qvimro9oov', '#thepersistence', '@scottpresler', '10', 'hope', 'realize', 'used', 'george', 'soros', 'protesters', 'instead', 'celebrate', 'blasted', 'daily', 'email', 'actively', 'destroy', 'anchor', 'first-hand', 'knowledge', 'screen', 'shot', 'pick', 'statement', 'apart', 'lines', 'got', 'debate', 'barry', 'hummm', 'tweeted', 'responded', 'ivanka', 'hide', 'kids', 'delusional', 'jewish', 'later', 'reaffirmed', 'support', 'soul', '...', 'tweet', 'volunteers', 'supporters', 'dangerous', 'grilo', 'tweets', 'private', 'unfortunately', '):', 'high-profile', 'nice', 'carrying', 'type', 'holding', 'pubic', 'deflection', 'done', 'continued', 'seen', 'pulled', 'drug', 'yet', 'correspondents', 'dinner', 'hey', '@hillaryclinton', 'resistance', 'plus', 'persistence', 'equal', 'progress', '#dncfuture', 'pic.twitter.com/smbxqzqfpv', 'february', '2017can', 'crazy', 'waaaayyy', '@nigel_farage', 'tells', '#cpac2017', 'crowd', 'favourite', 'cpac', '@cpac', '2017full', 'blow', 'wrote', 'article', 'desire', 'voters', 'stated', 'room', 'compromise', 'agreement', 'criticism', 'came', 'hate', 'ugly', 'haircut', 'ended', 'islamic', 'pic.twitter.com/sfqqdmni9v', 'david', 'clarke', 'jr', '@sheriffclarke', 'seems', 'retail', 'store', 'removes', 'come', 'fragrance', 'amazon', 'sellers', 'even', 'brands', 'esteem', 'lauderdale', 'jennifer', 'lopez', 'apparently', 'adage', 'bad', 'publicity', 'held', 'business', 'source', 'feed', 'information', 'cited', 'mistrust', 'judge', 'napolitano', 'resolution', 'loyal', 'mubarak', 'pushed', 'demonstrators', 'riding', 'parenthood', 'initially', 'spot', 'mostly', 'covered', 'banner', 'break', 'genius', 'protestors', 'gathered', 'front', 'pride', 'pedestrians', 'punching', 'responsibilities', 'attend', 'counterparts', 'edited', 'look', 'reacting', 'tough', 'kirby', 'smacked', 'stupid', 'clarify', 'previously', 'administrations', 'exposed', 'scotus', 'comments', 'traveled', '50', 'deal', 'dark', 'religion', 'towns', 'removed', 'symbols.mississippi', 'town', 'fights', 'christmas', 'display', 'christians', 'lot', 'nowadays', 'polite', 'atheists', 'issue', 'governor', 'texas', 'groundsthey', 'fight', 'vp', 'mike', 'pappas', 'bbq', 'houston', 'meredith', 'gonzalez', 'towards', 'cheering', 'bush', 'barbara', 'loud', 'full', '@oreillyfactor', 'exclusive', '#superbowl', 'interview', 'pic.twitter.com/p2giid0fze', 'putz', 'chanting', 'dump', 'crowds', 'nyc', 'congresswoman', '@maxinewaters', 'working', 'greatest', 'leader', '#cheddarlive', 'pic.twitter.com/hr5thhr3xm', 'cheddar', '@cheddar', 'manhood', 'minority', 'odds', 'defunding', 'planned', 'overturning', 'affordable', 'undermining', 'security', 'stability', 'families', 'patriots', 'owner', 'kraft', 'kilmeade', 'beloved', 'wife', 'died', 'friendship', 'pic.twitter.com/pqibwdyctf', 'identify', 'disgusting', 'nyu', 'professor', 'slandering', 'nazi', '#bluelivesmatter', 'pic.twitter.com/2wgrnju6md', '@youngdems4trump', 'nominated', 'opposition', 'garland', 'seat', 'sharpton', 'qualifications', 'stalled', 'filibustered', 'applied', 'allow', 'https://www.youtube.com/watch?v=lwv34erqqa0', 'smashing', 'windows', 'progressive', 'protests', 'alt-right', 'speaker', 'milo', 'move', 'berkeley', 'campus', 'streets', 'pic.twitter.com/c8ckfszmpj', 'shane', 'bauer', '@shane_bauer', 'riots', 'protesting', 'event', 'pic.twitter.com/xk2y7ukff7', '2017the', 'starbucks', 'literally', 'destroyed', 'looted', 'riot', 'last', 'night', 'hell', 'reported', 'tv', 'cops', 'local', 'send', 'protection', 'prepared', 'fellow', 'dems', 'ban', 'struggle', 'figure', '@asamjulian', 'january', '31', 'crying', 'refugees.after', 'supporting', 'libya', 'deaths', 'thousands', 'pic.twitter.com/velee6v7cp', 'away', 'pray', '#kdfweaponsscam', 'airport', '#muslimban', '#donaldtrump', 'choice', 'relationship', '@potus', 'reacts', 'laura', 'kuenssberg', 'https://t.co/v9jjpyt2tn', 'sky', '@skynews', 'honored', 'loved', 'jones', 'illegal', 'aliens', 'gotten', 'remembrance', 'campaigning', 'afternoon', 'parents', 'whose', 'children', 'horribly', 'names', 'become', 'past', 'two', 'friday', 'angeles', 'street', 'artist', 'sabotage', 'several', 'advertisements', 'legacy', 'favorite', 'famous', 'lampooning', 'hollywood', 'celebrated', 'anti-trump', 'rally', 'posting', 'faux', 'posters', 'revival', 'show', 'warning', 'graphic', 'extinguisher', 'put', 'broadcast', 'started', 'domestic', 'rioting', 'presidency.watch', 'animals', 'brave', 'young', 'https://twitter.com/ten_gop/status/822629269109178369', 'karen', 'guidance', 'trumps', 'alongside', '@cnn', '21st', 'glowing', 'https://youtu.be/zfryj2zx3de#trump', '#disruptj20', 'barricades', '#inauguration', 'pic.twitter.com/jfhocgct9c', 'alex', 'rubinstein', '@realalexrubi', '2017finally', 'bikers', 'caught', 'brawl', 'pic.twitter.com/jvupudbsqz', 'screams', 'sworn', '45th', 'pic.twitter.com/qmsafmmskr', 'itv', '@itvnews', 'leaving', 'checkpoints', \"they've\", 'chained', 'pic.twitter.com/jyvay75hnd', 'ryan', 'lovelace', '@lovelaceryand', 'blocking', 'air', 'uniforms', 'pic.twitter.com/xverohhbwg', 'franken', 'perry', 'enjoyed', 'recently', 'thank', 'coming', 'funding', 'diaspora', 'couch', 'https://www.youtube.com/watch?v=gxrklvv4uda', 'obamacare', 'items', 'top', 'dealing', '2008', 'borders', 'crushed', 'goodness', 'president-elect', 'economic', 'advisor', 'cavuto', 'incoming', 'introduced', 'separate', 'bills', 'increase', 'chances', 'prompted', 'congressional', 'approval', 'reform', 'plan', 'primarily', 'slashing', 'corporate', 'somewhere', 'besty', 'devos', 'education', 'confirmation', 'process', 'absolutely', 'providing', 'burning', 'betsy', 'americans', 'answer', 'perfect', 'kerry', 'injured', 'credibility', 'conceivably', 'irreparable', 'irreparably', 'dramatic', 'injury', 'hurt', 'endurance', 'whatever', 'laughs', 'claps', 'audience', 'detected', 'intended', '@legbacarrefour', '#chainthetrains', 'stop', 'metropolitan', '#disruptj20exposed', 'pic.twitter.com/xot1tslzpl', \"o'keefe\", '@jamesokeefeiii', 'series', 'undercover', 'groups', 'organizations', 'seeking', 'havoc', 'brennan', 'nerve', 'cautioning', 'reuters', 'western', 'departing', 'days', 'assumes', 'presidency', 'loosening', 'sanctions', 'aww', 'poor', 'payback', 'bitch', 'reminded', '.  ...', '@sensherrodbrown', 'heard', 'cspan', '@cspan', 'cohen', 'accusations', 'grave', 'threat', 'explanation', 'missteps', 'either', 'speechwriter', 'fond', 'simply', 'proof-read', 'attacks', 'soil', 'except', 'pic.twitter.com/snplxggrhz', 'cloyd', 'drivers', '@cloydrivers', '11', '@chucktodd', '@buzzfeedben', 'buzzfeed', 'published', 'dossier', 'https://t.co/oa7fs6ivlt', '@braddjaffy', '#trump', 'hits', 'claims', '#russia', 'compromising', 'williams', 'pastors', 'jeff', 'fantastic', 'general', 'specifically', 'fearful', 'hmmm', '@socal4trump', '@seanhannity', 'nightmare', '#hannity', 'shred', 'failed', '#obamafarewell', 'teary-eyed', '@todayshow', 'annihilate', 'character', 'binder', '@jxhnbinder', 'blm', 'congressman', 'hangs', 'cop-hating', 'race-baiting', 'soon', 'pulling', 'cool', 'million', 'flailing', 'show.watch', 'goldberg', 'broke', 'facebook', '@diamondandsilk', 'pleased', 'underhanded', '@merylstreeppage', '@goldenglobes', 'insults', 'pic.twitter.com/zvjdw9rah6', 'diamond', 'silk', '9', '#russianhacking', '@barackobama', 'attempt', '@artofthedealpac', 'contains', 'zero', 'hard', '#fakenews', 'tmzolivia', 'wilders', 'proposed', 'selfie', 'partner', 'jason', 'sudeikis', 'letterman', 'looking', 'controlled', 'wow', 'hysterical', 'runs', 'circles', 'camerota', '3:30', 'frustrating', 'ideological', 'allison', 'commie', 'shows', 'rachel', 'maddow', 'loony', 'tune', 'gotta', 'throughout', 'progressives', 'blog', '@maddowblog', 'strategy', 'standing', 'agenda', '@ambjohnbolton', 'waiting', 'calendar', 'return', 'signs', 'reversed', '#dobbs', '@loudobbs', 'barnicle', 'conway', 'excuse', 'seven', 'confirmed', 'guarantee', 'courtesy', 'yesterday', 'five', 'nine', 'consequences', 'conflict', 'innocent', 'founder', 'julian', 'assange', 'emotional', 'hannity', 'effect', 'virtually', 'imprisonment', 'embrace', 'haters', 'kindness', 'triggered', 'avalanche', 'butt-hurt', 'snowflakes', 'happy', 'including', 'enemies', 'fought', 'badly', 'december', 'wasted', 'pierced', 'yikes', 'begins', 'awful', 'sentence', 'function', 'various', '=d', 'ocument.createelement', 'transcript', ');', 'js.src', 'countdown', '650,000', 'leaves', '};', 'documents', 'getelementsbytagname', '];', 'throwing', 'mar-a-lago', 'expected', 'drawn', 'hundreds', 'sylvester', 'credit', 'scavino', 'following', 'campaigned', 'losing', 'decided', 'putin', 'kinda-sorta', 'iran', 'attempts', 'forcing', 'without.read', 'twitchy', 'assistance', 'frequented', 'church', 'decades', 'married', 'third', 'current', 'melania', '2005', 'youngest', 'person', 'barron', 'christened', 'attended', 'bethesda-by-the-sea', 'eastern', 'earlier', 'michael', 'jordan', 'watched', 'oprah', 'ladies', 'talked', '#presidentelecttrumpabsolutely', 'watchtoday', 'people.we', '#makeamericagreatagainplease', 'pic.twitter.com/wsbpckr8np', 'november', '20th', \"can't\", 'anti-american', 'sympathizer', '#worstpresidentever', 'pic.twitter.com/d20c8phh18', 'hirsch', '@stevenwhirsch99', 'glenn', 'beck', 'forbes', 'managed', 'monetize', 'everything', 'mouth', 'seemingly', 'profound', 'heart', 'empathize', 'op-ed', 'blaze', 'samantha', 'huckabee', 'frontal', 'declared', 'enemy', 'precedent-elect', 'mr', 'brexit', 'apprentice', 'host.complex', 'spotted', 'pic.twitter.com/nyspmpugdq', '@timrunshismouth', 'doubled', 'distanced', 'middle', 'class', 'results', 'selling', 'technology', 'leaders', 'bounce', 'everybody', 'pic.twitter.com/lnhvhg31wq', 'idiot', 'libtards', 'straight', 'owned', 'pic.twitter.com/eoklflkiqy', 'kanye', 'west', 'greeted', 'tower', 'jumped', 'training', 'anomaly', '@anomaly1', 'pic.twitter.com/yzt2dzb1zp', 'steven', 'smith', '@repstevensmith', 'unexpected', 'patience', 'fools', 'outspoken', 'atomic', 'lahren', 'makes', 'failing', 'blaming', 'loss', 'favoritism', 'censoring', 'de-prioritizing', 'leading', 'posts', 'reid', 'kaine', 'staffers', 'sobbing', 'monica', 'albania', '@albamonica', 'awesome', '@kellyannepolls', 'sponsored', 'winner', 'champion', 'square', 'defending', 'romney', 'biggest', 'concerned', 'russian', 'interference', '2012', 'elections', 'unlikeable', 'elitist', 'familiar', 'fresh', 'ideas', 'entitled', 'house.what', 'absurd', 'reality', 'spread', 'truthfeedrush', 'limbaugh', 'brilliantly', 'montage', 'jeanine', 'pirro', 'attitude', 'opening', 'behind', 'flag', 'celebration', 'assuming', 'capable', 'dignity', 'weeks', 'ago', 'darling', 'tct', '#tucker', '@tuckercarlson', 'calculator', 'asinine', 'wonder', 'sick', 'creating', 'https://youtu.be/pyexshboweu', 'beautiful', 'water', 'naysayers', 'swimming', 'malignant', 'narcissistic', '#themessytruth', 'joe', 'biden', 'yeah', 'run', '2020', 'https://t.co/fsrl25ad12', 'pic.twitter.com/gmco1pkjil', 'cost', 'development', 'costs', 'reached', 'todd', 'harrison', 'analysts', 'strategic', 'international', '@garretthaake', 'canceling', 'contract', 'wusa', 'kellyanne', 'pic.twitter.com/t5i68k0gw4', 'examiner', '@dcexaminer', 'duffy', 'rising', 'stars', 'slow', 'vote', 'counting', 'bitter', 'wisconsin', 'installing', 'recount', 'stealing', 'electoral', 'shrill', 'carla', 'marxist', 'wannabe', 'less', 'internationally', 'requested', 'michigan', 'though', 'officially', '10,704', 'pushing', 'pursuing', 'pennsylvania', 'totals', 'fully', 'understand', 'internal', '@andersoncooper', 'level', '@senwarren', 'name-calling', '#bannon', 'https://t.co/px6tznercp', 'william', 'bairamian', '@bairamian', 'jill', 'stein', 'agreed', 'hacks', 'becomes', 'awkward', 'hosts', 'begin', 'carrier', 'employees', '#peotus', '@mike_pence', '@danscavino', 'ohio', 'university', 'assistant', 'residence', 'life', 'stephanie', 'clemons', 'thompson', 'urged', 'sympathy', 'attacker', 'abdullah', 'razak', 'spartanburg', 'caller', 'foundation', 'independently', 'verify', 'authenticity', 'unavailable', 'comment', 'time.clemons', 'urging', 'suggesting', 'aware', 'controversial', 'nature', 'language', '@jordanfabian', '#voterfraud', '#dncinphl', 'resigned', '@pveritas_action', 'hidden', 'pic.twitter.com/7vhuqpejc0', 'breakthrough', 'mcfarland', 'deputy', 'ranks', 'experienced', 'informed', 'otherwise', 'foreign', 'policy', 'experts', 'lieberman', 'released', 'honor', 'compassion', 'patriotism', 'eight', 'blows', 'wolfie', 'blinker', 'pushes', '#crookedmedia', 'pic.twitter.com/gf57wv6wyi', '23', 'dumping', 'crimes', 'delivered', 'final', '#thanksgiving', 'address', 'pic.twitter.com/1owl8eoow2', 'gigi', 'hadid', 'apology', 'basically', 'mocked', 'taught', 'heartfelt', ':p', 'ic.twitter.com/6nuxjkx68o', '@gigihadid', 'yorkers', 'building', 'defends', 'hamilton', 'scrap', 'https://t.co/11uip8ckfi', 'https://t.co/vnk4rohy4m', '#breaking', '@realbencarson', 'transition', 'served', 'preferences', 'stay', 'outside', 'concluded', 'serious', 'consideration', '11:20', '@ingrahamangle', 'decimates', '@thejuanwilliams', 'radicals', 'despise', '#fns', '#ttt16', 'pic.twitter.com/wk0qlbsgxu', 'brent', '@brenthbaker', '@missdiagnosis', \"he's\", 'citizens', 'pic.twitter.com/qv6xui89le', 'holderness', 'funniest', 'exception', 'booed', 'seats', 'pic.twitter.com/irqg68x1sb', '@dkipke12', '19', '2016yes', '#mikepence', '@hamiltonmusical', 'pic.twitter.com/yijt7jz3gf', '@ghaney22', 'pompeo', 'investigating', 'benghazi', 'hard.in', 'questions', 'sidney', 'blumenthal', 'provided', 'briefings', 'government.when', 'sharing', 'lookout', 'suppression', 'viewpoints', 'reverse', 'trend', 'prayed', 'knew', 'deleted', 'number', 'african', 'killing', 'outweighs', 'whites', 'voted', 'billy', '18', '2016donald', 'bit', 'sjws', 'customers', 'requesting', 'coffee', 'occupied', 'pic.twitter.com/wlboxgzezf', '2016via', 'admits', 'easiest', 'cbs', '@cbsnews', 'eventually', 'ascertained', 'whereabouts', 'bloomberg', 'dining', 'midtown', 'spokeswoman', 'hicks', 'nbc', 'daughter', 'husband', 'reasons', 'restaurant', '@kriskobach1787', 'nuclear', 'sanctuary', 'cities', 'mayors', 'continue', 'defying', 'law', 'pic.twitter.com/mgryjdcdfi', 'faces', 'jaw-dropping', 'calm', 'signals', 'https://t.co/hu5i7gucps', 'https://t.co/3wmfds12sb', '2016here', 'skip', 'beginning', 'volumes', 'pure', 'torture', 'supporters.pic.twitter.com/mxge5qooyi', '911', '@breaking911', 'portland', 'purchasing', 'blocks', 'pic.twitter.com/zjyr5c5h5x', 'mister', '@mistermetokur', '2016the', 'track', 'screaming', 'peaceful', 'bricks', 'pic.twitter.com/zzg91b1ax8', 'grandmother', 'hubbard', 'opinion', 'organized', 'thugs', 'disrupt', 'roadways', 'presidential', 'areas', 'gain', 'giving', 'ferguson', 'mind', 'mexican', 'flags', 'funded', 'largest', 'contributors', 'globalist', 'advertising', 'rallies.https', 'youtu.be/td4-uelqikc', 'challenges', 'situation', '@cnnsitroom', 'laughed', 'morning', \"they're\", 'devastated', 'pic.twitter.com/a0xapdid7k', 'harlan', '@harlan', 'pic.twitter.com/ulisjcoiig', 'stacy', '@stacyontheright', 'moment', 'nixon', 'dogwhistles', 'populism', 'wallace', 'racial', 'fears', 'divisiveness', 'played', 'playing', 'exactly', 'worst', 'elements', 'rejected', 'socialism', 'cronyism', 'corruption', 'polls', 'crooked', 'reacted', 'excruciating', 'hello', 'darkness', '#notmypresident', 'inside', 'polling', 'station', '#election2016', '#vote', 'sharon', 'clotting', 'flint', 'sterling', 'heights', 'endless', 'overflowing', '360', 'degrees', 'raucous', 'spilled', 'amphitheater', 'major', 'garrett', 'linked', 'hacked', 'emails', 'dnc', 'crisp', 'lawyerly', 'trey', 'gowdy', 'questioning', 'jim', 'astonishing', 'recommendations', 'proving', 'extremely', 'carelessness', 'mishandling', 'classified', 'tenure', '#sourceshaveconfirmed', 'pic.twitter.com/deovu9edzv', 'mags', '@magnifier661', 'october', 'andrew', 'breitbart', 'responsible', 'shouting', 'anthony', 'weiner', 'reputation', 'gutter', 'outlets', 'modern', 'goliath', 'reopening', '2000', 'investigators', 'pic.twitter.com/dhr7cnz8bc', '@mikepencevp', 'july', 'disclaimer', 'account', 'parody', 'awkwardly', 'angrily', 'choose', 'six', 'looks', 'nervous', '#hillaryindictment', 'pic.twitter.com/ityoympq9c', 'comrades', 'hysteria', 'falsely', 'agencies', 'assessed', 'publications', 'australian', 'broadcaster', 'pilger', 'dartmouth', 'films', 'learned', 'interviews', '302s', 'aides', 'human', 'abedin', 'personal', 'update', 'receiving', 'devices', 'blackberry', 'cubs', 'indians', '1908', 'montgomery', 'martinez', 'ground', 'clinch', 'world', '18-7', 'victory', 'beginnings', 'prison', 'popped', 'couple', 'nights', 'https://twitter.com/ten_gop/status/793890171058085888here', 'letter', 'copy', 'harder', '@floridagop', '@blaiseingoglia', 'alleging', 'violations', 'broward', 'ballot-by-mail', 'attached', 'pic.twitter.com/muu483fifl', 'heather', 'lacy', '@heather_lacy1', 'laptop', 'containing', 'backup', 'estranged', 'smartphone', 'contacts', 'computer', 'backed', 'in-depth', 'right-hand', 'calls', 'clearance', 'jimmy', 'carter', 'pollster', 'caddell', 'predicting', 'tsunami', 'reminiscent', 'carter-reagan', 'ahead', 'reagan', 'landslide', 'danney', 'tragic', 'sweet', 'sincerely', 'credible', 'willing', 'everyone', '@danney_williams', '@iamsteveharvey', '@megynkelly', '@theview', '@wendywilliams', '@realdlhughley', 're-tweet', '#deadbeatdad', 'pic.twitter.com/bgfmdttpfr', 'same-sex', 'marriages', 'laterdgr', '@debbersgar', 'writer', 'producer', 'mcmaster', 'puppet', 'necessarily', 'order.the', 'backstory', 'costume', 'hrc', 'nope', 'lawless', 'justifies', 'presiding', 'morals', 'respect', 'laws', 'https://twitter.com/wdfx2eu7/status/792465012585406464', 'august', 'communications', 'palmieri', 'revealed', 'discussing', 'sober', 'worried', 'cheryl', 'mills', 'hours', 'respond', 'said.via', 'gps', 'senile', 'willie', 'north', 'carolina', 'problems', 'dana', 'bashar', 'wishes', 'shuts', 'taking', \"hotel's\", 'grand', 'pic.twitter.com/ltlau1jkbq', 'msnbc', 'powerful', 'deplorable', 'wikipedia', 'dominion', 'voting', 'half', 'machines', 'click', 'corresponding', 'highlighted', 'takes', 'closed', 'page', 'drain', 'swamp', 'laughing', 'introducing', 'scrutiny', 'rallies', 'intentionally', 'pauses', 'notices', 'omission', 'skips', 'god', 'speech.hey', 'disrespect', 'someday', 'choke', 'indivisible', '#hillarysamerica', '#votetrump', '#draintheswamp', '#trumptheestablishment', '#maga3x', 'pic.twitter.com/kkessw2puc', 'mama', '@tteegar', 'pandered', 'ignoring', 'communities', 'meets', 'constructive', 'future', 'varney', '@varneyco', 'deplorables', 'retired', 'effectively', 'pre-coverage', 'beach', 'infowars', 'rape', 't-shirt', 'trumpers', 'yelling', 'sucks', 'integrity', 'genie', 'bottle', 'explored', 'eager', 'droves', 'augustine', 'florida', 'packed', 'winning', 'users', 'duck', 'reference', 'veritas', 'showing', 'collision', 'underground', 'committing', 'massive', 'fraud', 'assisted', 'living', 'arrangement', 'pretty', 'neither', 'shape', 'without', 'constant', 'medical', 'supervision', 'warren', '@elizabethforma', 'nasty', 'smart', 'pic.twitter.com/ruiw7yzxc8', 'dennis', 'prior', 'acronym', 'shawn', 'speaks', 'experience', 'digenova', 'slammed', 'handling', 'server', 'currently', 'consider', 'oversight', 'sighing', 'reads', 'teleprompter', 'meant', 'shady', 'manager', 'robby', 'mook', 'christian', 'criminal', 'behavior', 'okay', 'using', 'stolen', 'returns', 'refuses', 'anderson', 'cooperation', 'classy', 'hawaii', 'gay', 'rights', 'throw', 'gays', 'buildings', 'brings', 'hill-arious', 'heckler', '@wolfblitzer', 'asst', 'kallstrom', 'endorses', 'tubes', 'pic.twitter.com/ym6yxwhah6', 'slams', 'cuomo', 'kidding', 'https://twitter.com/always_trump/status/787673496537092096sounds', 'legitimate', 'anymore', 'blames', 'vows', 'contributor', 'observers', 'cases', 'throngs', 'accusing', 'defeat', 'races', 'lifetime', 'terrance', 'notify', 'cdc', 'spreading', '#bencarson', '#morningjoe', '#trumpflu', 'https://t.co/ouseia7gvs', '@abcpolitics', '@b_c_p_source', 'sounds', 'communist', 'https://twitter.com/ten_gop/status/786697347254419456', 'tackled', '#clinton', '#lasvegas', 'vegas', 'pic.twitter.com/sjvgvfnpgt', 'treanor', '@newstreanor', 'anonymous', 'loosely', 'associated', 'hacktivists', 'threatening', 'plunged', 'chaos', 'sexual', 'abuse', 'enabler', 'tape', 'raping', 'girl', 'releasing', 'alleged', 'filmed', 'billionaire', 'buddy', 'convicted', 'pedophile', 'epstein', 'island', 'hiding', 'alleges', 'divulged', 'laden', 'violation', 'e-mails', 'guess', 'detests', 'everyday', 'surprised', 'proven', 'admittedly', 'related', 'regular', 'folks', 'built', 'invited', 'addressed', 'onto', 'stage', 'incredibly', 'paula', 'juanita', 'broaddrick', 'kathleen', 'willey', 'models', 'everywhere', 'demand', 'rapists', 'anywhere', 'alone', 'abuzz', 'flynn', 'landed', 'strange', 'garbage', 'named', 'longtime', 'diane', 'blair', 'uncensored', 'remarks', 'lewinsky', 'pursued', 'clooney', 'cartoon', 'influential', 'purposes', 'pleasuring', 'huh', 'damning', 'reveals', 'necessary', '70', 'trust', '2b', 'policies', '4us', 'idiots', '#podestaemails', 'pic.twitter.com/gdfjwbqbdq', 'stock', 'monster', '@stockmonsterusa', 'architect', 'premiums', 'higher', 'methodical', 'growth', '#vpdebate', 'frank', 'luntz', '@frankluntz', 'droning', 'saddened', 'superior', 'exploded', 'unseen', 'race', 'personality', 'amazing', 'stories', 'treats', 'genuine', 'others', 'missile', 'heartbreaking', 'admiration', 'unmistakeable', 'carried', 'boller', 'electing', 'comprised', 'variety', 'types', 'institutions', 'angles', 'entertaining', 'starting', 'underwhelming', 'events', 'akron', 'cancelled', 'due', 'doctor', 'theory', 'commercial', 'considering', 'testosterone', 'levels', 'wbbh', 'nestor', 'inflammatory', 'reports.florida', 'https://t.co/6iuumr7s5s', 'pic.twitter.com/ljn6d2vwru', '@nbcnews', '2016watch', 'https://youtu.be/bokklozojso', 'salivates', 'criticized', 'loopholes', 'avoid', 'taxes', 'ignored', 'scheme', 'poorest', 'haiti.here', 'donated', 'residents', 'haiti', 'enrich', 'wonderful', 'description', 'city', 'pigs', 'inspired', 'hispanics', 'drove', 'signs.one', 'resisted', 'thievery', 'beat', 'yard.obama', 'america.https', 'twitter.com/ausaesthetics/status/782140974847832064', 'believes', 'twice', 'putting', 'accused', 'serial', 'shouts', '#basementdwellers', 'pic.twitter.com/9dpstlanqu', '2016hillary', 'victims', 'msg', '#trumppence16', 'miller', '@cyvault', 'south', 'parodied', 'over-prepared', 'instructions', 'other.read', 'subprime', 'conspiracy', 'produced', 'apple', 'logo', 'poster', 'plastered', 'punishment', 'revenge', 'lessen', 'frythis', 'homeowners', 'booby-trapped', 'sneaky', 'attempted', 'property', 'saw', 'perfectly', 'unacceptable', 'attempting', 'lifelong', 'goal', 'glass', 'ceiling', 'cellphones', 'hammer', 'liars', 'supporter.enjoy', 'confessed', 'bias', 'popular', 'chance', 'https://youtu.be/vkgihwzxhki', 'seeds', 'flatiron', 'kreutz', '@abcliz', 'ashamed', 'brandon', 'tatum', 'delivers', 'youtube', 'channel', 'excerpt', 'promised', 'worth', 'watching', 'idiotic', 'brainiacs', 'problem', 'company', 'duh', '#saturdaymorning', 'busted', 'pool', 'lawn', 'naples', 'flvote', 'pic.twitter.com/etq6vzgkrk', 'proof', 'gary', 'johnson', 'mentally', 'bunch', 'celebrities', 'hijacked', 'pompous', 'retweeted', 'viral', 'animus', '#electionnight', '@thepatriot143', 'redneck', 'short', 'corner', 'bravo', 'nailed', 'notion', 'incorrectness', 'somehow', 'dare', 'huge', 'shaking', 'offensive', 'josh', 'gottheimer', 'opponents', 'divisive', 'demeaning', 'alabama', 'georgia', 'stereotyped', 'jersey', 'goofball', 'packing', 'doubt', 'despicable', 'sociopathic', 'typically', 'defined', 'incessantly', 'often', 'goal-oriented', 'focused', 'sociopaths', 'regarding', 'feelings', 'others.https', 'twitter.com/hlllaryclint0n/status/777660956088406017', 'responsibility', 'rise', 'horrible', '550', 'saturday', 'bomb', 'stabbed', 'cloud', 'worry', 'aleppo', 'bangladesh', 'improbable', 'professional', 'rooting', 'plane', 'responds', 'explosion', 'crowder', 'knocks', 'limitations', 'painting', 'mooch', '#crookedhillary', 'trail', 'drum', 'female', 'gonna', 'freeloaders', 'start', 'mooching', 'mother', 'spouse', 'https://twitter.com/ten_gop/status/776879408724541444', 'defacing', 'kinda', 'stranger', 'warrant', 'dakota', 'charging', 'trespassing', 'mischief', 'pipeline', '1st.the', 'fruitcakes', 'rabble-rousing', 'rouser', 'evaluation', 'lol', 'transportation', 'walks', 'button', 'genuinely', 'spontaneous', 'situations', 'refreshing', 'polished', 'carefully', 'measuring', 'action', 'wondering', 'affected', 'forget', 'bloody', '#basketofdeplorables', 'pic.twitter.com/vrn2gqiyzo', '@tallahfortrump', 'lester', 'naval', 'flight', 'sensitive', 'compartmentalized', 'access', 'materials', 'highly', 'fighting', 'capabilities', 'communicated', 'prescribed', 'protocols', 'prosecuted', 'imprisoned', 'trusted', 'confidence', 'leadership', 'corrupted', 'libertarian', 'upcoming', 'cheerleaders', 'halperin', 'disgusted', 'dealings', 'willingness', 'provide', 'formerly', 'respected', 'exhibiting', 'unexplainable', 'roberts', 'answering', 'syndicate', 'closer', 'spins', 'numbers', 'heading', 'youngstown', '#americafirst', 'pic.twitter.com/cgwdlsofut', 'covers', 'reminding', 'obsession', 'mccain', 'confused', 'survive', 'remainder', 'grueling', 'season', 'reckless', '#unfithillary', 'threatened', 'easier', 'carry', 'running', 'feels', 'deserves', 'highest', 'equipped', 'genitalia', 'supports', 'changing', 'shame', 'visiting', 'detroit', 'promote', 'helping', 'wayne', 'bradley', 'patty', 'succeed', 'beyond', 'hang-on', 'brooke', 'desperately', 'discredit', 'blackberries', 'machine', 'sinking', 'bail', 'save', 'https://twitter.com/magnifier661/status/771874124884905984', 'honest', 'canned', 'adults', 'desperate', 'fails', 'easy', 'accountable', 'actions', 'lived', 'oakland', 'robbed', 'gun-point', 'hard-working', 'right-wing', 'extremists', 'brown', 'cheating', 'hardworking', 'right-wingers', 'pic.twitter.com/rqyewnshpu', 'oak-town', 'unfiltered', '@hrtablaze', 'offense', 'suggested', 'well-known', 'turning', 'timely', 'context', 'considered', 'four', 'casually', 'stupidly', 'obliged', 'abundantly', 'dispels', 'throws', 'claiming', 'racists', 'online', 'dislikes', 'poll', 'sampling', 'trips', 'convenience', 'habitual', 'facet', 'intends', 'facets', 'endorsement', 'union', 'sorry', 'jealous', 'grilled', 'teachers', 'foreground', 'clue', 'clintons', 'prosecutors', 'investigate', 'fine', 'faulty', 'testimony', 'mojo', 'career', 'taken', 'challenge', 'murdered', 'snapshot', 'donors', 'treated', 'factual', 'manner', 'politically', 'pastor', 'burns', 'chanted', 'fredericksburg', 'jackson', 'posobiec', '@angrygotfan', 'yelled', 'boost', 'chants', 'louisiana', 'totally', 'backfires', 'jerry', 'obviously', 'panthers', 'gofundme.com/2khyfguc', 'guessed', 'vacations', 'bargaining', 'strikes', 'doubts', 'insecurities', 'foibles', 'sleep', 'leisure', 'armed', 'picked', 'rousing', 'osama', 'bodyguard', 'uae', 'insanity', 'milwaukee', 'ransacked', 'small', 'businesses', 'unreal', 'longer', 'version', 'looting', 'codes', 'balls', 'cronies', 'indicted', 'surrender', 'verdict', 'precisely', 'book.https', 't.co/0qv7rti0mc', '2016bravo', 'afshin', 'rattans', 'ecuadorian', 'embassy', 'london', 'recent', 'connection', 'connections', 'tyranny', 'biased', 'pic.twitter.com/yputxpotou', '@trumpvotes', 'ecj', 'pierson', 'sending', 'grandchildren', '7:30', 'surveyed', 'song', 'neighboring', 'sheryl', 'attkisson', 'describes', 'bureau', 'death', 'rather', 'received', 'feds', 'thinks', 'describing', 'studies', 'certainly', 'waved', 'finger', 'traitor', 'home', 'open', 'noah', 'gray', '@noahgraycnn', 'college', 'oliver', 'irrefutable', 'gives', '12,000', 'gun', 'cares', 'lawlessness', 'outright', 'laundering', 'association', 'builders', 'increases', 'proposing', 'feminist', 'orlando', 'father', 'ballistic', 'spokesperson', 'crazyand', 'planet', 'masterful', 'pundits', 'bury', 'hand', 'rudy', 'stays', 'giuliani', \"hillary's\", 'inviting', 'omar', \"mateen's\", \"msm's\", 'orchestrated', 'narrative', 'pic.twitter.com/k94fbotmwa', 'viktor', 'field', '@viktorfiel', 'chicago', 'concert', 'somalia', 'joint', 'footsteps', 'twerking', 'flashes', 'booty', 'mccaughey', 'straightforward', 'transparent', 'baghdad', 'vip', 'guest', 'so-called', 'shouted', 'targets', 'refused', 'pledged', 'susan', 'collins', 'ratings', 'liberty', '90', 'reply', 'nuts', 'terms', 'salad', 'usually', 'spin', 'ballots', 'website', 'stephen', 'larry', 'kudlow', 'bright', 'minds', 'worked', 'parts', 'safe', 'debates', 'bashed', 'sent', 'manufacturers', 'kicker', 'bashes', 'pantsuits', 'numerous', 'hecklers', '10th', 'costello', 'pro-trump', 'anti-clinton', 'driven', 'photos', 'grounds', 'raised', 'struggling', 'fall', '400', 'payments', 'shahram', 'amiri', 'iranian', 'scientists', 'frightening', 'sebastian', 'gorka', 'instability', 'spinning', 'protect', 'judicial', 'discusses', 'unlawful', 'ransom', 'wonders', 'attention', 'issues', 'matters', 'diehard', 'stuff', 'quotes', 'sheriff', 'beef', 'sees', 'food', 'stamps', 'inescapable', 'poverty', 'unemployment', 'pic.twitter.com/le2kyibuvp', 'nafta', 'defended', 'outsourcing', 'gentlemen', 'workers', 'https://twitter.com/magnifier661/status/761359175716712448is', 'indiana', 'innovation', 'gut-wrenching', 'loesch', 'slowdown', 'second', 'amendment', 'regularly', 'restrictions', 'sentences', '214', 'convicts', '56', 'gun-related', 'control', 'navy', 'seal', 'tyrone', 'newsroom', 'badgered', 'feud', 'khizr', 'khan', 'apologize', 'freaks', 'phony', 'moderate', 'agents', 'surrounding', 'politico', '@politico', 'loretta', 'lynch', 'doj', 'deray', 'mckesson', 'tomorrow', 'organization', 'remaining', 'truly', 'examples', 'manipulates', 'low-information', 'believing', 'wrongdoing', 'crystal', 'guilty', 'philly', 'convention', 'strides', 'too.there', 'cleveland', 'peace', 'difference', 'versus', 'islamists', 'takeaway', 'english', 'spanish', 'dorothy', 'widow', 'hero', 'cassandra', 'sense', 'sovereignty', 'fairbanks', 'sputnik', '69k', 'fans', 'switching', 'allegiance', 'colorado', 'springs', 'snoozer', 'asleep', 'classic', 'deprived', 'historically', 'movie', 'broadcasts', 'starts', '1:00', 'touch', 'identity', 'divided', 'kkk', 'massachusetts', 'creek', 'paddle', 'cleaner', 'disagrees', 'caged', 'area', 'shutting', 'delegates', 'primary', 'bayer', 'deceptively', 'guns', 'sort', 'legislation', 'buy', 'grabbing', 'threw', 'geraldo', 'queen', '1000', 'berners', 'walked', 'oregon', '#dncwalkout', '1/2', 'empty', '#demexit', 'https://t.co/1ug9312as6', '#alllivesmatter', '@bootstrapzorg', 'grayson', 'addressing', 'pandering', 'karma', 'pic.twitter.com/qu9hzcmdrj', 'collusion', 'rigging', 'whoa', 'tongue-and-cheek', 'assumed', 'humorous', 'behave', 'seizure', 'thoughts', 'acting', 'out.watch', 'travels', 'full-time', 'physician', 'motivates', 'sickening', 'heathens', 'looked', 'lefty', 'philadelphia', 'denying', 'animated', 'whole', 'gestures', 'illustration', 'helps', 'decoder', ':d', 'most-used', 'movements', '14:00', 'stopped', 'offended', 'blowing', 'jackwagon', 'weekend', 'cash', 'tone', 'nomination', 'devastating', 'presumptive', 'powerfully', 'connects', 'dots', 'generous', 'glick', 'shared', 'picture', 'instagram', 'wrapped', '#trumppence', '#makeamericagreatagain', 'heavy', 'lifted', 'expressed', 'cracking', 'jokes', 'brutal', 'spent', 'convince', 'acceptance', 'digital', 'slogan', 'expectations', 'exceeded', 'grace', 'delivery', 'introduction', 'bravado', 'drive', 'ingraham', 'reminds', 'declined', 'booing', 'ultimately', 'championship', 'respects', 'rnc', 'pitiful', 'anarchy', 'step', 'yanked', 'https://t.co/vpms0ezzts', '#resistrnc', '#rncincle', 'pic.twitter.com/qwibqp7son', 'unicorn', '@ur_ninja', 'plagiarism', 'dances', 'topic', 'silly', 'pivots', 'fashioned', 'natural', 'topics', 'honesty', 'floor', 'broadcasting', 'deciding', 'chad', '@chadlivengood', 'scarborough', 'skewers', 'promoted', 'began', 'massacres', 'policemen', 'fairly', 'pathetic', 'holy', 'smokes', 'danish', 'blithering', 'robot', 'greeting', 'marcus', 'luttrell', 'warned', 'refutes', 'lawmakers', 'nigel', 'farage', 'successfully', 'engaged', 'england', 'britain', 'shepard', 'editorializing', 'bobby', 'jindal', 'baton', 'rouge', 'lectured', 'insulted', 'such.breaking', 'emergency', 'suspended', 'firearms', '@reuters', '2016does', 'hosting', 'supported', 'guys', 'islamist', 'chose', 'moderates', 'parties', 'democratically-elected', 'restraint', 'bloodshed', 'underscored', 'safety', 'military', 'in-your-face', 'regime', 'breathtaking', 'answered', 'complicated', 'found', 'apply', 'leads', 'indictment', 'brutality', 'color', 'blind', 'liked', 'antonio', 'sabato', 'tmz', 'remixes', 'callousness', 'self-serving', 'bully', 'example', 'coddling', 'defamatory', 'recommending', 'emphasized', 'allowed', 'ownership', 'uranium', 'sell', 'missouri', 'upset', 'handing', 'hunting', 'permit', 'stickers', 'wait', 'cairo', 'objective', 'ex-navy', 'thin-skinned', 'brain', 'anything', 'shameful', 'mexicans', 'blacks', 'anybody', 'dozens', 'geist', 'nra', 'gorman', 'parallels', 'ukraine', 'one-of-a-kind', 'humor', 'mayhem', 'intellectual', 'froglegsintellectual', 'froglegs', 'temperament', 'byrne', 'unusual', 'spills', 'cameras.watch', 'shocking', 'height', 'saxony', 'cats', 'connecting', 'manafort', 'gosh', 'boys', 'minorities', 'detest', 'affleck', 'movies', 'rabid', 'defenders', 'rails', 'deflate', 'controversy', 'belligerent', 'slur', 'appearing', 'cross-eyed', 'maher', 'melissa', 'wore', 'shop', 'verbally', 'attacked', 'argument', 'sparked', 'veto', '@sweetatertot2', 'june', 'https://twitter.com/sweetatertot/status/751246223991013377#breaking', 'mateen', 'impression', 'aiello', 'chicago-area', 'impersonated', 'candidates', 'grade', 'graduation', 'starring', 'fallon', 'wednesday', 'entered', 'performed', 'indoctrinated', 'indoctrinating', 'colleges', 'universities', 'disturbing', 'original', 'mccarthy', 'greenfest', 'insists', 'climate', 'telephone', 'booth', 'deniers', 'eyes', 'boom', 'insane', 'actor', 'province', 'vaughn', 'scully', 'evils', 'socialism-epic', 'pic.twitter.com/7xenf56eoy', 'timothy', 'burke', '@bubbaprog', 'patrick', 'cmte', 'avoidance', 'atlanta', 'twisted', 'forth', 'richard', 'elliot', 'clueless', 'vague', 'jihadists', 'interconnected', 'caliphate', 'fifty', 'perhaps', 'bernardino', 'scorn', 'although', 'pause', 'temporary', 'reporting', 'trojan', 'horse', 'openly', 'dodge', 'resettlement', 'tool', 'answers', 'mentions', 'border', 'rare', 'uncomfortable', 'pelley', 'robotics', 'interrupted', 'faith', 'blamed', 'outbursts', 'researching', 'wrap-up', 'primaries', 'discovered', 'google', 'manipulating', 'autocomplete', 'favor', 'searches', 'objectively', 'reflecting', 'internet', 'violating', 'algorithm', 'research', 'newspaper', 'result', 'manipulation', 'potential', 'substantially', 'outcome', 'encounter', 'founding', '1854', 'surpassed', 'historical', 'stacks', 'overview', 'match', 'hedge', 'end.https', 'youtu.be/no7gabboif0', 'mexican-american', \"i'm\", \"that's\", '#trump2016https', 'documentary', 'islamization', 'documentary-in-progress', 'uncovers', 'ongoing', 'accelerating', 'indoctrination', 'smiles', 'collapse', 'damn', 'proud', 'deemed', 'mexico', 'hell-hole', 'weak-ass', 'bullshit', 'assault', 'luckily', 'captured', 'seriously', 'rosenstein', 'pocketed', 'hampshire', 'perpetuate', 'hispanic', 'mobile', '#rollingthunderhttps', 't.co/50evxarkt2', 'motorcyclists', 'attending', 'annual', 'rolling', 'thunder', 'gathering', 'soldiers', 'missing-in-action', 'mentioned', 'supportive', 'forward', 'stoop', 'challenged', 'cameraman', 'rebels', 'ronald', 'memorial', 'epitomizes', 'gratitude', 'battle', 'serving', 'behaving', 'yells', 'phrase', 'loooong', 'twisting', 'norton', 'challenging', 'school', 'recite', 'along', 'definition', 'wisdom', 'know-it-all', 'rino', 'pdthere', '#nevertrump', 'losers', '#feelthebernofsocialismunivision', 'leon', 'krauze', 'disavowed', 'latino', 'anger.watch', 'flush', 'travel', 'management', 'launched', 'targeted', 'shoppers', 'minnesota-based', 'simple', 'message.watch', 'discovering', 'one-liners', 'huffpost', 'retorted', 'handles', 'alternative', 'huffington', 'visit', 'hiroshima', 'honour', 'arriving', 'japan', 'summit', 'turmp', 'magic', '1238', 'depaul', 'junior', 'katie', 'danforth', 'crybabies', 'philippines', 'robertson', 'dynasty', 'endorsed', 'weighs', 'hottest', 'lifting', 'arms', 'vietnam', 'gleefully', 'filibuster', 'china', 'minh', 'symbolism', 'pitfalls', 'gaffes', 'refusal', 'combat', 'disservice', 'deployed', 'capacity', 'remained', 'arsenal', 'grenades', 'narrates', 'translates', 'greta', 'vetting', 'greg', 'abbott', 'willed', 'trailer', 'jorge', 'ramos', 'nail', 'defence', 'sticky', 'bezos', 'diggers', 'bought', 'prevent', 'taxed', 'schlapp', 'ralph', 'peters', 'saved', 'invade', 'alive', 'fight.and', 'sheer', 'japanese', 'invaded', 'nuked', 'wwii', 'germany', 'hitler.it', 'imperial', 'camden', 'reciting', 'insurance', 'risen', 'dramatically', 'babbling', 'dumb', 'unloaded', 'terrible', 'healthcare', 'clips', 'heartless', 'scummy', 'jerks', 'reilly', 'howard', 'bathroom', 'racism', 'segregation', 'slavery', 'announces', 'lawsuit', 'graduates', 'jerky', 'grads', 'lucky', 'among', 'lecture', 'phone', 'livid', 'shoved', 'congratulated', 'congratulations', ':)', 'gavin', '@gavin_mcinnes', 'fanatics', 'represents', 'weston', 'lgbt', 'sadiq', 'mayor', 'connected', 'questionable', 'goodbye', 'pic.twitter.com/5iwqttutqv', 'alison', 'parking', '@cronikeys', 'proliferation', 'complaining', 'candidacy', 'reelection', 'miners', 'weaknesses', 'strengths', 'https://t.co/lygcyhb7ba', 'mollie', '@mzhemingway', 'ignorant', '10,000', 'industry', 'continuation', 'vicente', 'apologized', 'wall', 'interviewed', 'forgiveness', 'qualities', 'beings', 'compassionate', 'humble', 'wealthy', 'neighbors', 'fluke', 'towing', 'life-long', 'afl-cio', 'combined', 'deeply', 'subscribe', 'coddled', 'protected', 'incapable', 'council', 'kris', 'murray', 'knight', 'unless', 'authority', 'mid-interview', 'lackluster', 'smells', 'deals', 'establishment', 'recommends', '@cnnpolitics', 'vitriol', 'commies', 'pepper', 'spraying', 'never-trumper', 'hayes', 'weekly', 'elites', 'ignorance', 'bliss', 'happiest', 'earth', 'rhodes', 'arrivals', 'grown', 'frenzy', 'anytime', 'infighting', 'keystone', '52-48', 'appointments', 'finishing', 'joining', 'gang', 'bigger', 'gangs', 'waterbury', 'connecticut', 'promptly', 'tossed', 'steer', 'direction', 'huddled', 'meetings', 'plotting', 'planning', 'kicked', 'finished', 'game', 'changer', '#cruzsexscandal', 'distant', '3rd', 'statistically', 'impossible', 'accounts', 'fluid', 'colonel', 'congress', '9/11', 'freebies', 'backs', 'secure', 'infrastructure', 'parliament', 'ominous', '74', 'beatings', 'toll', 'baseless', 'spew', 'label', 'repeating', 'goebbels', 'hitler', 'mastermind', 'etc', 'cold', 'skit', 'brooklyn', 'louis-dreyfus', 'reprises', 'elaine', 'benes', 'seinfeld', 'kate', 'mckinnon', 'existence', 'hinted', 'loyalists', 'socialism.if', 'systems', 'auditoriums', 'bernie-bots', 'naively', 'theorists', 'technophobes', 'vendors', 'alright', 'pretending', 'conservatism', 'warming', 'lunacy', 'crumbling', 'priorities', 'leaning', 'hatred', 'division', 'baiting', 'stirring', 'minions', 'selfish', 'kasichthe', 'hashtag', 'usurped', 'cutting', 'heads', 'forgiving', 'nutshell', 'iranians', 'princeton', 'demonstrations', 'proves', 'easily', 'committed', 'electronic', 'machines.watch', 'godless', 'socialists', 'anti-americans', 'flocking', 'flies', 'flag.in', 'obtained', 'shit', 'swastika', 'callerh', 'weasel', 'zippers', 'audio', 'karl', 'hughes', 'hewitt', 'picking', 'girls', 'fields', 'touched', 'graciously', 'reenactment', 'lewandowski', 'bolling', 'intense', 'paranoid', 'plans', 'freeze', 'dictator', 'giffords', 'lately', 'ironic', 'cheap', 'labor', 'all-time', 'favorites', 'pillow', 'voodoo', 'nightstand', 'grouch', 'realized', 'territory', 'understands', 'protects', 'correctly', 'double', 'infiltrated', 'anarchists', 'hating', 'thing.trump', '#trump2016', '#makeamericagreatagainposted', 'jacob', 'honeycutt', 'punished', 'below.https', 'youtu.be/t63is7nep3sclinton', 'chronicles', 'sitting', 'underestimated', 'warm-up', '9:15', 'loophole', 'barking', 'illinois', 'invasion', '2011', 'adoption', '1973.via', 'jesse', 'watters', 'population', 'accepting', 'illegals', 'billions', 'footage', 'injustice', 'upstate', 'steam', 'melting', 'diversity', 'equally', 'diverse', 'opinions', 'vf.com', 'walking', 'exists', 'strained', 'yorker', 'gasp', 'admires', 'tousey', 'pierce', 'photography', 'jeremy', 'elkin', 'medal', 'encourage', 'articulate', 'verbalize', 'confronted', 'dayton', 'subdued', 'reaction', 'incorrect', 'gotcha', 'butler', 'strangers', 'entirely', 'gruff', 'co-workers', 'relatively', 'equivalent', 'beating', 'brick', 'informative', '1985', 'shown', 'bussing', 'cuba', 'castro', 'sliced', 'bread', 'megyn', 'wasserman', 'schultz', 'squirm', 'wildly', 'disagree', 'course', 'condoning', 'blood', 'charlton', 'slips', 'potentially', 'disasterous', 'marine', 'centers', 'catholic', 'confessional', 'jacksonville', 'fl.he', 'priest', 'bless', 'sinned', 'sins', 'lyons', 'mckasey', 'broken', 'unclassified', 'setting', 'petraeus', 'secrets', 'gross', 'negligence', 'obstruction', 'available', 'unlocked', 'success.behold', 'explained', 'hunnit', 'fiddy', 'daddy', 'bars.you', 'burger', 'contributions', 'duke', 'unscripted', 'inaccurate', 'endorsing', 'decides', 'swipe', 'dismisses', 'visited', 'bluffton', 'drilling', 'sgt', 'confrontation', 'communism', 'vladimir', 'lenin', 'communistfor', 'stuart', 'hammers', 'cuckoo', 'super', 'spouts', 'psychological', 'bret', 'easton', 'ellison', 'millennials', 'scared', 'thread', 'jeb', 'suspends', 'honorable', 'fatigue', 'stepped', 'class.it', 'hosted', 'reception', 'month', 'approached', 'enormous', 'amount', 'allowing', 'un-vetted', 'screeching', 'rush', 'darn', 'choked', 'closely', 'hypocrites', 'scalia', 'body', 'hotel', 'helped', 'follows', 'fallen', 'flaws', 'touching', 'heckled', 'sounding', 'busy', 'recalled', 'radio', 'arkansas', 'erdogan', 'combination', 'lovefest', 'chosen', 'brotherhood', 'henchman', 'scandalous', 'identified', 'placed', 'squarely', 'cover-ups', 'uses', 'background', 'truths', 'operates', 'unwrinkled', 'discarded', 'caption', 'misunderstanding', 'misspoke', 'pro-muslim', 'mosque', 'traditional', 'appeals', 'yuge', 'surprise', 'derived', 'wins', 'anti-establishment', 'revolt', 'measures', 'status', 'quoted', 'washington.the', 'corinthians', '9:7', 'reluctantly', 'compulsion', 'loves', 'cheerful', 'caregiver', 'noticed', 'rubio', 'christie', 'showdown', 'hiring', 'gloria', 'steinem', 'hypocrite', 'mayer', 'eye', 'bleachbit', 'finale', 'libs', 'rocking', 'moves', 'nebraska', 'passionate', 'transcripts', 'goldman', 'sachs', 'mathews', 'artful', 'non-political', 'goldstein', 'tears', 'hungry', 'vineyard', 'capitalism', 'fairness', 'diego', 'petition', 'ballot', 'roger', 'simon', '@donaldjtrumpjr', 'reactions', 'iowa', 'boots', 'vindictive', 'henry', 'caucus', 'dodgers', 'dodges', 'meat', 'non-disclosure', 'became', 'ipsos', 'marked', 'stephanopoulos', 'steps', 'microphone', 'coordinated', 'left.please', 'know.watch', 'revelations', 'thanks', 'ambitions', 'fundamentally', 'cackling', 'ebony', 'editor-in-chief', 'kiernan', 'hook', 'aspirations', 'https://youtu.be/ckjg7hzubma', 'likable', 'understandably', 'fixing', 'holiday', 'stayed', 'silver', 'spoon', 'correctness', 'sooner', 'labour', 'londonistan', 'sympathies', 'extremists.https', 'youtu.be/dhoyorthmdsvia', 'shoebat.com', 'morten', 'storm', 'ineptness', 'spies', 'infiltrating', 'qaeda', 'treating', 'haphazardly', 'https://youtu.be/enj2scpw-egyou', 'memes', '#demdebate', 'fenton', '@justin_fenton', 'lyrics', 'trumpisms', 'beauty', 'pageant', 'turner', 'stumping', 'cdata', 'js', 'fjs', 'getelementbyid', 'd.createelement', 'js.id', 'connect.facebook.net/en_gb/sdk.js#xfbml=1&version=v2.3', 'fjs.parentnode.insertbefore', 'facebook-jssdk', 'gitmo', 'detainees', '2016representative', 'louie', 'gohmert', 'r-tx', 'eviscerates', 'tavistock', 'smiley', 'revenue', 'unable', 'ticket', '12pm', 'taya', 'kyle', 'illogical', 'predictions', 'blockbuster', 'opposed', 'enforcement', 'rodericktold', 'stelter', 'tyrannical', 'surrounded', 'destroying', 'tied', 'pervert', 'disciplining', 'handover', 'derry', 'allegations', 'clinton.here', 'harassing', 'unsuspecting', 'patrons', 'diner', 'wicker', 'chicago.https', 'twitter.com/zachstafford/status/682994134395793410h/t', 'habit', 'missing', 'farce', 'unhinged', 'frankly', 'solidarity', 'tremendous', '#gopdebate', 'dynamo', 'single-handedly', 'crooks', 'syria.syriasixth', 'asylum', 'france', 'it.you', 'good.so', 'anyway', 'coming.it', 'falwell', 'referring', 'shutdown', 'entering', 'jumbled', 'jargon', 'isil', '@whitehouse', 'katrina', 'checked', 'bombs', 'neighborhoods', 'https://youtu.be/9vddc8t655e', 'stubborn', 'spewing', 'outrageous', 'editorialize', 'complicit', 'fighters', 'appreciate', 'wimps', 'spoiled', 'brats', 'campuses', 'pearson', 'him.you', '#standwittcj', 'https://rally.org/cjpearson', 'walls', 'timeless', 'thanksgiving', 'sacred', 'thanking', 'bounty', 'rededicate', 'preservation', 'affirmative', 'breaks', 'southern', 'accent', 'memphis', 'cracks', 'miles', 'plays', 'adopting', 'folksy', 'cringeworthy', 'inducing', 'soooooo', 'acosta', 'feckless', 'g20', 'jayvee', 'lobbed', 'friendly', 'bastards', 'arrogant', 'condescending', 'whatsoever', 'unpredictable', 'unbecoming', 'however', 'kasich', 'understood', 'downstream', 'upstream', 'diversified', 'falsehoods', 'tensions', 'unbelievable', 'kentucky', 'stood', 'bloated', 'regulated', 'whiners', 'dept', 'socket', 'sums', 'halloween', 'particularly', '#12', '#10', '#11', '7,000', '55,000', 'transparency', 'kept', 'flashback', 'matthews', 'meds', 'cameras', 'shooting', 'man-made', 'wartime', 'deliberately', 'misinformation', 'daniel', '@danielrendall', '2015here', 'zippersjust', 'determine', 'w.ldadinit', 'slots', ':8', 'size', ':[', 'p=', 'fundamental', 'transformation', 'soon-to-be', 'europistan', 'task', 'warrior', 'frustration', 'personally', 'pressure', 'comprehension', 'https://youtu.be/wqv3aesmlzk', 'gained', 'demint', 'heritage', 'pressured', 'cave', 'occupies', 'ambassador', 'maintaining', 'consistent', 'resigning', 'incompetent', 'ingmire', 'unclear', 'jake', 'tapper', 'misrepresentation', 'accepted', 'expense', 'lincoln', 'chafee', 'staying', 'awakening', 'skeptical', 'learning', 'prosperous', 'mrs', 'channeled', 'flip-flops', 'disney', 'demographic', 'toddlers', 'sippy', 'cups', 'teens', 'reading', 'marvel', 'comic', 'books', 'silent', 'kicking', 'beer', 'sports', 'espn.watch', 'summarization', 'seeing', 'hilton', 'businesswoman', 'assets', 'organizers', '15th', 'amnesty', 'biggs', 'sunset', '12:30', 'pm1174', 'st.san', 'tx.live', 'infowars.com', 'impact', 'dear', 'whistleblower', 'slick', 'willy', 'depends', 'meaning', 'failures', 'underestimating', 'unicorns', 'russia.https', 'www.youtube.com/watch?v=fxrqjmxm8_u', 'precious', 'waited', 'appreciates', 'sensations', 'ditch', 'switch', 'playbook', 'teaching', 'graces', 'followers', 'thanked', 'wanting', 'assessment', 'defeating', 'outskirts', 'heat', 'harms', 'criminals', 'hunger', 'satisfy', 'beacon', 'bullets', 'warfare', 'ruthless', 'vicious', 'clinging', 'century', 'platitudes', 'deer', 'headlights', 'proposal', 'proposals', 'wondered', 'specifics', 'presented', 'replace', 'boehner', 'loads', 'respectable', 'thoughtful', 'contender', 'hopefuls', 'needed', 'carly', 'gloves', 'dummy', 'unfair', 'smoke', 'participants', 'fudge', 'memory', 'shower', '44', 'confirms', 'caved', 'whim', 'partly', 'front-runner', 'oklahoma', '@100percfedup', '@soopermexican', 'fetuses', 'presence', 'hardened', 'resolve', 'tyler', 'woodfin', 'pic.twitter.com/6ytao4wylr', 'rosie', '@rosiegray', 'immigrated', 'opener', 'https://youtu.be/kiljkg5ndks', 'teller', 'unique', '1/100', 'persecution', 'tallest', 'clean', 'defend', 'lawbreakers', 'tear', 'mugabe', '@tusk81', 'hurts', 'dallas', 'baffling', 'baltimore', 'settlement', 'fool', '6.4', 'burned', \"dept's\", 'czar', 'requests', '2,700', 'pic.twitter.com/s2nxw1kgik', 'bridis', '@tbridis', '2015via', 'mommy', 'risk', 'dispatcher', 'lydia', 'marquez', 'clicking', 'administrators', 'transgender', 'neutral', 'pronouns', 'peers', 'rushed', 'hostile', 'compiled', 'complaint', '11:11', 'pdt', 'denied', 'implications', 'extraordinarily', 'damaging', 'behaves', 'petty', 'clarence', 'thomas', 'yoga', 'wsj', 'colors', 'accidentally', 'refers', 'overreaction', 'unintentionally', 'displeased', 'surfaced', 'nashville', 'patsies', 'palin', 'mouths', 'moms', 'agrees', '10:15', 'nickname', 'toupee', 'onstage', 'inspector', 'levin', 'mystery', 'univision', 'tongue', 'presser', 'toyota', 'positions', 'importance', 'caroline', 'kennedy', 'creepy', 'mouthed', '#blackliesmatter', 'horrific', 'faced', 'handled', 'nearly', 'favors', 'doozy', '1993', 'harry', 'destabilization', 'birthright', 'citizenship', 'born', 'lackeys', 'onboard', 'eliminate', 'critics', '20,000', 'despite', 'stuck', 'card', 'nobodies', 'katy', 'dancers', 'large', 'scripted', 'commenting', 'moderators', 'substantive', 'facing', 'disappointing', 'siamese', 'twins', 'cooperate', 'womb', 'hopeful', 'torched', 'rookie', 'expecting', 'manhattan', 'https://youtu.be/ylrpg-sldeu', 'listened', 'reinforces', 'belief', 'vets', 'acquired', 'taste', 'daleiden', 'compelling', 'stereotypes', 'misleading', 'paint', 'strokes', 'flood', 'fertile', 'funnier', 'prohibits', 'self', 'venezuela', 'liveleak', 'belgium', 'mince', 'hoodie', 'grip', 'lindsey', 'graham', 'chancellor', 'somewhat', 'civilians', 'recruitment', 'semi-automatic', 'carbines', 'chick-fil-a', 'guarding', 'marines', 'pic.twitter.com/o5fvtpsqeg', 'owens', '@bob_owens', 'harvesting', 'baby', 'fetal', 'tissue', 'adept', 'straw', 'rhetorically', 'works', 'advantage', 'content', 'captivity', 'discontentment', 'satisfaction', 'realization', 'unaccounted', 'essence', 'intention', 'threatens', 'brittany', 'hitting', 'optics', 'stunt', 'reasoning', 'writes', 'whoever', 'brazil', 'dictatorship', 'week.https', 'youtu.be/nlgecc4rr1m', 'wiped', 'phones', 'apathetic', 'greece', 'liberalism', 'unqualified', 'cast', 'characters', 'anti-cop', 'free-for-all', 'environmental', 'holder', 'nypd', 'punched', 'screengrab', 'altercation.via', 'tank', 'mocking', 'jakarta', 'iraqi', 'childish', 'freezing', 'diplomacy', 'trenches', 'moral', 'economically', 'pic.twitter.com/jfndizcax5', 'adam', 'housley', '2015about', 'sides', 'pic.twitter.com/ru8pgx21j7', 'studios', 'smiling', 'disclose', '75,000', 'palestinian', 'jennings', 'ramadi', 'parade', 'successful', 'occupation', 'pays', 'deserve', 'causing', 'average', '174,000', 'properly', 'hastings', 'explodes', 'montenegro', 'nowhere', 'destruction', 'injuries', 'suffered', 'murders', 'falls', 'hussein', 'mitchell', 'intermingled', 'bubble', 'sticking', 'fingers', 'singing', 'hackers', 'affiliated', 'dubbed', 'forums', 'channels', 'promising', 'surprising', 'central', 'detailing', 'bosch', 'faustian', 'muhammed', 'contest', 'gellar', 'fawstin', '@boschfawstin', '2015we', 'parameters', 'marilyn', 'mosby', 'probable', 'freddie', 'active', 'believed', 'liquor', 'unconscious', 'dragged', 'sidewalk', '. . .', '@baltimoresun', 'sucker', 'stomped', 'pic.twitter.com/r8zyi7bpwt', 'talaiver', '@jtalaiver', 'rawlings-blake', 'wished', 'balance', 'deescalate', 'mentor', 'schooled', 'grandma', 'sake', 'marshall', 'davis', 'shrillary', 'staged', 'differently', 'marco', 'impromptu', 'vs', 'beijing', 'mentality', 'observed', 'principles', 'ideals', 'founded', 'sexist', 'ambitious', 'rarely', 'film.don', 'arrogance', 'showing.hillary', 'levin.is', 'underbelly', 'beast', '@rambobiggs', 'rodriguez', 'videotaped', 'crossing', 'trafficking', '@judgenap', 'samsung', 'spy', 'televisions', 'pic.twitter.com/khknt0s8ar', 'filmmaker', 'construction', 'statewide', 'secession', 'nicknamed', 'calexit', 'marinelli', 'promoting', 'moscow', 'publicized', 'groundwork', 'dialogue', 'councilman', 'cleansing', 'percent', 'statues', 'monuments', 'disassembled', 'exercising', 'constitutional', 'chaney', 'narrowed', 'wholeheartedly', 'edition', '7pm', '7am', 'mistaken', 'collection', 'snippets', 'freaking', 'alarming', 'grasp', 'shelves', 'crown', 'prince', 'venezuelans', 'trash', 'bags', 'contents', 'farmers', 'chickens', 'ransacking', 'stamp', 'cards', 'candy', 'geez', 'vetted', 'saudis', 'jeh', 'meals', 'humanitarian', 'toilet', 'shortages', 'spouting', 'slanted', 'beliefs', 'highway', 'replacement', 'corporations', 'staggering', 'malkin', 'laid', 'conyers', 'prosecuting', 'skeptics', 'civil', 'hindered', 'overbearing', 'inexperienced', 'secretaries', 'pentagon', 'operations', 'decisions', 'vallegrande', 'minimum', 'wage', 'recovered', '30,000', 'spending', 'shooter', 'catch', 'smugglers', 'arizona', 'guard', 'pronto', 'disastrous', '2006', 'strains', 'welfare', 'numbersusa', 'boykin', 'bathrooms', 'beyonce', 'one-note', 'overboard', 'debuted', 'theaters', 'reviews', 'moved', 'window', 'scam', 'destroys', 'afforded', 'downplaying', 'cooked', 'altered', 'jv', 'growing', 'hemmer', 'mitch', 'mcconnell', 'stare', '15,000', '32', 'smell', 'stinks', 'hurry', 'protections', 'sinkhole', 'repaired', 'lemonade', 'lemons', 'inherent', 'unequal', 'blessings', 'virtue', 'miseries', 'winston', 'churchill', 'hennis', 'discussion', 'humans', 'cigarettes', 'causes', 'cancer', 'studying', 'tom', 'cotton', 'chaffetz', 'harassment', 'kenya', 'values', 'democracy', 'entrepreneurship', 'kenyatta', 'culture', 'societies', 'antiseptic', 'operated', 'cbo', 'sustained', 'predicted', 'investors', 'requiring', 'borrowing', 'fiscal', 'policymakers', 'substantial', 'negative', 'defines', 'persons', 'intimidate', 'coerced', 'thereof', 'furtherance', 'objectives', 'investigated', 'forgetting', 'footing', 'monstrosity', '1,000', 'aloof', 'belongs', 'cathy', 'catalina', 'appropriate', 'breastfeeding', 'feminism', 'blurring', 'breastfed', 'pasadena', 'ramirez', 'kprc', 'hernandez', 'forever', 'felony', 'possession', 'weapons', 'evading', 'shoots', 'squirt', 'letting', 'traffic', 'proceedings', 'takedown', 'punks', 'thumbs', 'boils', 'random', 'baristas', 'shorty', 'exxon', 'roaming', 'torching', 'years.read', 'merrill', 'certify', 'senator-elect', 'doug', '’', 'groping', 'teenage', '30s', 'filed', 'unexpectedly', 'finance', 'ministry', 'evaluate', 'changes', 'deficit', '“', 'nevertheless', 'modifications', 'framework', '”', '1981', 'widespread', 'recovery', 'hurricanes', 'wildfires', 'puerto', 'rico', 'islands', 'rebuild', 'disasters', 'markets', 'absorbed', 'undigested', 'advisers', 'begun', 'instance', 'expensing', 'short-term', 'fix', 'stop-gap', 'legislative', 'youths', 'dreamers', 'steny', 'hoyer', 'rank-and-file', 'stopgap', 'include', 'five-year', 'extension', 'sweeping', '@vp', 'alyssa', 'farah', 'appropriations', 'includes', '27.6', 'agency', '26.1', 'rodney', 'frelinghuysen', 'widely', 'insufficient', 'expires', 'optimistic', 'code', 'overhaul', 'returned', 'early', 'undergoing', 'colluded', 'denies', 'meddling', 'kristina', 'noem', 'refundable', 'portion', 'expanded', 'negotiations', '1,400', 'bid', 'finalized', 'kevin', 'brady', 'text', '5:30', 'gmt', 'citing', 'unnamed', 'expansion', 'credits', 'prospects', 'passage', 'cornyn', 'undecided', 'alleviated', 'preferred', 'thrilled', 'orrin', 'hatch', 'differences', 'competing', 'reviewing', 'request', 'ensure', 'directive', 'implemented', 'achieve', 'brighter', 'lindsay', 'walters', 'snyder', 'hold', '2018', 'amid', 'misconduct', 'paperwork', 'crushing', 'midnight', 'deadline', '235-193', 'rapidly', '81-14', 'signing', 'averted', 'operating', 'range', 'programs', 'partial', 'existing', 'conversation', 'relating', 'basis', 'extended', 'avert', 'shutdowns', 'cleared', 'procedural', 'hurdles', 'paving', 'debating', 'focusing', 'lowest', 'fifteen', 'resignation', 'colleagues', 'string', '11:45', '1645', 'elaborate', 'minnesota', 'rival', 'republican-led', 'third-ranking', 'senators', 'briefing', 'tax-writing', 'individuals', 'permanent', 'reconcile', 'versions', 'restoration', 'discussed', 'rajoy', 'shah', 'eliminated', 'engineering', 'creates', 'entrepreneurs', 'aside', 'deepen', 'generations', 'issued', 'confident', 'chamber', 'directed', 'contact', 'verified', 'confidant', 'generated', '407', 'reducing', 'added', 'nonpartisan', 'taxation', 'banking', 'reserve', 'jerome', 'powell', 'bank', '1500', 'assume', 'janet', 'yellen', 'mattis', 'tillerson', 'departure', 'responding', 'libyan', 'prime', 'minister', 'remain', 'closest', 'shake', 'unaware', 'conducting', 'normal', 'statements', 'accuracy', '@nytimes', 'lobbyists', 'bit.ly/2jbh4lu', 'bit.ly/2jpexyr', 'theresa', 'retweeting', 'anti-muslim', '@theresamay', 'destructive', 'kingdom', 'lawyer', 'forced', 'arnold', 'indicated', '1988', 'year-old', 'implements', 'sales', '6.04', \"department's\", 'financing', 'fayez', 'al-sarraj', 'counterterrorism', 'expand', 'bilateral', 'engagement', 'notwithstanding', 'witnesses', 'recommended', 'stepping', 'judiciary', 'leandra', 'consumer', 'cfpb', 'external', 'stakeholders', 'slated', 'bowing', 'invitation', 'stands', 'encourages', 'pettiness', 'grandstanding', 'dealt', 'weight', 'package', 'whip', 'priority', 'district', 'columbia', 'arguments', '4:30', '2130', 'lawyers', 'mick', 'mulvaney', 'temporarily', 'networks', 'dishonest', 'distorted', 'trophy', 'memo', 'designated', 'eight-page', 'interim', 'six-year-old', 'creation', 'cordray', 'formally', 'barrasso', 'luncheon', 'ethics', 'resolved', 'admission', 'stopping', 'providers', 'warner', 'filing', 'panels', 'iran-contra', 'whitewater', 'korea', 'afghanistan', 'interfax', 'yuriko', 'ushakov', 'dmitry', 'peskov', 'syrian', 'al-assad', 'submitting', 'repeal', 'mandate', 'embattled', 'embroiled', 'vehemently', 'presumed', 'sponsors', 'opposes', 'unfairly', 'inserting', 'helpful', 'withdrawing', 'isolates', 'senatorial', 'mohammed', 'el-erian', 'giant', 'allianz', 'crackdown', 'republican-controlled', 'steaming', 'hopes', 'danang', 'fabricated', 'relatives', 'involved', 'untrue', 'asia-pacific', 'deductions', 'income', 'cassidy', 'inserted', 'requirements', '1.5', 'trillion', 'offering', 'chinese', 'jinping', 'persistent', 'denuclearizing', 'korean', 'peninsula', 'resolving', 'companies', 'belt', 'initiative', 'door', 'wider', 'miracle', 'economies', '253.4', 'zhong', 'trade', 'kilter', 'formal', 'unveiled', 'reduce', 'shinzo', 'missiles', 'xinhua', 'chunying', 'professionals', 'provisions', 'mandates', 'extra', 'asia', 'zheng', 'zeguang', 'broader', 'headlined', 'flexible', 'mortgage', 'deduction', '2050', 'withdrawn', 'mistook', 'referred', 'reductions', 'clovis', 'withdrew', 'pleaded', 'probe', 'withdraw', 'sample', 'russian-linked', 'schiff', 'alphabet', 'testifying', '1300', 'overnight', '1:30', '1730', 'reaching', 'eighth', 'reduction', 'seeks', 'phased', 'hopefully', 'mercury', 'lobbying', 'pro-russian', 'ukrainian', 'cooperating', 'mckeon', 'emailed', 'backing', 'phase-in', 'phasing', 'jay', 'sekulow', 'interfering', 'intervention', '1963', 'addresses', 'consultation', '#jfkfiles', 'jury', 'briefed', 'sealed', 'comply', 'kautter', 'commissioner', 'flake', 'prominent', 're-election', 'disappointed', 'renewing', 'chemical', 'considerations', 'brutally', 'nauert', 'weighing', 'stanford', 'taylor', 'shortly', 'finalists', 'cautioned', 'accurate', 'ambush', 'nigeria', 'counterpart', 'masochists', 'tiberi', 'retirement', 'becoming', 'roundtable', 'impacting', 'ohioans', 'pakistan', 'asian', 'india', 'scheduled', 'vital', 'enacting', 'mustered', 'jerusalem', 'upgrade', 'aircraft', '2.4', 'greek', 'tsirpas', 'allocated', 'lisa', 'murkowski', 'facilitate', '‘', 'amendments', 'recipients', 'specific', 'negotiate', 'cost-sharing', 'payoff', 'dubai', 'arabia', 'welcomed', 'militants', 'revenues', 'lebanese', 'hezbollah', 'houthis', 'yemen', 'praised', 'praising', 'unmatched', 'spirit', 'territorial', 'struggles', 'hurricane', 'maria', 'weathers', 'aftermath', 'flow', 'effectiveness', 'electrical', 'grid', 'asserting', 'erroneous', 'irresponsible', 'written', 'sought', 'tenfold', 'kiev', 'tayyip', 'upsetting', 'turkish', 'contacted', 'ankara', 'implement', 'liberties', 'employers', 'birth', 'aclu', 'francisco', 'asserted', 'attorneys', 'raising', 'eliminating', 'charts', 'indicators', 'performing', 'retains', 'spoken', 'burr', 'russia-linked', 'entities', 'havana', 'bruno', 'protested', 'expulsion', 'diplomats', 'cuban', 'unjustified', 'wake', 'affecting', 'personnel', 'sufficient', 'acknowledged', 'communicating', 'directly', 'pyongyang', 'indication', 'interested', 'denuclearization', 'probing', 'tuned', 'outrage', 'sharp', 'drawdown', 'thailand', 'prayuth', 'chan-ocha', '100,000', 'cohn', 'estate', 'passing', 'tarbert', 'oversees', 'inter-agency', 'investment', 'assesses', 'transactions', 'harm', 'cellphone', 'reinstate', 'cfius', 'balked', 'approving', 'involving', 'disparate', 'semiconductors', 'aluminum', 'criticisms', 'football', 'players', 'kneeling', 'anthem', 'distracted', 'preoccupied', 'plenty', 'co-sponsors', 'moon', 'jae-in', 'sidelines', 'assembly', 'co-sponsored', 'subsequently', 'disputed', '3,000', 'notified', 'deployment', '3,500', '70th', 'birthday', '@usairforce', '0914', 'edt', '@cia', '0916', 'outlining', 'afterwards', 'mid-october', 'escalated', 'sergei', 'ryabkov', 'undersecretary', 'shannon', 'helsinki', 'diplomatic', 'luis', 'videgaray', 'beneficiaries', 'deferred', 'childhood', 'sacramento', '11-12', 'exhorting', 'stunned', 'overtures', 'asap', 'retroactively', 'passes', 'daca', 'copies', 'buyers', 'wal-mart', 'stores', 'reopened', 'gulf', 'region', 'harvey', 'landfall', 'dumped', 'inches', '125', 'low-lying', 'coastal', 'ashore', 'relief', 'flooding', 'initial', '7.85', 'estimated', '180', 'damage', 'moody', 'reinsurance', 'prices', 'trends', 'materially', 'rates', 'regions', 'competition', 'declining', 'casualty', 'reinsurers', 'capital', 'absorb', 'losses', 'xiamen', 'facilities', 'hooliganism', 'inclined', 'brics', 'contested', 'advanced', 'hydrogen', 'long-range', 'manmade', 'earthquake', 'orange', 'county', 'curfew', 'cdt', 'pacific', 'repairs', 'damaged', 'tropical', 'stormy', 'arkema', 'plant', 'crosby', 'railroad', 'beaumont', 'smoldering', 'limiting', 'repair', 'crews', 'grenell', '2001', 'envoy', 'kenneth', 'juster', 'huntington', 'ingalls', 'awarded', '2.8', 'refueling', 'complex', 'rescind', 'obama-era', '#texasstrong', 'polling.reuters.com/#poll/tm651y15_13/filters/likely:1/dates/20160401-20160607/type/day', 'lavrov', 'regret', 'consulate', 'annexes', 'study', 'conveyed', 'springfield', 'claire', 'mccaskill', 'lower', 'raytheon', '614', 'valued', '630', 'tasked', 'production', 'assurances', 'audit', 'tucson', 'completion', 'nikki', 'haley', 'nicolas', 'maduro', 'tolerate', 'venezuelan', 'arreaza', 'disputes', 'relationships', 'unnecessary', 'interests', 'phoenix', 'cautious', 'optimism', 'improvement', 'mounting', 'kim', 'jong', 'myers', '@usnavy', 'aboard', '#ussjohnsmccain', '1515', 'fujifilm', 'holdings', '768', 'imaging', 'archiving', 'products', 'maintenance', '4,000', '9:00', '0100', '0627', '0632', 'shake-up', 'artillery', 'rocket', 'romania', '1.25', 'lockheed', 'martin', 'contractors', '54', 'mobility', 'equipment', 'imminent', 'axios', 'specify', 'far-right', 'spain', 'grappled', 'barcelona', 'homeland', 'tougher', '59-30', 'paves', 'incentives', 'liquid-crystal', 'taiwan', 'foxconn', 'santiago', 'renegotiation', 'canada', 'chile', 'section', 'bachelet', 'rewrite', 'surprises', 'yield', 'narrowing', 'ildefonso', 'guajardo', 'forum', 'disbanded', 'dismantled', 'advisory', 'executives', 'resignations', 'stoked', 'nationwide', 'businesspeople', 'renegotiating', 'tearing', 'finding', 'negotiators', '1994', 'modernizes', 'canadian', 'chrystia', 'freeland', 'fundamentals', 'bolstering', 'guterres', 'xenophobia', 'anti-semitism', 'islamophobia', 'poisoning', 'erupted', 'damages', 'authorized', 'inquiry', 'theft', 'prudently', 'multilateralism', 'resort', 'bedminster', 'hoped', 'gravity', 'exercise', 'traded', 'threats', 'guardian', 'originally', 'lieutenant', 'christopher', 'signal', 'strength', 'greenhouse', 'gas', 'concentrations', 'oceanic', 'atmospheric', 'guadagnino', 'cycle', 'factor', 'consecutive', 'warmth', 'appointed', 'chatterjee', 'regulatory', 'powelson', 'ferc', 'restoring', 'quorum', 'subpoenas', 'convened', 'disclosed', 'board', 'harwood', 'tantamount', 'full-scale', 'medvedev', 'utterly', 'powerless', 'improve', 'robust', 'discipline', 'imposes', 'replaced', 'shakeup', 'scaramucci', 'leaking', 'profanity-laced', 'tirade', 'improvements', 'committees', 'healthy', 'bipartisan', 'permanently', 'cadillac', 'high-cost', 'employer-provided', 'skinny', 'overturn', 'succeeds', 'imposing', 'renzi', '419-3', 'garner', 'milley', 'strongly', 'noting', 'capably', 'honorably', 'strip', 'draft', 'powers', 'maximum', 'oreshkin', 'significant', 'franz', 'klintsevich', 'compliance', 'recertification', 'complying', 'awaits', 'desk', 'restricting', 'beset', 'proponents', 'hardline', 'spike', 'costly', '51-50', 'obamcare', 'lunch', 'recuperating', 'surgery', 'beleaguered', 'reiterated', 'frustrated', 'recusing', 'greenblatt', 'mideast', 'arrived', 'friedman', 'travelling', 'amman', 'son-in-law', '12:00', 'meddled', 'imposed', 'tariffs', 'steel', 'imports', 'initiated', '232', 'allows', 'imposition', 'quotas', 'findings', 'collapsed', 'condition', 'anonymity', 'developments', 'motion', 'pave', 'doomsday', 'lamar', 'alexander', 'hearings', 'stabilize', 'disagreements', 'insurers', 'dropping', 'exchanges', 'ottawa', 'publicly', 'earth-shattering', 'largely', 'forecast', 'sensitivity', 'memorandum', 'lee', 'revised', 'innovative', 'solutions', 'greater', 'pre-existing', 'conditions', 'overall', 'kansans', 'meade', 'renegotiate', 'uncertainty', 'mcintyre', 'regulates', 'interstate', 'transmission', 'electricity', 'crude', 'oil', 'grassley', 'retain', 'limit', '3.8', '0.9', 'payroll', 'medicare', 'incomes', '200,000', 'couples', '250,000', 'behnam', 'commodity', 'futures', 'trading', 'debbie', 'stabenow', 'agriculture', 'financier', 'lewis', 'eisenberg', 'co-founder', 'managing', 'investments', 'tactical', 'vehicles', 'accessories', 'principal', 'oshkosh', 'llc', 'offshore', 'futerfas', 'russia-related', 'solely', 'practitioners', 'specializes', 'retained', 'input', 'backtracked', 'tweeting', 'ceasefire', 'peace-making', 'crisis-management', 'hamburg', 'exercises', 'sino-u', 'stronger', 'full-year', 'overrode', 'vetoes', '36', 'companion', 'followed', 'override', 'honolulu', 'ruling', 'reinstated', 'violated', 'improperly', 'excluding', 'retooled', 'repealing', 'replacing', '2010', 'separately', 'twenty', '7-8', 'emmanuel', 'macron', 'bastille', 'ceremonies', 'brussels', 'handshake', 'export-import', 'appointment', 'fundraiser', 'washington-based', 'remains', 'recession', 'expressing', 'narendra', 'modi', 'maritime', 'peacefully', 'accordance', 'boeing', '366', 'engines', 'countermeasures', 'dispensing', 'identification', 'foes', 'transponders', 'carlos', 'sada', 'places', 'consulates', 'probability', '50-50', 'nominees', 'securities', 'three-member', 'five-member', 'complement', 'dean', 'heller', 'fifth', 'announcing', 'extent', 'obstructed', 'airing', 'imperiling', 'universal', 'chiefs', 'halt', 'exert', 'escalation', '1330', 'unremitting', 'persuade', 'geng', 'shuang', 'beforehand', 'people-to-people', 'instructed', 'granted', 'recuse', 'appointees', 'unanimously', 'scalise', 'underwent', 'surgical', 'procedures', 'prepares', 'gunman', 'opened', 'assailant', 'canceled', 'baseball', 'practice', 'apprenticeships', '11:30', 'matthew', 'verderosa', 'subcommittee', 'deployments', 'characterized', 'hike', '8,400', 'signaled', 'notable', 'uneven', 'high-level', 'uphold', '9th', 'circuit', 'hawaii-based', 'blocked', 'muslim-majority', 'jonathan', 'coordinator', 'syracuse', 'dawn', 'stump', 'nyse', 'consulting', 'nutrition', 'forestry', 'cftc', 'siege', 'vowed', 'skybridge', 'headed', 'fruition', 'oecd', 'ensuring', 'conducted', 'testified', 'loyalty', '12:55', 'twitter.com/ten_gop/status/854865906165587968cnn', 'productive', 'conversations', 'disproportionately', 'refined', 'sugar', 'exports', '53', 'wilbur', 'technicalities', 'panamanian', 'marijuana', 'varela', 'transnational', 'drugs', 'panama', 'partnership', 'spencer', 'captain', 'corps', 'renewable', 'projects', 'solar', '40,000', 'governors', 'berlin', 'steffen', 'seibert', 'downing', 'stressed', 'g7', 'angela', 'trudeau', 'essentially', 'governments', 'landmark', 'preparing', 'overhauling', 'competitive', 'marketplace', 'continuing', 'litigation', 'fate', 'subsidies', 'encouraged', 'participate', 'aviv', 'engaging', 'three-way', 'callista', 'vatican', 'produces', 'embarked', 'maiden', 'dunford', 'two-year', 'then-president', 'turmoil', 'choosing', 'dividing', 'contention', 'divides', 'terribly', 'mixed-up', 'not-unified', 'selecting', 'santos', 'colombia', 'probes', 'heartily', 'applauded', 'sway', 'extremism', 'graduating', 'academy', 'partners', 'adjustment', 'television', 'proclamation', '36th', 'https://twitter.com/yesnicksearcy/status/879471613867155460comedian', 'dhabi', 'quintenz', 'consultant', 'critical', 'renegotiations', 'lighthizer', '82-14', 'assured', 'now-former', 'contradicted', 'green', 'tanzania', 'institute', 'underscoring', 'proxies', 'kissinger', 'dianne', 'feinstein', 'reviewed', 'gottlieb', 'venture', 'capitalist', 'fda', 'knowledgeable', 'pharmaceutical', 'divest', 'two-dozen', 'stocks', '1.2', 'averting', 'portions', 'guiding', '235-192', 'steep', 'meadows', 'upton', 'deal-breaker', 'unwind', 'artificial', 'navigation', 'overflight', 'terry', 'branstad', 'confirming', 'clayton', 'circumstances', 'secretary-general', 'absence', 'dprk', 'miscalculation', 'sustainable', 'wang', 'dispute', 'practical', 'viable', 'ministerial', 'pensions', 'wishful', 'kommersant', 'low-income', 'commitments', 'table', 'lawrence', 'shares', 'fannie', 'mae', 'latter', 'price', '2.77', 'miscimarra', 'nlrb', 'serves', 're-examination', 'breaches', '100th', 'ricketts', 'co-owner', 'difficulties', 'untangling', 'watchdog', 'sun-times', 'opportunities', 'kang', 'resolutely', 'tokyo', 'tantaros', 'currencies', 'practices', 'pursue', 'monetary', 'structural', 'balanced', 'defiance', 'visits', 'italian', 'paolo', 'gentiloni', 'mutual', 'industrial', 'sicily', '26-27', 'senses', 'lasting', 'voiced', 'anti-russian', 'kazakhstan', 'staunch', 'airbase', 'forming', 'anti-terrorism', 'bridge', 'maryland', 'resources', '57', 'hassett', 'scholar', 'enterprise', 'advisors', '2100', 'clashes', 'mevlut', 'cavusoglu', 'impartial', 'tragedy', 'sheikhoun', 'underlined', 'zakharova', 'tusk', 'ordered', 'barbaric', 'planes', 'runway', 'unscathed', 'rossiya', 'cruise', 'craters', 'debris', 'rubble', 'visible', 'intact', 'two-day', 'palm', 'presidents', 'unilaterally', 'links', 'viability', 'walker', 'revamped', 'high-risk', 'pools', 'sherrod', 'deal-making', 'cromwell', 'iraq', 'accompanying', 'substitute', 'fill', 'vacancy', '582', 'spares', 'immunity', 'prosecution', 'momentous', 'advancing', 'israelis', 'palestinians', '1.6', 'counter', 'acquisition', 'radar', 'egyptian', 'abdel', 'fattah', 'al-sisi', '6-7', 'retreat', 'face-to-face', 'vnesheconombank', 'routine', 'involvement', 'aaron', 'supply', 'chain', 'subsidiary', 'mln', 'landing', 'gear', 'performance', 'logistics', 'miami', 'ogden', 'utah', '2032', 'dismantle', 'hotly', 'debated', 'contentious', 'limited', 'go-ahead', 'xl', 'predecessor', 'admitting', 'evening', 'dismantling', 'falling', 'undoubtedly', 'mandated', 'regards', 'zones', 'advances', 'scrocca', 'kuwait', 'carbon', 'elderly', 'statesman', '40', 'emissions', 'scorecard', 'louisville', 'mining', 'haider', 'al-abadi', 'expresses', 'accelerate', 'abadi', 'fulfill', '1400', 'fourth', 'pragmatic', 'renewed', 'determination', 'fast-developing', 'arranging', 'apprehended', 'opposing', 'maintains', 'tackles', 'patients', 'confronting', 'destabilizing', 'regional', 'activities', 'wiretapped', 'wolfgang', 'schaeuble', 'prosperity', 'ministers', 'non-binding', 'counselor', 'initiatives', 'extraordinary', 'unprecedented', 'overreach', '37', 'strenuously', 'disagreed', 'reforms', 'eagerly', 'long-awaited', 'uninsured', '2026', 'adopted', 'mahmoud', 'abbas', 'rdainah', 'restraining', 'supplanted', 'breach', 'likeliest', 'vocal', '@randpaul', '218', 'aspects', 'respectively', 'chambers', 'developing', 'medicines', 'pricing', 'elijah', 'cummings', 'prescription', 'disrupts', 'peso', 'buildup', 'depleted', 'misled', 'advising', 'newport', 'gerald', 'producing', 'fossil', 'output', '68', 'hunter', 'anglers', 'one-term', 'graves', 'cemetery', 'signature', 'commonly', 'repealed', 'preserve', 'europeans', 'preacher', 'unpopular', 'issuing', 'comprehensive', 'straighten', 'feinberg', 'equity', 'cerberus', 'cbs.ul', 'enrique', 'pena', 'nieto', 'deeper', 'momentum', 'midst', 'encouraging', 'keith', 'kellogg', 'preliminary', 'injunction', 'setback', 'leonie', 'brinkema', 'commonwealth', 'bankers', 'point-man', 'deregulation', '53-47', 'party-line', 'manchin', 'seattle', 'courtroom', 'robart', 'evaluating', 'submitted', 'briefs', 'larger', 'judges', 'three-judge', 'halts', 'constitutionality', 'mistake', 'upheld', 'suspension', 'restricted', 'misconstrued', 'misrepresented', 'vigorously', 'clifton', 'overly', 'legality', 'delays', 'valid', 'visas', 'barring', 'provisional', 'revocation', 'flagging', 'travelers', 'earliest', 'toronto', 'nationals', 'barred', 'broadest', 'commitment', 'dodd-frank', 'brakes', 'provocative', 'sanctioned', 'tehran', 'emirates', 'lebanon', 'sigmar', 'gabriel', 'indications', 'terminate', 'mohammad', 'javad', 'zarif', 'self-defense', 'complained', 'overwhelming', 'speed', 'establishing', 'briefly', 'fleeing', 'war-torn', 'prayer', 'breakfast', 'bonn', 'munich', 'state-run', 'bullet', 'currency', 'posture', 'test-firing', 'sherwood', 'provocations', 'vitiello', 'patrol', 'morgan', 'mcaleenan', 'customs', 'overwhelmingly', 'departments', 'roles', 'sally', 'yates', 'banning', 'airlines', '9201', 'screening', 'passengers', 'beirut', 'orthodox', 'traveling', 'flew', 'doha', 'abandoned', 'wealthiest', 'negotiator', 'terminator', 'polices', 'wreck', 'hyperactivity', 'poised', 'readiness', 'simmering', 'trans-pacific', 'tpp', 'contemplating', 'rescheduled', 'outgoing', 'coordination', 'letters', 'limits', 'toner', 'lafleur', 'drastically', 'abrogate', 'multilateral', 'treaties', 'underway', 'excerpts', 'reimbursement', 'curb', 'adhere', 'now-defunct', 'interrogated', 'suspects', 'prisons', 'revived', 'qualified', 'anticipated', 'well-credentialed', 'jurist', 'sioux', 'tribe', 'contaminated', 'tribal', 'hastily', 'irresponsibly', 'delayed', 'delay', 'hiroshige', 'seko', 'calgary', 'alberta', 'scrapped', 'logistical', 'margins', 'harmed', 'wilson', 'graduate', 'mines', 'outstanding', 'budapest', 'hungarian', 'orban', 'illusion', 'federalism', 'agreements', 'milestone', 'improved', 'competitiveness', 'szijjarto', 'benjamin', 'langley', 'effusive', 'nominations', 'waiver', 'secretary-designate', 'oath', 'eighty-eight', 'ajit', 'dissented', 'fcc', 'neutrality', 'forbidden', 'slowing', 'isolated', 'newsham', 'consisted', 'demonstrating', 'elsewhere', 'clashed', 'route', 'storefronts', 'manipulator', 'yuan', 'woody', 'indicating', 'plummeted', 'jets', 'honoring', 'swearing-in', 'picks', 'recognize', 'continuity', 'expertise', 'cable', 'wet-foot', 'dry-foot', 'enabled', 'cubans', 'fled', 'mainland', 'intensive-care', 'hospital', 'pneumonia', 'comfortably', 'doctors', 'airways', 'precautions', 'experiencing', '1415', '2:15', 'succeeded', '500', 'long-planned', 'prisoners', 'transferred', 'facility', 'guantanamo', 'bay', 'earnest', 'campaigns', 'instructing', 'write', '235', '188', 'clears', 'strictly', 'housing', 'entertainers', 'marillyn', 'hewson', 'aerospace', 'upgraded', 'degree', 'contrary', 'long-standing', 'hemisphere', 'inviolable', 'unsubstantiated', 'clapper', 'bold', 'cyberspace', 'globe', 'catastrophic', 'cardin', 'menendez', 'firmly', 'certified', '304', '227', 'garnered', 'legislating', 'occurred', 'chairs', 'coats', 'weaken', 'ashlee', 're-elected', '239-189', 'revolts', 'benefited', 'amounts', 'one-sided', '450', '35a', 'long-time', 'chided', 'settlements', 'normalization', 'russia-u', 'clarification', 'outmatch', 'outlast', 'nonproliferation', 'wrongly', 'factors', 'end-of-year', 'gracefully', 'archaic', '1.45', 'qatar', 'sisi', 'postponed', 'muilenburg', 'behest', 'cordial', 'suggestions', 'implementing', 'interfered', 'indecent', '1915', 'vacation', 'branded', 'turf', 'intervened', 'banal', 'hewlett-packard', 'fiorina', 'election-related', 'duplicate', 'inquiries', 'problematic', 'cybersecurity', 'condemned', 'feet', 'switzerland', 'tsai', 'ing-wen', 'foster', 'campbell', 'runoff', 'conceded', 'neely', '52', 'delaying', '63-36', 'scotland', 'sturgeon', 'congratulatory', 'strengthening', 'foreign-policy', 'businessmen', 'australia', 'premature', 'hammes', 'debra', 'wong', 'guatemala', 'unswervingly', 'infuriated', 'regardless', 'taipei', 'stating', 'extending', 'norwegian', 'solberg', 'norway', 'participating', 'strengthen', 'alaska', 'unidentified', 'barletta', 'selection', 'journal-constitution', 'handful', 'precincts', 'considers', 'emerged', 'extra-marital', 'dawns', 'fidel', 'tyrant', 'oppressed', 'survival', 'libre', 'oppression', 'hallmark', 'haas', 'mcgahn', 'corrects', 'spelling', 'hungary', 'slovenia', 'sweden', 'select', 'deliberations', '78', 'urban', 'armstrong', 'surgeon', 'salute', 'nationalism', 'disavow', 'abuses', 'shale', 'washburne', 'restaurants', 'wait-and-see', 'mogul', 'assembled', 'realities', 'approaches', 'remarkable', 'apec', 'removal', 'rogers', 'terrific', 'generally', 'welcoming', 'peru', 'softwood', 'lumber', 'expired', 'spots', 'impressive', 'admiral', 'refrained', 'disclosing', 'unofficial', 'smooth', 'alliances', 'arranged', 'naive', 'expanding', 'tartous', 'mediterranean', 'informally', 'understanding', 'detailed', 'branding', 'hoffine', 'solidify', 'institutionalized', 'mechanisms', 'morrison', 'spectacular', 'orderly', 'fray', 'duty', 'arise', 'brigade', 'rimsevics', 'petroleum', 'poroshenko', 'stand-off', 'aggression', 'kabul', 'taliban', 'importantly', 'tasnim', 'heiko', 'maas', 'crazier', 'spd', 'right-left', 'tass', 'vyacheslav', 'volodin', 'duma', 'directions', 'istanbul', 'trust-based', 'glitch', 'denver', 'counties', 'counted', 'malfunctions', 'touch-screen', 'cumberland', 'mistakes', 'catching', 'holds', 'four-way', '48', 'three-point', 'politics-selzer', '41', 'twist', 'conclusion', 'year-long', 'newly', 'unrelated', 'examining', 'seized', 'belonging', 'wired', 'krasnaya', 'polyana', 'behaved', 'extravagantly', 'represented', 'methods', 'hearts', 'tie-up', 'raises', 'thorough', 'rodrigo', 'duterte', '85', 'sexually', 'assaulted', 'preposterous', 'parliamentary', 'cemented', 'supremacy', 'computers', 'colluding', 'sandberg', 'menlo', 'apologizing', 'lewd', 'distraction', 'waste', 'balancing', 'nonsense', 'experiences', 'revive', 'deportation', 'implementation', 'double-edged', 'password', 'unintended', 'ramifications', 'preventing', 'appropriates', '1.1', 'outbreak', 'zika', 'virus', 'longstanding', 'struggled', 'trailing', '143', 'premier', 'keqiang', 'excessive', 'firms', 'compete', 'stabbing', 'bombing', 'chelsea', 'freedoms', 'demands', 'questioned', 'breached', 'anti-secrecy', '—', 'leaked', 'malware', 'embedded', '38', 'recuperate', 'diagnosis', 'swing', 'fundraisers', 'soliciting', 'charity', 'pocketing', 'accessible', 'summer', 'extends', 'rumors', 'rooted', 'no-fly', 'zone', 'deserved', 'survived', 'nominating', 'enabling', 'sixth', 'southwestern', 'projections', '80', 'defeated', 'kelli', 'kirkpatrick', 'closing', 'farc', 'strengthened', 'disseminated', 'concurrence', 'kane', 'perjury', 'bruce', 'castor', 'physical', 'scranton', 'incites', 'coincidences', 'moines', 'games', 'hurting', 'viewership', 'slightly', 'reflect', 'inclusive', 'governing', 'healing', 'divisions', '33', 'informal', 'miranda', 'fallout', 'insulting', 'unworthy', 'humayun', 'sacrifice', 'ghazala', 'ashland', 'complaints', 'conflicts', 'televised', 'dateline', 'analytics', 'maintained', 'accessed', 'compromised', 'partisanship', 'encounters', 'belong', 'files', 'recordings', 'batch', 'rattled', 'chairwoman', 'vientiane', 'brushed', 'four-letter', 'southeast', 'laos', 'sentinel', 'gavel', 'escorted', 'cuccinelli', 'heidi', 'textron', 'rebellion', 'helicopter', '545', 'provides', 'circumvent', 'tilt', 'tilt-rotor', 'aggrieved', 'horror', '1984', 'projected', '600', '3.3', 'gdp', 'coordinating', 'speculation', 'credentials', 'cecilia', 'malmstrom', 'populist', 'recipe', 'isolation', 'personified', 'globalization', 'blueprint', 'legislature', 'corrine', 'fraudulent', 'elias', 'simmons', 'wire', 'reasonable', 'transmitted', 'troubled', 'troubling', '68.5', '40.5', 'warchest', 'paramount', 'prudent', 'workable', 'espionage', 'actors', 'bailout', 'wyden', 'crucial', 'restructuring', 'financially', 'battered', 'adequate', 'barely', 'solicitor', 'unconstitutional', 'obstacles', 'reproductive', 'cook', 'unabated', 'odni', 'barrett', 'endured', 'indispensable', 'negotiating', 'masked', 'hostages', 'cinema', '12th', 'mass', 'spearheaded', 'uphill', 'similar', 'explosives', 'harris', '1.7', 'firm-fixed-price', 'multi-year', 'radios', 'inadvertently', 'sit-in', 'lopez-cantera', 'murphy', 'battleground', 'hires', 'lucia', 'castellanos', 'parscale', 'surrogates', 'clearing', 'stemming', 'shootings', '49', '72', 'checks', 'massacre', 'nightclub', 'rifle', 'wrongfully', 'database', 'bodies', 'backers', 'house-passed', '1.9', 'bombings', 'clear-eyed', 'flown', 'half-staff', 'foreign-born', 'weak', 'ineffective', 'requires', 'redouble', 'derail', 'federation', 'vermont', 'prospect', 'flores', 'gonzalo', 'curiel', 'impartiality', 'trial', 'textbook', 'indefensible', 'populous', 'advocacy', 'everytown', 'execs', 'accuses', '35,000', 'seminars', 'strategies', 'singapore', 'hsien', 'loong', 'commentator', 'kristol', 'editorial', 'secured', 'searching', 'corrected', 'paragraph', 'mcauliffe', 'gentleman', 'tapped', 'correspondent', 'steadiness', 'smarts', 'realm', 'woefully', 'inadequate', 'defects', 'microcephaly', 'survivors', 'lockhart', 'nordic', 'maintain', 'denmark', 'iceland', 'finland', 'aggressive', 'maneuvers', 'contributing', 'enhanced', 'allied', 'warsaw', 'businessman', 'unifying', 'unify', 'principled', 'conscience', 'reliable', 'evasion', '12:05', '1605', 'jacobs', '427', 'warfighter', 'ratifying', 'hasten', '18,000', 'goods', 'announcements', 'well-received', 'flattered', 'plate', 'indian-american', 'flights', 'empowered', 'factories', 'unannounced', 'highest-level', 'highlighting', 'underlying', 'indianapolis', 'riyadh', 'sheikh', 'zayed', 'al-nahayan', 'arabian', 'restructure', 'pataki', 'trounces', 'bailing', 'durability', 'brazilian', 'weather', 'fulfilled', 'critically', 'combatants', 'commanders', 'ny1', 'drone', 'constantly', 'evaluated', '2016-17', 'albany', 'francois', 'hollande', 'investigative', 'solicited', 'charitable', 'funds', 'buenos', 'aires', 'argentine', 'mauricio', 'macri', 'ranging', 'prayers', '34', 'nationality', 'scourge', 'legitimizes', 'raul', 'wrapping', 'jihadism', 'blasts', 'incidents', 'toughen', 'lax', 'foolish', 'decrease', 'spends', 'atlantic', 'treaty', 'conceived', 'reconsider', 'fundraising', 'austin', 'thrown', 'courier', 'refusing', 'merrick', 'sri', 'srinivasan', 'antonin', 'eminently', 'leahy', 'encryption', 'aapl', 'kristie', 'fanning', 'forwarded', 'branch', 'sasha', 'transferring', 'sewell', 'unlocking', 'iphone', 'shooters', 'duties', 'diminish', 'acceleration', 'politicizing', 'broadening', 'punish', 'dissidents', 'kamala', 'retiring', 'boxer', 'rancho', 'mirage', 'norms', 'conflicting', 'overlapping', 'asean', '\\u200e', 'therefore', 'filled', 'diocese', 'paso', 'parish', 'presidio', 'administered', 'tools', 'facilitation', '16.8', '583', 'vaccine', 'fauci', 'allergy', 'infectious', 'diseases', 'debt-ridden', 'defaulted', 'borrowings', '24-25', 'delegation', 'garnering', 'caucuses', 'suspending', 'quebec', 'chains', 'withheld', 'colombian', 'safer', 'independents', 'lead-contaminated', 'de-escalating', 'davos', 'frontrunner', 'argentina', 'disrespecting', 'incorporated', 'real-time', 'interactions', 'shkreli', 'pharmaceuticals', 'invoked', 'subpoenaed', 'semi-annual', 'tsipras', 'creditors', 'curtail', 'iaea', 'technicality', 'distrust', 'andrews', 'seoul', 'geun-hye', 'eitc', 'miftah', 'oilfields', 'jabhat', 'al-nusra', 'qaeda-linked', 'nusra', 'sao', 'paulo', 'affaires', 'stripping', 'recognition', 'gerardo', 'delgado', 'maldonado', 'heightened', 'refiled', 'signoff', 'timing', 'bauchi', 'repelled', 'boko', 'haram', 'northeastern', 'maiduguri', 'nicholas', 'suicide', 'bombers', 'compound', 'amaq', 'entrance', 'sudanese', 'accident', 'inhaling', 'sirte', 'pumps', 'barrels', 'binali', 'yildirim', '110,000', 'servants', '36,000', 'alice', 'wells', 'anti-corruption', 'disbursements', 'loans', '17.5', 'aid-for-reforms', 'astana', 'al-jaafari', '48,000', 'shoigu', 'kampala', 'ugandan', 'camps', 'congo', 'karemire', 'pre-emptive', 'drc', 'intermediate-range', 'bans', 'land-based', 'conventional', 'reconciliation', 'separatists', 'triumphed', 'prolonged', 'society', 'overcome', 'ulrike', 'demmer', 'boris', 'chechnya', 'roads', 'buckingham', 'palace', 'suspicious', 'vehicle', 'disclosures', 'congestion', 'travelled', 'sandringham', 'withdrawal', 'insurgents', 'brett', 'mcgurk', 'rejection', 'thuggish', 'intimidation', 'resounding', '#unpresidented', 'palestine', 'summoned', 'ottoman', 'medina', 'ancestors', 'staffan', 'mistura', 'geneva', 'khalifa', 'haftar', 'jean-yves', 'drian', 'poland', 'weaponise', 'bolster', 'disinformation', 'rules-based', 'scale', 'groundless', 'untimely', 'wales', 'terrorism-related', 'murder', 'allegedly', 'finsbury', 'worshippers', 'darren', 'osborne', 'cardiff', 'bailey', 'woolwich', 'war-era', 'speculative', 'sabotaging', 'ruin', 'preparations', 'chechens', 'grotesque', 'tit-for-tat', 'chechen', 'ramzan', 'kadyrov', 'frankfurt', 'evacuation', 'harmless', 'roemer', 'homeless', 'well-intentioned', 'poorly', '45', 'much-discussed', 'artificially', 'license', 'provoked', 'hotheads', 'nationalists', 'unleashed', 'sydney', 'melbourne', 'injuring', 'motive', 'victorian', 'russell', 'motivations', 'unknown', 'guards', 'defectors', 'heavily', 'demilitarized', 'yonhap', 'legislators', '75', 'yoweri', 'museveni', '73', '2021', 'opens', 'ruled', 'polish', 'andrzej', 'duda', 'undermines', 'disclosure', 'kurdish', 'kurdistan', 'nrt', 'offices', 'sulaimaniya', 'episode', 'beata', 'mazurek', 'informing', 'poles', 'korea-u', 'drills', 'carries', 'winter', 'olympics', 'curtailing', 'co-host', 'vancouver', 'demonstrated', 'jean-claude', 'juncker', 'austria', 'deeds', 'austrian', 'kurz', 'pro-european', 'detained', 'myanmar', 'detention', 'tegucigalpa', 'honduras', 'annulled', 'handed', 'partially', 'operator', 'paddock', 'soviet', 'springboard', 'spying', 'fsb', 'abdulhamit', 'evade', 'brasilia', 'henrique', 'meirelles', 'temer', 'polled', 'digits', 'surveys', 'realistic', 'unfolds', 'perpignan', 'administrative', 'collided', 'pyrenees-orientales', 'abuja', 'nigerian', 'recalling', 'gennady', 'gatilov', 'mediator', 'johannesburg', 'cyril', 'ramaphosa', 'nkosazana', 'dlamini-zuma', 'exchanging', 'populated', 'attackers', 'casualties', 'najib', 'afshar', 'directorate', 'industrialized', '4,776', 'tight', 'pakistani', 'quetta', 'zurich', 'bellen', 'households', 'fiscally', 'zuma', '0.7', 'vienna', 'hartwig', 'loeger', 'uniqa', 'subsidy', 'tuition', 'incremental', '600,000', 'academic', 'ovp', 'fpo', 'preconditions', 'breakdown', 'scenario', 'catastrophe', '77', 'urethra', 'petersburg', '2013-14', 'suleiman', 'kerimov', 'upper', 'valentina', 'matvienko', 'embargo', 'arkady', 'dvorkovich', 'resume', 'morgulov', 'strangled', 'approaching', 'guarantees'])"
      ]
     },
     "execution_count": 49,
     "metadata": {},
     "output_type": "execute_result"
    }
   ],
   "source": [
    "mots_in_my_dict.keys()"
   ]
  },
  {
   "cell_type": "markdown",
   "metadata": {},
   "source": [
    "### Génération des embeddings de phrases\n",
    "\n",
    "Cette cellule génère les embeddings de phrases en utilisant une moyenne des vecteurs de chaque mot dans `mots_in_my_dict`.\n",
    "\n",
    "#### Détails des étapes :\n",
    "1. **Initialisation des listes** :\n",
    "   - `X_SentsEmb` et `y_SentsEmb` contiennent respectivement les embeddings de phrases et leurs labels.\n",
    "\n",
    "2. **Calcul des embeddings** :\n",
    "   - Pour chaque phrase, un embedding est créé en moyennant les vecteurs de chaque mot.\n",
    "   - Les phrases sont ajustées à une longueur de 50 mots.\n",
    "\n",
    "3. **Retour des résultats** :\n",
    "   - Les embeddings sont stockés dans `X_SentsEmb` et les labels dans `y_SentsEmb`."
   ]
  },
  {
   "cell_type": "code",
   "execution_count": 13,
   "metadata": {},
   "outputs": [],
   "source": [
    "def Sent_Embeding_sequence(mots_in_my_dict,Document_short):\n",
    "    X_SentsEmb = []\n",
    "    y_SentsEmb = []\n",
    "    #on Va récuperer l'embeding de chaque sentence avec l'average des vecteur qui le compose\n",
    "    for S,t in Document_short: #S est la phrase , t est la class\n",
    "        Sent = []\n",
    "        for m in mots_in_my_dict.keys():\n",
    "            Sent = [list(mots_in_my_dict[m.lower()]) for m in S\n",
    "                     if m.lower() in mots_in_my_dict.keys()]\n",
    "\n",
    "        #Add Sentence Vector to list\n",
    "        Sent = fix_sentence_length(50,Sent)\n",
    "        X_SentsEmb.append(Sent)\n",
    "        #Add label to y_SentEmb\n",
    "        y_SentsEmb.append(t)\n",
    "    return X_SentsEmb,y_SentsEmb"
   ]
  },
  {
   "cell_type": "markdown",
   "metadata": {},
   "source": [
    "### Conversion des embeddings en tableau Numpy\n",
    "\n",
    "Cette cellule convertit la liste `X` d'embeddings en un tableau NumPy pour faciliter l'entraînement du modèle.\n",
    "\n",
    "#### Détails des étapes :\n",
    "- `X` et `Y` sont convertis en un tableau NumPy `X_a`.\n",
    "- La forme de `X_a` est affichée pour vérifier la structure avant l'entraînement du modèle.\n"
   ]
  },
  {
   "cell_type": "code",
   "execution_count": 14,
   "metadata": {},
   "outputs": [
    {
     "name": "stdout",
     "output_type": "stream",
     "text": [
      "X Shape (2000, 50, 300)\n"
     ]
    }
   ],
   "source": [
    "X,Y = Sent_Embeding_sequence(mots_in_my_dict,Document_short)\n",
    "import numpy as np\n",
    "X_a = np.array(X)\n",
    "\n",
    "print(\"X Shape\",X_a.shape)"
   ]
  },
  {
   "cell_type": "markdown",
   "metadata": {},
   "source": [
    "### Division des données en ensembles d'entraînement, validation et test\n",
    "\n",
    "Cette cellule divise les données en ensembles d'entraînement, de validation et de test pour l'apprentissage supervisé.\n",
    "\n",
    "#### Détails des étapes :\n",
    "1. **Division en test et entraînement** :\n",
    "   - 30 % des données sont réservées pour le test.\n",
    "\n",
    "2. **Division en validation** :\n",
    "   - 30 % de l’ensemble d’entraînement est réservé pour la validation."
   ]
  },
  {
   "cell_type": "code",
   "execution_count": null,
   "metadata": {},
   "outputs": [],
   "source": [
    "from sklearn.model_selection import train_test_split\n",
    "#train test\n",
    "X_train, X_test, y_train, y_test = train_test_split(X_a, Y, test_size=0.3, random_state=1)\n",
    "#train dev\n",
    "X_train, X_val, y_train, y_val = train_test_split(X_train, y_train, test_size=0.3, random_state=1)"
   ]
  },
  {
   "cell_type": "markdown",
   "metadata": {},
   "source": [
    "### Vérification des tailles des ensembles de données\n",
    "\n",
    "Cette cellule affiche la taille des ensembles d'entraînement, de validation et de test.\n",
    "\n",
    "#### Détails des étapes :\n",
    "- Affiche le nombre d’échantillons dans chaque ensemble pour confirmer la bonne répartition.\n"
   ]
  },
  {
   "cell_type": "code",
   "execution_count": null,
   "metadata": {},
   "outputs": [
    {
     "name": "stdout",
     "output_type": "stream",
     "text": [
      "length X_train : 980\n",
      "length y_train : 980\n",
      "length X_test : 600\n",
      "length y_test : 600\n",
      "length X_val : 420\n",
      "length y_val : 420\n"
     ]
    }
   ],
   "source": [
    "print('length X_train :',len(X_train))\n",
    "print('length y_train :',len(y_train))\n",
    "print('length X_test :',len(X_test))\n",
    "print('length y_test :',len(y_test))\n",
    "print('length X_val :',len(X_val))\n",
    "print('length y_val :',len(y_val))"
   ]
  },
  {
   "cell_type": "code",
   "execution_count": null,
   "metadata": {},
   "outputs": [
    {
     "data": {
      "text/plain": [
       "(50, 300)"
      ]
     },
     "execution_count": 82,
     "metadata": {},
     "output_type": "execute_result"
    }
   ],
   "source": [
    "(X_a.shape[1], X_a.shape[2])"
   ]
  },
  {
   "cell_type": "markdown",
   "metadata": {},
   "source": [
    "### Création du modèle LSTM\n",
    "\n",
    "Cette cellule crée et compile un modèle de réseau de neurones récurrent (LSTM) avec Keras.\n",
    "\n",
    "#### Détails des étapes :\n",
    "1. **Architecture du modèle** :\n",
    "   - Une couche LSTM avec une sortie de 300 neurones et une couche de sortie `Dense` avec une activation sigmoïde.\n",
    "\n",
    "2. **Compilation du modèle** :\n",
    "   - Le modèle est compilé avec `mean_squared_error` comme fonction de perte et `adam` comme optimiseur.\n"
   ]
  },
  {
   "cell_type": "code",
   "execution_count": null,
   "metadata": {},
   "outputs": [
    {
     "name": "stderr",
     "output_type": "stream",
     "text": [
      "c:\\Users\\deded\\Documents\\Inge3\\NLP\\Project\\envFakeNews\\lib\\site-packages\\keras\\src\\layers\\rnn\\rnn.py:204: UserWarning: Do not pass an `input_shape`/`input_dim` argument to a layer. When using Sequential models, prefer using an `Input(shape)` object as the first layer in the model instead.\n",
      "  super().__init__(**kwargs)\n"
     ]
    },
    {
     "data": {
      "text/html": [
       "<pre style=\"white-space:pre;overflow-x:auto;line-height:normal;font-family:Menlo,'DejaVu Sans Mono',consolas,'Courier New',monospace\"><span style=\"font-weight: bold\">Model: \"sequential_4\"</span>\n",
       "</pre>\n"
      ],
      "text/plain": [
       "\u001b[1mModel: \"sequential_4\"\u001b[0m\n"
      ]
     },
     "metadata": {},
     "output_type": "display_data"
    },
    {
     "data": {
      "text/html": [
       "<pre style=\"white-space:pre;overflow-x:auto;line-height:normal;font-family:Menlo,'DejaVu Sans Mono',consolas,'Courier New',monospace\">┏━━━━━━━━━━━━━━━━━━━━━━━━━━━━━━━━━┳━━━━━━━━━━━━━━━━━━━━━━━━┳━━━━━━━━━━━━━━━┓\n",
       "┃<span style=\"font-weight: bold\"> Layer (type)                    </span>┃<span style=\"font-weight: bold\"> Output Shape           </span>┃<span style=\"font-weight: bold\">       Param # </span>┃\n",
       "┡━━━━━━━━━━━━━━━━━━━━━━━━━━━━━━━━━╇━━━━━━━━━━━━━━━━━━━━━━━━╇━━━━━━━━━━━━━━━┩\n",
       "│ lstm_6 (<span style=\"color: #0087ff; text-decoration-color: #0087ff\">LSTM</span>)                   │ (<span style=\"color: #00d7ff; text-decoration-color: #00d7ff\">None</span>, <span style=\"color: #00af00; text-decoration-color: #00af00\">300</span>)            │       <span style=\"color: #00af00; text-decoration-color: #00af00\">721,200</span> │\n",
       "├─────────────────────────────────┼────────────────────────┼───────────────┤\n",
       "│ dense_4 (<span style=\"color: #0087ff; text-decoration-color: #0087ff\">Dense</span>)                 │ (<span style=\"color: #00d7ff; text-decoration-color: #00d7ff\">None</span>, <span style=\"color: #00af00; text-decoration-color: #00af00\">1</span>)              │           <span style=\"color: #00af00; text-decoration-color: #00af00\">301</span> │\n",
       "└─────────────────────────────────┴────────────────────────┴───────────────┘\n",
       "</pre>\n"
      ],
      "text/plain": [
       "┏━━━━━━━━━━━━━━━━━━━━━━━━━━━━━━━━━┳━━━━━━━━━━━━━━━━━━━━━━━━┳━━━━━━━━━━━━━━━┓\n",
       "┃\u001b[1m \u001b[0m\u001b[1mLayer (type)                   \u001b[0m\u001b[1m \u001b[0m┃\u001b[1m \u001b[0m\u001b[1mOutput Shape          \u001b[0m\u001b[1m \u001b[0m┃\u001b[1m \u001b[0m\u001b[1m      Param #\u001b[0m\u001b[1m \u001b[0m┃\n",
       "┡━━━━━━━━━━━━━━━━━━━━━━━━━━━━━━━━━╇━━━━━━━━━━━━━━━━━━━━━━━━╇━━━━━━━━━━━━━━━┩\n",
       "│ lstm_6 (\u001b[38;5;33mLSTM\u001b[0m)                   │ (\u001b[38;5;45mNone\u001b[0m, \u001b[38;5;34m300\u001b[0m)            │       \u001b[38;5;34m721,200\u001b[0m │\n",
       "├─────────────────────────────────┼────────────────────────┼───────────────┤\n",
       "│ dense_4 (\u001b[38;5;33mDense\u001b[0m)                 │ (\u001b[38;5;45mNone\u001b[0m, \u001b[38;5;34m1\u001b[0m)              │           \u001b[38;5;34m301\u001b[0m │\n",
       "└─────────────────────────────────┴────────────────────────┴───────────────┘\n"
      ]
     },
     "metadata": {},
     "output_type": "display_data"
    },
    {
     "data": {
      "text/html": [
       "<pre style=\"white-space:pre;overflow-x:auto;line-height:normal;font-family:Menlo,'DejaVu Sans Mono',consolas,'Courier New',monospace\"><span style=\"font-weight: bold\"> Total params: </span><span style=\"color: #00af00; text-decoration-color: #00af00\">721,501</span> (2.75 MB)\n",
       "</pre>\n"
      ],
      "text/plain": [
       "\u001b[1m Total params: \u001b[0m\u001b[38;5;34m721,501\u001b[0m (2.75 MB)\n"
      ]
     },
     "metadata": {},
     "output_type": "display_data"
    },
    {
     "data": {
      "text/html": [
       "<pre style=\"white-space:pre;overflow-x:auto;line-height:normal;font-family:Menlo,'DejaVu Sans Mono',consolas,'Courier New',monospace\"><span style=\"font-weight: bold\"> Trainable params: </span><span style=\"color: #00af00; text-decoration-color: #00af00\">721,501</span> (2.75 MB)\n",
       "</pre>\n"
      ],
      "text/plain": [
       "\u001b[1m Trainable params: \u001b[0m\u001b[38;5;34m721,501\u001b[0m (2.75 MB)\n"
      ]
     },
     "metadata": {},
     "output_type": "display_data"
    },
    {
     "data": {
      "text/html": [
       "<pre style=\"white-space:pre;overflow-x:auto;line-height:normal;font-family:Menlo,'DejaVu Sans Mono',consolas,'Courier New',monospace\"><span style=\"font-weight: bold\"> Non-trainable params: </span><span style=\"color: #00af00; text-decoration-color: #00af00\">0</span> (0.00 B)\n",
       "</pre>\n"
      ],
      "text/plain": [
       "\u001b[1m Non-trainable params: \u001b[0m\u001b[38;5;34m0\u001b[0m (0.00 B)\n"
      ]
     },
     "metadata": {},
     "output_type": "display_data"
    },
    {
     "name": "stdout",
     "output_type": "stream",
     "text": [
      "None\n"
     ]
    }
   ],
   "source": [
    "from keras.models import Sequential\n",
    "from keras.layers import LSTM,Dense\n",
    "\n",
    "#embed_dim = 100\n",
    "lstm_out = 300\n",
    "\n",
    "\n",
    "modelBatch = Sequential()\n",
    "modelBatch.add(LSTM(lstm_out, input_shape=\n",
    "                    (X_a.shape[1], X_a.shape[2])))\n",
    "modelBatch.add(Dense(1,activation='sigmoid'))\n",
    "modelBatch.compile(loss='mean_squared_error',\n",
    "              optimizer='adam',\n",
    "              metrics=['binary_accuracy'])\n",
    "print(modelBatch.summary())"
   ]
  },
  {
   "cell_type": "markdown",
   "metadata": {},
   "source": [
    "### Entraînement du modèle\n",
    "\n",
    "Cette cellule entraîne le modèle LSTM avec les données d'entraînement sur 20 époques."
   ]
  },
  {
   "cell_type": "code",
   "execution_count": null,
   "metadata": {},
   "outputs": [
    {
     "name": "stdout",
     "output_type": "stream",
     "text": [
      "Epoch 1/20\n",
      "\u001b[1m31/31\u001b[0m \u001b[32m━━━━━━━━━━━━━━━━━━━━\u001b[0m\u001b[37m\u001b[0m \u001b[1m3s\u001b[0m 47ms/step - binary_accuracy: 0.8529 - loss: 0.1317\n",
      "Epoch 2/20\n",
      "\u001b[1m31/31\u001b[0m \u001b[32m━━━━━━━━━━━━━━━━━━━━\u001b[0m\u001b[37m\u001b[0m \u001b[1m1s\u001b[0m 47ms/step - binary_accuracy: 0.9329 - loss: 0.0658\n",
      "Epoch 3/20\n",
      "\u001b[1m31/31\u001b[0m \u001b[32m━━━━━━━━━━━━━━━━━━━━\u001b[0m\u001b[37m\u001b[0m \u001b[1m1s\u001b[0m 45ms/step - binary_accuracy: 0.9445 - loss: 0.0518\n",
      "Epoch 4/20\n",
      "\u001b[1m31/31\u001b[0m \u001b[32m━━━━━━━━━━━━━━━━━━━━\u001b[0m\u001b[37m\u001b[0m \u001b[1m1s\u001b[0m 46ms/step - binary_accuracy: 0.9392 - loss: 0.0536\n",
      "Epoch 5/20\n",
      "\u001b[1m31/31\u001b[0m \u001b[32m━━━━━━━━━━━━━━━━━━━━\u001b[0m\u001b[37m\u001b[0m \u001b[1m2s\u001b[0m 51ms/step - binary_accuracy: 0.9438 - loss: 0.0527\n",
      "Epoch 6/20\n",
      "\u001b[1m31/31\u001b[0m \u001b[32m━━━━━━━━━━━━━━━━━━━━\u001b[0m\u001b[37m\u001b[0m \u001b[1m2s\u001b[0m 52ms/step - binary_accuracy: 0.9527 - loss: 0.0329\n",
      "Epoch 7/20\n",
      "\u001b[1m31/31\u001b[0m \u001b[32m━━━━━━━━━━━━━━━━━━━━\u001b[0m\u001b[37m\u001b[0m \u001b[1m2s\u001b[0m 50ms/step - binary_accuracy: 0.9834 - loss: 0.0153\n",
      "Epoch 8/20\n",
      "\u001b[1m31/31\u001b[0m \u001b[32m━━━━━━━━━━━━━━━━━━━━\u001b[0m\u001b[37m\u001b[0m \u001b[1m2s\u001b[0m 51ms/step - binary_accuracy: 0.9688 - loss: 0.0259\n",
      "Epoch 9/20\n",
      "\u001b[1m31/31\u001b[0m \u001b[32m━━━━━━━━━━━━━━━━━━━━\u001b[0m\u001b[37m\u001b[0m \u001b[1m2s\u001b[0m 54ms/step - binary_accuracy: 0.9951 - loss: 0.0050\n",
      "Epoch 10/20\n",
      "\u001b[1m31/31\u001b[0m \u001b[32m━━━━━━━━━━━━━━━━━━━━\u001b[0m\u001b[37m\u001b[0m \u001b[1m2s\u001b[0m 50ms/step - binary_accuracy: 0.9998 - loss: 5.0787e-04\n",
      "Epoch 11/20\n",
      "\u001b[1m31/31\u001b[0m \u001b[32m━━━━━━━━━━━━━━━━━━━━\u001b[0m\u001b[37m\u001b[0m \u001b[1m2s\u001b[0m 48ms/step - binary_accuracy: 0.9979 - loss: 0.0014\n",
      "Epoch 12/20\n",
      "\u001b[1m31/31\u001b[0m \u001b[32m━━━━━━━━━━━━━━━━━━━━\u001b[0m\u001b[37m\u001b[0m \u001b[1m2s\u001b[0m 48ms/step - binary_accuracy: 0.9965 - loss: 0.0022\n",
      "Epoch 13/20\n",
      "\u001b[1m31/31\u001b[0m \u001b[32m━━━━━━━━━━━━━━━━━━━━\u001b[0m\u001b[37m\u001b[0m \u001b[1m2s\u001b[0m 48ms/step - binary_accuracy: 0.9946 - loss: 0.0048\n",
      "Epoch 14/20\n",
      "\u001b[1m31/31\u001b[0m \u001b[32m━━━━━━━━━━━━━━━━━━━━\u001b[0m\u001b[37m\u001b[0m \u001b[1m2s\u001b[0m 48ms/step - binary_accuracy: 1.0000 - loss: 5.4408e-05\n",
      "Epoch 15/20\n",
      "\u001b[1m31/31\u001b[0m \u001b[32m━━━━━━━━━━━━━━━━━━━━\u001b[0m\u001b[37m\u001b[0m \u001b[1m2s\u001b[0m 48ms/step - binary_accuracy: 1.0000 - loss: 3.0013e-05\n",
      "Epoch 16/20\n",
      "\u001b[1m31/31\u001b[0m \u001b[32m━━━━━━━━━━━━━━━━━━━━\u001b[0m\u001b[37m\u001b[0m \u001b[1m2s\u001b[0m 48ms/step - binary_accuracy: 1.0000 - loss: 2.8210e-05\n",
      "Epoch 17/20\n",
      "\u001b[1m31/31\u001b[0m \u001b[32m━━━━━━━━━━━━━━━━━━━━\u001b[0m\u001b[37m\u001b[0m \u001b[1m1s\u001b[0m 47ms/step - binary_accuracy: 1.0000 - loss: 2.2401e-05\n",
      "Epoch 18/20\n",
      "\u001b[1m31/31\u001b[0m \u001b[32m━━━━━━━━━━━━━━━━━━━━\u001b[0m\u001b[37m\u001b[0m \u001b[1m2s\u001b[0m 48ms/step - binary_accuracy: 1.0000 - loss: 1.9463e-05\n",
      "Epoch 19/20\n",
      "\u001b[1m31/31\u001b[0m \u001b[32m━━━━━━━━━━━━━━━━━━━━\u001b[0m\u001b[37m\u001b[0m \u001b[1m1s\u001b[0m 46ms/step - binary_accuracy: 1.0000 - loss: 1.7295e-05\n",
      "Epoch 20/20\n",
      "\u001b[1m31/31\u001b[0m \u001b[32m━━━━━━━━━━━━━━━━━━━━\u001b[0m\u001b[37m\u001b[0m \u001b[1m1s\u001b[0m 47ms/step - binary_accuracy: 1.0000 - loss: 1.5654e-05\n"
     ]
    }
   ],
   "source": [
    "historyBatch = modelBatch.fit(X_train, np.array(y_train), epochs = 20)"
   ]
  },
  {
   "cell_type": "markdown",
   "metadata": {},
   "source": [
    "### Évaluation du modèle sur l'ensemble de validation\n",
    "\n",
    "Cette cellule prédit les valeurs sur `X_val`, arrondit les résultats pour obtenir des prédictions binaires et compte les prédictions correctes.\n"
   ]
  },
  {
   "cell_type": "code",
   "execution_count": null,
   "metadata": {},
   "outputs": [
    {
     "name": "stdout",
     "output_type": "stream",
     "text": [
      "\u001b[1m14/14\u001b[0m \u001b[32m━━━━━━━━━━━━━━━━━━━━\u001b[0m\u001b[37m\u001b[0m \u001b[1m1s\u001b[0m 26ms/step\n"
     ]
    }
   ],
   "source": [
    "scoreBatch = modelBatch.predict(X_val)\n",
    "predicted_val = []\n",
    "for i in scoreBatch:\n",
    "    predicted_val.append(round(i[0]))\n",
    "\n",
    "count_true = 0\n",
    "for i,j in zip(y_val,predicted_val):\n",
    "\n",
    "    if i == j:\n",
    "        count_true = count_true + 1"
   ]
  },
  {
   "cell_type": "code",
   "execution_count": null,
   "metadata": {},
   "outputs": [
    {
     "data": {
      "text/plain": [
       "0.9952380952380953"
      ]
     },
     "execution_count": 86,
     "metadata": {},
     "output_type": "execute_result"
    }
   ],
   "source": [
    "count_true / len(y_val)"
   ]
  },
  {
   "cell_type": "markdown",
   "metadata": {},
   "source": [
    "### Visualisation de la perte du modèle\n",
    "\n",
    "Cette cellule trace la courbe de perte de l’entraînement, permettant de visualiser l’évolution de la perte au fil des époques."
   ]
  },
  {
   "cell_type": "code",
   "execution_count": null,
   "metadata": {},
   "outputs": [
    {
     "data": {
      "image/png": "[encoded data removed]",
      "text/plain": [
       "<Figure size 640x480 with 1 Axes>"
      ]
     },
     "metadata": {},
     "output_type": "display_data"
    }
   ],
   "source": [
    "from matplotlib import pyplot as plt\n",
    "plt.style.use('ggplot')\n",
    "%matplotlib inline\n",
    "\n",
    "plt.plot(historyBatch.history['loss'])\n",
    "plt.title('model loss')\n",
    "plt.ylabel('loss')\n",
    "plt.xlabel('epoch')\n",
    "plt.legend(['train'], loc='upper left')\n",
    "plt.show()"
   ]
  },
  {
   "cell_type": "markdown",
   "metadata": {},
   "source": [
    "### Modèle LSTM avec batch_size de 128\n",
    "\n",
    "Cette cellule crée, compile et entraîne un modèle LSTM avec un `batch_size` de 128 pour observer son effet.\n"
   ]
  },
  {
   "cell_type": "code",
   "execution_count": null,
   "metadata": {},
   "outputs": [
    {
     "name": "stderr",
     "output_type": "stream",
     "text": [
      "c:\\Users\\deded\\Documents\\Inge3\\NLP\\Project\\envFakeNews\\lib\\site-packages\\keras\\src\\layers\\rnn\\rnn.py:204: UserWarning: Do not pass an `input_shape`/`input_dim` argument to a layer. When using Sequential models, prefer using an `Input(shape)` object as the first layer in the model instead.\n",
      "  super().__init__(**kwargs)\n"
     ]
    },
    {
     "data": {
      "text/html": [
       "<pre style=\"white-space:pre;overflow-x:auto;line-height:normal;font-family:Menlo,'DejaVu Sans Mono',consolas,'Courier New',monospace\"><span style=\"font-weight: bold\">Model: \"sequential_5\"</span>\n",
       "</pre>\n"
      ],
      "text/plain": [
       "\u001b[1mModel: \"sequential_5\"\u001b[0m\n"
      ]
     },
     "metadata": {},
     "output_type": "display_data"
    },
    {
     "data": {
      "text/html": [
       "<pre style=\"white-space:pre;overflow-x:auto;line-height:normal;font-family:Menlo,'DejaVu Sans Mono',consolas,'Courier New',monospace\">┏━━━━━━━━━━━━━━━━━━━━━━━━━━━━━━━━━┳━━━━━━━━━━━━━━━━━━━━━━━━┳━━━━━━━━━━━━━━━┓\n",
       "┃<span style=\"font-weight: bold\"> Layer (type)                    </span>┃<span style=\"font-weight: bold\"> Output Shape           </span>┃<span style=\"font-weight: bold\">       Param # </span>┃\n",
       "┡━━━━━━━━━━━━━━━━━━━━━━━━━━━━━━━━━╇━━━━━━━━━━━━━━━━━━━━━━━━╇━━━━━━━━━━━━━━━┩\n",
       "│ lstm_7 (<span style=\"color: #0087ff; text-decoration-color: #0087ff\">LSTM</span>)                   │ (<span style=\"color: #00d7ff; text-decoration-color: #00d7ff\">None</span>, <span style=\"color: #00af00; text-decoration-color: #00af00\">300</span>)            │       <span style=\"color: #00af00; text-decoration-color: #00af00\">721,200</span> │\n",
       "├─────────────────────────────────┼────────────────────────┼───────────────┤\n",
       "│ dense_5 (<span style=\"color: #0087ff; text-decoration-color: #0087ff\">Dense</span>)                 │ (<span style=\"color: #00d7ff; text-decoration-color: #00d7ff\">None</span>, <span style=\"color: #00af00; text-decoration-color: #00af00\">1</span>)              │           <span style=\"color: #00af00; text-decoration-color: #00af00\">301</span> │\n",
       "└─────────────────────────────────┴────────────────────────┴───────────────┘\n",
       "</pre>\n"
      ],
      "text/plain": [
       "┏━━━━━━━━━━━━━━━━━━━━━━━━━━━━━━━━━┳━━━━━━━━━━━━━━━━━━━━━━━━┳━━━━━━━━━━━━━━━┓\n",
       "┃\u001b[1m \u001b[0m\u001b[1mLayer (type)                   \u001b[0m\u001b[1m \u001b[0m┃\u001b[1m \u001b[0m\u001b[1mOutput Shape          \u001b[0m\u001b[1m \u001b[0m┃\u001b[1m \u001b[0m\u001b[1m      Param #\u001b[0m\u001b[1m \u001b[0m┃\n",
       "┡━━━━━━━━━━━━━━━━━━━━━━━━━━━━━━━━━╇━━━━━━━━━━━━━━━━━━━━━━━━╇━━━━━━━━━━━━━━━┩\n",
       "│ lstm_7 (\u001b[38;5;33mLSTM\u001b[0m)                   │ (\u001b[38;5;45mNone\u001b[0m, \u001b[38;5;34m300\u001b[0m)            │       \u001b[38;5;34m721,200\u001b[0m │\n",
       "├─────────────────────────────────┼────────────────────────┼───────────────┤\n",
       "│ dense_5 (\u001b[38;5;33mDense\u001b[0m)                 │ (\u001b[38;5;45mNone\u001b[0m, \u001b[38;5;34m1\u001b[0m)              │           \u001b[38;5;34m301\u001b[0m │\n",
       "└─────────────────────────────────┴────────────────────────┴───────────────┘\n"
      ]
     },
     "metadata": {},
     "output_type": "display_data"
    },
    {
     "data": {
      "text/html": [
       "<pre style=\"white-space:pre;overflow-x:auto;line-height:normal;font-family:Menlo,'DejaVu Sans Mono',consolas,'Courier New',monospace\"><span style=\"font-weight: bold\"> Total params: </span><span style=\"color: #00af00; text-decoration-color: #00af00\">721,501</span> (2.75 MB)\n",
       "</pre>\n"
      ],
      "text/plain": [
       "\u001b[1m Total params: \u001b[0m\u001b[38;5;34m721,501\u001b[0m (2.75 MB)\n"
      ]
     },
     "metadata": {},
     "output_type": "display_data"
    },
    {
     "data": {
      "text/html": [
       "<pre style=\"white-space:pre;overflow-x:auto;line-height:normal;font-family:Menlo,'DejaVu Sans Mono',consolas,'Courier New',monospace\"><span style=\"font-weight: bold\"> Trainable params: </span><span style=\"color: #00af00; text-decoration-color: #00af00\">721,501</span> (2.75 MB)\n",
       "</pre>\n"
      ],
      "text/plain": [
       "\u001b[1m Trainable params: \u001b[0m\u001b[38;5;34m721,501\u001b[0m (2.75 MB)\n"
      ]
     },
     "metadata": {},
     "output_type": "display_data"
    },
    {
     "data": {
      "text/html": [
       "<pre style=\"white-space:pre;overflow-x:auto;line-height:normal;font-family:Menlo,'DejaVu Sans Mono',consolas,'Courier New',monospace\"><span style=\"font-weight: bold\"> Non-trainable params: </span><span style=\"color: #00af00; text-decoration-color: #00af00\">0</span> (0.00 B)\n",
       "</pre>\n"
      ],
      "text/plain": [
       "\u001b[1m Non-trainable params: \u001b[0m\u001b[38;5;34m0\u001b[0m (0.00 B)\n"
      ]
     },
     "metadata": {},
     "output_type": "display_data"
    },
    {
     "name": "stdout",
     "output_type": "stream",
     "text": [
      "None\n",
      "Epoch 1/100\n",
      "\u001b[1m8/8\u001b[0m \u001b[32m━━━━━━━━━━━━━━━━━━━━\u001b[0m\u001b[37m\u001b[0m \u001b[1m3s\u001b[0m 135ms/step - binary_accuracy: 0.7194 - loss: 0.2152\n",
      "Epoch 2/100\n",
      "\u001b[1m8/8\u001b[0m \u001b[32m━━━━━━━━━━━━━━━━━━━━\u001b[0m\u001b[37m\u001b[0m \u001b[1m1s\u001b[0m 119ms/step - binary_accuracy: 0.9572 - loss: 0.0471\n",
      "Epoch 3/100\n",
      "\u001b[1m8/8\u001b[0m \u001b[32m━━━━━━━━━━━━━━━━━━━━\u001b[0m\u001b[37m\u001b[0m \u001b[1m1s\u001b[0m 124ms/step - binary_accuracy: 0.9107 - loss: 0.0888\n",
      "Epoch 4/100\n",
      "\u001b[1m8/8\u001b[0m \u001b[32m━━━━━━━━━━━━━━━━━━━━\u001b[0m\u001b[37m\u001b[0m \u001b[1m1s\u001b[0m 121ms/step - binary_accuracy: 0.7903 - loss: 0.2079\n",
      "Epoch 5/100\n",
      "\u001b[1m8/8\u001b[0m \u001b[32m━━━━━━━━━━━━━━━━━━━━\u001b[0m\u001b[37m\u001b[0m \u001b[1m1s\u001b[0m 121ms/step - binary_accuracy: 0.9172 - loss: 0.0806\n",
      "Epoch 6/100\n",
      "\u001b[1m8/8\u001b[0m \u001b[32m━━━━━━━━━━━━━━━━━━━━\u001b[0m\u001b[37m\u001b[0m \u001b[1m1s\u001b[0m 121ms/step - binary_accuracy: 0.9797 - loss: 0.0200\n",
      "Epoch 7/100\n",
      "\u001b[1m8/8\u001b[0m \u001b[32m━━━━━━━━━━━━━━━━━━━━\u001b[0m\u001b[37m\u001b[0m \u001b[1m1s\u001b[0m 119ms/step - binary_accuracy: 0.9489 - loss: 0.0504\n",
      "Epoch 8/100\n",
      "\u001b[1m8/8\u001b[0m \u001b[32m━━━━━━━━━━━━━━━━━━━━\u001b[0m\u001b[37m\u001b[0m \u001b[1m1s\u001b[0m 120ms/step - binary_accuracy: 0.9550 - loss: 0.0427\n",
      "Epoch 9/100\n",
      "\u001b[1m8/8\u001b[0m \u001b[32m━━━━━━━━━━━━━━━━━━━━\u001b[0m\u001b[37m\u001b[0m \u001b[1m1s\u001b[0m 122ms/step - binary_accuracy: 0.9762 - loss: 0.0262\n",
      "Epoch 10/100\n",
      "\u001b[1m8/8\u001b[0m \u001b[32m━━━━━━━━━━━━━━━━━━━━\u001b[0m\u001b[37m\u001b[0m \u001b[1m1s\u001b[0m 123ms/step - binary_accuracy: 0.9638 - loss: 0.0354\n",
      "Epoch 11/100\n",
      "\u001b[1m8/8\u001b[0m \u001b[32m━━━━━━━━━━━━━━━━━━━━\u001b[0m\u001b[37m\u001b[0m \u001b[1m1s\u001b[0m 131ms/step - binary_accuracy: 0.9583 - loss: 0.0403\n",
      "Epoch 12/100\n",
      "\u001b[1m8/8\u001b[0m \u001b[32m━━━━━━━━━━━━━━━━━━━━\u001b[0m\u001b[37m\u001b[0m \u001b[1m1s\u001b[0m 122ms/step - binary_accuracy: 0.9523 - loss: 0.0447\n",
      "Epoch 13/100\n",
      "\u001b[1m8/8\u001b[0m \u001b[32m━━━━━━━━━━━━━━━━━━━━\u001b[0m\u001b[37m\u001b[0m \u001b[1m1s\u001b[0m 119ms/step - binary_accuracy: 0.9425 - loss: 0.0518\n",
      "Epoch 14/100\n",
      "\u001b[1m8/8\u001b[0m \u001b[32m━━━━━━━━━━━━━━━━━━━━\u001b[0m\u001b[37m\u001b[0m \u001b[1m1s\u001b[0m 117ms/step - binary_accuracy: 0.9523 - loss: 0.0441\n",
      "Epoch 15/100\n",
      "\u001b[1m8/8\u001b[0m \u001b[32m━━━━━━━━━━━━━━━━━━━━\u001b[0m\u001b[37m\u001b[0m \u001b[1m1s\u001b[0m 116ms/step - binary_accuracy: 0.9522 - loss: 0.0441\n",
      "Epoch 16/100\n",
      "\u001b[1m8/8\u001b[0m \u001b[32m━━━━━━━━━━━━━━━━━━━━\u001b[0m\u001b[37m\u001b[0m \u001b[1m1s\u001b[0m 119ms/step - binary_accuracy: 0.9480 - loss: 0.0471\n",
      "Epoch 17/100\n",
      "\u001b[1m8/8\u001b[0m \u001b[32m━━━━━━━━━━━━━━━━━━━━\u001b[0m\u001b[37m\u001b[0m \u001b[1m1s\u001b[0m 123ms/step - binary_accuracy: 0.9540 - loss: 0.0422\n",
      "Epoch 18/100\n",
      "\u001b[1m8/8\u001b[0m \u001b[32m━━━━━━━━━━━━━━━━━━━━\u001b[0m\u001b[37m\u001b[0m \u001b[1m1s\u001b[0m 137ms/step - binary_accuracy: 0.9463 - loss: 0.0490\n",
      "Epoch 19/100\n",
      "\u001b[1m8/8\u001b[0m \u001b[32m━━━━━━━━━━━━━━━━━━━━\u001b[0m\u001b[37m\u001b[0m \u001b[1m1s\u001b[0m 128ms/step - binary_accuracy: 0.9471 - loss: 0.0479\n",
      "Epoch 20/100\n",
      "\u001b[1m8/8\u001b[0m \u001b[32m━━━━━━━━━━━━━━━━━━━━\u001b[0m\u001b[37m\u001b[0m \u001b[1m1s\u001b[0m 127ms/step - binary_accuracy: 0.9573 - loss: 0.0395\n",
      "Epoch 21/100\n",
      "\u001b[1m8/8\u001b[0m \u001b[32m━━━━━━━━━━━━━━━━━━━━\u001b[0m\u001b[37m\u001b[0m \u001b[1m1s\u001b[0m 126ms/step - binary_accuracy: 0.9524 - loss: 0.0431\n",
      "Epoch 22/100\n",
      "\u001b[1m8/8\u001b[0m \u001b[32m━━━━━━━━━━━━━━━━━━━━\u001b[0m\u001b[37m\u001b[0m \u001b[1m1s\u001b[0m 125ms/step - binary_accuracy: 0.9487 - loss: 0.0462\n",
      "Epoch 23/100\n",
      "\u001b[1m8/8\u001b[0m \u001b[32m━━━━━━━━━━━━━━━━━━━━\u001b[0m\u001b[37m\u001b[0m \u001b[1m1s\u001b[0m 126ms/step - binary_accuracy: 0.9467 - loss: 0.0477\n",
      "Epoch 24/100\n",
      "\u001b[1m8/8\u001b[0m \u001b[32m━━━━━━━━━━━━━━━━━━━━\u001b[0m\u001b[37m\u001b[0m \u001b[1m1s\u001b[0m 120ms/step - binary_accuracy: 0.9473 - loss: 0.0469\n",
      "Epoch 25/100\n",
      "\u001b[1m8/8\u001b[0m \u001b[32m━━━━━━━━━━━━━━━━━━━━\u001b[0m\u001b[37m\u001b[0m \u001b[1m1s\u001b[0m 117ms/step - binary_accuracy: 0.9532 - loss: 0.0420\n",
      "Epoch 26/100\n",
      "\u001b[1m8/8\u001b[0m \u001b[32m━━━━━━━━━━━━━━━━━━━━\u001b[0m\u001b[37m\u001b[0m \u001b[1m1s\u001b[0m 125ms/step - binary_accuracy: 0.9588 - loss: 0.0367\n",
      "Epoch 27/100\n",
      "\u001b[1m8/8\u001b[0m \u001b[32m━━━━━━━━━━━━━━━━━━━━\u001b[0m\u001b[37m\u001b[0m \u001b[1m1s\u001b[0m 125ms/step - binary_accuracy: 0.9608 - loss: 0.0346\n",
      "Epoch 28/100\n",
      "\u001b[1m8/8\u001b[0m \u001b[32m━━━━━━━━━━━━━━━━━━━━\u001b[0m\u001b[37m\u001b[0m \u001b[1m1s\u001b[0m 129ms/step - binary_accuracy: 0.9596 - loss: 0.0346\n",
      "Epoch 29/100\n",
      "\u001b[1m8/8\u001b[0m \u001b[32m━━━━━━━━━━━━━━━━━━━━\u001b[0m\u001b[37m\u001b[0m \u001b[1m1s\u001b[0m 122ms/step - binary_accuracy: 0.9676 - loss: 0.0277\n",
      "Epoch 30/100\n",
      "\u001b[1m8/8\u001b[0m \u001b[32m━━━━━━━━━━━━━━━━━━━━\u001b[0m\u001b[37m\u001b[0m \u001b[1m1s\u001b[0m 127ms/step - binary_accuracy: 0.9737 - loss: 0.0190\n",
      "Epoch 31/100\n",
      "\u001b[1m8/8\u001b[0m \u001b[32m━━━━━━━━━━━━━━━━━━━━\u001b[0m\u001b[37m\u001b[0m \u001b[1m1s\u001b[0m 125ms/step - binary_accuracy: 0.9854 - loss: 0.0126\n",
      "Epoch 32/100\n",
      "\u001b[1m8/8\u001b[0m \u001b[32m━━━━━━━━━━━━━━━━━━━━\u001b[0m\u001b[37m\u001b[0m \u001b[1m1s\u001b[0m 123ms/step - binary_accuracy: 0.9964 - loss: 0.0053\n",
      "Epoch 33/100\n",
      "\u001b[1m8/8\u001b[0m \u001b[32m━━━━━━━━━━━━━━━━━━━━\u001b[0m\u001b[37m\u001b[0m \u001b[1m1s\u001b[0m 120ms/step - binary_accuracy: 0.9801 - loss: 0.0154\n",
      "Epoch 34/100\n",
      "\u001b[1m8/8\u001b[0m \u001b[32m━━━━━━━━━━━━━━━━━━━━\u001b[0m\u001b[37m\u001b[0m \u001b[1m1s\u001b[0m 116ms/step - binary_accuracy: 0.9902 - loss: 0.0108\n",
      "Epoch 35/100\n",
      "\u001b[1m8/8\u001b[0m \u001b[32m━━━━━━━━━━━━━━━━━━━━\u001b[0m\u001b[37m\u001b[0m \u001b[1m1s\u001b[0m 121ms/step - binary_accuracy: 0.9963 - loss: 0.0038\n",
      "Epoch 36/100\n",
      "\u001b[1m8/8\u001b[0m \u001b[32m━━━━━━━━━━━━━━━━━━━━\u001b[0m\u001b[37m\u001b[0m \u001b[1m1s\u001b[0m 121ms/step - binary_accuracy: 0.9982 - loss: 0.0018\n",
      "Epoch 37/100\n",
      "\u001b[1m8/8\u001b[0m \u001b[32m━━━━━━━━━━━━━━━━━━━━\u001b[0m\u001b[37m\u001b[0m \u001b[1m1s\u001b[0m 122ms/step - binary_accuracy: 0.9970 - loss: 0.0019\n",
      "Epoch 38/100\n",
      "\u001b[1m8/8\u001b[0m \u001b[32m━━━━━━━━━━━━━━━━━━━━\u001b[0m\u001b[37m\u001b[0m \u001b[1m1s\u001b[0m 123ms/step - binary_accuracy: 1.0000 - loss: 5.1240e-04\n",
      "Epoch 39/100\n",
      "\u001b[1m8/8\u001b[0m \u001b[32m━━━━━━━━━━━━━━━━━━━━\u001b[0m\u001b[37m\u001b[0m \u001b[1m1s\u001b[0m 122ms/step - binary_accuracy: 1.0000 - loss: 1.5850e-04\n",
      "Epoch 40/100\n",
      "\u001b[1m8/8\u001b[0m \u001b[32m━━━━━━━━━━━━━━━━━━━━\u001b[0m\u001b[37m\u001b[0m \u001b[1m1s\u001b[0m 120ms/step - binary_accuracy: 1.0000 - loss: 1.4403e-04\n",
      "Epoch 41/100\n",
      "\u001b[1m8/8\u001b[0m \u001b[32m━━━━━━━━━━━━━━━━━━━━\u001b[0m\u001b[37m\u001b[0m \u001b[1m1s\u001b[0m 115ms/step - binary_accuracy: 1.0000 - loss: 1.1045e-04\n",
      "Epoch 42/100\n",
      "\u001b[1m8/8\u001b[0m \u001b[32m━━━━━━━━━━━━━━━━━━━━\u001b[0m\u001b[37m\u001b[0m \u001b[1m1s\u001b[0m 126ms/step - binary_accuracy: 1.0000 - loss: 8.4479e-05\n",
      "Epoch 43/100\n",
      "\u001b[1m8/8\u001b[0m \u001b[32m━━━━━━━━━━━━━━━━━━━━\u001b[0m\u001b[37m\u001b[0m \u001b[1m1s\u001b[0m 124ms/step - binary_accuracy: 1.0000 - loss: 8.7940e-05\n",
      "Epoch 44/100\n",
      "\u001b[1m8/8\u001b[0m \u001b[32m━━━━━━━━━━━━━━━━━━━━\u001b[0m\u001b[37m\u001b[0m \u001b[1m1s\u001b[0m 122ms/step - binary_accuracy: 1.0000 - loss: 7.8749e-05\n",
      "Epoch 45/100\n",
      "\u001b[1m8/8\u001b[0m \u001b[32m━━━━━━━━━━━━━━━━━━━━\u001b[0m\u001b[37m\u001b[0m \u001b[1m1s\u001b[0m 123ms/step - binary_accuracy: 1.0000 - loss: 6.8910e-05\n",
      "Epoch 46/100\n",
      "\u001b[1m8/8\u001b[0m \u001b[32m━━━━━━━━━━━━━━━━━━━━\u001b[0m\u001b[37m\u001b[0m \u001b[1m1s\u001b[0m 124ms/step - binary_accuracy: 1.0000 - loss: 5.9393e-05\n",
      "Epoch 47/100\n",
      "\u001b[1m8/8\u001b[0m \u001b[32m━━━━━━━━━━━━━━━━━━━━\u001b[0m\u001b[37m\u001b[0m \u001b[1m1s\u001b[0m 122ms/step - binary_accuracy: 1.0000 - loss: 6.3335e-05\n",
      "Epoch 48/100\n",
      "\u001b[1m8/8\u001b[0m \u001b[32m━━━━━━━━━━━━━━━━━━━━\u001b[0m\u001b[37m\u001b[0m \u001b[1m1s\u001b[0m 119ms/step - binary_accuracy: 1.0000 - loss: 5.2933e-05\n",
      "Epoch 49/100\n",
      "\u001b[1m8/8\u001b[0m \u001b[32m━━━━━━━━━━━━━━━━━━━━\u001b[0m\u001b[37m\u001b[0m \u001b[1m1s\u001b[0m 115ms/step - binary_accuracy: 1.0000 - loss: 5.4387e-05\n",
      "Epoch 50/100\n",
      "\u001b[1m8/8\u001b[0m \u001b[32m━━━━━━━━━━━━━━━━━━━━\u001b[0m\u001b[37m\u001b[0m \u001b[1m1s\u001b[0m 123ms/step - binary_accuracy: 1.0000 - loss: 5.0300e-05\n",
      "Epoch 51/100\n",
      "\u001b[1m8/8\u001b[0m \u001b[32m━━━━━━━━━━━━━━━━━━━━\u001b[0m\u001b[37m\u001b[0m \u001b[1m1s\u001b[0m 121ms/step - binary_accuracy: 1.0000 - loss: 4.6502e-05\n",
      "Epoch 52/100\n",
      "\u001b[1m8/8\u001b[0m \u001b[32m━━━━━━━━━━━━━━━━━━━━\u001b[0m\u001b[37m\u001b[0m \u001b[1m1s\u001b[0m 121ms/step - binary_accuracy: 1.0000 - loss: 3.9518e-05\n",
      "Epoch 53/100\n",
      "\u001b[1m8/8\u001b[0m \u001b[32m━━━━━━━━━━━━━━━━━━━━\u001b[0m\u001b[37m\u001b[0m \u001b[1m1s\u001b[0m 127ms/step - binary_accuracy: 1.0000 - loss: 4.2319e-05\n",
      "Epoch 54/100\n",
      "\u001b[1m8/8\u001b[0m \u001b[32m━━━━━━━━━━━━━━━━━━━━\u001b[0m\u001b[37m\u001b[0m \u001b[1m1s\u001b[0m 121ms/step - binary_accuracy: 1.0000 - loss: 3.8593e-05\n",
      "Epoch 55/100\n",
      "\u001b[1m8/8\u001b[0m \u001b[32m━━━━━━━━━━━━━━━━━━━━\u001b[0m\u001b[37m\u001b[0m \u001b[1m1s\u001b[0m 120ms/step - binary_accuracy: 1.0000 - loss: 3.5258e-05\n",
      "Epoch 56/100\n",
      "\u001b[1m8/8\u001b[0m \u001b[32m━━━━━━━━━━━━━━━━━━━━\u001b[0m\u001b[37m\u001b[0m \u001b[1m1s\u001b[0m 118ms/step - binary_accuracy: 1.0000 - loss: 3.5938e-05\n",
      "Epoch 57/100\n",
      "\u001b[1m8/8\u001b[0m \u001b[32m━━━━━━━━━━━━━━━━━━━━\u001b[0m\u001b[37m\u001b[0m \u001b[1m1s\u001b[0m 121ms/step - binary_accuracy: 1.0000 - loss: 3.1708e-05\n",
      "Epoch 58/100\n",
      "\u001b[1m8/8\u001b[0m \u001b[32m━━━━━━━━━━━━━━━━━━━━\u001b[0m\u001b[37m\u001b[0m \u001b[1m1s\u001b[0m 122ms/step - binary_accuracy: 1.0000 - loss: 3.3814e-05\n",
      "Epoch 59/100\n",
      "\u001b[1m8/8\u001b[0m \u001b[32m━━━━━━━━━━━━━━━━━━━━\u001b[0m\u001b[37m\u001b[0m \u001b[1m1s\u001b[0m 123ms/step - binary_accuracy: 1.0000 - loss: 2.8870e-05\n",
      "Epoch 60/100\n",
      "\u001b[1m8/8\u001b[0m \u001b[32m━━━━━━━━━━━━━━━━━━━━\u001b[0m\u001b[37m\u001b[0m \u001b[1m1s\u001b[0m 120ms/step - binary_accuracy: 1.0000 - loss: 2.9135e-05\n",
      "Epoch 61/100\n",
      "\u001b[1m8/8\u001b[0m \u001b[32m━━━━━━━━━━━━━━━━━━━━\u001b[0m\u001b[37m\u001b[0m \u001b[1m1s\u001b[0m 127ms/step - binary_accuracy: 1.0000 - loss: 2.6161e-05\n",
      "Epoch 62/100\n",
      "\u001b[1m8/8\u001b[0m \u001b[32m━━━━━━━━━━━━━━━━━━━━\u001b[0m\u001b[37m\u001b[0m \u001b[1m1s\u001b[0m 122ms/step - binary_accuracy: 1.0000 - loss: 2.6681e-05\n",
      "Epoch 63/100\n",
      "\u001b[1m8/8\u001b[0m \u001b[32m━━━━━━━━━━━━━━━━━━━━\u001b[0m\u001b[37m\u001b[0m \u001b[1m1s\u001b[0m 122ms/step - binary_accuracy: 1.0000 - loss: 2.7056e-05\n",
      "Epoch 64/100\n",
      "\u001b[1m8/8\u001b[0m \u001b[32m━━━━━━━━━━━━━━━━━━━━\u001b[0m\u001b[37m\u001b[0m \u001b[1m1s\u001b[0m 121ms/step - binary_accuracy: 1.0000 - loss: 2.6984e-05\n",
      "Epoch 65/100\n",
      "\u001b[1m8/8\u001b[0m \u001b[32m━━━━━━━━━━━━━━━━━━━━\u001b[0m\u001b[37m\u001b[0m \u001b[1m1s\u001b[0m 124ms/step - binary_accuracy: 1.0000 - loss: 2.5346e-05\n",
      "Epoch 66/100\n",
      "\u001b[1m8/8\u001b[0m \u001b[32m━━━━━━━━━━━━━━━━━━━━\u001b[0m\u001b[37m\u001b[0m \u001b[1m1s\u001b[0m 122ms/step - binary_accuracy: 1.0000 - loss: 2.1216e-05\n",
      "Epoch 67/100\n",
      "\u001b[1m8/8\u001b[0m \u001b[32m━━━━━━━━━━━━━━━━━━━━\u001b[0m\u001b[37m\u001b[0m \u001b[1m1s\u001b[0m 119ms/step - binary_accuracy: 1.0000 - loss: 2.3645e-05\n",
      "Epoch 68/100\n",
      "\u001b[1m8/8\u001b[0m \u001b[32m━━━━━━━━━━━━━━━━━━━━\u001b[0m\u001b[37m\u001b[0m \u001b[1m1s\u001b[0m 120ms/step - binary_accuracy: 1.0000 - loss: 2.1144e-05\n",
      "Epoch 69/100\n",
      "\u001b[1m8/8\u001b[0m \u001b[32m━━━━━━━━━━━━━━━━━━━━\u001b[0m\u001b[37m\u001b[0m \u001b[1m1s\u001b[0m 122ms/step - binary_accuracy: 1.0000 - loss: 1.9410e-05\n",
      "Epoch 70/100\n",
      "\u001b[1m8/8\u001b[0m \u001b[32m━━━━━━━━━━━━━━━━━━━━\u001b[0m\u001b[37m\u001b[0m \u001b[1m1s\u001b[0m 126ms/step - binary_accuracy: 1.0000 - loss: 1.9576e-05\n",
      "Epoch 71/100\n",
      "\u001b[1m8/8\u001b[0m \u001b[32m━━━━━━━━━━━━━━━━━━━━\u001b[0m\u001b[37m\u001b[0m \u001b[1m1s\u001b[0m 119ms/step - binary_accuracy: 1.0000 - loss: 1.8311e-05\n",
      "Epoch 72/100\n",
      "\u001b[1m8/8\u001b[0m \u001b[32m━━━━━━━━━━━━━━━━━━━━\u001b[0m\u001b[37m\u001b[0m \u001b[1m1s\u001b[0m 122ms/step - binary_accuracy: 1.0000 - loss: 1.6300e-05\n",
      "Epoch 73/100\n",
      "\u001b[1m8/8\u001b[0m \u001b[32m━━━━━━━━━━━━━━━━━━━━\u001b[0m\u001b[37m\u001b[0m \u001b[1m1s\u001b[0m 121ms/step - binary_accuracy: 1.0000 - loss: 1.6103e-05\n",
      "Epoch 74/100\n",
      "\u001b[1m8/8\u001b[0m \u001b[32m━━━━━━━━━━━━━━━━━━━━\u001b[0m\u001b[37m\u001b[0m \u001b[1m1s\u001b[0m 122ms/step - binary_accuracy: 1.0000 - loss: 1.8797e-05\n",
      "Epoch 75/100\n",
      "\u001b[1m8/8\u001b[0m \u001b[32m━━━━━━━━━━━━━━━━━━━━\u001b[0m\u001b[37m\u001b[0m \u001b[1m1s\u001b[0m 123ms/step - binary_accuracy: 1.0000 - loss: 1.6722e-05\n",
      "Epoch 76/100\n",
      "\u001b[1m8/8\u001b[0m \u001b[32m━━━━━━━━━━━━━━━━━━━━\u001b[0m\u001b[37m\u001b[0m \u001b[1m1s\u001b[0m 123ms/step - binary_accuracy: 1.0000 - loss: 1.5823e-05\n",
      "Epoch 77/100\n",
      "\u001b[1m8/8\u001b[0m \u001b[32m━━━━━━━━━━━━━━━━━━━━\u001b[0m\u001b[37m\u001b[0m \u001b[1m1s\u001b[0m 119ms/step - binary_accuracy: 1.0000 - loss: 1.5273e-05\n",
      "Epoch 78/100\n",
      "\u001b[1m8/8\u001b[0m \u001b[32m━━━━━━━━━━━━━━━━━━━━\u001b[0m\u001b[37m\u001b[0m \u001b[1m1s\u001b[0m 123ms/step - binary_accuracy: 1.0000 - loss: 1.5601e-05\n",
      "Epoch 79/100\n",
      "\u001b[1m8/8\u001b[0m \u001b[32m━━━━━━━━━━━━━━━━━━━━\u001b[0m\u001b[37m\u001b[0m \u001b[1m1s\u001b[0m 123ms/step - binary_accuracy: 1.0000 - loss: 1.4273e-05\n",
      "Epoch 80/100\n",
      "\u001b[1m8/8\u001b[0m \u001b[32m━━━━━━━━━━━━━━━━━━━━\u001b[0m\u001b[37m\u001b[0m \u001b[1m1s\u001b[0m 118ms/step - binary_accuracy: 1.0000 - loss: 1.5479e-05\n",
      "Epoch 81/100\n",
      "\u001b[1m8/8\u001b[0m \u001b[32m━━━━━━━━━━━━━━━━━━━━\u001b[0m\u001b[37m\u001b[0m \u001b[1m1s\u001b[0m 117ms/step - binary_accuracy: 1.0000 - loss: 1.2802e-05\n",
      "Epoch 82/100\n",
      "\u001b[1m8/8\u001b[0m \u001b[32m━━━━━━━━━━━━━━━━━━━━\u001b[0m\u001b[37m\u001b[0m \u001b[1m1s\u001b[0m 120ms/step - binary_accuracy: 1.0000 - loss: 1.3065e-05\n",
      "Epoch 83/100\n",
      "\u001b[1m8/8\u001b[0m \u001b[32m━━━━━━━━━━━━━━━━━━━━\u001b[0m\u001b[37m\u001b[0m \u001b[1m1s\u001b[0m 121ms/step - binary_accuracy: 1.0000 - loss: 1.4824e-05\n",
      "Epoch 84/100\n",
      "\u001b[1m8/8\u001b[0m \u001b[32m━━━━━━━━━━━━━━━━━━━━\u001b[0m\u001b[37m\u001b[0m \u001b[1m1s\u001b[0m 119ms/step - binary_accuracy: 1.0000 - loss: 1.2029e-05\n",
      "Epoch 85/100\n",
      "\u001b[1m8/8\u001b[0m \u001b[32m━━━━━━━━━━━━━━━━━━━━\u001b[0m\u001b[37m\u001b[0m \u001b[1m1s\u001b[0m 121ms/step - binary_accuracy: 1.0000 - loss: 1.3523e-05\n",
      "Epoch 86/100\n",
      "\u001b[1m8/8\u001b[0m \u001b[32m━━━━━━━━━━━━━━━━━━━━\u001b[0m\u001b[37m\u001b[0m \u001b[1m1s\u001b[0m 121ms/step - binary_accuracy: 1.0000 - loss: 1.1449e-05\n",
      "Epoch 87/100\n",
      "\u001b[1m8/8\u001b[0m \u001b[32m━━━━━━━━━━━━━━━━━━━━\u001b[0m\u001b[37m\u001b[0m \u001b[1m1s\u001b[0m 124ms/step - binary_accuracy: 1.0000 - loss: 1.3135e-05\n",
      "Epoch 88/100\n",
      "\u001b[1m8/8\u001b[0m \u001b[32m━━━━━━━━━━━━━━━━━━━━\u001b[0m\u001b[37m\u001b[0m \u001b[1m1s\u001b[0m 120ms/step - binary_accuracy: 1.0000 - loss: 1.4191e-05\n",
      "Epoch 89/100\n",
      "\u001b[1m8/8\u001b[0m \u001b[32m━━━━━━━━━━━━━━━━━━━━\u001b[0m\u001b[37m\u001b[0m \u001b[1m1s\u001b[0m 120ms/step - binary_accuracy: 1.0000 - loss: 1.2989e-05\n",
      "Epoch 90/100\n",
      "\u001b[1m8/8\u001b[0m \u001b[32m━━━━━━━━━━━━━━━━━━━━\u001b[0m\u001b[37m\u001b[0m \u001b[1m1s\u001b[0m 121ms/step - binary_accuracy: 1.0000 - loss: 1.1649e-05\n",
      "Epoch 91/100\n",
      "\u001b[1m8/8\u001b[0m \u001b[32m━━━━━━━━━━━━━━━━━━━━\u001b[0m\u001b[37m\u001b[0m \u001b[1m1s\u001b[0m 123ms/step - binary_accuracy: 1.0000 - loss: 1.0602e-05\n",
      "Epoch 92/100\n",
      "\u001b[1m8/8\u001b[0m \u001b[32m━━━━━━━━━━━━━━━━━━━━\u001b[0m\u001b[37m\u001b[0m \u001b[1m1s\u001b[0m 120ms/step - binary_accuracy: 1.0000 - loss: 1.1215e-05\n",
      "Epoch 93/100\n",
      "\u001b[1m8/8\u001b[0m \u001b[32m━━━━━━━━━━━━━━━━━━━━\u001b[0m\u001b[37m\u001b[0m \u001b[1m1s\u001b[0m 121ms/step - binary_accuracy: 1.0000 - loss: 1.1353e-05\n",
      "Epoch 94/100\n",
      "\u001b[1m8/8\u001b[0m \u001b[32m━━━━━━━━━━━━━━━━━━━━\u001b[0m\u001b[37m\u001b[0m \u001b[1m1s\u001b[0m 121ms/step - binary_accuracy: 1.0000 - loss: 1.0694e-05\n",
      "Epoch 95/100\n",
      "\u001b[1m8/8\u001b[0m \u001b[32m━━━━━━━━━━━━━━━━━━━━\u001b[0m\u001b[37m\u001b[0m \u001b[1m1s\u001b[0m 124ms/step - binary_accuracy: 1.0000 - loss: 1.1315e-05\n",
      "Epoch 96/100\n",
      "\u001b[1m8/8\u001b[0m \u001b[32m━━━━━━━━━━━━━━━━━━━━\u001b[0m\u001b[37m\u001b[0m \u001b[1m1s\u001b[0m 117ms/step - binary_accuracy: 1.0000 - loss: 1.1477e-05\n",
      "Epoch 97/100\n",
      "\u001b[1m8/8\u001b[0m \u001b[32m━━━━━━━━━━━━━━━━━━━━\u001b[0m\u001b[37m\u001b[0m \u001b[1m1s\u001b[0m 119ms/step - binary_accuracy: 1.0000 - loss: 9.6561e-06\n",
      "Epoch 98/100\n",
      "\u001b[1m8/8\u001b[0m \u001b[32m━━━━━━━━━━━━━━━━━━━━\u001b[0m\u001b[37m\u001b[0m \u001b[1m1s\u001b[0m 123ms/step - binary_accuracy: 1.0000 - loss: 9.2794e-06\n",
      "Epoch 99/100\n",
      "\u001b[1m8/8\u001b[0m \u001b[32m━━━━━━━━━━━━━━━━━━━━\u001b[0m\u001b[37m\u001b[0m \u001b[1m1s\u001b[0m 122ms/step - binary_accuracy: 1.0000 - loss: 8.2982e-06\n",
      "Epoch 100/100\n",
      "\u001b[1m8/8\u001b[0m \u001b[32m━━━━━━━━━━━━━━━━━━━━\u001b[0m\u001b[37m\u001b[0m \u001b[1m1s\u001b[0m 119ms/step - binary_accuracy: 1.0000 - loss: 8.7952e-06\n"
     ]
    }
   ],
   "source": [
    "lstm_out = 300\n",
    "batch_size = 128\n",
    "\n",
    "model = Sequential()\n",
    "model.add(LSTM(lstm_out, input_shape=(X_a.shape[1], X_a.shape[2])))\n",
    "model.add(Dense(1,activation='sigmoid'))\n",
    "model.compile(loss='mean_squared_error',\n",
    "              optimizer='adam',\n",
    "              metrics=['binary_accuracy'])\n",
    "print(model.summary())\n",
    "history128 = model.fit(X_train, np.array(y_train), batch_size = batch_size, epochs = 100)"
   ]
  },
  {
   "cell_type": "markdown",
   "metadata": {},
   "source": [
    "### Visualisation de la perte pour le modèle avec batch_size de 128\n",
    "\n",
    "Cette cellule trace la courbe de perte du modèle entraîné avec un `batch_size` de 128."
   ]
  },
  {
   "cell_type": "code",
   "execution_count": null,
   "metadata": {},
   "outputs": [
    {
     "data": {
      "image/png": "[encoded data removed]",
      "text/plain": [
       "<Figure size 640x480 with 1 Axes>"
      ]
     },
     "metadata": {},
     "output_type": "display_data"
    }
   ],
   "source": [
    "from matplotlib import pyplot as plt\n",
    "plt.style.use('ggplot')\n",
    "%matplotlib inline\n",
    "\n",
    "plt.plot(history128.history['loss'])\n",
    "plt.title('model loss')\n",
    "plt.ylabel('loss')\n",
    "plt.xlabel('epoch')\n",
    "plt.legend(['train'], loc='upper left')\n",
    "plt.show()"
   ]
  },
  {
   "cell_type": "markdown",
   "metadata": {},
   "source": [
    "### Évaluation du modèle avec batch_size de 128\n",
    "\n",
    "Cette cellule compte les prédictions correctes pour le modèle de batch de taille 128 sur l’ensemble de validation.\n"
   ]
  },
  {
   "cell_type": "code",
   "execution_count": null,
   "metadata": {},
   "outputs": [
    {
     "name": "stdout",
     "output_type": "stream",
     "text": [
      "\u001b[1m14/14\u001b[0m \u001b[32m━━━━━━━━━━━━━━━━━━━━\u001b[0m\u001b[37m\u001b[0m \u001b[1m1s\u001b[0m 25ms/step\n"
     ]
    }
   ],
   "source": [
    "scoreBatch = model.predict(X_val)\n",
    "predicted_val = []\n",
    "for i in scoreBatch:\n",
    "    predicted_val.append(round(i[0]))\n",
    "\n",
    "count_true = 0\n",
    "for i,j in zip(y_val,predicted_val):\n",
    "\n",
    "    if i == j:\n",
    "        count_true = count_true + 1"
   ]
  },
  {
   "cell_type": "code",
   "execution_count": null,
   "metadata": {},
   "outputs": [
    {
     "data": {
      "text/plain": [
       "0.9952380952380953"
      ]
     },
     "execution_count": 91,
     "metadata": {},
     "output_type": "execute_result"
    }
   ],
   "source": [
    "count_true / len(y_val)"
   ]
  },
  {
   "cell_type": "markdown",
   "metadata": {},
   "source": [
    "### Modèle LSTM avec 3 couches\n",
    "\n",
    "Cette cellule crée un modèle LSTM avec trois couches LSTM et compile le modèle.\n",
    "\n",
    "#### Détails des étapes :\n",
    "1. **Configuration du modèle** :\n",
    "   - Une première couche LSTM avec `return_sequences=True`, suivie de deux couches LSTM de 32 neurones chacune, et une couche `Dense` en sortie.\n",
    "\n",
    "2. **Compilation et entraînement** :\n",
    "   - Le modèle est compilé et entraîné pour 60 époques.\n"
   ]
  },
  {
   "cell_type": "code",
   "execution_count": null,
   "metadata": {},
   "outputs": [
    {
     "name": "stderr",
     "output_type": "stream",
     "text": [
      "c:\\Users\\deded\\Documents\\Inge3\\NLP\\Project\\envFakeNews\\lib\\site-packages\\keras\\src\\layers\\rnn\\rnn.py:204: UserWarning: Do not pass an `input_shape`/`input_dim` argument to a layer. When using Sequential models, prefer using an `Input(shape)` object as the first layer in the model instead.\n",
      "  super().__init__(**kwargs)\n"
     ]
    },
    {
     "data": {
      "text/html": [
       "<pre style=\"white-space:pre;overflow-x:auto;line-height:normal;font-family:Menlo,'DejaVu Sans Mono',consolas,'Courier New',monospace\"><span style=\"font-weight: bold\">Model: \"sequential_6\"</span>\n",
       "</pre>\n"
      ],
      "text/plain": [
       "\u001b[1mModel: \"sequential_6\"\u001b[0m\n"
      ]
     },
     "metadata": {},
     "output_type": "display_data"
    },
    {
     "data": {
      "text/html": [
       "<pre style=\"white-space:pre;overflow-x:auto;line-height:normal;font-family:Menlo,'DejaVu Sans Mono',consolas,'Courier New',monospace\">┏━━━━━━━━━━━━━━━━━━━━━━━━━━━━━━━━━┳━━━━━━━━━━━━━━━━━━━━━━━━┳━━━━━━━━━━━━━━━┓\n",
       "┃<span style=\"font-weight: bold\"> Layer (type)                    </span>┃<span style=\"font-weight: bold\"> Output Shape           </span>┃<span style=\"font-weight: bold\">       Param # </span>┃\n",
       "┡━━━━━━━━━━━━━━━━━━━━━━━━━━━━━━━━━╇━━━━━━━━━━━━━━━━━━━━━━━━╇━━━━━━━━━━━━━━━┩\n",
       "│ lstm_8 (<span style=\"color: #0087ff; text-decoration-color: #0087ff\">LSTM</span>)                   │ (<span style=\"color: #00d7ff; text-decoration-color: #00d7ff\">None</span>, <span style=\"color: #00af00; text-decoration-color: #00af00\">50</span>, <span style=\"color: #00af00; text-decoration-color: #00af00\">300</span>)        │       <span style=\"color: #00af00; text-decoration-color: #00af00\">721,200</span> │\n",
       "├─────────────────────────────────┼────────────────────────┼───────────────┤\n",
       "│ lstm_9 (<span style=\"color: #0087ff; text-decoration-color: #0087ff\">LSTM</span>)                   │ (<span style=\"color: #00d7ff; text-decoration-color: #00d7ff\">None</span>, <span style=\"color: #00af00; text-decoration-color: #00af00\">50</span>, <span style=\"color: #00af00; text-decoration-color: #00af00\">32</span>)         │        <span style=\"color: #00af00; text-decoration-color: #00af00\">42,624</span> │\n",
       "├─────────────────────────────────┼────────────────────────┼───────────────┤\n",
       "│ lstm_10 (<span style=\"color: #0087ff; text-decoration-color: #0087ff\">LSTM</span>)                  │ (<span style=\"color: #00d7ff; text-decoration-color: #00d7ff\">None</span>, <span style=\"color: #00af00; text-decoration-color: #00af00\">32</span>)             │         <span style=\"color: #00af00; text-decoration-color: #00af00\">8,320</span> │\n",
       "├─────────────────────────────────┼────────────────────────┼───────────────┤\n",
       "│ dense_6 (<span style=\"color: #0087ff; text-decoration-color: #0087ff\">Dense</span>)                 │ (<span style=\"color: #00d7ff; text-decoration-color: #00d7ff\">None</span>, <span style=\"color: #00af00; text-decoration-color: #00af00\">1</span>)              │            <span style=\"color: #00af00; text-decoration-color: #00af00\">33</span> │\n",
       "└─────────────────────────────────┴────────────────────────┴───────────────┘\n",
       "</pre>\n"
      ],
      "text/plain": [
       "┏━━━━━━━━━━━━━━━━━━━━━━━━━━━━━━━━━┳━━━━━━━━━━━━━━━━━━━━━━━━┳━━━━━━━━━━━━━━━┓\n",
       "┃\u001b[1m \u001b[0m\u001b[1mLayer (type)                   \u001b[0m\u001b[1m \u001b[0m┃\u001b[1m \u001b[0m\u001b[1mOutput Shape          \u001b[0m\u001b[1m \u001b[0m┃\u001b[1m \u001b[0m\u001b[1m      Param #\u001b[0m\u001b[1m \u001b[0m┃\n",
       "┡━━━━━━━━━━━━━━━━━━━━━━━━━━━━━━━━━╇━━━━━━━━━━━━━━━━━━━━━━━━╇━━━━━━━━━━━━━━━┩\n",
       "│ lstm_8 (\u001b[38;5;33mLSTM\u001b[0m)                   │ (\u001b[38;5;45mNone\u001b[0m, \u001b[38;5;34m50\u001b[0m, \u001b[38;5;34m300\u001b[0m)        │       \u001b[38;5;34m721,200\u001b[0m │\n",
       "├─────────────────────────────────┼────────────────────────┼───────────────┤\n",
       "│ lstm_9 (\u001b[38;5;33mLSTM\u001b[0m)                   │ (\u001b[38;5;45mNone\u001b[0m, \u001b[38;5;34m50\u001b[0m, \u001b[38;5;34m32\u001b[0m)         │        \u001b[38;5;34m42,624\u001b[0m │\n",
       "├─────────────────────────────────┼────────────────────────┼───────────────┤\n",
       "│ lstm_10 (\u001b[38;5;33mLSTM\u001b[0m)                  │ (\u001b[38;5;45mNone\u001b[0m, \u001b[38;5;34m32\u001b[0m)             │         \u001b[38;5;34m8,320\u001b[0m │\n",
       "├─────────────────────────────────┼────────────────────────┼───────────────┤\n",
       "│ dense_6 (\u001b[38;5;33mDense\u001b[0m)                 │ (\u001b[38;5;45mNone\u001b[0m, \u001b[38;5;34m1\u001b[0m)              │            \u001b[38;5;34m33\u001b[0m │\n",
       "└─────────────────────────────────┴────────────────────────┴───────────────┘\n"
      ]
     },
     "metadata": {},
     "output_type": "display_data"
    },
    {
     "data": {
      "text/html": [
       "<pre style=\"white-space:pre;overflow-x:auto;line-height:normal;font-family:Menlo,'DejaVu Sans Mono',consolas,'Courier New',monospace\"><span style=\"font-weight: bold\"> Total params: </span><span style=\"color: #00af00; text-decoration-color: #00af00\">772,177</span> (2.95 MB)\n",
       "</pre>\n"
      ],
      "text/plain": [
       "\u001b[1m Total params: \u001b[0m\u001b[38;5;34m772,177\u001b[0m (2.95 MB)\n"
      ]
     },
     "metadata": {},
     "output_type": "display_data"
    },
    {
     "data": {
      "text/html": [
       "<pre style=\"white-space:pre;overflow-x:auto;line-height:normal;font-family:Menlo,'DejaVu Sans Mono',consolas,'Courier New',monospace\"><span style=\"font-weight: bold\"> Trainable params: </span><span style=\"color: #00af00; text-decoration-color: #00af00\">772,177</span> (2.95 MB)\n",
       "</pre>\n"
      ],
      "text/plain": [
       "\u001b[1m Trainable params: \u001b[0m\u001b[38;5;34m772,177\u001b[0m (2.95 MB)\n"
      ]
     },
     "metadata": {},
     "output_type": "display_data"
    },
    {
     "data": {
      "text/html": [
       "<pre style=\"white-space:pre;overflow-x:auto;line-height:normal;font-family:Menlo,'DejaVu Sans Mono',consolas,'Courier New',monospace\"><span style=\"font-weight: bold\"> Non-trainable params: </span><span style=\"color: #00af00; text-decoration-color: #00af00\">0</span> (0.00 B)\n",
       "</pre>\n"
      ],
      "text/plain": [
       "\u001b[1m Non-trainable params: \u001b[0m\u001b[38;5;34m0\u001b[0m (0.00 B)\n"
      ]
     },
     "metadata": {},
     "output_type": "display_data"
    },
    {
     "name": "stdout",
     "output_type": "stream",
     "text": [
      "None\n",
      "Epoch 1/60\n",
      "\u001b[1m8/8\u001b[0m \u001b[32m━━━━━━━━━━━━━━━━━━━━\u001b[0m\u001b[37m\u001b[0m \u001b[1m6s\u001b[0m 186ms/step - binary_accuracy: 0.7674 - loss: 0.1961\n",
      "Epoch 2/60\n",
      "\u001b[1m8/8\u001b[0m \u001b[32m━━━━━━━━━━━━━━━━━━━━\u001b[0m\u001b[37m\u001b[0m \u001b[1m1s\u001b[0m 176ms/step - binary_accuracy: 0.9729 - loss: 0.0376\n",
      "Epoch 3/60\n",
      "\u001b[1m8/8\u001b[0m \u001b[32m━━━━━━━━━━━━━━━━━━━━\u001b[0m\u001b[37m\u001b[0m \u001b[1m1s\u001b[0m 163ms/step - binary_accuracy: 0.9856 - loss: 0.0157\n",
      "Epoch 4/60\n",
      "\u001b[1m8/8\u001b[0m \u001b[32m━━━━━━━━━━━━━━━━━━━━\u001b[0m\u001b[37m\u001b[0m \u001b[1m1s\u001b[0m 171ms/step - binary_accuracy: 0.9425 - loss: 0.0543\n",
      "Epoch 5/60\n",
      "\u001b[1m8/8\u001b[0m \u001b[32m━━━━━━━━━━━━━━━━━━━━\u001b[0m\u001b[37m\u001b[0m \u001b[1m1s\u001b[0m 172ms/step - binary_accuracy: 0.8740 - loss: 0.1143\n",
      "Epoch 6/60\n",
      "\u001b[1m8/8\u001b[0m \u001b[32m━━━━━━━━━━━━━━━━━━━━\u001b[0m\u001b[37m\u001b[0m \u001b[1m1s\u001b[0m 171ms/step - binary_accuracy: 0.8473 - loss: 0.1242\n",
      "Epoch 7/60\n",
      "\u001b[1m8/8\u001b[0m \u001b[32m━━━━━━━━━━━━━━━━━━━━\u001b[0m\u001b[37m\u001b[0m \u001b[1m1s\u001b[0m 166ms/step - binary_accuracy: 0.8354 - loss: 0.1251\n",
      "Epoch 8/60\n",
      "\u001b[1m8/8\u001b[0m \u001b[32m━━━━━━━━━━━━━━━━━━━━\u001b[0m\u001b[37m\u001b[0m \u001b[1m1s\u001b[0m 163ms/step - binary_accuracy: 0.8019 - loss: 0.1399\n",
      "Epoch 9/60\n",
      "\u001b[1m8/8\u001b[0m \u001b[32m━━━━━━━━━━━━━━━━━━━━\u001b[0m\u001b[37m\u001b[0m \u001b[1m1s\u001b[0m 167ms/step - binary_accuracy: 0.8260 - loss: 0.1275\n",
      "Epoch 10/60\n",
      "\u001b[1m8/8\u001b[0m \u001b[32m━━━━━━━━━━━━━━━━━━━━\u001b[0m\u001b[37m\u001b[0m \u001b[1m1s\u001b[0m 173ms/step - binary_accuracy: 0.8324 - loss: 0.1242\n",
      "Epoch 11/60\n",
      "\u001b[1m8/8\u001b[0m \u001b[32m━━━━━━━━━━━━━━━━━━━━\u001b[0m\u001b[37m\u001b[0m \u001b[1m2s\u001b[0m 186ms/step - binary_accuracy: 0.8225 - loss: 0.1235\n",
      "Epoch 12/60\n",
      "\u001b[1m8/8\u001b[0m \u001b[32m━━━━━━━━━━━━━━━━━━━━\u001b[0m\u001b[37m\u001b[0m \u001b[1m1s\u001b[0m 173ms/step - binary_accuracy: 0.8597 - loss: 0.0948\n",
      "Epoch 13/60\n",
      "\u001b[1m8/8\u001b[0m \u001b[32m━━━━━━━━━━━━━━━━━━━━\u001b[0m\u001b[37m\u001b[0m \u001b[1m1s\u001b[0m 170ms/step - binary_accuracy: 0.9637 - loss: 0.0454\n",
      "Epoch 14/60\n",
      "\u001b[1m8/8\u001b[0m \u001b[32m━━━━━━━━━━━━━━━━━━━━\u001b[0m\u001b[37m\u001b[0m \u001b[1m1s\u001b[0m 172ms/step - binary_accuracy: 0.9844 - loss: 0.0163\n",
      "Epoch 15/60\n",
      "\u001b[1m8/8\u001b[0m \u001b[32m━━━━━━━━━━━━━━━━━━━━\u001b[0m\u001b[37m\u001b[0m \u001b[1m1s\u001b[0m 178ms/step - binary_accuracy: 0.9799 - loss: 0.0160\n",
      "Epoch 16/60\n",
      "\u001b[1m8/8\u001b[0m \u001b[32m━━━━━━━━━━━━━━━━━━━━\u001b[0m\u001b[37m\u001b[0m \u001b[1m1s\u001b[0m 173ms/step - binary_accuracy: 0.9899 - loss: 0.0077\n",
      "Epoch 17/60\n",
      "\u001b[1m8/8\u001b[0m \u001b[32m━━━━━━━━━━━━━━━━━━━━\u001b[0m\u001b[37m\u001b[0m \u001b[1m1s\u001b[0m 172ms/step - binary_accuracy: 0.9939 - loss: 0.0058\n",
      "Epoch 18/60\n",
      "\u001b[1m8/8\u001b[0m \u001b[32m━━━━━━━━━━━━━━━━━━━━\u001b[0m\u001b[37m\u001b[0m \u001b[1m1s\u001b[0m 173ms/step - binary_accuracy: 0.9962 - loss: 0.0035\n",
      "Epoch 19/60\n",
      "\u001b[1m8/8\u001b[0m \u001b[32m━━━━━━━━━━━━━━━━━━━━\u001b[0m\u001b[37m\u001b[0m \u001b[1m1s\u001b[0m 167ms/step - binary_accuracy: 0.9988 - loss: 0.0018\n",
      "Epoch 20/60\n",
      "\u001b[1m8/8\u001b[0m \u001b[32m━━━━━━━━━━━━━━━━━━━━\u001b[0m\u001b[37m\u001b[0m \u001b[1m1s\u001b[0m 172ms/step - binary_accuracy: 0.9991 - loss: 0.0018\n",
      "Epoch 21/60\n",
      "\u001b[1m8/8\u001b[0m \u001b[32m━━━━━━━━━━━━━━━━━━━━\u001b[0m\u001b[37m\u001b[0m \u001b[1m1s\u001b[0m 177ms/step - binary_accuracy: 1.0000 - loss: 4.4565e-04\n",
      "Epoch 22/60\n",
      "\u001b[1m8/8\u001b[0m \u001b[32m━━━━━━━━━━━━━━━━━━━━\u001b[0m\u001b[37m\u001b[0m \u001b[1m1s\u001b[0m 170ms/step - binary_accuracy: 1.0000 - loss: 5.0299e-04\n",
      "Epoch 23/60\n",
      "\u001b[1m8/8\u001b[0m \u001b[32m━━━━━━━━━━━━━━━━━━━━\u001b[0m\u001b[37m\u001b[0m \u001b[1m1s\u001b[0m 168ms/step - binary_accuracy: 0.9993 - loss: 8.3443e-04\n",
      "Epoch 24/60\n",
      "\u001b[1m8/8\u001b[0m \u001b[32m━━━━━━━━━━━━━━━━━━━━\u001b[0m\u001b[37m\u001b[0m \u001b[1m1s\u001b[0m 167ms/step - binary_accuracy: 1.0000 - loss: 2.8057e-04\n",
      "Epoch 25/60\n",
      "\u001b[1m8/8\u001b[0m \u001b[32m━━━━━━━━━━━━━━━━━━━━\u001b[0m\u001b[37m\u001b[0m \u001b[1m1s\u001b[0m 166ms/step - binary_accuracy: 1.0000 - loss: 2.6337e-04\n",
      "Epoch 26/60\n",
      "\u001b[1m8/8\u001b[0m \u001b[32m━━━━━━━━━━━━━━━━━━━━\u001b[0m\u001b[37m\u001b[0m \u001b[1m2s\u001b[0m 186ms/step - binary_accuracy: 1.0000 - loss: 2.4373e-04\n",
      "Epoch 27/60\n",
      "\u001b[1m8/8\u001b[0m \u001b[32m━━━━━━━━━━━━━━━━━━━━\u001b[0m\u001b[37m\u001b[0m \u001b[1m2s\u001b[0m 197ms/step - binary_accuracy: 1.0000 - loss: 2.2111e-04\n",
      "Epoch 28/60\n",
      "\u001b[1m8/8\u001b[0m \u001b[32m━━━━━━━━━━━━━━━━━━━━\u001b[0m\u001b[37m\u001b[0m \u001b[1m3s\u001b[0m 411ms/step - binary_accuracy: 1.0000 - loss: 2.0473e-04\n",
      "Epoch 29/60\n",
      "\u001b[1m8/8\u001b[0m \u001b[32m━━━━━━━━━━━━━━━━━━━━\u001b[0m\u001b[37m\u001b[0m \u001b[1m2s\u001b[0m 191ms/step - binary_accuracy: 1.0000 - loss: 1.8985e-04\n",
      "Epoch 30/60\n",
      "\u001b[1m8/8\u001b[0m \u001b[32m━━━━━━━━━━━━━━━━━━━━\u001b[0m\u001b[37m\u001b[0m \u001b[1m2s\u001b[0m 203ms/step - binary_accuracy: 1.0000 - loss: 1.7600e-04\n",
      "Epoch 31/60\n",
      "\u001b[1m8/8\u001b[0m \u001b[32m━━━━━━━━━━━━━━━━━━━━\u001b[0m\u001b[37m\u001b[0m \u001b[1m2s\u001b[0m 259ms/step - binary_accuracy: 1.0000 - loss: 1.6789e-04\n",
      "Epoch 32/60\n",
      "\u001b[1m8/8\u001b[0m \u001b[32m━━━━━━━━━━━━━━━━━━━━\u001b[0m\u001b[37m\u001b[0m \u001b[1m2s\u001b[0m 189ms/step - binary_accuracy: 1.0000 - loss: 1.5763e-04\n",
      "Epoch 33/60\n",
      "\u001b[1m8/8\u001b[0m \u001b[32m━━━━━━━━━━━━━━━━━━━━\u001b[0m\u001b[37m\u001b[0m \u001b[1m2s\u001b[0m 190ms/step - binary_accuracy: 1.0000 - loss: 1.4668e-04\n",
      "Epoch 34/60\n",
      "\u001b[1m8/8\u001b[0m \u001b[32m━━━━━━━━━━━━━━━━━━━━\u001b[0m\u001b[37m\u001b[0m \u001b[1m2s\u001b[0m 193ms/step - binary_accuracy: 1.0000 - loss: 1.3903e-04\n",
      "Epoch 35/60\n",
      "\u001b[1m8/8\u001b[0m \u001b[32m━━━━━━━━━━━━━━━━━━━━\u001b[0m\u001b[37m\u001b[0m \u001b[1m2s\u001b[0m 194ms/step - binary_accuracy: 1.0000 - loss: 1.3199e-04\n",
      "Epoch 36/60\n",
      "\u001b[1m8/8\u001b[0m \u001b[32m━━━━━━━━━━━━━━━━━━━━\u001b[0m\u001b[37m\u001b[0m \u001b[1m2s\u001b[0m 186ms/step - binary_accuracy: 1.0000 - loss: 1.2916e-04\n",
      "Epoch 37/60\n",
      "\u001b[1m8/8\u001b[0m \u001b[32m━━━━━━━━━━━━━━━━━━━━\u001b[0m\u001b[37m\u001b[0m \u001b[1m2s\u001b[0m 200ms/step - binary_accuracy: 1.0000 - loss: 1.1859e-04\n",
      "Epoch 38/60\n",
      "\u001b[1m8/8\u001b[0m \u001b[32m━━━━━━━━━━━━━━━━━━━━\u001b[0m\u001b[37m\u001b[0m \u001b[1m2s\u001b[0m 189ms/step - binary_accuracy: 1.0000 - loss: 1.1420e-04\n",
      "Epoch 39/60\n",
      "\u001b[1m8/8\u001b[0m \u001b[32m━━━━━━━━━━━━━━━━━━━━\u001b[0m\u001b[37m\u001b[0m \u001b[1m2s\u001b[0m 194ms/step - binary_accuracy: 1.0000 - loss: 1.0779e-04\n",
      "Epoch 40/60\n",
      "\u001b[1m8/8\u001b[0m \u001b[32m━━━━━━━━━━━━━━━━━━━━\u001b[0m\u001b[37m\u001b[0m \u001b[1m2s\u001b[0m 194ms/step - binary_accuracy: 1.0000 - loss: 1.0249e-04\n",
      "Epoch 41/60\n",
      "\u001b[1m8/8\u001b[0m \u001b[32m━━━━━━━━━━━━━━━━━━━━\u001b[0m\u001b[37m\u001b[0m \u001b[1m2s\u001b[0m 197ms/step - binary_accuracy: 1.0000 - loss: 9.8606e-05\n",
      "Epoch 42/60\n",
      "\u001b[1m8/8\u001b[0m \u001b[32m━━━━━━━━━━━━━━━━━━━━\u001b[0m\u001b[37m\u001b[0m \u001b[1m2s\u001b[0m 195ms/step - binary_accuracy: 1.0000 - loss: 9.5188e-05\n",
      "Epoch 43/60\n",
      "\u001b[1m8/8\u001b[0m \u001b[32m━━━━━━━━━━━━━━━━━━━━\u001b[0m\u001b[37m\u001b[0m \u001b[1m2s\u001b[0m 191ms/step - binary_accuracy: 1.0000 - loss: 9.3284e-05\n",
      "Epoch 44/60\n",
      "\u001b[1m8/8\u001b[0m \u001b[32m━━━━━━━━━━━━━━━━━━━━\u001b[0m\u001b[37m\u001b[0m \u001b[1m2s\u001b[0m 193ms/step - binary_accuracy: 1.0000 - loss: 8.9077e-05\n",
      "Epoch 45/60\n",
      "\u001b[1m8/8\u001b[0m \u001b[32m━━━━━━━━━━━━━━━━━━━━\u001b[0m\u001b[37m\u001b[0m \u001b[1m2s\u001b[0m 188ms/step - binary_accuracy: 1.0000 - loss: 8.3318e-05\n",
      "Epoch 46/60\n",
      "\u001b[1m8/8\u001b[0m \u001b[32m━━━━━━━━━━━━━━━━━━━━\u001b[0m\u001b[37m\u001b[0m \u001b[1m2s\u001b[0m 193ms/step - binary_accuracy: 1.0000 - loss: 8.0967e-05\n",
      "Epoch 47/60\n",
      "\u001b[1m8/8\u001b[0m \u001b[32m━━━━━━━━━━━━━━━━━━━━\u001b[0m\u001b[37m\u001b[0m \u001b[1m2s\u001b[0m 191ms/step - binary_accuracy: 1.0000 - loss: 7.8171e-05\n",
      "Epoch 48/60\n",
      "\u001b[1m8/8\u001b[0m \u001b[32m━━━━━━━━━━━━━━━━━━━━\u001b[0m\u001b[37m\u001b[0m \u001b[1m2s\u001b[0m 190ms/step - binary_accuracy: 1.0000 - loss: 7.5013e-05\n",
      "Epoch 49/60\n",
      "\u001b[1m8/8\u001b[0m \u001b[32m━━━━━━━━━━━━━━━━━━━━\u001b[0m\u001b[37m\u001b[0m \u001b[1m2s\u001b[0m 194ms/step - binary_accuracy: 1.0000 - loss: 7.2804e-05\n",
      "Epoch 50/60\n",
      "\u001b[1m8/8\u001b[0m \u001b[32m━━━━━━━━━━━━━━━━━━━━\u001b[0m\u001b[37m\u001b[0m \u001b[1m2s\u001b[0m 199ms/step - binary_accuracy: 1.0000 - loss: 7.0003e-05\n",
      "Epoch 51/60\n",
      "\u001b[1m8/8\u001b[0m \u001b[32m━━━━━━━━━━━━━━━━━━━━\u001b[0m\u001b[37m\u001b[0m \u001b[1m2s\u001b[0m 189ms/step - binary_accuracy: 1.0000 - loss: 6.6969e-05\n",
      "Epoch 52/60\n",
      "\u001b[1m8/8\u001b[0m \u001b[32m━━━━━━━━━━━━━━━━━━━━\u001b[0m\u001b[37m\u001b[0m \u001b[1m2s\u001b[0m 190ms/step - binary_accuracy: 1.0000 - loss: 6.6668e-05\n",
      "Epoch 53/60\n",
      "\u001b[1m8/8\u001b[0m \u001b[32m━━━━━━━━━━━━━━━━━━━━\u001b[0m\u001b[37m\u001b[0m \u001b[1m2s\u001b[0m 189ms/step - binary_accuracy: 1.0000 - loss: 6.2279e-05\n",
      "Epoch 54/60\n",
      "\u001b[1m8/8\u001b[0m \u001b[32m━━━━━━━━━━━━━━━━━━━━\u001b[0m\u001b[37m\u001b[0m \u001b[1m2s\u001b[0m 195ms/step - binary_accuracy: 1.0000 - loss: 6.1156e-05\n",
      "Epoch 55/60\n",
      "\u001b[1m8/8\u001b[0m \u001b[32m━━━━━━━━━━━━━━━━━━━━\u001b[0m\u001b[37m\u001b[0m \u001b[1m2s\u001b[0m 210ms/step - binary_accuracy: 1.0000 - loss: 5.8767e-05\n",
      "Epoch 56/60\n",
      "\u001b[1m8/8\u001b[0m \u001b[32m━━━━━━━━━━━━━━━━━━━━\u001b[0m\u001b[37m\u001b[0m \u001b[1m2s\u001b[0m 200ms/step - binary_accuracy: 1.0000 - loss: 5.7994e-05\n",
      "Epoch 57/60\n",
      "\u001b[1m8/8\u001b[0m \u001b[32m━━━━━━━━━━━━━━━━━━━━\u001b[0m\u001b[37m\u001b[0m \u001b[1m2s\u001b[0m 196ms/step - binary_accuracy: 1.0000 - loss: 5.5609e-05\n",
      "Epoch 58/60\n",
      "\u001b[1m8/8\u001b[0m \u001b[32m━━━━━━━━━━━━━━━━━━━━\u001b[0m\u001b[37m\u001b[0m \u001b[1m2s\u001b[0m 199ms/step - binary_accuracy: 1.0000 - loss: 5.3700e-05\n",
      "Epoch 59/60\n",
      "\u001b[1m8/8\u001b[0m \u001b[32m━━━━━━━━━━━━━━━━━━━━\u001b[0m\u001b[37m\u001b[0m \u001b[1m2s\u001b[0m 207ms/step - binary_accuracy: 1.0000 - loss: 5.1971e-05\n",
      "Epoch 60/60\n",
      "\u001b[1m8/8\u001b[0m \u001b[32m━━━━━━━━━━━━━━━━━━━━\u001b[0m\u001b[37m\u001b[0m \u001b[1m2s\u001b[0m 211ms/step - binary_accuracy: 1.0000 - loss: 5.1376e-05\n"
     ]
    }
   ],
   "source": [
    "lstm_out = 300\n",
    "batch_size = 128\n",
    "\n",
    "model3L = Sequential()\n",
    "model3L.add(LSTM(lstm_out,return_sequences=True, input_shape=(X_a.shape[1], X_a.shape[2])))\n",
    "model3L.add(LSTM(32, return_sequences=True))  \n",
    "model3L.add(LSTM(32))  \n",
    "model3L.add(Dense(1,activation='sigmoid'))\n",
    "model3L.compile(loss='mean_squared_error',\n",
    "              optimizer='adam',\n",
    "              metrics=['binary_accuracy'])\n",
    "print(model3L.summary())\n",
    "history128_3Layer = model3L.fit(X_train, np.array(y_train), batch_size = batch_size, epochs = 60)"
   ]
  },
  {
   "cell_type": "markdown",
   "metadata": {},
   "source": [
    "### Visualisation de la perte pour le modèle LSTM à 3 couches\n",
    "\n",
    "Cette cellule trace la courbe de perte du modèle avec trois couches LSTM."
   ]
  },
  {
   "cell_type": "code",
   "execution_count": null,
   "metadata": {},
   "outputs": [
    {
     "data": {
      "image/png": "[encoded data removed]",
      "text/plain": [
       "<Figure size 640x480 with 1 Axes>"
      ]
     },
     "metadata": {},
     "output_type": "display_data"
    }
   ],
   "source": [
    "from matplotlib import pyplot as plt\n",
    "plt.style.use('ggplot')\n",
    "%matplotlib inline\n",
    "\n",
    "plt.plot(history128_3Layer.history['loss'])\n",
    "plt.title('model loss')\n",
    "plt.ylabel('loss')\n",
    "plt.xlabel('epoch')\n",
    "plt.legend(['train'], loc='upper left')\n",
    "plt.show()"
   ]
  },
  {
   "cell_type": "markdown",
   "metadata": {},
   "source": [
    "### Évaluation du modèle LSTM à 3 couches\n",
    "\n",
    "Cette cellule évalue les prédictions du modèle à 3 couches sur l’ensemble de validation et compte les prédictions correctes."
   ]
  },
  {
   "cell_type": "code",
   "execution_count": null,
   "metadata": {},
   "outputs": [
    {
     "name": "stdout",
     "output_type": "stream",
     "text": [
      "\u001b[1m14/14\u001b[0m \u001b[32m━━━━━━━━━━━━━━━━━━━━\u001b[0m\u001b[37m\u001b[0m \u001b[1m1s\u001b[0m 75ms/step\n"
     ]
    }
   ],
   "source": [
    "scoreBatch = model3L.predict(X_val)\n",
    "predicted_val = []\n",
    "for i in scoreBatch:\n",
    "    predicted_val.append(round(i[0]))\n",
    "\n",
    "count_true = 0\n",
    "for i,j in zip(y_val,predicted_val):\n",
    "\n",
    "    if i == j:\n",
    "        count_true = count_true + 1"
   ]
  },
  {
   "cell_type": "code",
   "execution_count": null,
   "metadata": {},
   "outputs": [
    {
     "data": {
      "text/plain": [
       "0.9952380952380953"
      ]
     },
     "execution_count": 95,
     "metadata": {},
     "output_type": "execute_result"
    }
   ],
   "source": [
    "count_true / len(y_val)"
   ]
  },
  {
   "cell_type": "markdown",
   "metadata": {},
   "source": [
    "### Matrice de confusion\n",
    "\n",
    "Cette cellule génère et affiche une matrice de confusion pour évaluer les performances du modèle à 3 couches.\n",
    "\n",
    "#### Détails des étapes :\n",
    "1. **Prédictions** :\n",
    "   - Les prédictions sur l’ensemble de validation sont binarisées (1 pour vrai, 0 pour faux).\n",
    "\n",
    "2. **Affichage de la matrice de confusion** :\n",
    "   - La matrice de confusion est affichée sous forme de carte thermique avec des annotations pour la clarté."
   ]
  },
  {
   "cell_type": "code",
   "execution_count": null,
   "metadata": {},
   "outputs": [
    {
     "name": "stdout",
     "output_type": "stream",
     "text": [
      "\u001b[1m14/14\u001b[0m \u001b[32m━━━━━━━━━━━━━━━━━━━━\u001b[0m\u001b[37m\u001b[0m \u001b[1m1s\u001b[0m 40ms/step\n"
     ]
    },
    {
     "data": {
      "image/png": "[encoded data removed]",
      "text/plain": [
       "<Figure size 640x480 with 2 Axes>"
      ]
     },
     "metadata": {},
     "output_type": "display_data"
    }
   ],
   "source": [
    "from sklearn.metrics import confusion_matrix\n",
    "import seaborn as sns\n",
    "\n",
    "# Prédictions sur l'ensemble de validation\n",
    "y_pred = (model3L.predict(X_val) > 0.5).astype(\"int32\")\n",
    "\n",
    "# Matrice de confusion\n",
    "conf_matrix = confusion_matrix(y_val, y_pred)\n",
    "sns.heatmap(conf_matrix, annot=True, fmt='d', cmap='Blues')\n",
    "plt.xlabel('Prédiction')\n",
    "plt.ylabel('Vérité')\n",
    "plt.show()"
   ]
  },
  {
   "cell_type": "markdown",
   "metadata": {},
   "source": [
    "En conclusion, la matrice de confusion montre des performances très encourageantes avec seulement 1 faux positifs sur le set d'evaluation, indiquant une capacité solide du modèle à distinguer efficacement entre vraies et fausses nouvelles tout en minimisant les erreurs de classification."
   ]
  },
  {
   "cell_type": "markdown",
   "metadata": {},
   "source": [
    "### Conclusion\n",
    "\n",
    "Dans ce projet de détection de fake news, nous avons mis en œuvre et testé trois modèles basés sur des architectures LSTM (Long Short-Term Memory), chacun atteignant une précision de **0,99** sur l'ensemble de validation. Ces résultats montrent l'efficacité de l'architecture LSTM pour extraire des caractéristiques textuelles pertinentes permettant de différencier les articles authentiques des fake news.\n",
    "\n",
    "#### Résumé des étapes clés et des performances :\n",
    "\n",
    "1. **Prétraitement des données et vectorisation** : Les textes ont été nettoyés, tokenisés, puis transformés en vecteurs à l’aide de Word2Vec, fournissant une représentation dense et sémantique des mots. Ce prétraitement a permis aux modèles de mieux interpréter les relations de contexte dans le texte.\n",
    "\n",
    "2. **Modèles testés** :\n",
    "   - **LSTM simple** : Une configuration de base avec une couche LSTM unique, montrant une convergence rapide et une stabilité pendant l'entraînement.\n",
    "   - **LSTM avec batch size ajusté (128)** : Permettant une meilleure gestion de la mémoire et stabilisant la perte en réduisant le nombre de mises à jour à chaque époque.\n",
    "   - **LSTM multi-couches** : Une architecture avec trois couches LSTM, pour tester si une plus grande profondeur renforcerait la capacité du modèle à généraliser. Les résultats ont montré que cette profondeur supplémentaire ne compromettait pas la performance et conservait une précision de 0,99.\n",
    "\n",
    "3. **Analyse des performances** : Les trois modèles ont obtenu une précision très élevée, illustrant la fiabilité de l’architecture LSTM dans cette tâche. La matrice de confusion a confirmé que les prédictions étaient bien équilibrées entre les classes, bien qu'une analyse des erreurs résiduelles puisse encore affiner ces performances.\n",
    "\n",
    "#### Améliorations et limites\n",
    "\n",
    "Les modèles ont été principalement testés sur des articles de moins de 50 mots, en raison de contraintes de temps de calcul. Cette décision, bien que pragmatique, pourrait introduire un biais dans les résultats en limitant l’analyse à des textes plus courts, potentiellement plus simples à classer. Pour les futures itérations du projet, il pourrait être intéressant de :\n",
    "\n",
    "- **Étendre la limite de longueur de texte** : En intégrant des articles de toutes tailles, l’évaluation serait plus représentative des cas réels et permettrait de vérifier si les performances restent aussi élevées.\n",
    "- **Utiliser des techniques de régularisation** : Comme le dropout, pour améliorer la capacité de généralisation des modèles plus profonds et prévenir le surapprentissage.\n",
    "- **Explorer d'autres types de modèles** : Notamment les architectures Transformer, qui sont bien adaptées aux longues séquences textuelles et pourraient apporter des insights supplémentaires par rapport aux modèles LSTM.\n",
    "\n",
    "### Conclusion générale\n",
    "\n",
    "Les résultats obtenus démontrent que les modèles LSTM sont particulièrement bien adaptés pour la détection de fake news, avec une capacité à apprendre efficacement les caractéristiques du texte même dans un cadre limité en longueur. Cependant, en augmentant la variété et la longueur des textes, nous pourrions encore mieux comprendre la portée et les limites de cette approche, tout en explorant des architectures plus récentes.\n"
   ]
  }
 ],
 "metadata": {
  "kernelspec": {
   "display_name": "envFakeNews",
   "language": "python",
   "name": "python3"
  },
  "language_info": {
   "codemirror_mode": {
    "name": "ipython",
    "version": 3
   },
   "file_extension": ".py",
   "mimetype": "text/x-python",
   "name": "python",
   "nbconvert_exporter": "python",
   "pygments_lexer": "ipython3",
   "version": "3.9.13"
  }
 },
 "nbformat": 4,
 "nbformat_minor": 2
}
