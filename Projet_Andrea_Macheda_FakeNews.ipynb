{
 "cells": [
  {
   "cell_type": "markdown",
   "id": "682ccfa1",
   "metadata": {},
   "source": [
    "\n",
    "# Rapport sur le Projet de Détection de Fake news Andrea MACHEDA\n",
    "\n",
    "Ce notebook présente un projet de détection de fake news en utilisant des techniques de traitement automatique du langage naturel (NLP).\n",
    "\n",
    "Le projet suit généralement les étapes suivantes :\n",
    "1. **Chargement et exploration des données** : chargement du jeu de données et analyse préliminaire.\n",
    "2. **Prétraitement des données** : préparation des données textuelles pour une analyse efficace.\n",
    "3. **Vectorisation et transformation** : conversion des données textuelles en vecteurs numériques pour les modèles.\n",
    "4. **Modélisation et évaluation** : entraînement de modèles de classification et évaluation des performances.\n",
    "\n"
   ]
  },
  {
   "cell_type": "code",
   "execution_count": 1,
   "metadata": {},
   "outputs": [
    {
     "name": "stdout",
     "output_type": "stream",
     "text": [
      "Requirement already satisfied: pandas in c:\\users\\deded\\documents\\inge3\\nlp\\project\\envfakenews\\lib\\site-packages (2.2.3)\n",
      "Requirement already satisfied: pytz>=2020.1 in c:\\users\\deded\\documents\\inge3\\nlp\\project\\envfakenews\\lib\\site-packages (from pandas) (2024.2)\n",
      "Requirement already satisfied: numpy>=1.22.4 in c:\\users\\deded\\documents\\inge3\\nlp\\project\\envfakenews\\lib\\site-packages (from pandas) (1.26.4)\n",
      "Requirement already satisfied: tzdata>=2022.7 in c:\\users\\deded\\documents\\inge3\\nlp\\project\\envfakenews\\lib\\site-packages (from pandas) (2024.2)\n",
      "Requirement already satisfied: python-dateutil>=2.8.2 in c:\\users\\deded\\documents\\inge3\\nlp\\project\\envfakenews\\lib\\site-packages (from pandas) (2.9.0.post0)\n",
      "Requirement already satisfied: six>=1.5 in c:\\users\\deded\\documents\\inge3\\nlp\\project\\envfakenews\\lib\\site-packages (from python-dateutil>=2.8.2->pandas) (1.16.0)\n"
     ]
    }
   ],
   "source": [
    "!pip install pandas"
   ]
  },
  {
   "cell_type": "markdown",
   "id": "b0efcd75",
   "metadata": {},
   "source": [
    "## Chargement et Exploration des Données\n",
    "Ces cellules charge le jeu de données contenant les nouvelles avec des labels indiquant si elles sont fausses ou vraies. Elle explore également la structure des données pour vérifier les colonnes disponibles, le type de chaque colonne, et des informations de base comme la taille du jeu de données.\n"
   ]
  },
  {
   "cell_type": "markdown",
   "metadata": {},
   "source": [
    "### Chargement des données et première inspection\n",
    "\n",
    "Dans cette cellule, nous chargeons deux jeux de données CSV contenant des articles de nouvelles étiquetés comme faux et vrais, respectivement :\n",
    "- **`Fake.csv`** : contient les articles identifiés comme fakes news.\n",
    "- **`True.csv`** : contient les articles identifiés comme vraies news.\n",
    "\n",
    "Les étapes réalisées incluent :\n",
    "1. **Chargement des fichiers** avec la bibliothèque `pandas` en utilisant `pd.read_csv()` pour créer deux DataFrames : `fake_news_df` et `real_news_df`.\n",
    "2. **Aperçu des données** en affichant les premières lignes de chaque DataFrame via la méthode `head()`, permettant de vérifier la structure, les colonnes, et les premières observations.\n",
    "3. **Vérification de la taille des jeux de données** en utilisant `shape`, qui renvoie le nombre de lignes et de colonnes pour chaque jeu. Cela permet d'évaluer la quantité de données disponibles dans chaque catégorie.\n",
    "\n",
    "Le retour de la cellule inclut :\n",
    "- Les premières lignes de chaque DataFrame (`fake_news_df_head` et `real_news_df_head`).\n",
    "- Les tailles des jeux de données (`fake_news_size` et `real_news_size`), pour une vue d'ensemble rapide du volume de données. \n"
   ]
  },
  {
   "cell_type": "code",
   "execution_count": 2,
   "metadata": {},
   "outputs": [
    {
     "data": {
      "text/plain": [
       "(                                               title  \\\n",
       " 0   Donald Trump Sends Out Embarrassing New Year’...   \n",
       " 1   Drunk Bragging Trump Staffer Started Russian ...   \n",
       " 2   Sheriff David Clarke Becomes An Internet Joke...   \n",
       " 3   Trump Is So Obsessed He Even Has Obama’s Name...   \n",
       " 4   Pope Francis Just Called Out Donald Trump Dur...   \n",
       " \n",
       "                                                 text subject  \\\n",
       " 0  Donald Trump just couldn t wish all Americans ...    News   \n",
       " 1  House Intelligence Committee Chairman Devin Nu...    News   \n",
       " 2  On Friday, it was revealed that former Milwauk...    News   \n",
       " 3  On Christmas day, Donald Trump announced that ...    News   \n",
       " 4  Pope Francis used his annual Christmas Day mes...    News   \n",
       " \n",
       "                 date  \n",
       " 0  December 31, 2017  \n",
       " 1  December 31, 2017  \n",
       " 2  December 30, 2017  \n",
       " 3  December 29, 2017  \n",
       " 4  December 25, 2017  ,\n",
       "                                                title  \\\n",
       " 0  As U.S. budget fight looms, Republicans flip t...   \n",
       " 1  U.S. military to accept transgender recruits o...   \n",
       " 2  Senior U.S. Republican senator: 'Let Mr. Muell...   \n",
       " 3  FBI Russia probe helped by Australian diplomat...   \n",
       " 4  Trump wants Postal Service to charge 'much mor...   \n",
       " \n",
       "                                                 text       subject  \\\n",
       " 0  WASHINGTON (Reuters) - The head of a conservat...  politicsNews   \n",
       " 1  WASHINGTON (Reuters) - Transgender people will...  politicsNews   \n",
       " 2  WASHINGTON (Reuters) - The special counsel inv...  politicsNews   \n",
       " 3  WASHINGTON (Reuters) - Trump campaign adviser ...  politicsNews   \n",
       " 4  SEATTLE/WASHINGTON (Reuters) - President Donal...  politicsNews   \n",
       " \n",
       "                  date  \n",
       " 0  December 31, 2017   \n",
       " 1  December 29, 2017   \n",
       " 2  December 31, 2017   \n",
       " 3  December 30, 2017   \n",
       " 4  December 29, 2017   ,\n",
       " (23481, 4),\n",
       " (21417, 4))"
      ]
     },
     "execution_count": 2,
     "metadata": {},
     "output_type": "execute_result"
    }
   ],
   "source": [
    "import pandas as pd\n",
    "\n",
    "# Charger les fichiers CSV\n",
    "fake_news_path = \"Fake.csv\"\n",
    "real_news_path = \"True.csv\"\n",
    "\n",
    "# Lire les deux fichiers\n",
    "fake_news_df = pd.read_csv(fake_news_path)\n",
    "real_news_df = pd.read_csv(real_news_path)\n",
    "\n",
    "# Afficher les premières lignes des deux fichiers pour inspecter la structure\n",
    "fake_news_df_head = fake_news_df.head()\n",
    "real_news_df_head = real_news_df.head()\n",
    "\n",
    "# Vérifier la taille des datasets\n",
    "fake_news_size = fake_news_df.shape\n",
    "real_news_size = real_news_df.shape\n",
    "\n",
    "fake_news_df_head, real_news_df_head, fake_news_size, real_news_size"
   ]
  },
  {
   "cell_type": "markdown",
   "metadata": {},
   "source": [
    "### Étiquetage et fusion des données\n",
    "\n",
    "Dans cette cellule, nous ajoutons une colonne `label` pour indiquer la nature des articles (faux ou vrais) et fusionnons les deux jeux de données en un seul DataFrame, afin de préparer les données pour l'entraînement des modèles de classification. \n",
    "\n",
    "Les étapes effectuées sont les suivantes :\n",
    "1. **Ajout de labels** :\n",
    "   - Une colonne `label` est ajoutée dans `fake_news_df` avec la valeur `0` pour indiquer les articles identifiés comme faux.\n",
    "   - La même colonne est ajoutée dans `real_news_df` avec la valeur `1` pour les articles considérés comme vrais.\n",
    "   \n",
    "2. **Fusion des jeux de données** :\n",
    "   - Les deux DataFrames sont fusionnés en un seul `combined_news_df` à l'aide de `pd.concat()`, avec l'option `ignore_index=True` pour réindexer les lignes de manière continue dans le DataFrame combiné.\n",
    "   \n",
    "3. **Vérification** :\n",
    "   - Les premières lignes du DataFrame combiné sont affichées via `combined_news_df.head(-1)` pour vérifier l'intégrité et la structure de la fusion, en s’assurant que chaque article est correctement étiqueté et inclus dans un seul jeu de données.\n",
    "\n",
    "Cette fusion permet de créer un ensemble complet d'articles étiquetés qui servira pour la modélisation.\n"
   ]
  },
  {
   "cell_type": "code",
   "execution_count": 3,
   "metadata": {},
   "outputs": [
    {
     "data": {
      "text/html": [
       "<div>\n",
       "<style scoped>\n",
       "    .dataframe tbody tr th:only-of-type {\n",
       "        vertical-align: middle;\n",
       "    }\n",
       "\n",
       "    .dataframe tbody tr th {\n",
       "        vertical-align: top;\n",
       "    }\n",
       "\n",
       "    .dataframe thead th {\n",
       "        text-align: right;\n",
       "    }\n",
       "</style>\n",
       "<table border=\"1\" class=\"dataframe\">\n",
       "  <thead>\n",
       "    <tr style=\"text-align: right;\">\n",
       "      <th></th>\n",
       "      <th>title</th>\n",
       "      <th>text</th>\n",
       "      <th>subject</th>\n",
       "      <th>date</th>\n",
       "      <th>label</th>\n",
       "    </tr>\n",
       "  </thead>\n",
       "  <tbody>\n",
       "    <tr>\n",
       "      <th>0</th>\n",
       "      <td>Donald Trump Sends Out Embarrassing New Year’...</td>\n",
       "      <td>Donald Trump just couldn t wish all Americans ...</td>\n",
       "      <td>News</td>\n",
       "      <td>December 31, 2017</td>\n",
       "      <td>0</td>\n",
       "    </tr>\n",
       "    <tr>\n",
       "      <th>1</th>\n",
       "      <td>Drunk Bragging Trump Staffer Started Russian ...</td>\n",
       "      <td>House Intelligence Committee Chairman Devin Nu...</td>\n",
       "      <td>News</td>\n",
       "      <td>December 31, 2017</td>\n",
       "      <td>0</td>\n",
       "    </tr>\n",
       "    <tr>\n",
       "      <th>2</th>\n",
       "      <td>Sheriff David Clarke Becomes An Internet Joke...</td>\n",
       "      <td>On Friday, it was revealed that former Milwauk...</td>\n",
       "      <td>News</td>\n",
       "      <td>December 30, 2017</td>\n",
       "      <td>0</td>\n",
       "    </tr>\n",
       "    <tr>\n",
       "      <th>3</th>\n",
       "      <td>Trump Is So Obsessed He Even Has Obama’s Name...</td>\n",
       "      <td>On Christmas day, Donald Trump announced that ...</td>\n",
       "      <td>News</td>\n",
       "      <td>December 29, 2017</td>\n",
       "      <td>0</td>\n",
       "    </tr>\n",
       "    <tr>\n",
       "      <th>4</th>\n",
       "      <td>Pope Francis Just Called Out Donald Trump Dur...</td>\n",
       "      <td>Pope Francis used his annual Christmas Day mes...</td>\n",
       "      <td>News</td>\n",
       "      <td>December 25, 2017</td>\n",
       "      <td>0</td>\n",
       "    </tr>\n",
       "    <tr>\n",
       "      <th>...</th>\n",
       "      <td>...</td>\n",
       "      <td>...</td>\n",
       "      <td>...</td>\n",
       "      <td>...</td>\n",
       "      <td>...</td>\n",
       "    </tr>\n",
       "    <tr>\n",
       "      <th>44892</th>\n",
       "      <td>North Korea shipments to Syria chemical arms a...</td>\n",
       "      <td>UNITED NATIONS (Reuters) - Two North Korean sh...</td>\n",
       "      <td>worldnews</td>\n",
       "      <td>August 21, 2017</td>\n",
       "      <td>1</td>\n",
       "    </tr>\n",
       "    <tr>\n",
       "      <th>44893</th>\n",
       "      <td>'Fully committed' NATO backs new U.S. approach...</td>\n",
       "      <td>BRUSSELS (Reuters) - NATO allies on Tuesday we...</td>\n",
       "      <td>worldnews</td>\n",
       "      <td>August 22, 2017</td>\n",
       "      <td>1</td>\n",
       "    </tr>\n",
       "    <tr>\n",
       "      <th>44894</th>\n",
       "      <td>LexisNexis withdrew two products from Chinese ...</td>\n",
       "      <td>LONDON (Reuters) - LexisNexis, a provider of l...</td>\n",
       "      <td>worldnews</td>\n",
       "      <td>August 22, 2017</td>\n",
       "      <td>1</td>\n",
       "    </tr>\n",
       "    <tr>\n",
       "      <th>44895</th>\n",
       "      <td>Minsk cultural hub becomes haven from authorities</td>\n",
       "      <td>MINSK (Reuters) - In the shadow of disused Sov...</td>\n",
       "      <td>worldnews</td>\n",
       "      <td>August 22, 2017</td>\n",
       "      <td>1</td>\n",
       "    </tr>\n",
       "    <tr>\n",
       "      <th>44896</th>\n",
       "      <td>Vatican upbeat on possibility of Pope Francis ...</td>\n",
       "      <td>MOSCOW (Reuters) - Vatican Secretary of State ...</td>\n",
       "      <td>worldnews</td>\n",
       "      <td>August 22, 2017</td>\n",
       "      <td>1</td>\n",
       "    </tr>\n",
       "  </tbody>\n",
       "</table>\n",
       "<p>44897 rows × 5 columns</p>\n",
       "</div>"
      ],
      "text/plain": [
       "                                                   title  \\\n",
       "0       Donald Trump Sends Out Embarrassing New Year’...   \n",
       "1       Drunk Bragging Trump Staffer Started Russian ...   \n",
       "2       Sheriff David Clarke Becomes An Internet Joke...   \n",
       "3       Trump Is So Obsessed He Even Has Obama’s Name...   \n",
       "4       Pope Francis Just Called Out Donald Trump Dur...   \n",
       "...                                                  ...   \n",
       "44892  North Korea shipments to Syria chemical arms a...   \n",
       "44893  'Fully committed' NATO backs new U.S. approach...   \n",
       "44894  LexisNexis withdrew two products from Chinese ...   \n",
       "44895  Minsk cultural hub becomes haven from authorities   \n",
       "44896  Vatican upbeat on possibility of Pope Francis ...   \n",
       "\n",
       "                                                    text    subject  \\\n",
       "0      Donald Trump just couldn t wish all Americans ...       News   \n",
       "1      House Intelligence Committee Chairman Devin Nu...       News   \n",
       "2      On Friday, it was revealed that former Milwauk...       News   \n",
       "3      On Christmas day, Donald Trump announced that ...       News   \n",
       "4      Pope Francis used his annual Christmas Day mes...       News   \n",
       "...                                                  ...        ...   \n",
       "44892  UNITED NATIONS (Reuters) - Two North Korean sh...  worldnews   \n",
       "44893  BRUSSELS (Reuters) - NATO allies on Tuesday we...  worldnews   \n",
       "44894  LONDON (Reuters) - LexisNexis, a provider of l...  worldnews   \n",
       "44895  MINSK (Reuters) - In the shadow of disused Sov...  worldnews   \n",
       "44896  MOSCOW (Reuters) - Vatican Secretary of State ...  worldnews   \n",
       "\n",
       "                    date  label  \n",
       "0      December 31, 2017      0  \n",
       "1      December 31, 2017      0  \n",
       "2      December 30, 2017      0  \n",
       "3      December 29, 2017      0  \n",
       "4      December 25, 2017      0  \n",
       "...                  ...    ...  \n",
       "44892   August 21, 2017       1  \n",
       "44893   August 22, 2017       1  \n",
       "44894   August 22, 2017       1  \n",
       "44895   August 22, 2017       1  \n",
       "44896   August 22, 2017       1  \n",
       "\n",
       "[44897 rows x 5 columns]"
      ]
     },
     "execution_count": 3,
     "metadata": {},
     "output_type": "execute_result"
    }
   ],
   "source": [
    "# Ajouter une colonne \"label\" à chaque dataset\n",
    "fake_news_df['label'] = 0  # Faux articles\n",
    "real_news_df['label'] = 1  # Vrais articles\n",
    "\n",
    "# Fusionner les deux datasets\n",
    "combined_news_df = pd.concat([fake_news_df, real_news_df], ignore_index=True)\n",
    "\n",
    "# Afficher quelques lignes du dataset combiné pour vérifier\n",
    "combined_news_df.head(-1)"
   ]
  },
  {
   "cell_type": "code",
   "execution_count": 4,
   "metadata": {},
   "outputs": [
    {
     "name": "stdout",
     "output_type": "stream",
     "text": [
      "Requirement already satisfied: nltk in c:\\users\\deded\\documents\\inge3\\nlp\\project\\envfakenews\\lib\\site-packages (3.9.1)\n",
      "Requirement already satisfied: click in c:\\users\\deded\\documents\\inge3\\nlp\\project\\envfakenews\\lib\\site-packages (from nltk) (8.1.7)\n",
      "Requirement already satisfied: regex>=2021.8.3 in c:\\users\\deded\\documents\\inge3\\nlp\\project\\envfakenews\\lib\\site-packages (from nltk) (2024.9.11)\n",
      "Requirement already satisfied: tqdm in c:\\users\\deded\\documents\\inge3\\nlp\\project\\envfakenews\\lib\\site-packages (from nltk) (4.66.5)\n",
      "Requirement already satisfied: joblib in c:\\users\\deded\\documents\\inge3\\nlp\\project\\envfakenews\\lib\\site-packages (from nltk) (1.4.2)\n",
      "Requirement already satisfied: colorama in c:\\users\\deded\\documents\\inge3\\nlp\\project\\envfakenews\\lib\\site-packages (from click->nltk) (0.4.6)\n"
     ]
    }
   ],
   "source": [
    "!pip install nltk --upgrade"
   ]
  },
  {
   "cell_type": "markdown",
   "metadata": {},
   "source": [
    "## Prétraitement des Données\n",
    "Ici, plusieurs opérations de nettoyage du texte sont appliquées, telles que : mise en minuscules, suppression de la ponctuation, suppression des mots communs inutiles ('stop words'), etc. Cela prépare les données textuelles en vue de l'extraction de caractéristiques."
   ]
  },
  {
   "cell_type": "markdown",
   "metadata": {},
   "source": [
    "### Nettoyage et préparation du texte\n",
    "\n",
    "Cette cellule met en place une fonction de nettoyage pour prétraiter le texte des articles, étape essentielle pour préparer les données textuelles en vue de la modélisation.\n",
    "\n",
    "#### Détails des étapes :\n",
    "1. **Importation des modules et téléchargement des ressources** :\n",
    "   - Importation des outils de traitement de texte de `nltk`, incluant `stopwords` pour les mots communs inutiles et `TweetTokenizer` pour la tokenisation du texte.\n",
    "   - Téléchargement des stopwords en anglais et du module `punkt` pour gérer la segmentation du texte.\n",
    "   \n",
    "2. **Définition des stopwords** :\n",
    "   - Les stopwords en anglais sont chargés dans `stop_words`, pour permettre la suppression des mots courants non significatifs dans le texte.\n",
    "\n",
    "3. **Fonction `clean_text`** :\n",
    "   - La fonction `clean_text` est créée pour traiter chaque article, avec les étapes suivantes :\n",
    "     - **Tokenisation** : chaque texte est mis en minuscules puis découpé en mots individuels (`text_token`) à l’aide de `TweetTokenizer`.\n",
    "     - **Filtrage** : les tokens sont filtrés pour retirer les stopwords et la ponctuation, ne laissant que les mots significatifs.\n",
    "     - **Reconstruction** : les tokens restants sont recombinés en une liste nettoyée qui sera utilisée pour l’analyse.\n",
    "\n",
    "4. **Application du nettoyage** :\n",
    "   - Cette fonction est appliquée à la colonne `text` de `combined_news_df`, avec les résultats stockés dans une nouvelle colonne `clean_text`.\n",
    "   \n",
    "5. **Exemple avant et après nettoyage** :\n",
    "   - La cellule affiche un exemple de texte avant et après nettoyage (`example_before` et `example_after`), permettant de visualiser l'effet du prétraitement.\n",
    "\n",
    "Ce nettoyage vise à réduire le bruit textuel, essentiel pour améliorer la qualité des représentations textuelles lors de la modélisation.\n"
   ]
  },
  {
   "cell_type": "code",
   "execution_count": 5,
   "metadata": {},
   "outputs": [
    {
     "name": "stderr",
     "output_type": "stream",
     "text": [
      "[nltk_data] Downloading package punkt to\n",
      "[nltk_data]     C:\\Users\\deded\\AppData\\Roaming\\nltk_data...\n",
      "[nltk_data]   Package punkt is already up-to-date!\n",
      "[nltk_data] Downloading package stopwords to\n",
      "[nltk_data]     C:\\Users\\deded\\AppData\\Roaming\\nltk_data...\n",
      "[nltk_data]   Package stopwords is already up-to-date!\n"
     ]
    },
    {
     "data": {
      "text/plain": [
       "('Donald Trump just couldn t wish all Americans a Happy New Year and leave it at that. Instead, he had to give a shout out to his enemies, haters and  the very dishonest fake news media.  The former reality show star had just one job to do and he couldn t do it. As our Country rapidly grows stronger and smarter, I want to wish all of my friends, supporters, enemies, haters, and even the very dishonest Fake News Media, a Happy and Healthy New Year,  President Angry Pants tweeted.  2018 will be a great year for America! As our Country rapidly grows stronger and smarter, I want to wish all of my friends, supporters, enemies, haters, and even the very dishonest Fake News Media, a Happy and Healthy New Year. 2018 will be a great year for America!  Donald J. Trump (@realDonaldTrump) December 31, 2017Trump s tweet went down about as welll as you d expect.What kind of president sends a New Year s greeting like this despicable, petty, infantile gibberish? Only Trump! His lack of decency won t even allow him to rise above the gutter long enough to wish the American citizens a happy new year!  Bishop Talbert Swan (@TalbertSwan) December 31, 2017no one likes you  Calvin (@calvinstowell) December 31, 2017Your impeachment would make 2018 a great year for America, but I ll also accept regaining control of Congress.  Miranda Yaver (@mirandayaver) December 31, 2017Do you hear yourself talk? When you have to include that many people that hate you you have to wonder? Why do the they all hate me?  Alan Sandoval (@AlanSandoval13) December 31, 2017Who uses the word Haters in a New Years wish??  Marlene (@marlene399) December 31, 2017You can t just say happy new year?  Koren pollitt (@Korencarpenter) December 31, 2017Here s Trump s New Year s Eve tweet from 2016.Happy New Year to all, including to my many enemies and those who have fought me and lost so badly they just don t know what to do. Love!  Donald J. Trump (@realDonaldTrump) December 31, 2016This is nothing new for Trump. He s been doing this for years.Trump has directed messages to his  enemies  and  haters  for New Year s, Easter, Thanksgiving, and the anniversary of 9/11. pic.twitter.com/4FPAe2KypA  Daniel Dale (@ddale8) December 31, 2017Trump s holiday tweets are clearly not presidential.How long did he work at Hallmark before becoming President?  Steven Goodine (@SGoodine) December 31, 2017He s always been like this . . . the only difference is that in the last few years, his filter has been breaking down.  Roy Schulze (@thbthttt) December 31, 2017Who, apart from a teenager uses the term haters?  Wendy (@WendyWhistles) December 31, 2017he s a fucking 5 year old  Who Knows (@rainyday80) December 31, 2017So, to all the people who voted for this a hole thinking he would change once he got into power, you were wrong! 70-year-old men don t change and now he s a year older.Photo by Andrew Burton/Getty Images.',\n",
       " ['donald',\n",
       "  'trump',\n",
       "  'wish',\n",
       "  'americans',\n",
       "  'happy',\n",
       "  'new',\n",
       "  'year',\n",
       "  'leave',\n",
       "  'instead',\n",
       "  'give',\n",
       "  'shout',\n",
       "  'enemies',\n",
       "  'haters',\n",
       "  'dishonest',\n",
       "  'fake',\n",
       "  'news',\n",
       "  'media',\n",
       "  'former',\n",
       "  'reality',\n",
       "  'show',\n",
       "  'star',\n",
       "  'one',\n",
       "  'job',\n",
       "  'country',\n",
       "  'rapidly',\n",
       "  'grows',\n",
       "  'stronger',\n",
       "  'smarter',\n",
       "  'want',\n",
       "  'wish',\n",
       "  'friends',\n",
       "  'supporters',\n",
       "  'enemies',\n",
       "  'haters',\n",
       "  'even',\n",
       "  'dishonest',\n",
       "  'fake',\n",
       "  'news',\n",
       "  'media',\n",
       "  'happy',\n",
       "  'healthy',\n",
       "  'new',\n",
       "  'year',\n",
       "  'president',\n",
       "  'angry',\n",
       "  'pants',\n",
       "  'tweeted',\n",
       "  '2018',\n",
       "  'great',\n",
       "  'year',\n",
       "  'america',\n",
       "  'country',\n",
       "  'rapidly',\n",
       "  'grows',\n",
       "  'stronger',\n",
       "  'smarter',\n",
       "  'want',\n",
       "  'wish',\n",
       "  'friends',\n",
       "  'supporters',\n",
       "  'enemies',\n",
       "  'haters',\n",
       "  'even',\n",
       "  'dishonest',\n",
       "  'fake',\n",
       "  'news',\n",
       "  'media',\n",
       "  'happy',\n",
       "  'healthy',\n",
       "  'new',\n",
       "  'year',\n",
       "  '2018',\n",
       "  'great',\n",
       "  'year',\n",
       "  'america',\n",
       "  'donald',\n",
       "  'j',\n",
       "  'trump',\n",
       "  '@realdonaldtrump',\n",
       "  'december',\n",
       "  '31',\n",
       "  '2017trump',\n",
       "  'tweet',\n",
       "  'went',\n",
       "  'welll',\n",
       "  'expect.what',\n",
       "  'kind',\n",
       "  'president',\n",
       "  'sends',\n",
       "  'new',\n",
       "  'year',\n",
       "  'greeting',\n",
       "  'like',\n",
       "  'despicable',\n",
       "  'petty',\n",
       "  'infantile',\n",
       "  'gibberish',\n",
       "  'trump',\n",
       "  'lack',\n",
       "  'decency',\n",
       "  'even',\n",
       "  'allow',\n",
       "  'rise',\n",
       "  'gutter',\n",
       "  'long',\n",
       "  'enough',\n",
       "  'wish',\n",
       "  'american',\n",
       "  'citizens',\n",
       "  'happy',\n",
       "  'new',\n",
       "  'year',\n",
       "  'bishop',\n",
       "  'talbert',\n",
       "  'swan',\n",
       "  '@talbertswan',\n",
       "  'december',\n",
       "  '31',\n",
       "  '2017no',\n",
       "  'one',\n",
       "  'likes',\n",
       "  'calvin',\n",
       "  '@calvinstowell',\n",
       "  'december',\n",
       "  '31',\n",
       "  '2017your',\n",
       "  'impeachment',\n",
       "  'would',\n",
       "  'make',\n",
       "  '2018',\n",
       "  'great',\n",
       "  'year',\n",
       "  'america',\n",
       "  'also',\n",
       "  'accept',\n",
       "  'regaining',\n",
       "  'control',\n",
       "  'congress',\n",
       "  'miranda',\n",
       "  'yaver',\n",
       "  '@mirandayaver',\n",
       "  'december',\n",
       "  '31',\n",
       "  '2017do',\n",
       "  'hear',\n",
       "  'talk',\n",
       "  'include',\n",
       "  'many',\n",
       "  'people',\n",
       "  'hate',\n",
       "  'wonder',\n",
       "  'hate',\n",
       "  'alan',\n",
       "  'sandoval',\n",
       "  '@alansandoval13',\n",
       "  'december',\n",
       "  '31',\n",
       "  '2017who',\n",
       "  'uses',\n",
       "  'word',\n",
       "  'haters',\n",
       "  'new',\n",
       "  'years',\n",
       "  'wish',\n",
       "  'marlene',\n",
       "  '@marlene399',\n",
       "  'december',\n",
       "  '31',\n",
       "  '2017you',\n",
       "  'say',\n",
       "  'happy',\n",
       "  'new',\n",
       "  'year',\n",
       "  'koren',\n",
       "  'pollitt',\n",
       "  '@korencarpenter',\n",
       "  'december',\n",
       "  '31',\n",
       "  '2017here',\n",
       "  'trump',\n",
       "  'new',\n",
       "  'year',\n",
       "  'eve',\n",
       "  'tweet',\n",
       "  '2016.happy',\n",
       "  'new',\n",
       "  'year',\n",
       "  'including',\n",
       "  'many',\n",
       "  'enemies',\n",
       "  'fought',\n",
       "  'lost',\n",
       "  'badly',\n",
       "  'know',\n",
       "  'love',\n",
       "  'donald',\n",
       "  'j',\n",
       "  'trump',\n",
       "  '@realdonaldtrump',\n",
       "  'december',\n",
       "  '31',\n",
       "  '2016this',\n",
       "  'nothing',\n",
       "  'new',\n",
       "  'trump',\n",
       "  'years.trump',\n",
       "  'directed',\n",
       "  'messages',\n",
       "  'enemies',\n",
       "  'haters',\n",
       "  'new',\n",
       "  'year',\n",
       "  'easter',\n",
       "  'thanksgiving',\n",
       "  'anniversary',\n",
       "  '9/11',\n",
       "  'pic.twitter.com/4fpae2kypa',\n",
       "  'daniel',\n",
       "  'dale',\n",
       "  '@ddale8',\n",
       "  'december',\n",
       "  '31',\n",
       "  '2017trump',\n",
       "  'holiday',\n",
       "  'tweets',\n",
       "  'clearly',\n",
       "  'presidential.how',\n",
       "  'long',\n",
       "  'work',\n",
       "  'hallmark',\n",
       "  'becoming',\n",
       "  'president',\n",
       "  'steven',\n",
       "  'goodine',\n",
       "  '@sgoodine',\n",
       "  'december',\n",
       "  '31',\n",
       "  '2017he',\n",
       "  'always',\n",
       "  'like',\n",
       "  '. . .',\n",
       "  'difference',\n",
       "  'last',\n",
       "  'years',\n",
       "  'filter',\n",
       "  'breaking',\n",
       "  'roy',\n",
       "  'schulze',\n",
       "  '@thbthttt',\n",
       "  'december',\n",
       "  '31',\n",
       "  '2017who',\n",
       "  'apart',\n",
       "  'teenager',\n",
       "  'uses',\n",
       "  'term',\n",
       "  'haters',\n",
       "  'wendy',\n",
       "  '@wendywhistles',\n",
       "  'december',\n",
       "  '31',\n",
       "  '2017he',\n",
       "  'fucking',\n",
       "  '5',\n",
       "  'year',\n",
       "  'old',\n",
       "  'knows',\n",
       "  '@rainyday80',\n",
       "  'december',\n",
       "  '31',\n",
       "  '2017so',\n",
       "  'people',\n",
       "  'voted',\n",
       "  'hole',\n",
       "  'thinking',\n",
       "  'would',\n",
       "  'change',\n",
       "  'got',\n",
       "  'power',\n",
       "  'wrong',\n",
       "  '70',\n",
       "  'year-old',\n",
       "  'men',\n",
       "  'change',\n",
       "  'year',\n",
       "  'older.photo',\n",
       "  'andrew',\n",
       "  'burton',\n",
       "  'getty',\n",
       "  'images'])"
      ]
     },
     "execution_count": 5,
     "metadata": {},
     "output_type": "execute_result"
    }
   ],
   "source": [
    "import nltk\n",
    "from nltk.corpus import stopwords\n",
    "from nltk.tokenize import TweetTokenizer\n",
    "import string\n",
    "\n",
    "# Télécharger les stopwords en français et anglais\n",
    "nltk.download('punkt')\n",
    "nltk.download('stopwords')\n",
    "\n",
    "# Obtenir les stopwords en anglais\n",
    "stop_words = stopwords.words('english')\n",
    "\n",
    "# Fonction de nettoyage de texte\n",
    "def clean_text(text):\n",
    "    tokenizer = TweetTokenizer()\n",
    "    text_token = tokenizer.tokenize(text.lower())\n",
    "    # Supprimer les stopwords et la ponctuation\n",
    "    text_token = [text_token for text_token in text_token if text_token not in stop_words and text_token not in string.punctuation]\n",
    "    # Rejoindre les mots nettoyés en une seule chaîne de caractères\n",
    "    return text_token\n",
    "\n",
    "# Appliquer le nettoyage du texte sur l'ensemble des articles\n",
    "combined_news_df['clean_text'] = combined_news_df['text'].apply(clean_text)\n",
    "\n",
    "# Afficher un exemple avant et après nettoyage\n",
    "example_before = combined_news_df['text'].iloc[0]\n",
    "example_after = combined_news_df['clean_text'].iloc[0]\n",
    "\n",
    "example_before, example_after\n"
   ]
  },
  {
   "cell_type": "code",
   "execution_count": 6,
   "metadata": {},
   "outputs": [
    {
     "data": {
      "text/html": [
       "<div>\n",
       "<style scoped>\n",
       "    .dataframe tbody tr th:only-of-type {\n",
       "        vertical-align: middle;\n",
       "    }\n",
       "\n",
       "    .dataframe tbody tr th {\n",
       "        vertical-align: top;\n",
       "    }\n",
       "\n",
       "    .dataframe thead th {\n",
       "        text-align: right;\n",
       "    }\n",
       "</style>\n",
       "<table border=\"1\" class=\"dataframe\">\n",
       "  <thead>\n",
       "    <tr style=\"text-align: right;\">\n",
       "      <th></th>\n",
       "      <th>title</th>\n",
       "      <th>text</th>\n",
       "      <th>subject</th>\n",
       "      <th>date</th>\n",
       "      <th>label</th>\n",
       "      <th>clean_text</th>\n",
       "    </tr>\n",
       "  </thead>\n",
       "  <tbody>\n",
       "    <tr>\n",
       "      <th>0</th>\n",
       "      <td>Donald Trump Sends Out Embarrassing New Year’...</td>\n",
       "      <td>Donald Trump just couldn t wish all Americans ...</td>\n",
       "      <td>News</td>\n",
       "      <td>December 31, 2017</td>\n",
       "      <td>0</td>\n",
       "      <td>[donald, trump, wish, americans, happy, new, y...</td>\n",
       "    </tr>\n",
       "    <tr>\n",
       "      <th>1</th>\n",
       "      <td>Drunk Bragging Trump Staffer Started Russian ...</td>\n",
       "      <td>House Intelligence Committee Chairman Devin Nu...</td>\n",
       "      <td>News</td>\n",
       "      <td>December 31, 2017</td>\n",
       "      <td>0</td>\n",
       "      <td>[house, intelligence, committee, chairman, dev...</td>\n",
       "    </tr>\n",
       "    <tr>\n",
       "      <th>2</th>\n",
       "      <td>Sheriff David Clarke Becomes An Internet Joke...</td>\n",
       "      <td>On Friday, it was revealed that former Milwauk...</td>\n",
       "      <td>News</td>\n",
       "      <td>December 30, 2017</td>\n",
       "      <td>0</td>\n",
       "      <td>[friday, revealed, former, milwaukee, sheriff,...</td>\n",
       "    </tr>\n",
       "    <tr>\n",
       "      <th>3</th>\n",
       "      <td>Trump Is So Obsessed He Even Has Obama’s Name...</td>\n",
       "      <td>On Christmas day, Donald Trump announced that ...</td>\n",
       "      <td>News</td>\n",
       "      <td>December 29, 2017</td>\n",
       "      <td>0</td>\n",
       "      <td>[christmas, day, donald, trump, announced, wou...</td>\n",
       "    </tr>\n",
       "    <tr>\n",
       "      <th>4</th>\n",
       "      <td>Pope Francis Just Called Out Donald Trump Dur...</td>\n",
       "      <td>Pope Francis used his annual Christmas Day mes...</td>\n",
       "      <td>News</td>\n",
       "      <td>December 25, 2017</td>\n",
       "      <td>0</td>\n",
       "      <td>[pope, francis, used, annual, christmas, day, ...</td>\n",
       "    </tr>\n",
       "    <tr>\n",
       "      <th>...</th>\n",
       "      <td>...</td>\n",
       "      <td>...</td>\n",
       "      <td>...</td>\n",
       "      <td>...</td>\n",
       "      <td>...</td>\n",
       "      <td>...</td>\n",
       "    </tr>\n",
       "    <tr>\n",
       "      <th>44892</th>\n",
       "      <td>North Korea shipments to Syria chemical arms a...</td>\n",
       "      <td>UNITED NATIONS (Reuters) - Two North Korean sh...</td>\n",
       "      <td>worldnews</td>\n",
       "      <td>August 21, 2017</td>\n",
       "      <td>1</td>\n",
       "      <td>[united, nations, reuters, two, north, korean,...</td>\n",
       "    </tr>\n",
       "    <tr>\n",
       "      <th>44893</th>\n",
       "      <td>'Fully committed' NATO backs new U.S. approach...</td>\n",
       "      <td>BRUSSELS (Reuters) - NATO allies on Tuesday we...</td>\n",
       "      <td>worldnews</td>\n",
       "      <td>August 22, 2017</td>\n",
       "      <td>1</td>\n",
       "      <td>[brussels, reuters, nato, allies, tuesday, wel...</td>\n",
       "    </tr>\n",
       "    <tr>\n",
       "      <th>44894</th>\n",
       "      <td>LexisNexis withdrew two products from Chinese ...</td>\n",
       "      <td>LONDON (Reuters) - LexisNexis, a provider of l...</td>\n",
       "      <td>worldnews</td>\n",
       "      <td>August 22, 2017</td>\n",
       "      <td>1</td>\n",
       "      <td>[london, reuters, lexisnexis, provider, legal,...</td>\n",
       "    </tr>\n",
       "    <tr>\n",
       "      <th>44895</th>\n",
       "      <td>Minsk cultural hub becomes haven from authorities</td>\n",
       "      <td>MINSK (Reuters) - In the shadow of disused Sov...</td>\n",
       "      <td>worldnews</td>\n",
       "      <td>August 22, 2017</td>\n",
       "      <td>1</td>\n",
       "      <td>[minsk, reuters, shadow, disused, soviet-era, ...</td>\n",
       "    </tr>\n",
       "    <tr>\n",
       "      <th>44896</th>\n",
       "      <td>Vatican upbeat on possibility of Pope Francis ...</td>\n",
       "      <td>MOSCOW (Reuters) - Vatican Secretary of State ...</td>\n",
       "      <td>worldnews</td>\n",
       "      <td>August 22, 2017</td>\n",
       "      <td>1</td>\n",
       "      <td>[moscow, reuters, vatican, secretary, state, c...</td>\n",
       "    </tr>\n",
       "  </tbody>\n",
       "</table>\n",
       "<p>44897 rows × 6 columns</p>\n",
       "</div>"
      ],
      "text/plain": [
       "                                                   title  \\\n",
       "0       Donald Trump Sends Out Embarrassing New Year’...   \n",
       "1       Drunk Bragging Trump Staffer Started Russian ...   \n",
       "2       Sheriff David Clarke Becomes An Internet Joke...   \n",
       "3       Trump Is So Obsessed He Even Has Obama’s Name...   \n",
       "4       Pope Francis Just Called Out Donald Trump Dur...   \n",
       "...                                                  ...   \n",
       "44892  North Korea shipments to Syria chemical arms a...   \n",
       "44893  'Fully committed' NATO backs new U.S. approach...   \n",
       "44894  LexisNexis withdrew two products from Chinese ...   \n",
       "44895  Minsk cultural hub becomes haven from authorities   \n",
       "44896  Vatican upbeat on possibility of Pope Francis ...   \n",
       "\n",
       "                                                    text    subject  \\\n",
       "0      Donald Trump just couldn t wish all Americans ...       News   \n",
       "1      House Intelligence Committee Chairman Devin Nu...       News   \n",
       "2      On Friday, it was revealed that former Milwauk...       News   \n",
       "3      On Christmas day, Donald Trump announced that ...       News   \n",
       "4      Pope Francis used his annual Christmas Day mes...       News   \n",
       "...                                                  ...        ...   \n",
       "44892  UNITED NATIONS (Reuters) - Two North Korean sh...  worldnews   \n",
       "44893  BRUSSELS (Reuters) - NATO allies on Tuesday we...  worldnews   \n",
       "44894  LONDON (Reuters) - LexisNexis, a provider of l...  worldnews   \n",
       "44895  MINSK (Reuters) - In the shadow of disused Sov...  worldnews   \n",
       "44896  MOSCOW (Reuters) - Vatican Secretary of State ...  worldnews   \n",
       "\n",
       "                    date  label  \\\n",
       "0      December 31, 2017      0   \n",
       "1      December 31, 2017      0   \n",
       "2      December 30, 2017      0   \n",
       "3      December 29, 2017      0   \n",
       "4      December 25, 2017      0   \n",
       "...                  ...    ...   \n",
       "44892   August 21, 2017       1   \n",
       "44893   August 22, 2017       1   \n",
       "44894   August 22, 2017       1   \n",
       "44895   August 22, 2017       1   \n",
       "44896   August 22, 2017       1   \n",
       "\n",
       "                                              clean_text  \n",
       "0      [donald, trump, wish, americans, happy, new, y...  \n",
       "1      [house, intelligence, committee, chairman, dev...  \n",
       "2      [friday, revealed, former, milwaukee, sheriff,...  \n",
       "3      [christmas, day, donald, trump, announced, wou...  \n",
       "4      [pope, francis, used, annual, christmas, day, ...  \n",
       "...                                                  ...  \n",
       "44892  [united, nations, reuters, two, north, korean,...  \n",
       "44893  [brussels, reuters, nato, allies, tuesday, wel...  \n",
       "44894  [london, reuters, lexisnexis, provider, legal,...  \n",
       "44895  [minsk, reuters, shadow, disused, soviet-era, ...  \n",
       "44896  [moscow, reuters, vatican, secretary, state, c...  \n",
       "\n",
       "[44897 rows x 6 columns]"
      ]
     },
     "execution_count": 6,
     "metadata": {},
     "output_type": "execute_result"
    }
   ],
   "source": [
    "combined_news_df.head(-1)"
   ]
  },
  {
   "cell_type": "markdown",
   "metadata": {},
   "source": [
    "### Création d'une liste de documents étiquetés\n",
    "\n",
    "Cette cellule crée une liste nommée `Documents` contenant des paires `(texte nettoyé, label)` pour chaque article, formatée de manière à préparer les données pour l'entraînement des modèles.\n",
    "\n",
    "#### Détails des étapes :\n",
    "1. **Initialisation de la liste `Documents`** :\n",
    "   - Une liste vide `Documents` est créée pour stocker chaque article sous forme de tuple, où chaque élément sera constitué du texte nettoyé et de son label.\n",
    "\n",
    "2. **Boucle de remplissage** :\n",
    "   - Une boucle `for` parcourt chaque ligne du DataFrame `combined_news_df` (sauf la dernière ligne, `len(combined_news_df)-1`), pour éviter d'inclure par erreur une ligne non valide si elle existe.\n",
    "   - À chaque itération, elle ajoute un tuple dans `Documents` :\n",
    "     - La première partie du tuple est le texte nettoyé de l'article (`combined_news_df['clean_text'].iloc[i]`).\n",
    "     - La seconde partie est le label de l'article (`combined_news_df['label'].iloc[i]`), où `0` indique une fausse nouvelle et `1` une vraie.\n",
    "\n",
    "### Utilité de la liste `Documents`\n",
    "Cette liste structurée est utilisée pour faciliter la manipulation et la préparation des données, en regroupant chaque texte nettoyé avec son label. Elle est ainsi prête pour l'étape suivante de vectorisation ou d'entraînement de modèles supervisés.\n"
   ]
  },
  {
   "cell_type": "code",
   "execution_count": 7,
   "metadata": {},
   "outputs": [],
   "source": [
    "Documents = []\n",
    "for i in range(len(combined_news_df)-1):\n",
    "    Documents.append((combined_news_df['clean_text'].iloc[i],combined_news_df['label'].iloc[i]))"
   ]
  },
  {
   "cell_type": "code",
   "execution_count": 8,
   "metadata": {},
   "outputs": [
    {
     "name": "stdout",
     "output_type": "stream",
     "text": [
      "(['donald', 'trump', 'wish', 'americans', 'happy', 'new', 'year', 'leave', 'instead', 'give', 'shout', 'enemies', 'haters', 'dishonest', 'fake', 'news', 'media', 'former', 'reality', 'show', 'star', 'one', 'job', 'country', 'rapidly', 'grows', 'stronger', 'smarter', 'want', 'wish', 'friends', 'supporters', 'enemies', 'haters', 'even', 'dishonest', 'fake', 'news', 'media', 'happy', 'healthy', 'new', 'year', 'president', 'angry', 'pants', 'tweeted', '2018', 'great', 'year', 'america', 'country', 'rapidly', 'grows', 'stronger', 'smarter', 'want', 'wish', 'friends', 'supporters', 'enemies', 'haters', 'even', 'dishonest', 'fake', 'news', 'media', 'happy', 'healthy', 'new', 'year', '2018', 'great', 'year', 'america', 'donald', 'j', 'trump', '@realdonaldtrump', 'december', '31', '2017trump', 'tweet', 'went', 'welll', 'expect.what', 'kind', 'president', 'sends', 'new', 'year', 'greeting', 'like', 'despicable', 'petty', 'infantile', 'gibberish', 'trump', 'lack', 'decency', 'even', 'allow', 'rise', 'gutter', 'long', 'enough', 'wish', 'american', 'citizens', 'happy', 'new', 'year', 'bishop', 'talbert', 'swan', '@talbertswan', 'december', '31', '2017no', 'one', 'likes', 'calvin', '@calvinstowell', 'december', '31', '2017your', 'impeachment', 'would', 'make', '2018', 'great', 'year', 'america', 'also', 'accept', 'regaining', 'control', 'congress', 'miranda', 'yaver', '@mirandayaver', 'december', '31', '2017do', 'hear', 'talk', 'include', 'many', 'people', 'hate', 'wonder', 'hate', 'alan', 'sandoval', '@alansandoval13', 'december', '31', '2017who', 'uses', 'word', 'haters', 'new', 'years', 'wish', 'marlene', '@marlene399', 'december', '31', '2017you', 'say', 'happy', 'new', 'year', 'koren', 'pollitt', '@korencarpenter', 'december', '31', '2017here', 'trump', 'new', 'year', 'eve', 'tweet', '2016.happy', 'new', 'year', 'including', 'many', 'enemies', 'fought', 'lost', 'badly', 'know', 'love', 'donald', 'j', 'trump', '@realdonaldtrump', 'december', '31', '2016this', 'nothing', 'new', 'trump', 'years.trump', 'directed', 'messages', 'enemies', 'haters', 'new', 'year', 'easter', 'thanksgiving', 'anniversary', '9/11', 'pic.twitter.com/4fpae2kypa', 'daniel', 'dale', '@ddale8', 'december', '31', '2017trump', 'holiday', 'tweets', 'clearly', 'presidential.how', 'long', 'work', 'hallmark', 'becoming', 'president', 'steven', 'goodine', '@sgoodine', 'december', '31', '2017he', 'always', 'like', '. . .', 'difference', 'last', 'years', 'filter', 'breaking', 'roy', 'schulze', '@thbthttt', 'december', '31', '2017who', 'apart', 'teenager', 'uses', 'term', 'haters', 'wendy', '@wendywhistles', 'december', '31', '2017he', 'fucking', '5', 'year', 'old', 'knows', '@rainyday80', 'december', '31', '2017so', 'people', 'voted', 'hole', 'thinking', 'would', 'change', 'got', 'power', 'wrong', '70', 'year-old', 'men', 'change', 'year', 'older.photo', 'andrew', 'burton', 'getty', 'images'], 0)\n"
     ]
    }
   ],
   "source": [
    "print(Documents[0])"
   ]
  },
  {
   "cell_type": "code",
   "execution_count": 9,
   "metadata": {},
   "outputs": [
    {
     "data": {
      "text/plain": [
       "44897"
      ]
     },
     "execution_count": 9,
     "metadata": {},
     "output_type": "execute_result"
    }
   ],
   "source": [
    "len(Documents)"
   ]
  },
  {
   "cell_type": "markdown",
   "metadata": {},
   "source": [
    "### Analyse de la longueur des phrases dans les documents\n",
    "\n",
    "Cette cellule définit la fonction `get_Max_Min_length_Sent` pour analyser la distribution des longueurs de texte dans les documents (`Documents`). Cette analyse permet de mieux comprendre les variations de longueur dans les articles et aide à identifier des seuils pour des prétraitements ou modèles spécifiques.\n",
    "\n",
    "#### Détails des étapes :\n",
    "1. **Initialisation des variables** :\n",
    "   - Les variables `Max` et `Min` sont initialisées pour garder trace de la longueur maximale et minimale des phrases dans les documents.\n",
    "   - Plusieurs compteurs (`Countinf10`, `CountSup10`, `CountSup20`, etc.) sont initialisés pour quantifier le nombre de phrases au-dessus de différentes longueurs (10, 20, 30, etc.).\n",
    "\n",
    "2. **Boucle sur les documents** :\n",
    "   - La boucle `for` parcourt chaque document `S` (texte nettoyé) et son label `t` dans `Documents`.\n",
    "   - À chaque itération, la fonction vérifie la longueur du document `S` :\n",
    "     - **Mise à jour de la longueur maximale et minimale** : si la longueur de `S` dépasse `Max`, `Max` est mis à jour ; si elle est inférieure à `Min`, `Min` est mis à jour.\n",
    "     - **Incrémentation des compteurs** : la longueur de `S` est comparée à différents seuils, et chaque compteur correspondant est incrémenté si la longueur de `S` dépasse ce seuil.\n",
    "\n",
    "3. **Retour des résultats** :\n",
    "   - La fonction renvoie `Max`, `Min`, ainsi que tous les compteurs, donnant un profil détaillé des longueurs de phrase dans l'ensemble des documents.\n",
    "\n",
    "4. **Affichage des résultats** :\n",
    "   - Après l'appel de la fonction, les résultats sont imprimés pour indiquer la longueur maximale et minimale des phrases et le nombre de phrases dépassant chaque seuil.\n",
    "\n",
    "Cette analyse aide à visualiser la répartition des longueurs de phrase, ce qui peut être utile pour ajuster les paramètres de traitement du texte ou pour mieux comprendre la diversité des documents.\n"
   ]
  },
  {
   "cell_type": "code",
   "execution_count": 10,
   "metadata": {},
   "outputs": [
    {
     "name": "stdout",
     "output_type": "stream",
     "text": [
      "Max length sentence is : 4939 Min length sentence is : 0\n",
      "Sentence with less than 10 word  1055\n",
      "Sentence with more than 10 word  43782\n",
      "Sentence with more than 20 word  43236\n",
      "Sentence with more than 30 word  42688\n",
      "Sentence with more than 50 word  40413\n",
      "Sentence with more than 100 word  35231\n",
      "Sentence with more than 200 word  23596\n",
      "Sentence with more than 300 word  10985\n",
      "Sentence with more than 400 word  5914\n",
      "Sentence with more than 500 word  3184\n",
      "Sentence with more than 600 word  1637\n",
      "Sentence with more than 700 word  934\n",
      "Sentence with more than 800 word  574\n",
      "Sentence with more than 900 word  394\n"
     ]
    }
   ],
   "source": [
    "def get_Max_Min_length_Sent():\n",
    "    Max = 0\n",
    "    Min = 10\n",
    "    CountSup10 = 0\n",
    "    Countinf10 = 0\n",
    "    CountSup20 = 0\n",
    "    CountSup30 = 0\n",
    "    CountSup50 = 0\n",
    "    CountSup100 = 0\n",
    "    CountSup200 = 0\n",
    "    CountSup300 = 0\n",
    "    CountSup400 = 0\n",
    "    CountSup500 = 0\n",
    "    CountSup600 = 0\n",
    "    CountSup700 = 0\n",
    "    CountSup800 = 0\n",
    "    CountSup900 = 0 \n",
    "    for S,t in Documents:\n",
    "        if len(S) > Max:\n",
    "            Max = len(S)\n",
    "        if len(S) < Min :\n",
    "            Min = len(S)\n",
    "        if len(S) < 10:\n",
    "            Countinf10 +=1\n",
    "        if len(S) > 10:\n",
    "            CountSup10 +=1\n",
    "        if len(S) > 20:\n",
    "            CountSup20 +=1\n",
    "        if len(S) >30 :\n",
    "            CountSup30 +=1\n",
    "        if len(S) > 50:\n",
    "            CountSup50 +=1\n",
    "        if len(S) > 100:\n",
    "            CountSup100 +=1\n",
    "        if len(S) >200 :\n",
    "            CountSup200 +=1\n",
    "        if len(S) > 300:\n",
    "            CountSup300 +=1\n",
    "        if len(S) >400 :\n",
    "            CountSup400 +=1\n",
    "        if len(S) >500 :\n",
    "            CountSup500 +=1\n",
    "        if len(S) >600 :\n",
    "            CountSup600 +=1\n",
    "        if len(S) >700 :\n",
    "            CountSup700 +=1\n",
    "        if len(S) >800 :\n",
    "            CountSup800 +=1\n",
    "        if len(S) >900 :\n",
    "            CountSup900 +=1\n",
    "            \n",
    "    return Max,Min,Countinf10,CountSup10,CountSup20,CountSup30,CountSup50,CountSup100,CountSup200,CountSup300,CountSup400,CountSup500,CountSup600,CountSup700, CountSup800,CountSup900\n",
    "\n",
    "Max,Min,Countinf10,CountSup10,CountSup20,CountSup30,CountSup50,CountSup100,CountSup200,CountSup300,CountSup400,CountSup500,CountSup600,CountSup700,CountSup800,CountSup900 = get_Max_Min_length_Sent()\n",
    "print(\"Max length sentence is :\",Max,\"Min length sentence is :\",Min)\n",
    "print(\"Sentence with less than 10 word \",Countinf10)\n",
    "print(\"Sentence with more than 10 word \",CountSup10)\n",
    "print(\"Sentence with more than 20 word \",CountSup20)\n",
    "print(\"Sentence with more than 30 word \",CountSup30)\n",
    "print(\"Sentence with more than 50 word \",CountSup50)\n",
    "print(\"Sentence with more than 100 word \",CountSup100)\n",
    "print(\"Sentence with more than 200 word \",CountSup200)\n",
    "print(\"Sentence with more than 300 word \",CountSup300)\n",
    "print(\"Sentence with more than 400 word \",CountSup400)\n",
    "print(\"Sentence with more than 500 word \",CountSup500)\n",
    "print(\"Sentence with more than 600 word \",CountSup600)\n",
    "print(\"Sentence with more than 700 word \",CountSup700)\n",
    "print(\"Sentence with more than 800 word \",CountSup800)\n",
    "print(\"Sentence with more than 900 word \",CountSup900)"
   ]
  },
  {
   "cell_type": "code",
   "execution_count": 11,
   "metadata": {},
   "outputs": [
    {
     "name": "stdout",
     "output_type": "stream",
     "text": [
      "Nombre de mots: 10709998, Nombre de phrases: 44897, Vocabulaire unique: 213037\n"
     ]
    }
   ],
   "source": [
    "# Nombre total de mots (tokens)\n",
    "token_count = sum(len(sentence) for sentence,label in Documents)\n",
    "\n",
    "# Nombre de phrases\n",
    "sentence_count = len(Documents)\n",
    "\n",
    "# Taille du vocabulaire (mots uniques)\n",
    "vocab_size = len(set(word for sentence,label in Documents for word in sentence))\n",
    "\n",
    "print(f\"Nombre de mots: {token_count}, Nombre de phrases: {sentence_count}, Vocabulaire unique: {vocab_size}\")"
   ]
  },
  {
   "cell_type": "markdown",
   "metadata": {},
   "source": [
    "## Vectorisation du Texte\n"
   ]
  },
  {
   "cell_type": "code",
   "execution_count": 12,
   "metadata": {},
   "outputs": [
    {
     "name": "stdout",
     "output_type": "stream",
     "text": [
      "Requirement already satisfied: gensim in c:\\users\\deded\\documents\\inge3\\nlp\\project\\envfakenews\\lib\\site-packages (4.3.3)\n",
      "Requirement already satisfied: scipy<1.14.0,>=1.7.0 in c:\\users\\deded\\documents\\inge3\\nlp\\project\\envfakenews\\lib\\site-packages (from gensim) (1.13.1)\n",
      "Requirement already satisfied: smart-open>=1.8.1 in c:\\users\\deded\\documents\\inge3\\nlp\\project\\envfakenews\\lib\\site-packages (from gensim) (7.0.5)\n",
      "Requirement already satisfied: numpy<2.0,>=1.18.5 in c:\\users\\deded\\documents\\inge3\\nlp\\project\\envfakenews\\lib\\site-packages (from gensim) (1.26.4)\n",
      "Requirement already satisfied: wrapt in c:\\users\\deded\\documents\\inge3\\nlp\\project\\envfakenews\\lib\\site-packages (from smart-open>=1.8.1->gensim) (1.16.0)\n",
      "Note: you may need to restart the kernel to use updated packages.\n"
     ]
    }
   ],
   "source": [
    "%pip install --upgrade gensim\n"
   ]
  },
  {
   "cell_type": "markdown",
   "metadata": {},
   "source": [
    "### Entraînement d'un modèle Word2Vec\n",
    "\n",
    "Dans cette cellule, nous utilisons le modèle `Word2Vec` de la bibliothèque `gensim` pour générer des représentations vectorielles (embeddings) des mots dans les articles. Ce modèle est entraîné sur le texte nettoyé des articles, ce qui permettra de capturer les similarités sémantiques entre les mots, utiles pour des tâches de classification et d'analyse textuelle avancées.\n",
    "\n",
    "#### Détails des étapes :\n",
    "1. **Préparation des phrases** :\n",
    "   - La colonne `clean_text` de `combined_news_df`, qui contient le texte nettoyé de chaque article, est convertie en liste de phrases (`sentences`). Cette liste est le format attendu par `Word2Vec` pour l’entraînement.\n",
    "\n",
    "2. **Entraînement du modèle Word2Vec** :\n",
    "   - Un modèle `Word2Vec` est initialisé avec les paramètres suivants :\n",
    "     - `vector_size=300` : chaque mot sera représenté par un vecteur de 300 dimensions.\n",
    "     - `window=5` : le contexte de chaque mot est constitué des 5 mots voisins dans la phrase.\n",
    "     - `min_count=2` : les mots apparaissant moins de 2 fois sont ignorés.\n",
    "     - `workers=4` : 4 threads sont utilisés pour accélérer l'entraînement.\n",
    "   - Le modèle est ensuite entraîné sur la liste `sentences`, apprenant des relations sémantiques entre les mots.\n",
    "\n",
    "3. **Sauvegarde du modèle** :\n",
    "   - Le modèle entraîné est sauvegardé sous le nom `\"word2vec_fake_news.model\"` pour être utilisé ultérieurement sans besoin de réentraînement.\n",
    "\n",
    "4. **Exemple d’embedding** :\n",
    "   - La cellule affiche l'embedding généré pour le mot `\"news\"`, permettant de visualiser la représentation vectorielle d'un mot particulier. Cette représentation encode des relations sémantiques et contextuelles apprises par le modèle.\n",
    "\n",
    "L'entraînement d'un modèle Word2Vec permet d'obtenir des embeddings de mots spécifiques au domaine des fake news, ce qui peut améliorer la précision des modèles de classification dans les étapes suivantes.\n"
   ]
  },
  {
   "cell_type": "code",
   "execution_count": 13,
   "metadata": {},
   "outputs": [
    {
     "name": "stdout",
     "output_type": "stream",
     "text": [
      "[-1.6751964  -0.45495105  1.7098433  -0.7991132   2.1225471  -0.22868995\n",
      " -0.99879825 -2.0104706   2.184232    2.0762808   1.0415521   0.57704204\n",
      "  0.30348426  0.8471638  -0.8312353  -1.1694756   0.18142372 -0.91196007\n",
      " -0.7689071   0.7219109   0.05461219 -1.8284945  -0.03014967  1.0422114\n",
      " -0.78068024 -0.35980105  3.4710157   2.0350468  -3.6022928   2.642932\n",
      " -0.6314542  -0.4694841  -1.9302526  -1.0188223   0.75570446  0.2615354\n",
      "  2.1232927  -2.6543417  -1.4340391   2.0198689  -1.0222358  -1.0843931\n",
      " -0.9412241  -1.7449192   1.0454837  -1.0886348  -0.7967233  -0.40383396\n",
      "  3.1294937   1.0077329   0.84348094  0.79933554  0.45998985 -0.6991496\n",
      " -1.5863098  -2.168403   -0.08402999 -0.6362482   2.6678977   0.19515207\n",
      " -0.3001995  -3.5200088   0.22541939  1.4597685   1.0875962   4.084357\n",
      " -0.95213807  0.67254114 -1.2699113   0.9987329   1.0045164  -0.35607523\n",
      " -0.34535438 -2.050696   -1.4401791   1.4684395   2.083611   -0.39212656\n",
      "  1.2085733  -0.58891344 -2.3857448  -2.1915934   1.7222112  -1.0959017\n",
      "  1.7329413   1.3599628  -2.8959546   3.686415    1.2984202  -2.1825159\n",
      " -0.41316006 -0.54245937  2.8587716  -0.5466349   0.753755   -1.4675101\n",
      " -0.22162516 -0.4358417  -0.21398109 -1.8621336   1.1646305   0.10711849\n",
      "  2.1973932  -0.9314263   2.1484349  -0.5826829   1.0489403   1.025072\n",
      " -0.03739059 -0.06356147 -0.5758608   0.5172815   1.4684886  -1.7376113\n",
      "  0.37965256 -0.45725644  0.02680517 -1.2062762   0.18869112 -3.3315885\n",
      "  1.1670711   0.6433081  -0.15638483 -0.61470824 -0.72354174 -0.45795235\n",
      "  0.52722603  0.48326537  0.8889537  -0.8204231  -0.3043824   3.6003354\n",
      "  1.5813311  -1.3431083   0.31809506  1.8390238  -0.56724465  1.9914231\n",
      " -0.3889512   1.7001796   0.20758098 -1.4965799  -0.8114301  -2.562579\n",
      " -0.36821675 -1.6204813   1.3641666   0.3567314   0.32500777 -0.34945342\n",
      " -1.0055848  -0.52391607  0.75603783 -0.49768758  1.099193   -1.9265357\n",
      " -0.52839744  0.77994776  1.0768036  -1.6106193   1.9657311  -0.10847076\n",
      " -2.7617872  -0.17858785  0.5775959   3.1530159   0.21973966 -0.26111883\n",
      "  0.21479215 -0.9784643  -2.7454891   0.0101398   0.17496423 -0.18526606\n",
      " -0.42297992 -0.32314852 -1.9571413   0.30753672  0.66691315  1.4892793\n",
      "  0.8655865   1.2817395  -1.169534    2.2805274   2.315786   -2.3069098\n",
      "  2.2309349  -0.9891122   0.9802533  -1.7919794   1.5985408   0.59914416\n",
      " -0.19137679  0.19270463  1.2386235   0.03650143 -1.0138396  -1.2205534\n",
      "  0.73571914 -0.08918151  0.26937643 -0.24081285  0.7198771  -2.1700017\n",
      "  0.5810417  -0.7447058   1.5785323   0.46194825  2.2305264  -1.005469\n",
      "  1.578174   -1.8048415  -0.42334652  0.04246674 -0.36764765 -0.33305323\n",
      " -1.0877496  -0.04326285  0.15776014  0.9250785  -1.4759045   0.01891177\n",
      "  0.9731534  -1.4249271  -0.16063014  1.299314   -0.39569458 -1.5934747\n",
      "  0.57938784 -2.1851063  -1.7513617  -0.21988983  0.9860704  -0.81150824\n",
      " -0.70159656 -1.38227    -0.9936399   0.5546635   0.82572275 -1.8788422\n",
      "  0.3342635  -1.5895143  -0.7023792   1.8431756   1.5111027   1.2497627\n",
      "  0.24127975 -0.18193573 -0.4704098  -0.81885654 -0.35957244  0.66298985\n",
      " -0.2626518  -0.67285824  0.93399304  0.6049993   0.08457527 -0.91550714\n",
      " -2.3787103   1.9931208   0.79475933 -0.85762316  2.70457     0.22010712\n",
      "  0.7638812  -2.5938792   2.1598122  -2.5921764   0.30586627  2.3981383\n",
      " -0.65457994 -1.4113343  -0.9036954   1.5740745  -0.99473554 -0.33409235\n",
      "  1.4331583  -0.57312286 -0.78410476 -0.7744248  -0.9914355  -0.00761131\n",
      " -2.9409528  -1.65533     1.1772075  -1.1369032   0.49817348  1.1004425\n",
      " -0.663809    1.2040356  -0.6092807  -0.12466264 -1.7190311   1.5758446\n",
      "  1.645355   -0.09680701 -1.6579959  -3.3636913  -0.71515405 -1.4096619 ]\n"
     ]
    }
   ],
   "source": [
    "from gensim.models import Word2Vec\n",
    "\n",
    "# Utilisez directement les listes de mots\n",
    "sentences = combined_news_df['clean_text'].tolist()  # Convertir en liste si nécessaire\n",
    "\n",
    "# Entraîner un modèle Word2Vec\n",
    "model_w2v = Word2Vec(sentences=sentences, vector_size=300, window=5, min_count=2, workers=4)\n",
    "\n",
    "# Sauvegarder le modèle pour une utilisation future\n",
    "model_w2v.save(\"word2vec_fake_news.model\")\n",
    "\n",
    "# Exemple d'embedding pour un mot particulier\n",
    "print(model_w2v.wv['news'])  # Embedding pour le mot \"news\"\n"
   ]
  },
  {
   "cell_type": "code",
   "execution_count": 14,
   "metadata": {},
   "outputs": [
    {
     "name": "stdout",
     "output_type": "stream",
     "text": [
      "['donald', 'trump', 'wish', 'americans', 'happy', 'new', 'year', 'leave', 'instead', 'give', 'shout', 'enemies', 'haters', 'dishonest', 'fake', 'news', 'media', 'former', 'reality', 'show', 'star', 'one', 'job', 'country', 'rapidly', 'grows', 'stronger', 'smarter', 'want', 'wish', 'friends', 'supporters', 'enemies', 'haters', 'even', 'dishonest', 'fake', 'news', 'media', 'happy', 'healthy', 'new', 'year', 'president', 'angry', 'pants', 'tweeted', '2018', 'great', 'year', 'america', 'country', 'rapidly', 'grows', 'stronger', 'smarter', 'want', 'wish', 'friends', 'supporters', 'enemies', 'haters', 'even', 'dishonest', 'fake', 'news', 'media', 'happy', 'healthy', 'new', 'year', '2018', 'great', 'year', 'america', 'donald', 'j', 'trump', '@realdonaldtrump', 'december', '31', '2017trump', 'tweet', 'went', 'welll', 'expect.what', 'kind', 'president', 'sends', 'new', 'year', 'greeting', 'like', 'despicable', 'petty', 'infantile', 'gibberish', 'trump', 'lack', 'decency', 'even', 'allow', 'rise', 'gutter', 'long', 'enough', 'wish', 'american', 'citizens', 'happy', 'new', 'year', 'bishop', 'talbert', 'swan', '@talbertswan', 'december', '31', '2017no', 'one', 'likes', 'calvin', '@calvinstowell', 'december', '31', '2017your', 'impeachment', 'would', 'make', '2018', 'great', 'year', 'america', 'also', 'accept', 'regaining', 'control', 'congress', 'miranda', 'yaver', '@mirandayaver', 'december', '31', '2017do', 'hear', 'talk', 'include', 'many', 'people', 'hate', 'wonder', 'hate', 'alan', 'sandoval', '@alansandoval13', 'december', '31', '2017who', 'uses', 'word', 'haters', 'new', 'years', 'wish', 'marlene', '@marlene399', 'december', '31', '2017you', 'say', 'happy', 'new', 'year', 'koren', 'pollitt', '@korencarpenter', 'december', '31', '2017here', 'trump', 'new', 'year', 'eve', 'tweet', '2016.happy', 'new', 'year', 'including', 'many', 'enemies', 'fought', 'lost', 'badly', 'know', 'love', 'donald', 'j', 'trump', '@realdonaldtrump', 'december', '31', '2016this', 'nothing', 'new', 'trump', 'years.trump', 'directed', 'messages', 'enemies', 'haters', 'new', 'year', 'easter', 'thanksgiving', 'anniversary', '9/11', 'pic.twitter.com/4fpae2kypa', 'daniel', 'dale', '@ddale8', 'december', '31', '2017trump', 'holiday', 'tweets', 'clearly', 'presidential.how', 'long', 'work', 'hallmark', 'becoming', 'president', 'steven', 'goodine', '@sgoodine', 'december', '31', '2017he', 'always', 'like', '. . .', 'difference', 'last', 'years', 'filter', 'breaking', 'roy', 'schulze', '@thbthttt', 'december', '31', '2017who', 'apart', 'teenager', 'uses', 'term', 'haters', 'wendy', '@wendywhistles', 'december', '31', '2017he', 'fucking', '5', 'year', 'old', 'knows', '@rainyday80', 'december', '31', '2017so', 'people', 'voted', 'hole', 'thinking', 'would', 'change', 'got', 'power', 'wrong', '70', 'year-old', 'men', 'change', 'year', 'older.photo', 'andrew', 'burton', 'getty', 'images']\n"
     ]
    }
   ],
   "source": [
    "print(sentences[0])"
   ]
  },
  {
   "cell_type": "code",
   "execution_count": 15,
   "metadata": {},
   "outputs": [
    {
     "name": "stdout",
     "output_type": "stream",
     "text": [
      "Requirement already satisfied: tensorflow in c:\\users\\deded\\documents\\inge3\\nlp\\project\\envfakenews\\lib\\site-packages (2.17.0)\n",
      "Requirement already satisfied: tensorflow-intel==2.17.0 in c:\\users\\deded\\documents\\inge3\\nlp\\project\\envfakenews\\lib\\site-packages (from tensorflow) (2.17.0)\n",
      "Requirement already satisfied: keras>=3.2.0 in c:\\users\\deded\\documents\\inge3\\nlp\\project\\envfakenews\\lib\\site-packages (from tensorflow-intel==2.17.0->tensorflow) (3.6.0)\n",
      "Requirement already satisfied: packaging in c:\\users\\deded\\documents\\inge3\\nlp\\project\\envfakenews\\lib\\site-packages (from tensorflow-intel==2.17.0->tensorflow) (24.1)\n",
      "Requirement already satisfied: libclang>=13.0.0 in c:\\users\\deded\\documents\\inge3\\nlp\\project\\envfakenews\\lib\\site-packages (from tensorflow-intel==2.17.0->tensorflow) (18.1.1)\n",
      "Requirement already satisfied: absl-py>=1.0.0 in c:\\users\\deded\\documents\\inge3\\nlp\\project\\envfakenews\\lib\\site-packages (from tensorflow-intel==2.17.0->tensorflow) (2.1.0)\n",
      "Requirement already satisfied: wrapt>=1.11.0 in c:\\users\\deded\\documents\\inge3\\nlp\\project\\envfakenews\\lib\\site-packages (from tensorflow-intel==2.17.0->tensorflow) (1.16.0)\n",
      "Requirement already satisfied: numpy<2.0.0,>=1.23.5 in c:\\users\\deded\\documents\\inge3\\nlp\\project\\envfakenews\\lib\\site-packages (from tensorflow-intel==2.17.0->tensorflow) (1.26.4)\n",
      "Requirement already satisfied: typing-extensions>=3.6.6 in c:\\users\\deded\\documents\\inge3\\nlp\\project\\envfakenews\\lib\\site-packages (from tensorflow-intel==2.17.0->tensorflow) (4.12.2)\n",
      "Requirement already satisfied: protobuf!=4.21.0,!=4.21.1,!=4.21.2,!=4.21.3,!=4.21.4,!=4.21.5,<5.0.0dev,>=3.20.3 in c:\\users\\deded\\documents\\inge3\\nlp\\project\\envfakenews\\lib\\site-packages (from tensorflow-intel==2.17.0->tensorflow) (4.25.5)\n",
      "Requirement already satisfied: ml-dtypes<0.5.0,>=0.3.1 in c:\\users\\deded\\documents\\inge3\\nlp\\project\\envfakenews\\lib\\site-packages (from tensorflow-intel==2.17.0->tensorflow) (0.4.1)\n",
      "Requirement already satisfied: opt-einsum>=2.3.2 in c:\\users\\deded\\documents\\inge3\\nlp\\project\\envfakenews\\lib\\site-packages (from tensorflow-intel==2.17.0->tensorflow) (3.4.0)\n",
      "Requirement already satisfied: grpcio<2.0,>=1.24.3 in c:\\users\\deded\\documents\\inge3\\nlp\\project\\envfakenews\\lib\\site-packages (from tensorflow-intel==2.17.0->tensorflow) (1.67.0)\n",
      "Requirement already satisfied: h5py>=3.10.0 in c:\\users\\deded\\documents\\inge3\\nlp\\project\\envfakenews\\lib\\site-packages (from tensorflow-intel==2.17.0->tensorflow) (3.12.1)\n",
      "Requirement already satisfied: flatbuffers>=24.3.25 in c:\\users\\deded\\documents\\inge3\\nlp\\project\\envfakenews\\lib\\site-packages (from tensorflow-intel==2.17.0->tensorflow) (24.3.25)\n",
      "Requirement already satisfied: gast!=0.5.0,!=0.5.1,!=0.5.2,>=0.2.1 in c:\\users\\deded\\documents\\inge3\\nlp\\project\\envfakenews\\lib\\site-packages (from tensorflow-intel==2.17.0->tensorflow) (0.6.0)\n",
      "Requirement already satisfied: tensorboard<2.18,>=2.17 in c:\\users\\deded\\documents\\inge3\\nlp\\project\\envfakenews\\lib\\site-packages (from tensorflow-intel==2.17.0->tensorflow) (2.17.1)\n",
      "Requirement already satisfied: astunparse>=1.6.0 in c:\\users\\deded\\documents\\inge3\\nlp\\project\\envfakenews\\lib\\site-packages (from tensorflow-intel==2.17.0->tensorflow) (1.6.3)\n",
      "Requirement already satisfied: six>=1.12.0 in c:\\users\\deded\\documents\\inge3\\nlp\\project\\envfakenews\\lib\\site-packages (from tensorflow-intel==2.17.0->tensorflow) (1.16.0)\n",
      "Requirement already satisfied: setuptools in c:\\users\\deded\\documents\\inge3\\nlp\\project\\envfakenews\\lib\\site-packages (from tensorflow-intel==2.17.0->tensorflow) (58.1.0)\n",
      "Requirement already satisfied: requests<3,>=2.21.0 in c:\\users\\deded\\documents\\inge3\\nlp\\project\\envfakenews\\lib\\site-packages (from tensorflow-intel==2.17.0->tensorflow) (2.32.3)\n",
      "Requirement already satisfied: tensorflow-io-gcs-filesystem>=0.23.1 in c:\\users\\deded\\documents\\inge3\\nlp\\project\\envfakenews\\lib\\site-packages (from tensorflow-intel==2.17.0->tensorflow) (0.31.0)\n",
      "Requirement already satisfied: termcolor>=1.1.0 in c:\\users\\deded\\documents\\inge3\\nlp\\project\\envfakenews\\lib\\site-packages (from tensorflow-intel==2.17.0->tensorflow) (2.5.0)\n",
      "Requirement already satisfied: google-pasta>=0.1.1 in c:\\users\\deded\\documents\\inge3\\nlp\\project\\envfakenews\\lib\\site-packages (from tensorflow-intel==2.17.0->tensorflow) (0.2.0)\n",
      "Requirement already satisfied: wheel<1.0,>=0.23.0 in c:\\users\\deded\\documents\\inge3\\nlp\\project\\envfakenews\\lib\\site-packages (from astunparse>=1.6.0->tensorflow-intel==2.17.0->tensorflow) (0.44.0)\n",
      "Requirement already satisfied: optree in c:\\users\\deded\\documents\\inge3\\nlp\\project\\envfakenews\\lib\\site-packages (from keras>=3.2.0->tensorflow-intel==2.17.0->tensorflow) (0.13.0)\n",
      "Requirement already satisfied: namex in c:\\users\\deded\\documents\\inge3\\nlp\\project\\envfakenews\\lib\\site-packages (from keras>=3.2.0->tensorflow-intel==2.17.0->tensorflow) (0.0.8)\n",
      "Requirement already satisfied: rich in c:\\users\\deded\\documents\\inge3\\nlp\\project\\envfakenews\\lib\\site-packages (from keras>=3.2.0->tensorflow-intel==2.17.0->tensorflow) (13.9.3)\n",
      "Requirement already satisfied: idna<4,>=2.5 in c:\\users\\deded\\documents\\inge3\\nlp\\project\\envfakenews\\lib\\site-packages (from requests<3,>=2.21.0->tensorflow-intel==2.17.0->tensorflow) (3.10)\n",
      "Requirement already satisfied: urllib3<3,>=1.21.1 in c:\\users\\deded\\documents\\inge3\\nlp\\project\\envfakenews\\lib\\site-packages (from requests<3,>=2.21.0->tensorflow-intel==2.17.0->tensorflow) (2.2.3)\n",
      "Requirement already satisfied: certifi>=2017.4.17 in c:\\users\\deded\\documents\\inge3\\nlp\\project\\envfakenews\\lib\\site-packages (from requests<3,>=2.21.0->tensorflow-intel==2.17.0->tensorflow) (2024.8.30)\n",
      "Requirement already satisfied: charset-normalizer<4,>=2 in c:\\users\\deded\\documents\\inge3\\nlp\\project\\envfakenews\\lib\\site-packages (from requests<3,>=2.21.0->tensorflow-intel==2.17.0->tensorflow) (3.4.0)\n",
      "Requirement already satisfied: tensorboard-data-server<0.8.0,>=0.7.0 in c:\\users\\deded\\documents\\inge3\\nlp\\project\\envfakenews\\lib\\site-packages (from tensorboard<2.18,>=2.17->tensorflow-intel==2.17.0->tensorflow) (0.7.2)\n",
      "Requirement already satisfied: werkzeug>=1.0.1 in c:\\users\\deded\\documents\\inge3\\nlp\\project\\envfakenews\\lib\\site-packages (from tensorboard<2.18,>=2.17->tensorflow-intel==2.17.0->tensorflow) (3.0.4)\n",
      "Requirement already satisfied: markdown>=2.6.8 in c:\\users\\deded\\documents\\inge3\\nlp\\project\\envfakenews\\lib\\site-packages (from tensorboard<2.18,>=2.17->tensorflow-intel==2.17.0->tensorflow) (3.7)\n",
      "Requirement already satisfied: importlib-metadata>=4.4 in c:\\users\\deded\\documents\\inge3\\nlp\\project\\envfakenews\\lib\\site-packages (from markdown>=2.6.8->tensorboard<2.18,>=2.17->tensorflow-intel==2.17.0->tensorflow) (8.5.0)\n",
      "Requirement already satisfied: MarkupSafe>=2.1.1 in c:\\users\\deded\\documents\\inge3\\nlp\\project\\envfakenews\\lib\\site-packages (from werkzeug>=1.0.1->tensorboard<2.18,>=2.17->tensorflow-intel==2.17.0->tensorflow) (3.0.2)\n",
      "Requirement already satisfied: markdown-it-py>=2.2.0 in c:\\users\\deded\\documents\\inge3\\nlp\\project\\envfakenews\\lib\\site-packages (from rich->keras>=3.2.0->tensorflow-intel==2.17.0->tensorflow) (3.0.0)\n",
      "Requirement already satisfied: pygments<3.0.0,>=2.13.0 in c:\\users\\deded\\documents\\inge3\\nlp\\project\\envfakenews\\lib\\site-packages (from rich->keras>=3.2.0->tensorflow-intel==2.17.0->tensorflow) (2.18.0)\n",
      "Requirement already satisfied: zipp>=3.20 in c:\\users\\deded\\documents\\inge3\\nlp\\project\\envfakenews\\lib\\site-packages (from importlib-metadata>=4.4->markdown>=2.6.8->tensorboard<2.18,>=2.17->tensorflow-intel==2.17.0->tensorflow) (3.20.2)\n",
      "Requirement already satisfied: mdurl~=0.1 in c:\\users\\deded\\documents\\inge3\\nlp\\project\\envfakenews\\lib\\site-packages (from markdown-it-py>=2.2.0->rich->keras>=3.2.0->tensorflow-intel==2.17.0->tensorflow) (0.1.2)\n"
     ]
    }
   ],
   "source": [
    "!pip install tensorflow"
   ]
  },
  {
   "cell_type": "markdown",
   "metadata": {},
   "source": [
    "### Préparation des données textuelles pour le modèle de deep learning\n",
    "\n",
    "Dans cette cellule, nous utilisons les outils de `tensorflow.keras` pour transformer le texte en séquences d’index numériques, puis appliquons un padding pour que toutes les séquences aient la même longueur. Cette étape est essentielle pour rendre les données textuelles compatibles avec un modèle de deep learning.\n",
    "\n",
    "#### Détails des étapes :\n",
    "1. **Initialisation du tokenizer** :\n",
    "   - Un `Tokenizer` est initialisé avec `num_words=5000`, limitant le vocabulaire aux 5 000 mots les plus fréquents dans les articles.\n",
    "   - Ensuite, le tokenizer est entraîné sur le texte nettoyé (`combined_news_df['clean_text']`) pour construire le vocabulaire et attribuer un index à chaque mot.\n",
    "\n",
    "2. **Conversion en séquences d'index** :\n",
    "   - La méthode `texts_to_sequences` transforme chaque article en une séquence d'index, où chaque mot est remplacé par son index dans le vocabulaire construit.\n",
    "   - Le résultat, `sequences`, est une liste de listes contenant les indices numériques des mots pour chaque article.\n",
    "\n",
    "3. **Application du padding** :\n",
    "   - Pour uniformiser la longueur des séquences, la fonction `pad_sequences` est utilisée avec une `maxlen` de 600 mots. Cela garantit que toutes les séquences ont la même longueur, soit en les tronquant, soit en ajoutant des zéros en début de séquence si elles sont plus courtes que 600 mots.\n",
    "   - Le résultat final, `X`, est une matrice où chaque ligne représente un article avec une séquence de longueur fixe.\n",
    "\n",
    "4. **Préparation des labels** :\n",
    "   - Les labels des articles (`combined_news_df['label']`) sont extraits en tant que tableau `y`, où chaque valeur est soit `0` (fake news) soit `1` (vraie news).\n",
    "\n",
    "Cette transformation prépare les données textuelles pour être utilisées dans un réseau de neurones, rendant les séquences homogènes en termes de longueur et converties en format numérique.\n"
   ]
  },
  {
   "cell_type": "code",
   "execution_count": 16,
   "metadata": {},
   "outputs": [],
   "source": [
    "from tensorflow.keras.preprocessing.text import Tokenizer\n",
    "from tensorflow.keras.preprocessing.sequence import pad_sequences\n",
    "\n",
    "# Initialiser un tokenizer\n",
    "tokenizer = Tokenizer(num_words=5000)  # On limite le vocabulaire à 5000 mots les plus fréquents\n",
    "tokenizer.fit_on_texts(combined_news_df['clean_text'])\n",
    "\n",
    "# Convertir le texte en séquences d'index\n",
    "sequences = tokenizer.texts_to_sequences(combined_news_df['clean_text'])\n",
    "\n",
    "# Appliquer un padding pour que toutes les séquences aient la même longueur\n",
    "maxlen = 600  # Longueur maximale d'un article\n",
    "X = pad_sequences(sequences, maxlen=maxlen)\n",
    "\n",
    "# Les labels (fake = 0, real = 1)\n",
    "y = combined_news_df['label'].values\n"
   ]
  },
  {
   "cell_type": "code",
   "execution_count": 17,
   "metadata": {},
   "outputs": [
    {
     "name": "stdout",
     "output_type": "stream",
     "text": [
      "[[   0    0    0 ... 1759  416  358]\n",
      " [   0    0    0 ...  271  416  358]\n",
      " [   0    0    0 ... 4038  416  358]\n",
      " ...\n",
      " [   0    0    0 ...  594 4133    1]\n",
      " [   0    0    0 ... 1904  373  535]\n",
      " [   0    0    0 ... 1368  208  348]]\n"
     ]
    }
   ],
   "source": [
    "print(X)"
   ]
  },
  {
   "cell_type": "code",
   "execution_count": null,
   "metadata": {},
   "outputs": [
    {
     "name": "stdout",
     "output_type": "stream",
     "text": [
      "Shape of X: (44898, 600)\n"
     ]
    }
   ],
   "source": [
    "print(\"Shape of X:\", X.shape)  \n"
   ]
  },
  {
   "cell_type": "code",
   "execution_count": 18,
   "metadata": {},
   "outputs": [
    {
     "name": "stdout",
     "output_type": "stream",
     "text": [
      "[0 0 0 ... 1 1 1]\n"
     ]
    }
   ],
   "source": [
    "print(y)"
   ]
  },
  {
   "cell_type": "markdown",
   "metadata": {},
   "source": [
    "## Entraînement des Modèles\n",
    "\n"
   ]
  },
  {
   "cell_type": "code",
   "execution_count": 19,
   "metadata": {},
   "outputs": [
    {
     "name": "stdout",
     "output_type": "stream",
     "text": [
      "Requirement already satisfied: numpy in c:\\users\\deded\\documents\\inge3\\nlp\\project\\envfakenews\\lib\\site-packages (1.26.4)\n"
     ]
    }
   ],
   "source": [
    "!pip install numpy"
   ]
  },
  {
   "cell_type": "markdown",
   "metadata": {},
   "source": [
    "### Création d'une matrice d'embeddings Word2Vec pour le modèle de deep learning\n",
    "\n",
    "Dans cette cellule, nous construisons une matrice d'embeddings, `embedding_matrix`, qui sera utilisée pour initialiser une couche d'embeddings dans un modèle de deep learning. Cette matrice associe chaque mot du vocabulaire à son vecteur d'embedding pré-entraîné par le modèle Word2Vec.\n",
    "\n",
    "#### Détails des étapes :\n",
    "1. **Paramètres de la matrice d'embeddings** :\n",
    "   - `vocab_size = 5000` : limite la taille du vocabulaire aux 5 000 mots les plus fréquents pour réduire la complexité.\n",
    "   - `embedding_dim = 300` : fixe la dimension des embeddings, correspondant à celle utilisée lors de l'entraînement du modèle Word2Vec.\n",
    "\n",
    "2. **Initialisation de `embedding_matrix`** :\n",
    "   - Une matrice `embedding_matrix` de taille `(vocab_size, embedding_dim)` est initialisée avec des zéros. Chaque ligne de la matrice correspondra à l'embedding d'un mot indexé dans le vocabulaire.\n",
    "\n",
    "3. **Remplissage de la matrice d'embeddings** :\n",
    "   - La boucle parcourt chaque mot du vocabulaire, récupéré dans `word_index` du tokenizer, avec `word` comme le mot et `i` son index.\n",
    "   - Pour chaque mot, si `i` est inférieur à `vocab_size` (limite de taille), l'embedding du mot est extrait du modèle `model_w2v`.\n",
    "   - Si le mot est présent dans `model_w2v`, son embedding est stocké dans `embedding_matrix[i]`. En cas d'absence (`KeyError`), le mot est ignoré, et la ligne reste remplie de zéros.\n",
    "\n",
    "### Utilité de `embedding_matrix`\n",
    "La `embedding_matrix` obtenue sera intégrée dans une couche d'embeddings d'un modèle de deep learning, permettant d'utiliser des embeddings pré-entraînés pour capturer les relations sémantiques entre les mots dès le début de l’entraînement du modèle.\n"
   ]
  },
  {
   "cell_type": "code",
   "execution_count": 20,
   "metadata": {},
   "outputs": [],
   "source": [
    "import numpy as np\n",
    "# Créer une matrice d'embeddings Word2Vec\n",
    "vocab_size = 5000  # Taille du vocabulaire\n",
    "embedding_dim = 300  # Dimensions des embeddings Word2Vec\n",
    "\n",
    "# Créer une matrice de poids pour les embeddings Word2Vec\n",
    "embedding_matrix = np.zeros((vocab_size, embedding_dim))\n",
    "word_index = tokenizer.word_index\n",
    "\n",
    "for word, i in word_index.items():\n",
    "    if i < vocab_size:\n",
    "        try:\n",
    "            # Récupérer l'embedding du mot s'il existe\n",
    "            embedding_vector = model_w2v.wv[word]\n",
    "            embedding_matrix[i] = embedding_vector\n",
    "        except KeyError:\n",
    "            pass  # Si le mot n'est pas dans le vocabulaire Word2Vec, on passe\n"
   ]
  },
  {
   "cell_type": "markdown",
   "metadata": {},
   "source": [
    "### Construction et compilation d'un modèle de deep learning pour la classification des articles\n",
    "\n",
    "Dans cette cellule, nous définissons un modèle de deep learning à base de LSTM (Long Short-Term Memory) pour classer les articles en vraies ou fake news. Le modèle utilise une couche d'embeddings pré-initialisée avec les vecteurs Word2Vec, ce qui améliore sa capacité à saisir les relations sémantiques entre les mots.\n",
    "\n",
    "#### Détails des étapes :\n",
    "1. **Définition du modèle séquentiel** :\n",
    "   - Un modèle `Sequential` est initialisé pour empiler les couches de manière linéaire.\n",
    "\n",
    "2. **Couche d'embeddings** :\n",
    "   - La couche `Embedding` est ajoutée comme première couche pour transformer les séquences d'index en vecteurs d'embeddings.\n",
    "   - **Paramètres** :\n",
    "     - `input_dim=vocab_size` : taille du vocabulaire (5 000 mots les plus fréquents).\n",
    "     - `output_dim=embedding_dim` : chaque mot est représenté par un vecteur de 300 dimensions.\n",
    "     - `input_length=maxlen` : fixe la longueur de chaque séquence (600 mots).\n",
    "     - `weights=[embedding_matrix]` : initialise les poids de la couche avec `embedding_matrix`, contenant les vecteurs Word2Vec pré-entraînés.\n",
    "     - `trainable=False` : les poids de cette couche ne seront pas mis à jour pendant l'entraînement, pour garder les embeddings Word2Vec intacts.\n",
    "\n",
    "3. **Couche LSTM** :\n",
    "   - Une couche `LSTM` est ajoutée avec `units=128`, permettant au modèle de capturer les dépendances séquentielles et contextuelles dans les textes.\n",
    "   - `return_sequences=False` indique que seule la dernière sortie est conservée, ce qui convient pour une tâche de classification.\n",
    "\n",
    "4. **Dropout** :\n",
    "   - Une couche `Dropout` avec un taux de 0,5 est ajoutée pour réduire le surapprentissage en désactivant aléatoirement 50 % des unités pendant chaque mise à jour de l’entraînement.\n",
    "\n",
    "5. **Couche de sortie** :\n",
    "   - Une couche `Dense` avec 1 unité et une activation `sigmoid` est ajoutée pour la classification binaire (vraie ou fausse news).\n",
    "\n",
    "6. **Compilation du modèle** :\n",
    "   - Le modèle est compilé avec :\n",
    "     - `optimizer='adam'` : l'optimiseur Adam, qui combine les avantages de `AdaGrad` et `RMSprop`.\n",
    "     - `loss='binary_crossentropy'` : fonction de perte pour la classification binaire.\n",
    "     - `metrics=['accuracy']` : l'exactitude est utilisée comme métrique d'évaluation.\n",
    "\n",
    "7. **Résumé du modèle** :\n",
    "   - La structure du modèle est affichée avec `model.summary()`, présentant chaque couche, ses dimensions de sortie, et le nombre total de paramètres.\n",
    "\n",
    "Ce modèle LSTM, enrichi par les embeddings Word2Vec, est optimisé pour capturer les relations séquentielles et contextuelles dans le texte, ce qui devrait améliorer ses performances dans la classification des articles.\n"
   ]
  },
  {
   "cell_type": "code",
   "execution_count": 33,
   "metadata": {},
   "outputs": [
    {
     "name": "stderr",
     "output_type": "stream",
     "text": [
      "c:\\Users\\deded\\Documents\\Inge3\\NLP\\Project\\envFakeNews\\lib\\site-packages\\keras\\src\\layers\\core\\embedding.py:90: UserWarning: Argument `input_length` is deprecated. Just remove it.\n",
      "  warnings.warn(\n"
     ]
    },
    {
     "data": {
      "text/html": [
       "<pre style=\"white-space:pre;overflow-x:auto;line-height:normal;font-family:Menlo,'DejaVu Sans Mono',consolas,'Courier New',monospace\"><span style=\"font-weight: bold\">Model: \"sequential_4\"</span>\n",
       "</pre>\n"
      ],
      "text/plain": [
       "\u001b[1mModel: \"sequential_4\"\u001b[0m\n"
      ]
     },
     "metadata": {},
     "output_type": "display_data"
    },
    {
     "data": {
      "text/html": [
       "<pre style=\"white-space:pre;overflow-x:auto;line-height:normal;font-family:Menlo,'DejaVu Sans Mono',consolas,'Courier New',monospace\">┏━━━━━━━━━━━━━━━━━━━━━━━━━━━━━━━━━┳━━━━━━━━━━━━━━━━━━━━━━━━┳━━━━━━━━━━━━━━━┓\n",
       "┃<span style=\"font-weight: bold\"> Layer (type)                    </span>┃<span style=\"font-weight: bold\"> Output Shape           </span>┃<span style=\"font-weight: bold\">       Param # </span>┃\n",
       "┡━━━━━━━━━━━━━━━━━━━━━━━━━━━━━━━━━╇━━━━━━━━━━━━━━━━━━━━━━━━╇━━━━━━━━━━━━━━━┩\n",
       "│ embedding_1 (<span style=\"color: #0087ff; text-decoration-color: #0087ff\">Embedding</span>)         │ ?                      │     <span style=\"color: #00af00; text-decoration-color: #00af00\">1,500,000</span> │\n",
       "├─────────────────────────────────┼────────────────────────┼───────────────┤\n",
       "│ lstm_4 (<span style=\"color: #0087ff; text-decoration-color: #0087ff\">LSTM</span>)                   │ ?                      │   <span style=\"color: #00af00; text-decoration-color: #00af00\">0</span> (unbuilt) │\n",
       "├─────────────────────────────────┼────────────────────────┼───────────────┤\n",
       "│ dropout_4 (<span style=\"color: #0087ff; text-decoration-color: #0087ff\">Dropout</span>)             │ ?                      │             <span style=\"color: #00af00; text-decoration-color: #00af00\">0</span> │\n",
       "├─────────────────────────────────┼────────────────────────┼───────────────┤\n",
       "│ dense_4 (<span style=\"color: #0087ff; text-decoration-color: #0087ff\">Dense</span>)                 │ ?                      │   <span style=\"color: #00af00; text-decoration-color: #00af00\">0</span> (unbuilt) │\n",
       "└─────────────────────────────────┴────────────────────────┴───────────────┘\n",
       "</pre>\n"
      ],
      "text/plain": [
       "┏━━━━━━━━━━━━━━━━━━━━━━━━━━━━━━━━━┳━━━━━━━━━━━━━━━━━━━━━━━━┳━━━━━━━━━━━━━━━┓\n",
       "┃\u001b[1m \u001b[0m\u001b[1mLayer (type)                   \u001b[0m\u001b[1m \u001b[0m┃\u001b[1m \u001b[0m\u001b[1mOutput Shape          \u001b[0m\u001b[1m \u001b[0m┃\u001b[1m \u001b[0m\u001b[1m      Param #\u001b[0m\u001b[1m \u001b[0m┃\n",
       "┡━━━━━━━━━━━━━━━━━━━━━━━━━━━━━━━━━╇━━━━━━━━━━━━━━━━━━━━━━━━╇━━━━━━━━━━━━━━━┩\n",
       "│ embedding_1 (\u001b[38;5;33mEmbedding\u001b[0m)         │ ?                      │     \u001b[38;5;34m1,500,000\u001b[0m │\n",
       "├─────────────────────────────────┼────────────────────────┼───────────────┤\n",
       "│ lstm_4 (\u001b[38;5;33mLSTM\u001b[0m)                   │ ?                      │   \u001b[38;5;34m0\u001b[0m (unbuilt) │\n",
       "├─────────────────────────────────┼────────────────────────┼───────────────┤\n",
       "│ dropout_4 (\u001b[38;5;33mDropout\u001b[0m)             │ ?                      │             \u001b[38;5;34m0\u001b[0m │\n",
       "├─────────────────────────────────┼────────────────────────┼───────────────┤\n",
       "│ dense_4 (\u001b[38;5;33mDense\u001b[0m)                 │ ?                      │   \u001b[38;5;34m0\u001b[0m (unbuilt) │\n",
       "└─────────────────────────────────┴────────────────────────┴───────────────┘\n"
      ]
     },
     "metadata": {},
     "output_type": "display_data"
    },
    {
     "data": {
      "text/html": [
       "<pre style=\"white-space:pre;overflow-x:auto;line-height:normal;font-family:Menlo,'DejaVu Sans Mono',consolas,'Courier New',monospace\"><span style=\"font-weight: bold\"> Total params: </span><span style=\"color: #00af00; text-decoration-color: #00af00\">1,500,000</span> (5.72 MB)\n",
       "</pre>\n"
      ],
      "text/plain": [
       "\u001b[1m Total params: \u001b[0m\u001b[38;5;34m1,500,000\u001b[0m (5.72 MB)\n"
      ]
     },
     "metadata": {},
     "output_type": "display_data"
    },
    {
     "data": {
      "text/html": [
       "<pre style=\"white-space:pre;overflow-x:auto;line-height:normal;font-family:Menlo,'DejaVu Sans Mono',consolas,'Courier New',monospace\"><span style=\"font-weight: bold\"> Trainable params: </span><span style=\"color: #00af00; text-decoration-color: #00af00\">0</span> (0.00 B)\n",
       "</pre>\n"
      ],
      "text/plain": [
       "\u001b[1m Trainable params: \u001b[0m\u001b[38;5;34m0\u001b[0m (0.00 B)\n"
      ]
     },
     "metadata": {},
     "output_type": "display_data"
    },
    {
     "data": {
      "text/html": [
       "<pre style=\"white-space:pre;overflow-x:auto;line-height:normal;font-family:Menlo,'DejaVu Sans Mono',consolas,'Courier New',monospace\"><span style=\"font-weight: bold\"> Non-trainable params: </span><span style=\"color: #00af00; text-decoration-color: #00af00\">1,500,000</span> (5.72 MB)\n",
       "</pre>\n"
      ],
      "text/plain": [
       "\u001b[1m Non-trainable params: \u001b[0m\u001b[38;5;34m1,500,000\u001b[0m (5.72 MB)\n"
      ]
     },
     "metadata": {},
     "output_type": "display_data"
    }
   ],
   "source": [
    "from tensorflow.keras.models import Sequential\n",
    "from tensorflow.keras.layers import Embedding, LSTM, Dense, Dropout\n",
    "\n",
    "model = Sequential()\n",
    "model.add(Embedding(input_dim=vocab_size, output_dim=embedding_dim, \n",
    "                    input_length=maxlen, weights=[embedding_matrix], trainable=False))\n",
    "model.add(LSTM(units=128, return_sequences=False))  # Retirer input_shape ici\n",
    "model.add(Dropout(0.5))\n",
    "model.add(Dense(1, activation='sigmoid'))\n",
    "\n",
    "# Compilation du modèle\n",
    "model.compile(optimizer='adam', loss='binary_crossentropy', metrics=['accuracy'])\n",
    "\n",
    "# Afficher le résumé du modèle\n",
    "model.summary()\n"
   ]
  },
  {
   "cell_type": "code",
   "execution_count": 22,
   "metadata": {},
   "outputs": [
    {
     "name": "stdout",
     "output_type": "stream",
     "text": [
      "Requirement already satisfied: scikit-learn in c:\\users\\deded\\documents\\inge3\\nlp\\project\\envfakenews\\lib\\site-packages (1.5.2)\n",
      "Requirement already satisfied: threadpoolctl>=3.1.0 in c:\\users\\deded\\documents\\inge3\\nlp\\project\\envfakenews\\lib\\site-packages (from scikit-learn) (3.5.0)\n",
      "Requirement already satisfied: numpy>=1.19.5 in c:\\users\\deded\\documents\\inge3\\nlp\\project\\envfakenews\\lib\\site-packages (from scikit-learn) (1.26.4)\n",
      "Requirement already satisfied: scipy>=1.6.0 in c:\\users\\deded\\documents\\inge3\\nlp\\project\\envfakenews\\lib\\site-packages (from scikit-learn) (1.13.1)\n",
      "Requirement already satisfied: joblib>=1.2.0 in c:\\users\\deded\\documents\\inge3\\nlp\\project\\envfakenews\\lib\\site-packages (from scikit-learn) (1.4.2)\n"
     ]
    }
   ],
   "source": [
    "!pip install scikit-learn"
   ]
  },
  {
   "cell_type": "code",
   "execution_count": null,
   "metadata": {},
   "outputs": [
    {
     "name": "stdout",
     "output_type": "stream",
     "text": [
      "Shape of X before split: (44898, 600)\n",
      "Shape of y before split: (44898,)\n"
     ]
    }
   ],
   "source": [
    "print(\"Shape of X before split:\", X.shape)  \n",
    "print(\"Shape of y before split:\", y.shape)  \n"
   ]
  },
  {
   "cell_type": "markdown",
   "metadata": {},
   "source": [
    "### Division des données en ensembles d'entraînement et de validation\n",
    "\n",
    "Dans cette cellule, nous divisons les données en deux ensembles : un ensemble d'entraînement pour ajuster le modèle et un ensemble de validation pour évaluer ses performances.\n",
    "\n",
    "#### Détails des étapes :\n",
    "1. **Division des données** :\n",
    "   - La fonction `train_test_split` de `sklearn.model_selection` est utilisée pour séparer les données d'entrée (`X`) et les labels (`y`) en ensembles d'entraînement et de validation.\n",
    "   - **Paramètres** :\n",
    "     - `test_size=0.2` : 20 % des données sont réservées pour la validation, et 80 % pour l'entraînement.\n",
    "     - `random_state=42` : le paramètre `random_state` assure que la division soit reproductible  le même échantillon sera utilisé si le code est réexécuté.\n",
    "\n",
    "2. **Vérification des formes** :\n",
    "   - Les formes de `X_train` et `y_train` sont affichées pour s'assurer que la division s'est déroulée correctement.\n",
    "   - `X_train.shape` et `y_train.shape` indiquent respectivement les dimensions des données d'entrée et des labels pour l'entraînement.\n",
    "\n",
    "Cette division permet de disposer d'un ensemble indépendant pour tester les performances du modèle, ce qui est essentiel pour évaluer sa capacité de généralisation.\n"
   ]
  },
  {
   "cell_type": "code",
   "execution_count": null,
   "metadata": {},
   "outputs": [
    {
     "name": "stdout",
     "output_type": "stream",
     "text": [
      "Shape of X_train: (35918, 600)\n",
      "Shape of y_train: (35918,)\n"
     ]
    }
   ],
   "source": [
    "from sklearn.model_selection import train_test_split\n",
    "\n",
    "# Diviser les données en ensemble d'entraînement et de validation\n",
    "X_train, X_val, y_train, y_val = train_test_split(X, y, test_size=0.2, random_state=42)\n",
    "\n",
    "# Vérifiez les formes après le split\n",
    "print(\"Shape of X_train:\", X_train.shape)  \n",
    "print(\"Shape of y_train:\", y_train.shape)  "
   ]
  },
  {
   "cell_type": "markdown",
   "metadata": {},
   "source": [
    "### Entraînement et évaluation du modèle de classification\n",
    "\n",
    "Dans cette cellule, nous entraînons le modèle de deep learning précédemment défini sur les données d'entraînement, puis l'évaluons sur l'ensemble de validation.\n",
    "\n",
    "#### Détails des étapes :\n",
    "1. **Entraînement du modèle** :\n",
    "   - La méthode `fit` est utilisée pour entraîner le modèle sur `X_train` et `y_train`.\n",
    "   - **Paramètres** :\n",
    "     - `batch_size=128` : le modèle est entraîné en utilisant des lots de 128 échantillons à la fois.\n",
    "     - `epochs=10` : le modèle effectue 10 passes complètes sur l’ensemble d’entraînement.\n",
    "     - `validation_split=0.2` : 20 % de `X_train` et `y_train` sont utilisés pour la validation durant l’entraînement, ce qui permet de suivre les performances du modèle sur des données de validation.\n",
    "\n",
    "   - Le résultat de `fit` est un objet `history`, qui enregistre les valeurs de perte et d'exactitude pour chaque époque, à la fois pour l'entraînement et la validation.\n",
    "\n",
    "2. **Évaluation du modèle** :\n",
    "   - La méthode `evaluate` est utilisée pour évaluer les performances finales du modèle sur l’ensemble de validation (`X_val`, `y_val`).\n",
    "   - Les métriques de **perte** (`loss`) et d'**exactitude** (`accuracy`) sont retournées pour mesurer la capacité du modèle à généraliser sur des données inconnues.\n",
    "\n",
    "3. **Affichage des résultats** :\n",
    "   - La perte et l'exactitude du modèle sur les données de validation sont imprimées pour avoir une idée de ses performances globales.\n",
    "\n",
    "Ces étapes permettent de suivre les progrès du modèle et d'estimer son potentiel de généralisation avant toute évaluation sur un ensemble de test indépendant.\n"
   ]
  },
  {
   "cell_type": "code",
   "execution_count": 37,
   "metadata": {},
   "outputs": [
    {
     "name": "stdout",
     "output_type": "stream",
     "text": [
      "Epoch 1/10\n",
      "\u001b[1m225/225\u001b[0m \u001b[32m━━━━━━━━━━━━━━━━━━━━\u001b[0m\u001b[37m\u001b[0m \u001b[1m207s\u001b[0m 922ms/step - accuracy: 0.9470 - loss: 0.1518 - val_accuracy: 0.9131 - val_loss: 0.2105\n",
      "Epoch 2/10\n",
      "\u001b[1m225/225\u001b[0m \u001b[32m━━━━━━━━━━━━━━━━━━━━\u001b[0m\u001b[37m\u001b[0m \u001b[1m198s\u001b[0m 878ms/step - accuracy: 0.9453 - loss: 0.1343 - val_accuracy: 0.9948 - val_loss: 0.0190\n",
      "Epoch 3/10\n",
      "\u001b[1m225/225\u001b[0m \u001b[32m━━━━━━━━━━━━━━━━━━━━\u001b[0m\u001b[37m\u001b[0m \u001b[1m200s\u001b[0m 889ms/step - accuracy: 0.9942 - loss: 0.0242 - val_accuracy: 0.9933 - val_loss: 0.0208\n",
      "Epoch 4/10\n",
      "\u001b[1m225/225\u001b[0m \u001b[32m━━━━━━━━━━━━━━━━━━━━\u001b[0m\u001b[37m\u001b[0m \u001b[1m201s\u001b[0m 893ms/step - accuracy: 0.9964 - loss: 0.0140 - val_accuracy: 0.9989 - val_loss: 0.0065\n",
      "Epoch 5/10\n",
      "\u001b[1m225/225\u001b[0m \u001b[32m━━━━━━━━━━━━━━━━━━━━\u001b[0m\u001b[37m\u001b[0m \u001b[1m199s\u001b[0m 886ms/step - accuracy: 0.9983 - loss: 0.0073 - val_accuracy: 0.9993 - val_loss: 0.0050\n",
      "Epoch 6/10\n",
      "\u001b[1m225/225\u001b[0m \u001b[32m━━━━━━━━━━━━━━━━━━━━\u001b[0m\u001b[37m\u001b[0m \u001b[1m198s\u001b[0m 878ms/step - accuracy: 0.9988 - loss: 0.0064 - val_accuracy: 0.9992 - val_loss: 0.0056\n",
      "Epoch 7/10\n",
      "\u001b[1m225/225\u001b[0m \u001b[32m━━━━━━━━━━━━━━━━━━━━\u001b[0m\u001b[37m\u001b[0m \u001b[1m195s\u001b[0m 868ms/step - accuracy: 0.9994 - loss: 0.0036 - val_accuracy: 0.9987 - val_loss: 0.0054\n",
      "Epoch 8/10\n",
      "\u001b[1m225/225\u001b[0m \u001b[32m━━━━━━━━━━━━━━━━━━━━\u001b[0m\u001b[37m\u001b[0m \u001b[1m195s\u001b[0m 867ms/step - accuracy: 0.9992 - loss: 0.0038 - val_accuracy: 0.9985 - val_loss: 0.0056\n",
      "Epoch 9/10\n",
      "\u001b[1m225/225\u001b[0m \u001b[32m━━━━━━━━━━━━━━━━━━━━\u001b[0m\u001b[37m\u001b[0m \u001b[1m196s\u001b[0m 870ms/step - accuracy: 0.9995 - loss: 0.0029 - val_accuracy: 0.9992 - val_loss: 0.0031\n",
      "Epoch 10/10\n",
      "\u001b[1m225/225\u001b[0m \u001b[32m━━━━━━━━━━━━━━━━━━━━\u001b[0m\u001b[37m\u001b[0m \u001b[1m195s\u001b[0m 869ms/step - accuracy: 0.9995 - loss: 0.0029 - val_accuracy: 0.9993 - val_loss: 0.0030\n",
      "\u001b[1m281/281\u001b[0m \u001b[32m━━━━━━━━━━━━━━━━━━━━\u001b[0m\u001b[37m\u001b[0m \u001b[1m36s\u001b[0m 128ms/step - accuracy: 0.9992 - loss: 0.0060\n",
      "Loss: 0.00492130545899272, Accuracy: 0.999109148979187\n"
     ]
    }
   ],
   "source": [
    "# Entraîner le modèle\n",
    "history = model.fit(X_train, y_train, batch_size=128, epochs=10, validation_split=0.2)\n",
    "\n",
    "# Évaluation du modèle\n",
    "loss, accuracy = model.evaluate(X_val, y_val)\n",
    "print(f\"Loss: {loss}, Accuracy: {accuracy}\")"
   ]
  },
  {
   "cell_type": "markdown",
   "metadata": {},
   "source": [
    "## Évaluation des Modèles\n"
   ]
  },
  {
   "cell_type": "code",
   "execution_count": null,
   "metadata": {},
   "outputs": [
    {
     "name": "stdout",
     "output_type": "stream",
     "text": [
      "Collecting matplotlib\n",
      "  Downloading matplotlib-3.9.2-cp39-cp39-win_amd64.whl (7.8 MB)\n",
      "     ---------------------------------------- 7.8/7.8 MB 38.4 MB/s eta 0:00:00\n",
      "Collecting pillow>=8\n",
      "  Downloading pillow-11.0.0-cp39-cp39-win_amd64.whl (2.6 MB)\n",
      "     ---------------------------------------- 2.6/2.6 MB 41.2 MB/s eta 0:00:00\n",
      "Requirement already satisfied: numpy>=1.23 in c:\\users\\deded\\documents\\inge3\\nlp\\project\\envfakenews\\lib\\site-packages (from matplotlib) (1.26.4)\n",
      "Collecting fonttools>=4.22.0\n",
      "  Downloading fonttools-4.54.1-cp39-cp39-win_amd64.whl (2.2 MB)\n",
      "     ---------------------------------------- 2.2/2.2 MB 46.8 MB/s eta 0:00:00\n",
      "Requirement already satisfied: python-dateutil>=2.7 in c:\\users\\deded\\documents\\inge3\\nlp\\project\\envfakenews\\lib\\site-packages (from matplotlib) (2.9.0.post0)\n",
      "Requirement already satisfied: packaging>=20.0 in c:\\users\\deded\\documents\\inge3\\nlp\\project\\envfakenews\\lib\\site-packages (from matplotlib) (24.1)\n",
      "Collecting kiwisolver>=1.3.1\n",
      "  Downloading kiwisolver-1.4.7-cp39-cp39-win_amd64.whl (55 kB)\n",
      "     ---------------------------------------- 55.8/55.8 KB ? eta 0:00:00\n",
      "Collecting cycler>=0.10\n",
      "  Downloading cycler-0.12.1-py3-none-any.whl (8.3 kB)\n",
      "Collecting contourpy>=1.0.1\n",
      "  Downloading contourpy-1.3.0-cp39-cp39-win_amd64.whl (211 kB)\n",
      "     ---------------------------------------- 211.8/211.8 KB ? eta 0:00:00\n",
      "Collecting importlib-resources>=3.2.0\n",
      "  Downloading importlib_resources-6.4.5-py3-none-any.whl (36 kB)\n",
      "Collecting pyparsing>=2.3.1\n",
      "  Downloading pyparsing-3.2.0-py3-none-any.whl (106 kB)\n",
      "     ---------------------------------------- 106.9/106.9 KB ? eta 0:00:00\n",
      "Requirement already satisfied: zipp>=3.1.0 in c:\\users\\deded\\documents\\inge3\\nlp\\project\\envfakenews\\lib\\site-packages (from importlib-resources>=3.2.0->matplotlib) (3.20.2)\n",
      "Requirement already satisfied: six>=1.5 in c:\\users\\deded\\documents\\inge3\\nlp\\project\\envfakenews\\lib\\site-packages (from python-dateutil>=2.7->matplotlib) (1.16.0)\n",
      "Installing collected packages: pyparsing, pillow, kiwisolver, importlib-resources, fonttools, cycler, contourpy, matplotlib\n",
      "Successfully installed contourpy-1.3.0 cycler-0.12.1 fonttools-4.54.1 importlib-resources-6.4.5 kiwisolver-1.4.7 matplotlib-3.9.2 pillow-11.0.0 pyparsing-3.2.0\n"
     ]
    }
   ],
   "source": [
    "!pip install matplotlib"
   ]
  },
  {
   "cell_type": "markdown",
   "metadata": {},
   "source": [
    "### Visualisation des courbes d'apprentissage\n",
    "\n",
    "Dans cette cellule, nous visualisons les courbes d'apprentissage du modèle pour suivre son évolution au fil des époques d'entraînement. Les graphiques permettent d'analyser la progression de l'exactitude et de la perte sur les ensembles d'entraînement et de validation, ce qui aide à diagnostiquer les problèmes potentiels de surapprentissage ou de sous-apprentissage.\n",
    "\n",
    "#### Détails des étapes :\n",
    "1. **Courbe d'exactitude** :\n",
    "   - `plt.plot(history.history['accuracy'], label='train accuracy')` : trace la courbe de l'exactitude sur l'ensemble d'entraînement.\n",
    "   - `plt.plot(history.history['val_accuracy'], label='val accuracy')` : trace la courbe de l'exactitude sur l'ensemble de validation.\n",
    "   - Le graphique est ensuite personnalisé avec un titre \"Model Accuracy\", des labels pour les axes `Epochs` (époques) et `Accuracy` (exactitude), et une légende pour différencier les courbes.\n",
    "   - `plt.show()` affiche la courbe, permettant de suivre les progrès du modèle.\n",
    "\n",
    "2. **Courbe de la perte** :\n",
    "   - `plt.plot(history.history['loss'], label='train loss')` : trace la courbe de la perte sur l'ensemble d'entraînement.\n",
    "   - `plt.plot(history.history['val_loss'], label='val loss')` : trace la courbe de la perte sur l'ensemble de validation.\n",
    "   - De la même manière, le graphique est configuré avec un titre \"Model Loss\", des labels pour les axes `Epochs` et `Loss`, et une légende.\n",
    "   - `plt.show()` affiche la courbe de la perte.\n",
    "\n",
    "#### Utilité des courbes d'apprentissage\n",
    "Ces graphiques permettent d'évaluer si le modèle est bien entraîné :\n",
    "- **Exactitude d'entraînement vs validation** : Si la courbe d'exactitude sur l'entraînement est significativement plus élevée que celle sur la validation, cela peut indiquer un surapprentissage.\n",
    "- **Perte d'entraînement vs validation** : Des écarts entre la perte d'entraînement et celle de validation peuvent également indiquer un surapprentissage ou une mauvaise adaptation.\n",
    "\n",
    "Ces visualisations facilitent l'analyse des performances du modèle et la prise de décisions pour ajuster les hyperparamètres si nécessaire.\n"
   ]
  },
  {
   "cell_type": "code",
   "execution_count": 38,
   "metadata": {},
   "outputs": [
    {
     "data": {
      "image/png": "[encoded data removed]",
      "text/plain": [
       "<Figure size 640x480 with 1 Axes>"
      ]
     },
     "metadata": {},
     "output_type": "display_data"
    },
    {
     "data": {
      "image/png": "[encoded data removed]",
      "text/plain": [
       "<Figure size 640x480 with 1 Axes>"
      ]
     },
     "metadata": {},
     "output_type": "display_data"
    }
   ],
   "source": [
    "import matplotlib.pyplot as plt\n",
    "\n",
    "# Courbes d'apprentissage\n",
    "plt.plot(history.history['accuracy'], label='train accuracy')\n",
    "plt.plot(history.history['val_accuracy'], label='val accuracy')\n",
    "plt.title('Model Accuracy')\n",
    "plt.xlabel('Epochs')\n",
    "plt.ylabel('Accuracy')\n",
    "plt.legend()\n",
    "plt.show()\n",
    "\n",
    "plt.plot(history.history['loss'], label='train loss')\n",
    "plt.plot(history.history['val_loss'], label='val loss')\n",
    "plt.title('Model Loss')\n",
    "plt.xlabel('Epochs')\n",
    "plt.ylabel('Loss')\n",
    "plt.legend()\n",
    "plt.show()\n"
   ]
  },
  {
   "cell_type": "markdown",
   "metadata": {},
   "source": [
    "Les résultats finaux montrent une **accuracy de 1** et une **perte (loss) de 0**, ce qui indique que le modèle a atteint une précision parfaite sur l'ensemble de validation. Ce score reflète une capacité exceptionnelle du modèle à classifier correctement toutes les nouvelles comme vraies ou fausses sans erreurs, du moins sur cet ensemble. Cependant, il est essentiel d'interpréter ces résultats avec prudence : une performance parfaite peut parfois suggérer un surapprentissage, surtout si les données de validation sont limitées ou trop similaires à celles de l'entraînement. Une évaluation complémentaire sur un ensemble de test distinct pourrait confirmer la robustesse réelle du modèle."
   ]
  },
  {
   "cell_type": "code",
   "execution_count": null,
   "metadata": {},
   "outputs": [
    {
     "name": "stdout",
     "output_type": "stream",
     "text": [
      "Collecting seaborn\n",
      "  Downloading seaborn-0.13.2-py3-none-any.whl (294 kB)\n",
      "     -------------------------------------- 294.9/294.9 KB 9.2 MB/s eta 0:00:00\n",
      "Requirement already satisfied: numpy!=1.24.0,>=1.20 in c:\\users\\deded\\documents\\inge3\\nlp\\project\\envfakenews\\lib\\site-packages (from seaborn) (1.26.4)\n",
      "Requirement already satisfied: pandas>=1.2 in c:\\users\\deded\\documents\\inge3\\nlp\\project\\envfakenews\\lib\\site-packages (from seaborn) (2.2.3)\n",
      "Requirement already satisfied: matplotlib!=3.6.1,>=3.4 in c:\\users\\deded\\documents\\inge3\\nlp\\project\\envfakenews\\lib\\site-packages (from seaborn) (3.9.2)\n",
      "Requirement already satisfied: pillow>=8 in c:\\users\\deded\\documents\\inge3\\nlp\\project\\envfakenews\\lib\\site-packages (from matplotlib!=3.6.1,>=3.4->seaborn) (11.0.0)\n",
      "Requirement already satisfied: cycler>=0.10 in c:\\users\\deded\\documents\\inge3\\nlp\\project\\envfakenews\\lib\\site-packages (from matplotlib!=3.6.1,>=3.4->seaborn) (0.12.1)\n",
      "Requirement already satisfied: python-dateutil>=2.7 in c:\\users\\deded\\documents\\inge3\\nlp\\project\\envfakenews\\lib\\site-packages (from matplotlib!=3.6.1,>=3.4->seaborn) (2.9.0.post0)\n",
      "Requirement already satisfied: kiwisolver>=1.3.1 in c:\\users\\deded\\documents\\inge3\\nlp\\project\\envfakenews\\lib\\site-packages (from matplotlib!=3.6.1,>=3.4->seaborn) (1.4.7)\n",
      "Requirement already satisfied: importlib-resources>=3.2.0 in c:\\users\\deded\\documents\\inge3\\nlp\\project\\envfakenews\\lib\\site-packages (from matplotlib!=3.6.1,>=3.4->seaborn) (6.4.5)\n",
      "Requirement already satisfied: packaging>=20.0 in c:\\users\\deded\\documents\\inge3\\nlp\\project\\envfakenews\\lib\\site-packages (from matplotlib!=3.6.1,>=3.4->seaborn) (24.1)\n",
      "Requirement already satisfied: contourpy>=1.0.1 in c:\\users\\deded\\documents\\inge3\\nlp\\project\\envfakenews\\lib\\site-packages (from matplotlib!=3.6.1,>=3.4->seaborn) (1.3.0)\n",
      "Requirement already satisfied: fonttools>=4.22.0 in c:\\users\\deded\\documents\\inge3\\nlp\\project\\envfakenews\\lib\\site-packages (from matplotlib!=3.6.1,>=3.4->seaborn) (4.54.1)\n",
      "Requirement already satisfied: pyparsing>=2.3.1 in c:\\users\\deded\\documents\\inge3\\nlp\\project\\envfakenews\\lib\\site-packages (from matplotlib!=3.6.1,>=3.4->seaborn) (3.2.0)\n",
      "Requirement already satisfied: pytz>=2020.1 in c:\\users\\deded\\documents\\inge3\\nlp\\project\\envfakenews\\lib\\site-packages (from pandas>=1.2->seaborn) (2024.2)\n",
      "Requirement already satisfied: tzdata>=2022.7 in c:\\users\\deded\\documents\\inge3\\nlp\\project\\envfakenews\\lib\\site-packages (from pandas>=1.2->seaborn) (2024.2)\n",
      "Requirement already satisfied: zipp>=3.1.0 in c:\\users\\deded\\documents\\inge3\\nlp\\project\\envfakenews\\lib\\site-packages (from importlib-resources>=3.2.0->matplotlib!=3.6.1,>=3.4->seaborn) (3.20.2)\n",
      "Requirement already satisfied: six>=1.5 in c:\\users\\deded\\documents\\inge3\\nlp\\project\\envfakenews\\lib\\site-packages (from python-dateutil>=2.7->matplotlib!=3.6.1,>=3.4->seaborn) (1.16.0)\n",
      "Installing collected packages: seaborn\n",
      "Successfully installed seaborn-0.13.2\n"
     ]
    }
   ],
   "source": [
    "!pip install seaborn"
   ]
  },
  {
   "cell_type": "markdown",
   "metadata": {},
   "source": [
    "### Évaluation des performances avec une matrice de confusion\n",
    "\n",
    "Dans cette cellule, nous utilisons une matrice de confusion pour visualiser les performances de classification du modèle sur l'ensemble de validation. La matrice de confusion permet de voir le nombre de prédictions correctes et incorrectes pour chaque classe (vraies et fausses nouvelles), facilitant l'analyse des erreurs.\n",
    "\n",
    "#### Détails des étapes :\n",
    "1. **Prédictions** :\n",
    "   - `y_pred = (model.predict(X_val) > 0.5).astype(\"int32\")` : Le modèle prédit les probabilités d'appartenance à la classe pour chaque échantillon dans `X_val`.\n",
    "   - La condition `( > 0.5)` transforme ces probabilités en classes binaires (0 ou 1) en considérant une probabilité supérieure à 0,5 comme prédiction de la classe 1 (vraie nouvelle) et, sinon, de la classe 0 (fausse nouvelle).\n",
    "   - Le type de `y_pred` est défini en entier (`int32`) pour correspondre au type attendu par `confusion_matrix`.\n",
    "\n",
    "2. **Matrice de confusion** :\n",
    "   - `conf_matrix = confusion_matrix(y_val, y_pred)` : La matrice de confusion est calculée en comparant les prédictions `y_pred` avec les vraies étiquettes `y_val`.\n",
    "   - Chaque élément de la matrice représente le nombre d'échantillons pour lesquels une classe a été prédite, comparé à la classe réelle.\n",
    "\n",
    "3. **Visualisation avec Seaborn** :\n",
    "   - `sns.heatmap(conf_matrix, annot=True, fmt='d', cmap='Blues')` : Une carte de chaleur (`heatmap`) est créée pour la matrice de confusion, avec des annotations numériques (`annot=True`) et un format entier (`fmt='d'`) pour chaque cellule.\n",
    "   - La palette de couleurs `Blues` aide à différencier visuellement les valeurs.\n",
    "   - Les axes sont étiquetés : `Prédiction` pour l'axe des x (valeurs prédites) et `Vérité` pour l'axe des y (valeurs réelles).\n",
    "\n",
    "#### Interprétation de la matrice de confusion\n",
    "- La matrice indique les performances de classification en séparant les **vraies** prédictions positives et négatives (sur la diagonale principale) des **faux** positifs et négatifs (hors de la diagonale).\n",
    "- Cette visualisation aide à diagnostiquer les erreurs spécifiques et à déterminer si le modèle a tendance à prédire incorrectement certaines classes, suggérant d'éventuelles améliorations du modèle ou du jeu de données.\n"
   ]
  },
  {
   "cell_type": "code",
   "execution_count": 39,
   "metadata": {},
   "outputs": [
    {
     "name": "stdout",
     "output_type": "stream",
     "text": [
      "\u001b[1m281/281\u001b[0m \u001b[32m━━━━━━━━━━━━━━━━━━━━\u001b[0m\u001b[37m\u001b[0m \u001b[1m35s\u001b[0m 125ms/step\n"
     ]
    },
    {
     "data": {
      "image/png": "[encoded data removed]",
      "text/plain": [
       "<Figure size 640x480 with 2 Axes>"
      ]
     },
     "metadata": {},
     "output_type": "display_data"
    }
   ],
   "source": [
    "from sklearn.metrics import confusion_matrix\n",
    "import seaborn as sns\n",
    "\n",
    "# Prédictions sur l'ensemble de validation\n",
    "y_pred = (model.predict(X_val) > 0.5).astype(\"int32\")\n",
    "\n",
    "# Matrice de confusion\n",
    "conf_matrix = confusion_matrix(y_val, y_pred)\n",
    "sns.heatmap(conf_matrix, annot=True, fmt='d', cmap='Blues')\n",
    "plt.xlabel('Prédiction')\n",
    "plt.ylabel('Vérité')\n",
    "plt.show()\n"
   ]
  },
  {
   "cell_type": "markdown",
   "metadata": {},
   "source": [
    "En conclusion, la matrice de confusion montre des performances très encourageantes avec seulement 3 faux positifs et 5 faux négatifs sur plus de 9000 news, indiquant une capacité solide du modèle à distinguer efficacement entre vraies et fausses nouvelles tout en minimisant les erreurs de classification."
   ]
  },
  {
   "cell_type": "markdown",
   "metadata": {},
   "source": [
    "## Conclusion du Projet : Détection de Fausses Nouvelles\n",
    "\n",
    "Ce projet avait pour objectif de construire un modèle de classification capable de distinguer les vraies nouvelles des fausses en utilisant le traitement automatique du langage naturel (NLP) et des techniques de deep learning.\n",
    "\n",
    "### Étapes et Approche\n",
    "1. **Préparation des données** :\n",
    "   - Les ensembles de données ont été chargés et étiquetés pour indiquer les vraies et fausses news.\n",
    "   - Nous avons nettoyé les textes en supprimant les stopwords et la ponctuation pour obtenir des représentations de texte épurées et prêtes à être analysées.\n",
    "   - Un tokenizer a ensuite transformé les textes en séquences de mots, normalisées par padding pour assurer une longueur constante des entrées.\n",
    "\n",
    "2. **Création et utilisation d'embeddings** :\n",
    "   - Un modèle Word2Vec a été formé pour générer des vecteurs de mots, capturant les similarités et contextes lexicaux dans les articles.\n",
    "   - Une matrice d'embeddings a été construite pour relier chaque mot à un vecteur Word2Vec, utilisée comme couche d'entrée dans le modèle de deep learning.\n",
    "\n",
    "3. **Développement du modèle** :\n",
    "   - Un modèle de réseau de neurones LSTM a été construit pour capturer les dépendances contextuelles des textes.\n",
    "   - Le modèle a été entraîné et ses performances ont été suivies via des courbes d’apprentissage.\n",
    "\n",
    "4. **Évaluation et Visualisation** :\n",
    "   - Les performances ont été évaluées à l'aide d’une matrice de confusion, permettant d’analyser les erreurs de classification.\n",
    "   - Les courbes de perte et d'exactitude ont permis de détecter des signes de surapprentissage ou de sous-apprentissage.\n",
    "\n",
    "### Résultats et Observations\n",
    "Le modèle a montré une capacité notable à distinguer les vraies nouvelles des fausses, avec des niveaux d'exactitude prometteurs sur l'ensemble de validation. Les visualisations des courbes d'apprentissage et de la matrice de confusion ont fourni une analyse approfondie des erreurs et des tendances d'entraînement.\n",
    "\n",
    "### Améliorations Futures\n",
    "Pour accroître la précision et la robustesse du modèle, plusieurs améliorations pourraient être envisagées :\n",
    "- **Élargir les données d'entraînement** avec d'autres sources pour renforcer la généralisation.\n",
    "- **Optimiser l'architecture du modèle** en testant des couches supplémentaires ou des architectures alternatives comme les réseaux Transformers.\n",
    "- **Expérimenter avec des embeddings plus riches** comme GloVe ou BERT pour capturer des nuances lexicales et contextuelles plus profondes.\n",
    "\n",
    "### Conclusion\n",
    "Ce projet met en lumière l'efficacité des techniques de NLP et de deep learning pour la détection de fake news. Le modèle final offre une base solide pour des applications concrètes et ouvre la voie à des explorations plus avancées dans le domaine de la détection automatisée de la désinformation.\n"
   ]
  }
 ],
 "metadata": {
  "kernelspec": {
   "display_name": "envFakeNews",
   "language": "python",
   "name": "python3"
  },
  "language_info": {
   "codemirror_mode": {
    "name": "ipython",
    "version": 3
   },
   "file_extension": ".py",
   "mimetype": "text/x-python",
   "name": "python",
   "nbconvert_exporter": "python",
   "pygments_lexer": "ipython3",
   "version": "3.9.13"
  }
 },
 "nbformat": 4,
 "nbformat_minor": 2
}
